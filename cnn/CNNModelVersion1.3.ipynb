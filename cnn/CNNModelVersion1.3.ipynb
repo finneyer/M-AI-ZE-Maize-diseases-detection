{
 "cells": [
  {
   "cell_type": "code",
   "execution_count": 1,
   "id": "fd69a06e-b641-4a0e-b321-eb8d77825ee2",
   "metadata": {},
   "outputs": [
    {
     "name": "stdout",
     "output_type": "stream",
     "text": [
      "Requirement already satisfied: wandb in /opt/conda/lib/python3.12/site-packages (0.19.11)\n",
      "Requirement already satisfied: pyyaml in /opt/conda/lib/python3.12/site-packages (6.0.2)\n",
      "Requirement already satisfied: opencv-python in /opt/conda/lib/python3.12/site-packages (4.11.0.86)\n",
      "Requirement already satisfied: click!=8.0.0,>=7.1 in /opt/conda/lib/python3.12/site-packages (from wandb) (8.1.8)\n",
      "Requirement already satisfied: docker-pycreds>=0.4.0 in /opt/conda/lib/python3.12/site-packages (from wandb) (0.4.0)\n",
      "Requirement already satisfied: gitpython!=3.1.29,>=1.0.0 in /opt/conda/lib/python3.12/site-packages (from wandb) (3.1.44)\n",
      "Requirement already satisfied: platformdirs in /opt/conda/lib/python3.12/site-packages (from wandb) (4.3.7)\n",
      "Requirement already satisfied: protobuf!=4.21.0,!=5.28.0,<7,>=3.19.0 in /opt/conda/lib/python3.12/site-packages (from wandb) (4.25.6)\n",
      "Requirement already satisfied: psutil>=5.0.0 in /opt/conda/lib/python3.12/site-packages (from wandb) (7.0.0)\n",
      "Requirement already satisfied: pydantic<3 in /opt/conda/lib/python3.12/site-packages (from wandb) (2.11.3)\n",
      "Requirement already satisfied: requests<3,>=2.0.0 in /opt/conda/lib/python3.12/site-packages (from wandb) (2.32.3)\n",
      "Requirement already satisfied: sentry-sdk>=2.0.0 in /opt/conda/lib/python3.12/site-packages (from wandb) (2.29.1)\n",
      "Requirement already satisfied: setproctitle in /opt/conda/lib/python3.12/site-packages (from wandb) (1.3.6)\n",
      "Requirement already satisfied: setuptools in /opt/conda/lib/python3.12/site-packages (from wandb) (78.1.0)\n",
      "Requirement already satisfied: typing-extensions<5,>=4.4 in /opt/conda/lib/python3.12/site-packages (from wandb) (4.13.2)\n",
      "Requirement already satisfied: numpy>=1.21.2 in /opt/conda/lib/python3.12/site-packages (from opencv-python) (1.26.4)\n",
      "Requirement already satisfied: six>=1.4.0 in /opt/conda/lib/python3.12/site-packages (from docker-pycreds>=0.4.0->wandb) (1.17.0)\n",
      "Requirement already satisfied: gitdb<5,>=4.0.1 in /opt/conda/lib/python3.12/site-packages (from gitpython!=3.1.29,>=1.0.0->wandb) (4.0.12)\n",
      "Requirement already satisfied: annotated-types>=0.6.0 in /opt/conda/lib/python3.12/site-packages (from pydantic<3->wandb) (0.7.0)\n",
      "Requirement already satisfied: pydantic-core==2.33.1 in /opt/conda/lib/python3.12/site-packages (from pydantic<3->wandb) (2.33.1)\n",
      "Requirement already satisfied: typing-inspection>=0.4.0 in /opt/conda/lib/python3.12/site-packages (from pydantic<3->wandb) (0.4.0)\n",
      "Requirement already satisfied: charset_normalizer<4,>=2 in /opt/conda/lib/python3.12/site-packages (from requests<3,>=2.0.0->wandb) (3.4.1)\n",
      "Requirement already satisfied: idna<4,>=2.5 in /opt/conda/lib/python3.12/site-packages (from requests<3,>=2.0.0->wandb) (3.10)\n",
      "Requirement already satisfied: urllib3<3,>=1.21.1 in /opt/conda/lib/python3.12/site-packages (from requests<3,>=2.0.0->wandb) (2.4.0)\n",
      "Requirement already satisfied: certifi>=2017.4.17 in /opt/conda/lib/python3.12/site-packages (from requests<3,>=2.0.0->wandb) (2025.1.31)\n",
      "Requirement already satisfied: smmap<6,>=3.0.1 in /opt/conda/lib/python3.12/site-packages (from gitdb<5,>=4.0.1->gitpython!=3.1.29,>=1.0.0->wandb) (5.0.2)\n"
     ]
    }
   ],
   "source": [
    "!pip install wandb pyyaml opencv-python;"
   ]
  },
  {
   "cell_type": "code",
   "execution_count": 2,
   "id": "01c39df0-285e-4169-82d8-6e4660ea8f23",
   "metadata": {},
   "outputs": [
    {
     "name": "stderr",
     "output_type": "stream",
     "text": [
      "2025-06-03 18:54:29.958745: E external/local_xla/xla/stream_executor/cuda/cuda_fft.cc:485] Unable to register cuFFT factory: Attempting to register factory for plugin cuFFT when one has already been registered\n",
      "2025-06-03 18:54:29.977227: E external/local_xla/xla/stream_executor/cuda/cuda_dnn.cc:8454] Unable to register cuDNN factory: Attempting to register factory for plugin cuDNN when one has already been registered\n",
      "2025-06-03 18:54:29.982885: E external/local_xla/xla/stream_executor/cuda/cuda_blas.cc:1452] Unable to register cuBLAS factory: Attempting to register factory for plugin cuBLAS when one has already been registered\n",
      "2025-06-03 18:54:29.997800: I tensorflow/core/platform/cpu_feature_guard.cc:210] This TensorFlow binary is optimized to use available CPU instructions in performance-critical operations.\n",
      "To enable the following instructions: AVX2 FMA, in other operations, rebuild TensorFlow with the appropriate compiler flags.\n",
      "2025-06-03 18:54:30.773952: W tensorflow/compiler/tf2tensorrt/utils/py_utils.cc:38] TF-TRT Warning: Could not find TensorRT\n"
     ]
    }
   ],
   "source": [
    "import os\n",
    "import yaml\n",
    "import glob\n",
    "import numpy as np\n",
    "import cv2\n",
    "import tensorflow as tf\n",
    "from tensorflow.keras import layers, models\n",
    "import wandb\n",
    "from wandb.integration.keras import WandbCallback\n",
    "import matplotlib.pyplot as plt\n",
    "import pandas as pd\n",
    "from PIL import Image"
   ]
  },
  {
   "cell_type": "code",
   "execution_count": 3,
   "id": "ebabeb56-ce13-44e8-9f56-e888c6c6ec7b",
   "metadata": {},
   "outputs": [
    {
     "name": "stderr",
     "output_type": "stream",
     "text": [
      "\u001b[34m\u001b[1mwandb\u001b[0m: \u001b[32m\u001b[41mERROR\u001b[0m Failed to detect the name of this notebook. You can set it manually with the WANDB_NOTEBOOK_NAME environment variable to enable code saving.\n",
      "\u001b[34m\u001b[1mwandb\u001b[0m: \u001b[33mWARNING\u001b[0m If you're specifying your api key in code, ensure this code is not shared publicly.\n",
      "\u001b[34m\u001b[1mwandb\u001b[0m: \u001b[33mWARNING\u001b[0m Consider setting the WANDB_API_KEY environment variable, or running `wandb login` from the command line.\n",
      "\u001b[34m\u001b[1mwandb\u001b[0m: Appending key for api.wandb.ai to your netrc file: /home/jovyan/.netrc\n",
      "\u001b[34m\u001b[1mwandb\u001b[0m: Currently logged in as: \u001b[33msamutheman\u001b[0m (\u001b[33mrueedi-tobias-hochschule-luzern\u001b[0m) to \u001b[32mhttps://api.wandb.ai\u001b[0m. Use \u001b[1m`wandb login --relogin`\u001b[0m to force relogin\n"
     ]
    },
    {
     "data": {
      "text/plain": [
       "True"
      ]
     },
     "execution_count": 3,
     "metadata": {},
     "output_type": "execute_result"
    }
   ],
   "source": [
    "wandb.login(key=\"017feefe0af6702cda76aab121ec71cf3a362fec\")"
   ]
  },
  {
   "cell_type": "code",
   "execution_count": 4,
   "id": "10187cdf-eb6b-482a-9d70-c1ead04d93fb",
   "metadata": {
    "editable": true,
    "slideshow": {
     "slide_type": ""
    },
    "tags": []
   },
   "outputs": [],
   "source": [
    "dataset_yaml = \"/exchange/dspro2/M-AI-ZE/data/adjusted/1.1/splits/SID01/data.yaml\"\n",
    "images_trainset = \"/exchange/dspro2/M-AI-ZE/data/adjusted/1.1/splits/SID01/images/train\"\n",
    "labels_trainset = \"/exchange/dspro2/M-AI-ZE/data/adjusted/1.1/splits/SID01/labels/train\"\n",
    "images_valset = \"/exchange/dspro2/M-AI-ZE/data/adjusted/1.1/splits/SID01/images/val\"\n",
    "labels_valset = \"/exchange/dspro2/M-AI-ZE/data/adjusted/1.1/splits/SID01/labels/val\"\n",
    "images_testset = \"/exchange/dspro2/M-AI-ZE/data/adjusted/1.1/splits/SID01/images/test\"\n",
    "test_csv_path = \"/exchange/dspro2/M-AI-ZE/data/adjusted/1.1/splits/SID01/labels/test/bboxes_test.csv\"\n"
   ]
  },
  {
   "cell_type": "code",
   "execution_count": 5,
   "id": "31db74fa-dd22-473a-a897-99ffe8459254",
   "metadata": {},
   "outputs": [],
   "source": [
    "gpus = tf.config.experimental.list_physical_devices('GPU')\n",
    "if gpus:\n",
    "    for gpu in gpus:\n",
    "        tf.config.experimental.set_memory_growth(gpu, True)"
   ]
  },
  {
   "cell_type": "code",
   "execution_count": 6,
   "id": "da473874-dc16-4558-b71a-9562264f65d2",
   "metadata": {},
   "outputs": [],
   "source": [
    "# --- Parameters (tweak these to your dataset) ---\n",
    "IMG_SIZE    = 640\n",
    "GRID_SIZE   = 10\n",
    "NUM_CLASSES = 1   #\n",
    "NUM_BOXES   = 3    # number of anchors per cell\n",
    "OUTPUT_SHAPE = (GRID_SIZE, GRID_SIZE, NUM_BOXES * (5 + NUM_CLASSES))"
   ]
  },
  {
   "cell_type": "code",
   "execution_count": 7,
   "id": "2f67b861-648a-44db-86a7-03bf6c3de3a0",
   "metadata": {},
   "outputs": [],
   "source": [
    "def build_yolo_model(input_shape=(IMG_SIZE, IMG_SIZE, 3)):\n",
    "    inputs = tf.keras.Input(shape=input_shape)\n",
    "\n",
    "    def conv_bn_leaky(x, filters):\n",
    "        x = layers.Conv2D(filters, 4, padding='same', use_bias=False)(x)\n",
    "        x = layers.BatchNormalization()(x)\n",
    "        return layers.LeakyReLU(alpha=0.1)(x)\n",
    "\n",
    "    x = conv_bn_leaky(inputs, 16)\n",
    "    x = layers.MaxPool2D(2)(x)\n",
    "\n",
    "    x = conv_bn_leaky(x, 32)\n",
    "    x = layers.MaxPool2D(2)(x)\n",
    "\n",
    "    x = conv_bn_leaky(x, 64)\n",
    "    x = layers.MaxPool2D(2)(x)\n",
    "\n",
    "    x = conv_bn_leaky(x, 128)\n",
    "    x = layers.MaxPool2D(2)(x)\n",
    "\n",
    "    x = conv_bn_leaky(x, 256)\n",
    "    x = layers.MaxPool2D(2)(x)\n",
    "\n",
    "    x = conv_bn_leaky(x, 512)\n",
    "    x = layers.Dropout(0.3)(x)\n",
    "    x = layers.MaxPool2D(2)(x)\n",
    "    x = conv_bn_leaky(x, 512)\n",
    "\n",
    "    # Final prediction conv\n",
    "    x = layers.Conv2D(\n",
    "        NUM_BOXES * (5 + NUM_CLASSES),\n",
    "        kernel_size=1,\n",
    "        padding='same',\n",
    "        activation='sigmoid'  # or linear + custom loss\n",
    "    )(x)\n",
    "\n",
    "    print(\"Final conv shape:\", x.shape)\n",
    "\n",
    "    # Check shape compatibility\n",
    "    output = layers.Reshape((GRID_SIZE, GRID_SIZE, NUM_BOXES, 5 + NUM_CLASSES))(x)\n",
    "    print(\"Final conv output shape:\", output.shape)\n",
    "\n",
    "    return tf.keras.Model(inputs, output)\n"
   ]
  },
  {
   "cell_type": "code",
   "execution_count": 8,
   "id": "fc64e20e-9c24-45cc-a150-266f89380947",
   "metadata": {},
   "outputs": [],
   "source": [
    "# --- YOLO loss with binary class ---\n",
    "def yolo_loss(y_true, y_pred):\n",
    "    # reshape to (..., S, S, B, 5 + C)\n",
    "    pred = tf.reshape(y_pred, (-1, GRID_SIZE, GRID_SIZE, NUM_BOXES, 5 + NUM_CLASSES))\n",
    "    true = tf.reshape(y_true, (-1, GRID_SIZE, GRID_SIZE, NUM_BOXES, 5 + NUM_CLASSES))\n",
    "    obj_mask = true[..., 4:5]\n",
    "\n",
    "    # localization losses\n",
    "    xy_loss = tf.reduce_sum(obj_mask * tf.square(true[..., 0:2] - pred[..., 0:2]))\n",
    "    wh_loss = tf.reduce_sum(obj_mask * tf.square(\n",
    "        tf.sqrt(true[..., 2:4] + 1e-6) - tf.sqrt(pred[..., 2:4] + 1e-6)\n",
    "    ))\n",
    "\n",
    "    # objectness and class losses\n",
    "    obj_loss = tf.reduce_sum(\n",
    "        tf.keras.losses.binary_crossentropy(true[..., 4:5], pred[..., 4:5])\n",
    "    )\n",
    "    class_bce = tf.keras.losses.binary_crossentropy(true[..., 5:], pred[..., 5:])\n",
    "    class_bce = tf.expand_dims(class_bce, axis=-1)\n",
    "    class_loss = tf.reduce_sum(obj_mask * class_bce)\n",
    "\n",
    "    return xy_loss + wh_loss + obj_loss + class_loss"
   ]
  },
  {
   "cell_type": "code",
   "execution_count": 9,
   "id": "04a33804-f38c-44a0-964e-b65614cb6551",
   "metadata": {},
   "outputs": [],
   "source": [
    "def compute_giou(y_true, y_pred):\n",
    "    # Unpack\n",
    "    y1_true, x1_true, y2_true, x2_true = tf.split(y_true, 4, axis=-1)\n",
    "    y1_pred, x1_pred, y2_pred, x2_pred = tf.split(y_pred, 4, axis=-1)\n",
    "\n",
    "    # Intersection\n",
    "    x1 = tf.maximum(x1_true, x1_pred)\n",
    "    y1 = tf.maximum(y1_true, y1_pred)\n",
    "    x2 = tf.minimum(x2_true, x2_pred)\n",
    "    y2 = tf.minimum(y2_true, y2_pred)\n",
    "\n",
    "    intersection = tf.maximum(0.0, x2 - x1) * tf.maximum(0.0, y2 - y1)\n",
    "\n",
    "    # Area\n",
    "    area_true = (x2_true - x1_true) * (y2_true - y1_true)\n",
    "    area_pred = (x2_pred - x1_pred) * (y2_pred - y1_pred)\n",
    "    union = area_true + area_pred - intersection\n",
    "\n",
    "    iou = intersection / (union + 1e-7)\n",
    "\n",
    "    # Enclosing box\n",
    "    x1_c = tf.minimum(x1_true, x1_pred)\n",
    "    y1_c = tf.minimum(y1_true, y1_pred)\n",
    "    x2_c = tf.maximum(x2_true, x2_pred)\n",
    "    y2_c = tf.maximum(y2_true, y2_pred)\n",
    "\n",
    "    enclose_area = (x2_c - x1_c) * (y2_c - y1_c)\n",
    "\n",
    "    giou = iou - (enclose_area - union) / (enclose_area + 1e-7)\n",
    "    return 1.0 - giou  # Loss = 1 - GIoU\n"
   ]
  },
  {
   "cell_type": "code",
   "execution_count": 10,
   "id": "65930f2d-8eb9-4ce0-b08f-dc39871f4071",
   "metadata": {},
   "outputs": [],
   "source": [
    "def improved_yolo_loss(y_true, y_pred):\n",
    "    pred = tf.reshape(y_pred, (-1, GRID_SIZE, GRID_SIZE, NUM_BOXES, 5 + NUM_CLASSES))\n",
    "    true = tf.reshape(y_true, (-1, GRID_SIZE, GRID_SIZE, NUM_BOXES, 5 + NUM_CLASSES))\n",
    "\n",
    "    obj_mask = true[..., 4:5]\n",
    "    noobj_mask = 1.0 - obj_mask\n",
    "\n",
    "    giou = compute_giou(true[..., 0:4], pred[..., 0:4])\n",
    "    giou = tf.squeeze(giou, axis=-1) \n",
    "    giou_loss = tf.reduce_sum(obj_mask[..., 0] * giou)\n",
    "\n",
    "    obj_loss = tf.reduce_sum(\n",
    "        tf.keras.losses.binary_crossentropy(true[..., 4:5], pred[..., 4:5])\n",
    "    )\n",
    "\n",
    "    noobj_loss = tf.reduce_sum(\n",
    "        noobj_mask * tf.square(pred[..., 4:5])\n",
    "    )\n",
    "\n",
    "    class_bce = tf.keras.losses.binary_crossentropy(true[..., 5:], pred[..., 5:])\n",
    "    class_loss = tf.reduce_sum(obj_mask * tf.expand_dims(class_bce, -1))\n",
    "\n",
    "    return giou_loss + obj_loss + class_loss + 0.5 * noobj_loss\n"
   ]
  },
  {
   "cell_type": "code",
   "execution_count": 11,
   "id": "50a66e33-7acf-4cca-8366-13a3df956af1",
   "metadata": {},
   "outputs": [],
   "source": [
    "def area_difference_loss(y_true, y_pred):\n",
    "\n",
    "    pred = tf.reshape(y_pred, (-1, GRID_SIZE, GRID_SIZE, NUM_BOXES, 5 + NUM_CLASSES))\n",
    "    true = tf.reshape(y_true, (-1, GRID_SIZE, GRID_SIZE, NUM_BOXES, 5 + NUM_CLASSES))\n",
    "\n",
    "\n",
    "    pred_area = pred[..., 2] * pred[..., 3] * pred[..., 4]\n",
    "    true_area = true[..., 2] * true[..., 3] * true[..., 4]\n",
    "\n",
    "\n",
    "    total_pred_area = tf.reduce_sum(pred_area)\n",
    "    total_true_area = tf.reduce_sum(true_area)\n",
    "\n",
    "\n",
    "    return tf.abs(total_pred_area - total_true_area)"
   ]
  },
  {
   "cell_type": "code",
   "execution_count": 12,
   "id": "90cd2f0a-44cb-48c4-9cdf-025e7e8662a0",
   "metadata": {},
   "outputs": [],
   "source": [
    "def combined_yolo_area_loss(y_true, y_pred, area_weight=0.01):\n",
    "\n",
    "    yolo = yolo_loss(y_true, y_pred)\n",
    "\n",
    "    area = area_difference_loss(y_true, y_pred)\n",
    "\n",
    "    return yolo + area_weight * area"
   ]
  },
  {
   "cell_type": "code",
   "execution_count": 13,
   "id": "17e046d5-c9d8-40b1-a640-f05379555505",
   "metadata": {},
   "outputs": [],
   "source": [
    "def apply_nms(pred_grid, conf_thresh=0.3, iou_thresh=0.4):\n",
    "    boxes = []\n",
    "    scores = []\n",
    "\n",
    "    for gy in range(GRID_SIZE):\n",
    "        for gx in range(GRID_SIZE):\n",
    "            for b in range(NUM_BOXES):\n",
    "                pred = pred_grid[gy, gx, b]\n",
    "                conf = pred[4]\n",
    "                if conf < conf_thresh:\n",
    "                    continue\n",
    "\n",
    "                x, y, w, h = pred[:4]\n",
    "                cx = (gx + x) / GRID_SIZE\n",
    "                cy = (gy + y) / GRID_SIZE\n",
    "                xmin = cx - w / 2\n",
    "                ymin = cy - h / 2\n",
    "                xmax = cx + w / 2\n",
    "                ymax = cy + h / 2\n",
    "\n",
    "                boxes.append([ymin, xmin, ymax, xmax])\n",
    "                scores.append(conf)\n",
    "\n",
    "    if not boxes:\n",
    "        return [], []\n",
    "\n",
    "    boxes = tf.constant(boxes, dtype=tf.float32)\n",
    "    scores = tf.constant(scores, dtype=tf.float32)\n",
    "\n",
    "    selected_indices = tf.image.non_max_suppression(\n",
    "        boxes,\n",
    "        scores,\n",
    "        max_output_size=10,\n",
    "        iou_threshold=iou_thresh,\n",
    "        score_threshold=conf_thresh\n",
    "    )\n",
    "\n",
    "    selected_boxes = tf.gather(boxes, selected_indices).numpy()\n",
    "    selected_scores = tf.gather(scores, selected_indices).numpy()\n",
    "\n",
    "    return selected_boxes, selected_scores\n",
    "\n"
   ]
  },
  {
   "cell_type": "code",
   "execution_count": 14,
   "id": "4721c82c-e1b2-4cb1-8bec-fb63975702e6",
   "metadata": {},
   "outputs": [],
   "source": [
    "def build_yolo_label_grid(label_path, grid_size, num_boxes, num_classes):\n",
    "    label_grid = np.zeros((grid_size, grid_size, num_boxes, 5 + num_classes), dtype=np.float32)\n",
    "\n",
    "    if not os.path.exists(label_path):\n",
    "        return label_grid\n",
    "\n",
    "    with open(label_path, \"r\") as f:\n",
    "        for line in f:\n",
    "            class_id, x, y, w, h = map(float, line.strip().split())\n",
    "            gx = min(int(x * grid_size), grid_size - 1)\n",
    "            gy = min(int(y * grid_size), grid_size - 1)\n",
    "            cell_x = x * grid_size - gx\n",
    "            cell_y = y * grid_size - gy\n",
    "\n",
    "            anchor_idx = 0\n",
    "\n",
    "            label_grid[gy, gx, anchor_idx, 0:5] = [cell_x, cell_y, w, h, 1.0]\n",
    "            label_grid[gy, gx, anchor_idx, 5 + int(class_id)] = 1.0\n",
    "\n",
    "    return label_grid\n",
    "\n",
    "def prepare_image_label_paths(image_dir, label_dir, grid_size, num_boxes, num_classes):\n",
    "    image_paths = sorted(glob.glob(os.path.join(image_dir, \"*.jpg\")))\n",
    "    label_grids = []\n",
    "\n",
    "    for img_path in image_paths:\n",
    "        filename = os.path.splitext(os.path.basename(img_path))[0]\n",
    "        label_path = os.path.join(label_dir, f\"{filename}.txt\")\n",
    "        label_grid = build_yolo_label_grid(label_path, grid_size, num_boxes, num_classes)\n",
    "        label_grids.append(label_grid)\n",
    "\n",
    "    return image_paths, np.array(label_grids, dtype=np.float32)\n"
   ]
  },
  {
   "cell_type": "code",
   "execution_count": 15,
   "id": "aa77de21-1d0e-4d26-aa24-fe1e046abf64",
   "metadata": {},
   "outputs": [],
   "source": [
    "def parse_image_and_label(image_path, label_tensor, img_size, augment=False):\n",
    "    img = tf.io.read_file(image_path)\n",
    "    img = tf.image.decode_jpeg(img, channels=3)\n",
    "    img = tf.image.resize(img, [img_size, img_size])\n",
    "    img = img / 255.0\n",
    "\n",
    "    if augment:\n",
    "        img, label_tensor = apply_augmentations(img, label_tensor)\n",
    "\n",
    "    img.set_shape([img_size, img_size, 3])\n",
    "    label_tensor.set_shape([GRID_SIZE, GRID_SIZE, NUM_BOXES, 5 + NUM_CLASSES])\n",
    "\n",
    "    print(\"Label tensor shape example:\", label_tensor.shape)\n",
    "    \n",
    "    return img, label_tensor\n",
    "\n",
    "\n",
    "def make_yolo_dataset(image_paths, label_tensors, img_size, batch_size=4, shuffle=True, augment=False):\n",
    "    ds = tf.data.Dataset.from_tensor_slices((image_paths, label_tensors))\n",
    "    \n",
    "    if shuffle:\n",
    "        ds = ds.shuffle(buffer_size=len(image_paths))\n",
    "\n",
    "    ds = ds.map(lambda p, l: parse_image_and_label(p, l, img_size, augment),\n",
    "                num_parallel_calls=tf.data.AUTOTUNE)\n",
    "\n",
    "    ds = ds.batch(batch_size).prefetch(tf.data.AUTOTUNE)\n",
    "    return ds\n",
    "\n"
   ]
  },
  {
   "cell_type": "code",
   "execution_count": 16,
   "id": "820c4655-7a6f-484a-b790-bb31c6a9d717",
   "metadata": {},
   "outputs": [],
   "source": [
    "def apply_augmentations(img, label):\n",
    "    # Random horizontal flip\n",
    "    if tf.random.uniform(()) > 0.5:\n",
    "        img = tf.image.flip_left_right(img)\n",
    "        label = flip_label_left_right(label)\n",
    "\n",
    "    # Random vertical flip\n",
    "    if tf.random.uniform(()) > 0.5:\n",
    "        img = tf.image.flip_up_down(img)\n",
    "        label = flip_label_up_down(label)\n",
    "\n",
    "    # Random brightness\n",
    "    if tf.random.uniform(()) > 0.5:\n",
    "        img = tf.image.random_brightness(img, max_delta=0.1)\n",
    "\n",
    "    # Random contrast\n",
    "    if tf.random.uniform(()) > 0.5:\n",
    "        img = tf.image.random_contrast(img, lower=0.9, upper=1.1)\n",
    "\n",
    "    # Random 90° rotation\n",
    "    k = tf.random.uniform(shape=[], minval=0, maxval=4, dtype=tf.int32)\n",
    "    img = tf.image.rot90(img, k=k)\n",
    "    label = rotate_label(label, k)\n",
    "\n",
    "    # Random crop + resize back to original\n",
    "    if tf.random.uniform(()) > 0.5:\n",
    "        crop_size = tf.cast(\n",
    "            tf.random.uniform([], 0.8, 1.0) * tf.cast(tf.shape(img)[:2], tf.float32),\n",
    "            tf.int32\n",
    "        )\n",
    "        img = tf.image.random_crop(img, size=[crop_size[0], crop_size[1], 3])\n",
    "        img = tf.image.resize(img, [IMG_SIZE, IMG_SIZE])\n",
    "\n",
    "    return img, label\n"
   ]
  },
  {
   "cell_type": "code",
   "execution_count": 17,
   "id": "38bfae93-42f5-4168-90ae-2fb80301ebdd",
   "metadata": {},
   "outputs": [],
   "source": [
    "def flip_label_left_right(label):\n",
    "    # Flip the label grid horizontally\n",
    "    flipped = tf.reverse(label, axis=[1])  # axis 1 = width/grid-x\n",
    "\n",
    "    # Get the x offset and update it: x' = 1 - x\n",
    "    x = flipped[..., 0]\n",
    "    flipped = tf.tensor_scatter_nd_update(\n",
    "        flipped,\n",
    "        tf.where(flipped[..., 4] > 0.5),\n",
    "        tf.concat([\n",
    "            tf.expand_dims(1.0 - tf.gather_nd(x, tf.where(flipped[..., 4] > 0.5)), axis=-1),  # new x\n",
    "            tf.gather_nd(flipped[..., 1:], tf.where(flipped[..., 4] > 0.5))  # rest unchanged\n",
    "        ], axis=-1)\n",
    "    )\n",
    "\n",
    "    return flipped\n",
    "\n",
    "    \n",
    "def flip_label_up_down(label):\n",
    "    # Flip the grid vertically (axis 0 = row/height dction)\n",
    "    label = tf.reverse(label, axis=[0])\n",
    "\n",
    "    # Adjust the y offset: new_y = 1.0 - y\n",
    "    y_offset = label[..., 1]\n",
    "    label = tf.tensor_scatter_nd_update(\n",
    "        label,\n",
    "        tf.where(label[..., 4] > 0.5),\n",
    "        tf.concat([\n",
    "            tf.expand_dims(label[..., 0][label[..., 4] > 0.5], -1),\n",
    "            tf.expand_dims(1.0 - y_offset[label[..., 4] > 0.5], -1),\n",
    "            label[..., 2:][label[..., 4] > 0.5]\n",
    "        ], axis=-1)\n",
    "    )\n",
    "\n",
    "    return label"
   ]
  },
  {
   "cell_type": "code",
   "execution_count": 18,
   "id": "fee0bf55-4ef3-4562-a4c5-7c2c5596b105",
   "metadata": {},
   "outputs": [],
   "source": [
    "def rotate_label(label, k):\n",
    "    original_shape = tf.shape(label)\n",
    "    has_batch = (len(label.shape) == 5)\n",
    "\n",
    "    if not has_batch:\n",
    "        label = tf.expand_dims(label, 0)  # make shape [1, H, W, A, P]\n",
    "\n",
    "    B, H, W, A, P = tf.shape(label)[0], tf.shape(label)[1], tf.shape(label)[2], tf.shape(label)[3], tf.shape(label)[4]\n",
    "\n",
    "    # Flatten A and P into channels for rotation\n",
    "    label_flat = tf.reshape(label, [B, H, W, A * P])\n",
    "    label_rotated_flat = tf.image.rot90(label_flat, k=k)\n",
    "\n",
    "    # Swap H and W if needed\n",
    "    new_H = tf.cond(tf.logical_or(tf.equal(k, 1), tf.equal(k, 3)), lambda: W, lambda: H)\n",
    "    new_W = tf.cond(tf.logical_or(tf.equal(k, 1), tf.equal(k, 3)), lambda: H, lambda: W)\n",
    "\n",
    "    label_rotated = tf.reshape(label_rotated_flat, [B, new_H, new_W, A, P])\n",
    "\n",
    "    # Adjust x and y\n",
    "    x = label_rotated[..., 0]\n",
    "    y = label_rotated[..., 1]\n",
    "\n",
    "    def no_rot(): return x, y\n",
    "    def rot90(): return y, 1.0 - x\n",
    "    def rot180(): return 1.0 - x, 1.0 - y\n",
    "    def rot270(): return 1.0 - y, x\n",
    "\n",
    "    new_x, new_y = tf.case([\n",
    "        (tf.equal(k, 0), no_rot),\n",
    "        (tf.equal(k, 1), rot90),\n",
    "        (tf.equal(k, 2), rot180),\n",
    "        (tf.equal(k, 3), rot270),\n",
    "    ], default=no_rot)\n",
    "\n",
    "    other_params = label_rotated[..., 2:]\n",
    "    updated = tf.concat([\n",
    "        tf.expand_dims(new_x, axis=-1),\n",
    "        tf.expand_dims(new_y, axis=-1),\n",
    "        other_params\n",
    "    ], axis=-1)\n",
    "\n",
    "    if not has_batch:\n",
    "        updated = tf.squeeze(updated, axis=0)\n",
    "\n",
    "    return updated\n"
   ]
  },
  {
   "cell_type": "code",
   "execution_count": 19,
   "id": "2930be80-7c0a-4dbe-a69f-5635dd323193",
   "metadata": {},
   "outputs": [],
   "source": [
    "def evaluate_loss(model, test_ds, batch_size=4):\n",
    "    preds_all = model.predict(test_ds, verbose=1)\n",
    "\n",
    "    total_loss = 0.0\n",
    "    total_area_loss = 0.0\n",
    "    num_batches = 0\n",
    "\n",
    "    for i, (images, labels) in enumerate(test_ds):\n",
    "        start = i * batch_size\n",
    "        end = start + images.shape[0]\n",
    "        preds = tf.convert_to_tensor(preds_all[start:end])\n",
    "\n",
    "        area_loss = area_difference_loss(labels, preds).numpy()\n",
    "        loss = combined_yolo_area_loss(labels, preds).numpy()\n",
    "\n",
    "        total_area_loss += area_loss\n",
    "        total_loss += loss\n",
    "        num_batches += 1\n",
    "\n",
    "    avg_loss = total_loss / num_batches if num_batches > 0 else 0\n",
    "    avg_area_loss = total_area_loss / num_batches if num_batches > 0 else 0\n",
    "\n",
    "    print(f\"Average loss on test set: {avg_loss:.4f}\")\n",
    "    print(f\"Average area loss on test set: {avg_area_loss:.4f}\")\n",
    "\n",
    "    wandb.log({\n",
    "        \"test_combined_loss\": avg_loss,\n",
    "        \"test_area_difference_loss\": avg_area_loss\n",
    "    })\n",
    "\n",
    "    return avg_loss\n"
   ]
  },
  {
   "cell_type": "code",
   "execution_count": 20,
   "id": "3dba16cd-5270-468b-97af-4b9164c43bd2",
   "metadata": {},
   "outputs": [],
   "source": [
    "def create_label_grids_from_df(df, image_dir, grid_size, num_boxes, num_classes):\n",
    "    df = df.copy()\n",
    "    grouped = df.groupby(\"image\")\n",
    "    \n",
    "    image_paths = []\n",
    "    label_grids = []\n",
    "\n",
    "    for img_name, group in grouped:\n",
    "        img_path = os.path.join(image_dir, img_name)\n",
    "        image_paths.append(img_path)\n",
    "\n",
    "        label_grid = np.zeros((grid_size, grid_size, num_boxes, 5 + num_classes), dtype=np.float32)\n",
    "\n",
    "        for _, row in group.iterrows():\n",
    "            cx, cy = row[\"x_center\"], row[\"y_center\"]\n",
    "            bw, bh = row[\"bb_width\"], row[\"bb_height\"]\n",
    "            class_id = 0  # or use `row[\"class_id\"]` if multi-class\n",
    "\n",
    "            gx = min(int(cx * grid_size), grid_size - 1)\n",
    "            gy = min(int(cy * grid_size), grid_size - 1)\n",
    "            cell_x = cx * grid_size - gx\n",
    "            cell_y = cy * grid_size - gy\n",
    "\n",
    "            anchor_idx = 0  # assign to first anchor\n",
    "            label_grid[gy, gx, anchor_idx, 0:5] = [cell_x, cell_y, bw, bh, 1.0]\n",
    "            label_grid[gy, gx, anchor_idx, 5 + class_id] = 1.0\n",
    "\n",
    "        label_grids.append(label_grid)\n",
    "\n",
    "    return image_paths, np.array(label_grids, dtype=np.float32)\n"
   ]
  },
  {
   "cell_type": "code",
   "execution_count": 21,
   "id": "4f8e6281-808c-4bf2-9a4d-6af7e1589e2e",
   "metadata": {
    "editable": true,
    "slideshow": {
     "slide_type": ""
    },
    "tags": []
   },
   "outputs": [],
   "source": [
    "def add_image_size_to_df(df, image_size_dict):\n",
    "    df = df.copy()\n",
    "    df['original_img_width'] = df['image'].map(lambda img: image_size_dict[img][0])\n",
    "    df['original_img_height'] = df['image'].map(lambda img: image_size_dict[img][1])\n",
    "    return df\n",
    "\n",
    "def prepare_bboxes(df):\n",
    "    df = df.copy()\n",
    "    df[\"x1\"] = df[\"x1\"] / df[\"original_img_width\"]\n",
    "    df[\"x2\"] = df[\"x2\"] / df[\"original_img_width\"]\n",
    "    df[\"y1\"] = df[\"y1\"] / df[\"original_img_height\"]\n",
    "    df[\"y2\"] = df[\"y2\"] / df[\"original_img_height\"]\n",
    "\n",
    "    df[\"x_center\"] = (df[\"x1\"] + df[\"x2\"]) / 2\n",
    "    df[\"y_center\"] = (df[\"y1\"] + df[\"y2\"]) / 2\n",
    "    df[\"bb_width\"] = df[\"x2\"] - df[\"x1\"]\n",
    "    df[\"bb_height\"] = df[\"y2\"] - df[\"y1\"]\n",
    "    \n",
    "    return df\n",
    "\n",
    "def get_image_size_dict(folder_path):\n",
    "    image_size_dict = {}\n",
    "    for filename in os.listdir(folder_path):\n",
    "        if filename.lower().endswith('.jpg'):\n",
    "            img = Image.open(os.path.join(folder_path, filename))\n",
    "            image_size_dict[filename] = img.size\n",
    "\n",
    "    return image_size_dict"
   ]
  },
  {
   "cell_type": "code",
   "execution_count": 22,
   "id": "417abecb-d560-4ec9-b09b-0b1a874dafa3",
   "metadata": {},
   "outputs": [],
   "source": [
    "bboxes_test= None\n",
    "bboxes_df= None"
   ]
  },
  {
   "cell_type": "code",
   "execution_count": 23,
   "id": "d5921c6e-de61-4ef0-a7e2-0c52b8ff03e3",
   "metadata": {},
   "outputs": [],
   "source": [
    "bboxes_df = pd.read_csv(test_csv_path)\n",
    "img_size_dict_test = get_image_size_dict(images_testset)\n",
    "bboxes_test = add_image_size_to_df(bboxes_df, img_size_dict_test)\n",
    "bboxes_test = prepare_bboxes(bboxes_test)"
   ]
  },
  {
   "cell_type": "code",
   "execution_count": 24,
   "id": "09bbaade-c064-452b-8f58-00e2cbf30b86",
   "metadata": {},
   "outputs": [
    {
     "data": {
      "text/html": [
       "<div>\n",
       "<style scoped>\n",
       "    .dataframe tbody tr th:only-of-type {\n",
       "        vertical-align: middle;\n",
       "    }\n",
       "\n",
       "    .dataframe tbody tr th {\n",
       "        vertical-align: top;\n",
       "    }\n",
       "\n",
       "    .dataframe thead th {\n",
       "        text-align: right;\n",
       "    }\n",
       "</style>\n",
       "<table border=\"1\" class=\"dataframe\">\n",
       "  <thead>\n",
       "    <tr style=\"text-align: right;\">\n",
       "      <th></th>\n",
       "      <th>image</th>\n",
       "      <th>x1</th>\n",
       "      <th>y1</th>\n",
       "      <th>x2</th>\n",
       "      <th>y2</th>\n",
       "      <th>user</th>\n",
       "      <th>day</th>\n",
       "      <th>month</th>\n",
       "      <th>year</th>\n",
       "      <th>hour</th>\n",
       "      <th>minute</th>\n",
       "      <th>type</th>\n",
       "      <th>original_img_width</th>\n",
       "      <th>original_img_height</th>\n",
       "      <th>x_center</th>\n",
       "      <th>y_center</th>\n",
       "      <th>bb_width</th>\n",
       "      <th>bb_height</th>\n",
       "    </tr>\n",
       "  </thead>\n",
       "  <tbody>\n",
       "    <tr>\n",
       "      <th>0</th>\n",
       "      <td>DSC00976_0.jpg</td>\n",
       "      <td>0.612667</td>\n",
       "      <td>0.376</td>\n",
       "      <td>0.661333</td>\n",
       "      <td>0.4315</td>\n",
       "      <td>Tyr</td>\n",
       "      <td>12</td>\n",
       "      <td>12</td>\n",
       "      <td>2016</td>\n",
       "      <td>9</td>\n",
       "      <td>45</td>\n",
       "      <td>boom</td>\n",
       "      <td>3000</td>\n",
       "      <td>2000</td>\n",
       "      <td>0.637000</td>\n",
       "      <td>0.40375</td>\n",
       "      <td>0.048667</td>\n",
       "      <td>0.0555</td>\n",
       "    </tr>\n",
       "    <tr>\n",
       "      <th>1</th>\n",
       "      <td>DSC00976_0.jpg</td>\n",
       "      <td>0.652333</td>\n",
       "      <td>0.349</td>\n",
       "      <td>0.717000</td>\n",
       "      <td>0.4165</td>\n",
       "      <td>Tyr</td>\n",
       "      <td>12</td>\n",
       "      <td>12</td>\n",
       "      <td>2016</td>\n",
       "      <td>9</td>\n",
       "      <td>45</td>\n",
       "      <td>boom</td>\n",
       "      <td>3000</td>\n",
       "      <td>2000</td>\n",
       "      <td>0.684667</td>\n",
       "      <td>0.38275</td>\n",
       "      <td>0.064667</td>\n",
       "      <td>0.0675</td>\n",
       "    </tr>\n",
       "    <tr>\n",
       "      <th>2</th>\n",
       "      <td>DSC00976_0.jpg</td>\n",
       "      <td>0.626333</td>\n",
       "      <td>0.403</td>\n",
       "      <td>0.675667</td>\n",
       "      <td>0.4800</td>\n",
       "      <td>Tyr</td>\n",
       "      <td>12</td>\n",
       "      <td>12</td>\n",
       "      <td>2016</td>\n",
       "      <td>9</td>\n",
       "      <td>45</td>\n",
       "      <td>boom</td>\n",
       "      <td>3000</td>\n",
       "      <td>2000</td>\n",
       "      <td>0.651000</td>\n",
       "      <td>0.44150</td>\n",
       "      <td>0.049333</td>\n",
       "      <td>0.0770</td>\n",
       "    </tr>\n",
       "    <tr>\n",
       "      <th>3</th>\n",
       "      <td>DSC00976_0.jpg</td>\n",
       "      <td>0.576000</td>\n",
       "      <td>0.190</td>\n",
       "      <td>0.651333</td>\n",
       "      <td>0.2885</td>\n",
       "      <td>Tyr</td>\n",
       "      <td>12</td>\n",
       "      <td>12</td>\n",
       "      <td>2016</td>\n",
       "      <td>9</td>\n",
       "      <td>45</td>\n",
       "      <td>boom</td>\n",
       "      <td>3000</td>\n",
       "      <td>2000</td>\n",
       "      <td>0.613667</td>\n",
       "      <td>0.23925</td>\n",
       "      <td>0.075333</td>\n",
       "      <td>0.0985</td>\n",
       "    </tr>\n",
       "    <tr>\n",
       "      <th>4</th>\n",
       "      <td>DSC00976_0.jpg</td>\n",
       "      <td>0.569667</td>\n",
       "      <td>0.151</td>\n",
       "      <td>0.652333</td>\n",
       "      <td>0.2640</td>\n",
       "      <td>Tyr</td>\n",
       "      <td>12</td>\n",
       "      <td>12</td>\n",
       "      <td>2016</td>\n",
       "      <td>9</td>\n",
       "      <td>45</td>\n",
       "      <td>boom</td>\n",
       "      <td>3000</td>\n",
       "      <td>2000</td>\n",
       "      <td>0.611000</td>\n",
       "      <td>0.20750</td>\n",
       "      <td>0.082667</td>\n",
       "      <td>0.1130</td>\n",
       "    </tr>\n",
       "  </tbody>\n",
       "</table>\n",
       "</div>"
      ],
      "text/plain": [
       "            image        x1     y1        x2      y2 user  day  month  year  \\\n",
       "0  DSC00976_0.jpg  0.612667  0.376  0.661333  0.4315  Tyr   12     12  2016   \n",
       "1  DSC00976_0.jpg  0.652333  0.349  0.717000  0.4165  Tyr   12     12  2016   \n",
       "2  DSC00976_0.jpg  0.626333  0.403  0.675667  0.4800  Tyr   12     12  2016   \n",
       "3  DSC00976_0.jpg  0.576000  0.190  0.651333  0.2885  Tyr   12     12  2016   \n",
       "4  DSC00976_0.jpg  0.569667  0.151  0.652333  0.2640  Tyr   12     12  2016   \n",
       "\n",
       "   hour  minute  type  original_img_width  original_img_height  x_center  \\\n",
       "0     9      45  boom                3000                 2000  0.637000   \n",
       "1     9      45  boom                3000                 2000  0.684667   \n",
       "2     9      45  boom                3000                 2000  0.651000   \n",
       "3     9      45  boom                3000                 2000  0.613667   \n",
       "4     9      45  boom                3000                 2000  0.611000   \n",
       "\n",
       "   y_center  bb_width  bb_height  \n",
       "0   0.40375  0.048667     0.0555  \n",
       "1   0.38275  0.064667     0.0675  \n",
       "2   0.44150  0.049333     0.0770  \n",
       "3   0.23925  0.075333     0.0985  \n",
       "4   0.20750  0.082667     0.1130  "
      ]
     },
     "execution_count": 24,
     "metadata": {},
     "output_type": "execute_result"
    }
   ],
   "source": [
    "bboxes_test.head()"
   ]
  },
  {
   "cell_type": "code",
   "execution_count": 25,
   "id": "ce2aa74e-1070-49b8-bf57-2424d49af173",
   "metadata": {},
   "outputs": [
    {
     "name": "stdout",
     "output_type": "stream",
     "text": [
      "Label tensor shape example: (10, 10, 3, 6)\n"
     ]
    },
    {
     "name": "stderr",
     "output_type": "stream",
     "text": [
      "2025-06-03 18:54:35.355006: I tensorflow/core/common_runtime/gpu/gpu_device.cc:2021] Created device /job:localhost/replica:0/task:0/device:GPU:0 with 13294 MB memory:  -> device: 0, name: NVIDIA A16, pci bus id: 0000:2a:00.0, compute capability: 8.6\n"
     ]
    }
   ],
   "source": [
    "test_image_paths, test_labels = create_label_grids_from_df(\n",
    "    bboxes_test,\n",
    "    images_testset,    \n",
    "    GRID_SIZE,\n",
    "    NUM_BOXES,\n",
    "    NUM_CLASSES\n",
    ")\n",
    "test_ds = make_yolo_dataset(\n",
    "    test_image_paths,\n",
    "    test_labels,\n",
    "    IMG_SIZE,\n",
    "    batch_size=4,\n",
    "    shuffle=False\n",
    ")"
   ]
  },
  {
   "cell_type": "code",
   "execution_count": 26,
   "id": "ad90a43a-6e23-410d-835c-da224dad6e69",
   "metadata": {},
   "outputs": [],
   "source": [
    "def save_test_dataset_with_images(dataset, image_paths, output_dir=\"saved_test_set_5\"):\n",
    "    os.makedirs(output_dir, exist_ok=True)\n",
    "    image_dir = os.path.join(output_dir, \"images\")\n",
    "    os.makedirs(image_dir, exist_ok=True)\n",
    "\n",
    "    tfrecord_path = os.path.join(output_dir, \"test_dataset.tfrecord\")\n",
    "    writer = tf.io.TFRecordWriter(tfrecord_path)\n",
    "\n",
    "    for i, (img_tensor, label_tensor) in enumerate(dataset):\n",
    "        for b in range(img_tensor.shape[0]):\n",
    "            image = img_tensor[b].numpy()\n",
    "            label = label_tensor[b].numpy()\n",
    "            filename = os.path.basename(image_paths[i * img_tensor.shape[0] + b])\n",
    "            name, _ = os.path.splitext(filename)\n",
    "\n",
    "            # Save image\n",
    "            pil_img = Image.fromarray((image * 255).astype(np.uint8))\n",
    "            pil_img.save(os.path.join(image_dir, filename))\n",
    "\n",
    "            # Serialize image + label\n",
    "            image_bytes = tf.io.encode_jpeg(tf.cast(image * 255, tf.uint8)).numpy()\n",
    "            label_bytes = tf.io.serialize_tensor(label).numpy()\n",
    "\n",
    "            feature = {\n",
    "                \"image_raw\": tf.train.Feature(bytes_list=tf.train.BytesList(value=[image_bytes])),\n",
    "                \"label_raw\": tf.train.Feature(bytes_list=tf.train.BytesList(value=[label_bytes])),\n",
    "                \"filename\": tf.train.Feature(bytes_list=tf.train.BytesList(value=[filename.encode()]))\n",
    "            }\n",
    "\n",
    "            example = tf.train.Example(features=tf.train.Features(feature=feature))\n",
    "            writer.write(example.SerializeToString())\n",
    "\n",
    "    writer.close()\n",
    "    print(f\"Saved TFRecord: {tfrecord_path}\")\n",
    "    print(f\"Saved {len(image_paths)} images to: {image_dir}\")\n"
   ]
  },
  {
   "cell_type": "code",
   "execution_count": 27,
   "id": "5ed45228-68e1-45cd-a65b-47fed4520888",
   "metadata": {},
   "outputs": [],
   "source": [
    "#save_test_dataset_with_images(test_ds, test_image_paths)"
   ]
  },
  {
   "cell_type": "code",
   "execution_count": 28,
   "id": "560ad81f-f717-4a32-b575-94b40189ab14",
   "metadata": {},
   "outputs": [],
   "source": [
    "train_image_paths, train_labels = prepare_image_label_paths(\n",
    "    images_trainset, labels_trainset, GRID_SIZE, NUM_BOXES, NUM_CLASSES\n",
    ")\n",
    "\n",
    "val_image_paths, val_labels = prepare_image_label_paths(\n",
    "    images_valset, labels_valset, GRID_SIZE, NUM_BOXES, NUM_CLASSES\n",
    ")\n"
   ]
  },
  {
   "cell_type": "code",
   "execution_count": 29,
   "id": "b7361bd1-efe3-4454-88ec-76e70e29ac74",
   "metadata": {},
   "outputs": [
    {
     "name": "stdout",
     "output_type": "stream",
     "text": [
      "Label tensor shape example: (10, 10, 3, 6)\n",
      "Label tensor shape example: (10, 10, 3, 6)\n"
     ]
    }
   ],
   "source": [
    "train_ds = make_yolo_dataset(train_image_paths, train_labels, IMG_SIZE, batch_size=4, augment=True)\n",
    "val_ds   = make_yolo_dataset(val_image_paths, val_labels, IMG_SIZE, batch_size=4, shuffle=False)"
   ]
  },
  {
   "cell_type": "code",
   "execution_count": 30,
   "id": "af3de086-874c-41ab-9bd5-c1be1a0f6363",
   "metadata": {},
   "outputs": [
    {
     "data": {
      "text/html": [
       "Tracking run with wandb version 0.19.11"
      ],
      "text/plain": [
       "<IPython.core.display.HTML object>"
      ]
     },
     "metadata": {},
     "output_type": "display_data"
    },
    {
     "data": {
      "text/html": [
       "Run data is saved locally in <code>/home/jovyan/DSPRO2/M-AI-ZE-Maize-diseases-detection/cnn/wandb/run-20250603_185436-odggk0ej</code>"
      ],
      "text/plain": [
       "<IPython.core.display.HTML object>"
      ]
     },
     "metadata": {},
     "output_type": "display_data"
    },
    {
     "data": {
      "text/html": [
       "Syncing run <strong><a href='https://wandb.ai/rueedi-tobias-hochschule-luzern/Own%20CNN/runs/odggk0ej' target=\"_blank\">FinalModelNewLoss</a></strong> to <a href='https://wandb.ai/rueedi-tobias-hochschule-luzern/Own%20CNN' target=\"_blank\">Weights & Biases</a> (<a href='https://wandb.me/developer-guide' target=\"_blank\">docs</a>)<br>"
      ],
      "text/plain": [
       "<IPython.core.display.HTML object>"
      ]
     },
     "metadata": {},
     "output_type": "display_data"
    },
    {
     "data": {
      "text/html": [
       " View project at <a href='https://wandb.ai/rueedi-tobias-hochschule-luzern/Own%20CNN' target=\"_blank\">https://wandb.ai/rueedi-tobias-hochschule-luzern/Own%20CNN</a>"
      ],
      "text/plain": [
       "<IPython.core.display.HTML object>"
      ]
     },
     "metadata": {},
     "output_type": "display_data"
    },
    {
     "data": {
      "text/html": [
       " View run at <a href='https://wandb.ai/rueedi-tobias-hochschule-luzern/Own%20CNN/runs/odggk0ej' target=\"_blank\">https://wandb.ai/rueedi-tobias-hochschule-luzern/Own%20CNN/runs/odggk0ej</a>"
      ],
      "text/plain": [
       "<IPython.core.display.HTML object>"
      ]
     },
     "metadata": {},
     "output_type": "display_data"
    }
   ],
   "source": [
    "run = wandb.init(project=\"Own CNN\", name=\"FinalModelNewLoss\")"
   ]
  },
  {
   "cell_type": "code",
   "execution_count": 31,
   "id": "c749ae25-d083-4152-a1cf-4bc094c810c1",
   "metadata": {},
   "outputs": [
    {
     "name": "stdout",
     "output_type": "stream",
     "text": [
      "Final conv shape: (None, 10, 10, 18)\n",
      "Final conv output shape: (None, 10, 10, 3, 6)\n"
     ]
    },
    {
     "name": "stderr",
     "output_type": "stream",
     "text": [
      "/opt/conda/lib/python3.12/site-packages/keras/src/layers/activations/leaky_relu.py:41: UserWarning: Argument `alpha` is deprecated. Use `negative_slope` instead.\n",
      "  warnings.warn(\n"
     ]
    },
    {
     "data": {
      "text/html": [
       "<pre style=\"white-space:pre;overflow-x:auto;line-height:normal;font-family:Menlo,'DejaVu Sans Mono',consolas,'Courier New',monospace\"><span style=\"font-weight: bold\">Model: \"functional\"</span>\n",
       "</pre>\n"
      ],
      "text/plain": [
       "\u001b[1mModel: \"functional\"\u001b[0m\n"
      ]
     },
     "metadata": {},
     "output_type": "display_data"
    },
    {
     "data": {
      "text/html": [
       "<pre style=\"white-space:pre;overflow-x:auto;line-height:normal;font-family:Menlo,'DejaVu Sans Mono',consolas,'Courier New',monospace\">┏━━━━━━━━━━━━━━━━━━━━━━━━━━━━━━━━━┳━━━━━━━━━━━━━━━━━━━━━━━━┳━━━━━━━━━━━━━━━┓\n",
       "┃<span style=\"font-weight: bold\"> Layer (type)                    </span>┃<span style=\"font-weight: bold\"> Output Shape           </span>┃<span style=\"font-weight: bold\">       Param # </span>┃\n",
       "┡━━━━━━━━━━━━━━━━━━━━━━━━━━━━━━━━━╇━━━━━━━━━━━━━━━━━━━━━━━━╇━━━━━━━━━━━━━━━┩\n",
       "│ input_layer (<span style=\"color: #0087ff; text-decoration-color: #0087ff\">InputLayer</span>)        │ (<span style=\"color: #00d7ff; text-decoration-color: #00d7ff\">None</span>, <span style=\"color: #00af00; text-decoration-color: #00af00\">640</span>, <span style=\"color: #00af00; text-decoration-color: #00af00\">640</span>, <span style=\"color: #00af00; text-decoration-color: #00af00\">3</span>)    │             <span style=\"color: #00af00; text-decoration-color: #00af00\">0</span> │\n",
       "├─────────────────────────────────┼────────────────────────┼───────────────┤\n",
       "│ conv2d (<span style=\"color: #0087ff; text-decoration-color: #0087ff\">Conv2D</span>)                 │ (<span style=\"color: #00d7ff; text-decoration-color: #00d7ff\">None</span>, <span style=\"color: #00af00; text-decoration-color: #00af00\">640</span>, <span style=\"color: #00af00; text-decoration-color: #00af00\">640</span>, <span style=\"color: #00af00; text-decoration-color: #00af00\">16</span>)   │           <span style=\"color: #00af00; text-decoration-color: #00af00\">768</span> │\n",
       "├─────────────────────────────────┼────────────────────────┼───────────────┤\n",
       "│ batch_normalization             │ (<span style=\"color: #00d7ff; text-decoration-color: #00d7ff\">None</span>, <span style=\"color: #00af00; text-decoration-color: #00af00\">640</span>, <span style=\"color: #00af00; text-decoration-color: #00af00\">640</span>, <span style=\"color: #00af00; text-decoration-color: #00af00\">16</span>)   │            <span style=\"color: #00af00; text-decoration-color: #00af00\">64</span> │\n",
       "│ (<span style=\"color: #0087ff; text-decoration-color: #0087ff\">BatchNormalization</span>)            │                        │               │\n",
       "├─────────────────────────────────┼────────────────────────┼───────────────┤\n",
       "│ leaky_re_lu (<span style=\"color: #0087ff; text-decoration-color: #0087ff\">LeakyReLU</span>)         │ (<span style=\"color: #00d7ff; text-decoration-color: #00d7ff\">None</span>, <span style=\"color: #00af00; text-decoration-color: #00af00\">640</span>, <span style=\"color: #00af00; text-decoration-color: #00af00\">640</span>, <span style=\"color: #00af00; text-decoration-color: #00af00\">16</span>)   │             <span style=\"color: #00af00; text-decoration-color: #00af00\">0</span> │\n",
       "├─────────────────────────────────┼────────────────────────┼───────────────┤\n",
       "│ max_pooling2d (<span style=\"color: #0087ff; text-decoration-color: #0087ff\">MaxPooling2D</span>)    │ (<span style=\"color: #00d7ff; text-decoration-color: #00d7ff\">None</span>, <span style=\"color: #00af00; text-decoration-color: #00af00\">320</span>, <span style=\"color: #00af00; text-decoration-color: #00af00\">320</span>, <span style=\"color: #00af00; text-decoration-color: #00af00\">16</span>)   │             <span style=\"color: #00af00; text-decoration-color: #00af00\">0</span> │\n",
       "├─────────────────────────────────┼────────────────────────┼───────────────┤\n",
       "│ conv2d_1 (<span style=\"color: #0087ff; text-decoration-color: #0087ff\">Conv2D</span>)               │ (<span style=\"color: #00d7ff; text-decoration-color: #00d7ff\">None</span>, <span style=\"color: #00af00; text-decoration-color: #00af00\">320</span>, <span style=\"color: #00af00; text-decoration-color: #00af00\">320</span>, <span style=\"color: #00af00; text-decoration-color: #00af00\">32</span>)   │         <span style=\"color: #00af00; text-decoration-color: #00af00\">8,192</span> │\n",
       "├─────────────────────────────────┼────────────────────────┼───────────────┤\n",
       "│ batch_normalization_1           │ (<span style=\"color: #00d7ff; text-decoration-color: #00d7ff\">None</span>, <span style=\"color: #00af00; text-decoration-color: #00af00\">320</span>, <span style=\"color: #00af00; text-decoration-color: #00af00\">320</span>, <span style=\"color: #00af00; text-decoration-color: #00af00\">32</span>)   │           <span style=\"color: #00af00; text-decoration-color: #00af00\">128</span> │\n",
       "│ (<span style=\"color: #0087ff; text-decoration-color: #0087ff\">BatchNormalization</span>)            │                        │               │\n",
       "├─────────────────────────────────┼────────────────────────┼───────────────┤\n",
       "│ leaky_re_lu_1 (<span style=\"color: #0087ff; text-decoration-color: #0087ff\">LeakyReLU</span>)       │ (<span style=\"color: #00d7ff; text-decoration-color: #00d7ff\">None</span>, <span style=\"color: #00af00; text-decoration-color: #00af00\">320</span>, <span style=\"color: #00af00; text-decoration-color: #00af00\">320</span>, <span style=\"color: #00af00; text-decoration-color: #00af00\">32</span>)   │             <span style=\"color: #00af00; text-decoration-color: #00af00\">0</span> │\n",
       "├─────────────────────────────────┼────────────────────────┼───────────────┤\n",
       "│ max_pooling2d_1 (<span style=\"color: #0087ff; text-decoration-color: #0087ff\">MaxPooling2D</span>)  │ (<span style=\"color: #00d7ff; text-decoration-color: #00d7ff\">None</span>, <span style=\"color: #00af00; text-decoration-color: #00af00\">160</span>, <span style=\"color: #00af00; text-decoration-color: #00af00\">160</span>, <span style=\"color: #00af00; text-decoration-color: #00af00\">32</span>)   │             <span style=\"color: #00af00; text-decoration-color: #00af00\">0</span> │\n",
       "├─────────────────────────────────┼────────────────────────┼───────────────┤\n",
       "│ conv2d_2 (<span style=\"color: #0087ff; text-decoration-color: #0087ff\">Conv2D</span>)               │ (<span style=\"color: #00d7ff; text-decoration-color: #00d7ff\">None</span>, <span style=\"color: #00af00; text-decoration-color: #00af00\">160</span>, <span style=\"color: #00af00; text-decoration-color: #00af00\">160</span>, <span style=\"color: #00af00; text-decoration-color: #00af00\">64</span>)   │        <span style=\"color: #00af00; text-decoration-color: #00af00\">32,768</span> │\n",
       "├─────────────────────────────────┼────────────────────────┼───────────────┤\n",
       "│ batch_normalization_2           │ (<span style=\"color: #00d7ff; text-decoration-color: #00d7ff\">None</span>, <span style=\"color: #00af00; text-decoration-color: #00af00\">160</span>, <span style=\"color: #00af00; text-decoration-color: #00af00\">160</span>, <span style=\"color: #00af00; text-decoration-color: #00af00\">64</span>)   │           <span style=\"color: #00af00; text-decoration-color: #00af00\">256</span> │\n",
       "│ (<span style=\"color: #0087ff; text-decoration-color: #0087ff\">BatchNormalization</span>)            │                        │               │\n",
       "├─────────────────────────────────┼────────────────────────┼───────────────┤\n",
       "│ leaky_re_lu_2 (<span style=\"color: #0087ff; text-decoration-color: #0087ff\">LeakyReLU</span>)       │ (<span style=\"color: #00d7ff; text-decoration-color: #00d7ff\">None</span>, <span style=\"color: #00af00; text-decoration-color: #00af00\">160</span>, <span style=\"color: #00af00; text-decoration-color: #00af00\">160</span>, <span style=\"color: #00af00; text-decoration-color: #00af00\">64</span>)   │             <span style=\"color: #00af00; text-decoration-color: #00af00\">0</span> │\n",
       "├─────────────────────────────────┼────────────────────────┼───────────────┤\n",
       "│ max_pooling2d_2 (<span style=\"color: #0087ff; text-decoration-color: #0087ff\">MaxPooling2D</span>)  │ (<span style=\"color: #00d7ff; text-decoration-color: #00d7ff\">None</span>, <span style=\"color: #00af00; text-decoration-color: #00af00\">80</span>, <span style=\"color: #00af00; text-decoration-color: #00af00\">80</span>, <span style=\"color: #00af00; text-decoration-color: #00af00\">64</span>)     │             <span style=\"color: #00af00; text-decoration-color: #00af00\">0</span> │\n",
       "├─────────────────────────────────┼────────────────────────┼───────────────┤\n",
       "│ conv2d_3 (<span style=\"color: #0087ff; text-decoration-color: #0087ff\">Conv2D</span>)               │ (<span style=\"color: #00d7ff; text-decoration-color: #00d7ff\">None</span>, <span style=\"color: #00af00; text-decoration-color: #00af00\">80</span>, <span style=\"color: #00af00; text-decoration-color: #00af00\">80</span>, <span style=\"color: #00af00; text-decoration-color: #00af00\">128</span>)    │       <span style=\"color: #00af00; text-decoration-color: #00af00\">131,072</span> │\n",
       "├─────────────────────────────────┼────────────────────────┼───────────────┤\n",
       "│ batch_normalization_3           │ (<span style=\"color: #00d7ff; text-decoration-color: #00d7ff\">None</span>, <span style=\"color: #00af00; text-decoration-color: #00af00\">80</span>, <span style=\"color: #00af00; text-decoration-color: #00af00\">80</span>, <span style=\"color: #00af00; text-decoration-color: #00af00\">128</span>)    │           <span style=\"color: #00af00; text-decoration-color: #00af00\">512</span> │\n",
       "│ (<span style=\"color: #0087ff; text-decoration-color: #0087ff\">BatchNormalization</span>)            │                        │               │\n",
       "├─────────────────────────────────┼────────────────────────┼───────────────┤\n",
       "│ leaky_re_lu_3 (<span style=\"color: #0087ff; text-decoration-color: #0087ff\">LeakyReLU</span>)       │ (<span style=\"color: #00d7ff; text-decoration-color: #00d7ff\">None</span>, <span style=\"color: #00af00; text-decoration-color: #00af00\">80</span>, <span style=\"color: #00af00; text-decoration-color: #00af00\">80</span>, <span style=\"color: #00af00; text-decoration-color: #00af00\">128</span>)    │             <span style=\"color: #00af00; text-decoration-color: #00af00\">0</span> │\n",
       "├─────────────────────────────────┼────────────────────────┼───────────────┤\n",
       "│ max_pooling2d_3 (<span style=\"color: #0087ff; text-decoration-color: #0087ff\">MaxPooling2D</span>)  │ (<span style=\"color: #00d7ff; text-decoration-color: #00d7ff\">None</span>, <span style=\"color: #00af00; text-decoration-color: #00af00\">40</span>, <span style=\"color: #00af00; text-decoration-color: #00af00\">40</span>, <span style=\"color: #00af00; text-decoration-color: #00af00\">128</span>)    │             <span style=\"color: #00af00; text-decoration-color: #00af00\">0</span> │\n",
       "├─────────────────────────────────┼────────────────────────┼───────────────┤\n",
       "│ conv2d_4 (<span style=\"color: #0087ff; text-decoration-color: #0087ff\">Conv2D</span>)               │ (<span style=\"color: #00d7ff; text-decoration-color: #00d7ff\">None</span>, <span style=\"color: #00af00; text-decoration-color: #00af00\">40</span>, <span style=\"color: #00af00; text-decoration-color: #00af00\">40</span>, <span style=\"color: #00af00; text-decoration-color: #00af00\">256</span>)    │       <span style=\"color: #00af00; text-decoration-color: #00af00\">524,288</span> │\n",
       "├─────────────────────────────────┼────────────────────────┼───────────────┤\n",
       "│ batch_normalization_4           │ (<span style=\"color: #00d7ff; text-decoration-color: #00d7ff\">None</span>, <span style=\"color: #00af00; text-decoration-color: #00af00\">40</span>, <span style=\"color: #00af00; text-decoration-color: #00af00\">40</span>, <span style=\"color: #00af00; text-decoration-color: #00af00\">256</span>)    │         <span style=\"color: #00af00; text-decoration-color: #00af00\">1,024</span> │\n",
       "│ (<span style=\"color: #0087ff; text-decoration-color: #0087ff\">BatchNormalization</span>)            │                        │               │\n",
       "├─────────────────────────────────┼────────────────────────┼───────────────┤\n",
       "│ leaky_re_lu_4 (<span style=\"color: #0087ff; text-decoration-color: #0087ff\">LeakyReLU</span>)       │ (<span style=\"color: #00d7ff; text-decoration-color: #00d7ff\">None</span>, <span style=\"color: #00af00; text-decoration-color: #00af00\">40</span>, <span style=\"color: #00af00; text-decoration-color: #00af00\">40</span>, <span style=\"color: #00af00; text-decoration-color: #00af00\">256</span>)    │             <span style=\"color: #00af00; text-decoration-color: #00af00\">0</span> │\n",
       "├─────────────────────────────────┼────────────────────────┼───────────────┤\n",
       "│ max_pooling2d_4 (<span style=\"color: #0087ff; text-decoration-color: #0087ff\">MaxPooling2D</span>)  │ (<span style=\"color: #00d7ff; text-decoration-color: #00d7ff\">None</span>, <span style=\"color: #00af00; text-decoration-color: #00af00\">20</span>, <span style=\"color: #00af00; text-decoration-color: #00af00\">20</span>, <span style=\"color: #00af00; text-decoration-color: #00af00\">256</span>)    │             <span style=\"color: #00af00; text-decoration-color: #00af00\">0</span> │\n",
       "├─────────────────────────────────┼────────────────────────┼───────────────┤\n",
       "│ conv2d_5 (<span style=\"color: #0087ff; text-decoration-color: #0087ff\">Conv2D</span>)               │ (<span style=\"color: #00d7ff; text-decoration-color: #00d7ff\">None</span>, <span style=\"color: #00af00; text-decoration-color: #00af00\">20</span>, <span style=\"color: #00af00; text-decoration-color: #00af00\">20</span>, <span style=\"color: #00af00; text-decoration-color: #00af00\">512</span>)    │     <span style=\"color: #00af00; text-decoration-color: #00af00\">2,097,152</span> │\n",
       "├─────────────────────────────────┼────────────────────────┼───────────────┤\n",
       "│ batch_normalization_5           │ (<span style=\"color: #00d7ff; text-decoration-color: #00d7ff\">None</span>, <span style=\"color: #00af00; text-decoration-color: #00af00\">20</span>, <span style=\"color: #00af00; text-decoration-color: #00af00\">20</span>, <span style=\"color: #00af00; text-decoration-color: #00af00\">512</span>)    │         <span style=\"color: #00af00; text-decoration-color: #00af00\">2,048</span> │\n",
       "│ (<span style=\"color: #0087ff; text-decoration-color: #0087ff\">BatchNormalization</span>)            │                        │               │\n",
       "├─────────────────────────────────┼────────────────────────┼───────────────┤\n",
       "│ leaky_re_lu_5 (<span style=\"color: #0087ff; text-decoration-color: #0087ff\">LeakyReLU</span>)       │ (<span style=\"color: #00d7ff; text-decoration-color: #00d7ff\">None</span>, <span style=\"color: #00af00; text-decoration-color: #00af00\">20</span>, <span style=\"color: #00af00; text-decoration-color: #00af00\">20</span>, <span style=\"color: #00af00; text-decoration-color: #00af00\">512</span>)    │             <span style=\"color: #00af00; text-decoration-color: #00af00\">0</span> │\n",
       "├─────────────────────────────────┼────────────────────────┼───────────────┤\n",
       "│ dropout (<span style=\"color: #0087ff; text-decoration-color: #0087ff\">Dropout</span>)               │ (<span style=\"color: #00d7ff; text-decoration-color: #00d7ff\">None</span>, <span style=\"color: #00af00; text-decoration-color: #00af00\">20</span>, <span style=\"color: #00af00; text-decoration-color: #00af00\">20</span>, <span style=\"color: #00af00; text-decoration-color: #00af00\">512</span>)    │             <span style=\"color: #00af00; text-decoration-color: #00af00\">0</span> │\n",
       "├─────────────────────────────────┼────────────────────────┼───────────────┤\n",
       "│ max_pooling2d_5 (<span style=\"color: #0087ff; text-decoration-color: #0087ff\">MaxPooling2D</span>)  │ (<span style=\"color: #00d7ff; text-decoration-color: #00d7ff\">None</span>, <span style=\"color: #00af00; text-decoration-color: #00af00\">10</span>, <span style=\"color: #00af00; text-decoration-color: #00af00\">10</span>, <span style=\"color: #00af00; text-decoration-color: #00af00\">512</span>)    │             <span style=\"color: #00af00; text-decoration-color: #00af00\">0</span> │\n",
       "├─────────────────────────────────┼────────────────────────┼───────────────┤\n",
       "│ conv2d_6 (<span style=\"color: #0087ff; text-decoration-color: #0087ff\">Conv2D</span>)               │ (<span style=\"color: #00d7ff; text-decoration-color: #00d7ff\">None</span>, <span style=\"color: #00af00; text-decoration-color: #00af00\">10</span>, <span style=\"color: #00af00; text-decoration-color: #00af00\">10</span>, <span style=\"color: #00af00; text-decoration-color: #00af00\">512</span>)    │     <span style=\"color: #00af00; text-decoration-color: #00af00\">4,194,304</span> │\n",
       "├─────────────────────────────────┼────────────────────────┼───────────────┤\n",
       "│ batch_normalization_6           │ (<span style=\"color: #00d7ff; text-decoration-color: #00d7ff\">None</span>, <span style=\"color: #00af00; text-decoration-color: #00af00\">10</span>, <span style=\"color: #00af00; text-decoration-color: #00af00\">10</span>, <span style=\"color: #00af00; text-decoration-color: #00af00\">512</span>)    │         <span style=\"color: #00af00; text-decoration-color: #00af00\">2,048</span> │\n",
       "│ (<span style=\"color: #0087ff; text-decoration-color: #0087ff\">BatchNormalization</span>)            │                        │               │\n",
       "├─────────────────────────────────┼────────────────────────┼───────────────┤\n",
       "│ leaky_re_lu_6 (<span style=\"color: #0087ff; text-decoration-color: #0087ff\">LeakyReLU</span>)       │ (<span style=\"color: #00d7ff; text-decoration-color: #00d7ff\">None</span>, <span style=\"color: #00af00; text-decoration-color: #00af00\">10</span>, <span style=\"color: #00af00; text-decoration-color: #00af00\">10</span>, <span style=\"color: #00af00; text-decoration-color: #00af00\">512</span>)    │             <span style=\"color: #00af00; text-decoration-color: #00af00\">0</span> │\n",
       "├─────────────────────────────────┼────────────────────────┼───────────────┤\n",
       "│ conv2d_7 (<span style=\"color: #0087ff; text-decoration-color: #0087ff\">Conv2D</span>)               │ (<span style=\"color: #00d7ff; text-decoration-color: #00d7ff\">None</span>, <span style=\"color: #00af00; text-decoration-color: #00af00\">10</span>, <span style=\"color: #00af00; text-decoration-color: #00af00\">10</span>, <span style=\"color: #00af00; text-decoration-color: #00af00\">18</span>)     │         <span style=\"color: #00af00; text-decoration-color: #00af00\">9,234</span> │\n",
       "├─────────────────────────────────┼────────────────────────┼───────────────┤\n",
       "│ reshape (<span style=\"color: #0087ff; text-decoration-color: #0087ff\">Reshape</span>)               │ (<span style=\"color: #00d7ff; text-decoration-color: #00d7ff\">None</span>, <span style=\"color: #00af00; text-decoration-color: #00af00\">10</span>, <span style=\"color: #00af00; text-decoration-color: #00af00\">10</span>, <span style=\"color: #00af00; text-decoration-color: #00af00\">3</span>, <span style=\"color: #00af00; text-decoration-color: #00af00\">6</span>)   │             <span style=\"color: #00af00; text-decoration-color: #00af00\">0</span> │\n",
       "└─────────────────────────────────┴────────────────────────┴───────────────┘\n",
       "</pre>\n"
      ],
      "text/plain": [
       "┏━━━━━━━━━━━━━━━━━━━━━━━━━━━━━━━━━┳━━━━━━━━━━━━━━━━━━━━━━━━┳━━━━━━━━━━━━━━━┓\n",
       "┃\u001b[1m \u001b[0m\u001b[1mLayer (type)                   \u001b[0m\u001b[1m \u001b[0m┃\u001b[1m \u001b[0m\u001b[1mOutput Shape          \u001b[0m\u001b[1m \u001b[0m┃\u001b[1m \u001b[0m\u001b[1m      Param #\u001b[0m\u001b[1m \u001b[0m┃\n",
       "┡━━━━━━━━━━━━━━━━━━━━━━━━━━━━━━━━━╇━━━━━━━━━━━━━━━━━━━━━━━━╇━━━━━━━━━━━━━━━┩\n",
       "│ input_layer (\u001b[38;5;33mInputLayer\u001b[0m)        │ (\u001b[38;5;45mNone\u001b[0m, \u001b[38;5;34m640\u001b[0m, \u001b[38;5;34m640\u001b[0m, \u001b[38;5;34m3\u001b[0m)    │             \u001b[38;5;34m0\u001b[0m │\n",
       "├─────────────────────────────────┼────────────────────────┼───────────────┤\n",
       "│ conv2d (\u001b[38;5;33mConv2D\u001b[0m)                 │ (\u001b[38;5;45mNone\u001b[0m, \u001b[38;5;34m640\u001b[0m, \u001b[38;5;34m640\u001b[0m, \u001b[38;5;34m16\u001b[0m)   │           \u001b[38;5;34m768\u001b[0m │\n",
       "├─────────────────────────────────┼────────────────────────┼───────────────┤\n",
       "│ batch_normalization             │ (\u001b[38;5;45mNone\u001b[0m, \u001b[38;5;34m640\u001b[0m, \u001b[38;5;34m640\u001b[0m, \u001b[38;5;34m16\u001b[0m)   │            \u001b[38;5;34m64\u001b[0m │\n",
       "│ (\u001b[38;5;33mBatchNormalization\u001b[0m)            │                        │               │\n",
       "├─────────────────────────────────┼────────────────────────┼───────────────┤\n",
       "│ leaky_re_lu (\u001b[38;5;33mLeakyReLU\u001b[0m)         │ (\u001b[38;5;45mNone\u001b[0m, \u001b[38;5;34m640\u001b[0m, \u001b[38;5;34m640\u001b[0m, \u001b[38;5;34m16\u001b[0m)   │             \u001b[38;5;34m0\u001b[0m │\n",
       "├─────────────────────────────────┼────────────────────────┼───────────────┤\n",
       "│ max_pooling2d (\u001b[38;5;33mMaxPooling2D\u001b[0m)    │ (\u001b[38;5;45mNone\u001b[0m, \u001b[38;5;34m320\u001b[0m, \u001b[38;5;34m320\u001b[0m, \u001b[38;5;34m16\u001b[0m)   │             \u001b[38;5;34m0\u001b[0m │\n",
       "├─────────────────────────────────┼────────────────────────┼───────────────┤\n",
       "│ conv2d_1 (\u001b[38;5;33mConv2D\u001b[0m)               │ (\u001b[38;5;45mNone\u001b[0m, \u001b[38;5;34m320\u001b[0m, \u001b[38;5;34m320\u001b[0m, \u001b[38;5;34m32\u001b[0m)   │         \u001b[38;5;34m8,192\u001b[0m │\n",
       "├─────────────────────────────────┼────────────────────────┼───────────────┤\n",
       "│ batch_normalization_1           │ (\u001b[38;5;45mNone\u001b[0m, \u001b[38;5;34m320\u001b[0m, \u001b[38;5;34m320\u001b[0m, \u001b[38;5;34m32\u001b[0m)   │           \u001b[38;5;34m128\u001b[0m │\n",
       "│ (\u001b[38;5;33mBatchNormalization\u001b[0m)            │                        │               │\n",
       "├─────────────────────────────────┼────────────────────────┼───────────────┤\n",
       "│ leaky_re_lu_1 (\u001b[38;5;33mLeakyReLU\u001b[0m)       │ (\u001b[38;5;45mNone\u001b[0m, \u001b[38;5;34m320\u001b[0m, \u001b[38;5;34m320\u001b[0m, \u001b[38;5;34m32\u001b[0m)   │             \u001b[38;5;34m0\u001b[0m │\n",
       "├─────────────────────────────────┼────────────────────────┼───────────────┤\n",
       "│ max_pooling2d_1 (\u001b[38;5;33mMaxPooling2D\u001b[0m)  │ (\u001b[38;5;45mNone\u001b[0m, \u001b[38;5;34m160\u001b[0m, \u001b[38;5;34m160\u001b[0m, \u001b[38;5;34m32\u001b[0m)   │             \u001b[38;5;34m0\u001b[0m │\n",
       "├─────────────────────────────────┼────────────────────────┼───────────────┤\n",
       "│ conv2d_2 (\u001b[38;5;33mConv2D\u001b[0m)               │ (\u001b[38;5;45mNone\u001b[0m, \u001b[38;5;34m160\u001b[0m, \u001b[38;5;34m160\u001b[0m, \u001b[38;5;34m64\u001b[0m)   │        \u001b[38;5;34m32,768\u001b[0m │\n",
       "├─────────────────────────────────┼────────────────────────┼───────────────┤\n",
       "│ batch_normalization_2           │ (\u001b[38;5;45mNone\u001b[0m, \u001b[38;5;34m160\u001b[0m, \u001b[38;5;34m160\u001b[0m, \u001b[38;5;34m64\u001b[0m)   │           \u001b[38;5;34m256\u001b[0m │\n",
       "│ (\u001b[38;5;33mBatchNormalization\u001b[0m)            │                        │               │\n",
       "├─────────────────────────────────┼────────────────────────┼───────────────┤\n",
       "│ leaky_re_lu_2 (\u001b[38;5;33mLeakyReLU\u001b[0m)       │ (\u001b[38;5;45mNone\u001b[0m, \u001b[38;5;34m160\u001b[0m, \u001b[38;5;34m160\u001b[0m, \u001b[38;5;34m64\u001b[0m)   │             \u001b[38;5;34m0\u001b[0m │\n",
       "├─────────────────────────────────┼────────────────────────┼───────────────┤\n",
       "│ max_pooling2d_2 (\u001b[38;5;33mMaxPooling2D\u001b[0m)  │ (\u001b[38;5;45mNone\u001b[0m, \u001b[38;5;34m80\u001b[0m, \u001b[38;5;34m80\u001b[0m, \u001b[38;5;34m64\u001b[0m)     │             \u001b[38;5;34m0\u001b[0m │\n",
       "├─────────────────────────────────┼────────────────────────┼───────────────┤\n",
       "│ conv2d_3 (\u001b[38;5;33mConv2D\u001b[0m)               │ (\u001b[38;5;45mNone\u001b[0m, \u001b[38;5;34m80\u001b[0m, \u001b[38;5;34m80\u001b[0m, \u001b[38;5;34m128\u001b[0m)    │       \u001b[38;5;34m131,072\u001b[0m │\n",
       "├─────────────────────────────────┼────────────────────────┼───────────────┤\n",
       "│ batch_normalization_3           │ (\u001b[38;5;45mNone\u001b[0m, \u001b[38;5;34m80\u001b[0m, \u001b[38;5;34m80\u001b[0m, \u001b[38;5;34m128\u001b[0m)    │           \u001b[38;5;34m512\u001b[0m │\n",
       "│ (\u001b[38;5;33mBatchNormalization\u001b[0m)            │                        │               │\n",
       "├─────────────────────────────────┼────────────────────────┼───────────────┤\n",
       "│ leaky_re_lu_3 (\u001b[38;5;33mLeakyReLU\u001b[0m)       │ (\u001b[38;5;45mNone\u001b[0m, \u001b[38;5;34m80\u001b[0m, \u001b[38;5;34m80\u001b[0m, \u001b[38;5;34m128\u001b[0m)    │             \u001b[38;5;34m0\u001b[0m │\n",
       "├─────────────────────────────────┼────────────────────────┼───────────────┤\n",
       "│ max_pooling2d_3 (\u001b[38;5;33mMaxPooling2D\u001b[0m)  │ (\u001b[38;5;45mNone\u001b[0m, \u001b[38;5;34m40\u001b[0m, \u001b[38;5;34m40\u001b[0m, \u001b[38;5;34m128\u001b[0m)    │             \u001b[38;5;34m0\u001b[0m │\n",
       "├─────────────────────────────────┼────────────────────────┼───────────────┤\n",
       "│ conv2d_4 (\u001b[38;5;33mConv2D\u001b[0m)               │ (\u001b[38;5;45mNone\u001b[0m, \u001b[38;5;34m40\u001b[0m, \u001b[38;5;34m40\u001b[0m, \u001b[38;5;34m256\u001b[0m)    │       \u001b[38;5;34m524,288\u001b[0m │\n",
       "├─────────────────────────────────┼────────────────────────┼───────────────┤\n",
       "│ batch_normalization_4           │ (\u001b[38;5;45mNone\u001b[0m, \u001b[38;5;34m40\u001b[0m, \u001b[38;5;34m40\u001b[0m, \u001b[38;5;34m256\u001b[0m)    │         \u001b[38;5;34m1,024\u001b[0m │\n",
       "│ (\u001b[38;5;33mBatchNormalization\u001b[0m)            │                        │               │\n",
       "├─────────────────────────────────┼────────────────────────┼───────────────┤\n",
       "│ leaky_re_lu_4 (\u001b[38;5;33mLeakyReLU\u001b[0m)       │ (\u001b[38;5;45mNone\u001b[0m, \u001b[38;5;34m40\u001b[0m, \u001b[38;5;34m40\u001b[0m, \u001b[38;5;34m256\u001b[0m)    │             \u001b[38;5;34m0\u001b[0m │\n",
       "├─────────────────────────────────┼────────────────────────┼───────────────┤\n",
       "│ max_pooling2d_4 (\u001b[38;5;33mMaxPooling2D\u001b[0m)  │ (\u001b[38;5;45mNone\u001b[0m, \u001b[38;5;34m20\u001b[0m, \u001b[38;5;34m20\u001b[0m, \u001b[38;5;34m256\u001b[0m)    │             \u001b[38;5;34m0\u001b[0m │\n",
       "├─────────────────────────────────┼────────────────────────┼───────────────┤\n",
       "│ conv2d_5 (\u001b[38;5;33mConv2D\u001b[0m)               │ (\u001b[38;5;45mNone\u001b[0m, \u001b[38;5;34m20\u001b[0m, \u001b[38;5;34m20\u001b[0m, \u001b[38;5;34m512\u001b[0m)    │     \u001b[38;5;34m2,097,152\u001b[0m │\n",
       "├─────────────────────────────────┼────────────────────────┼───────────────┤\n",
       "│ batch_normalization_5           │ (\u001b[38;5;45mNone\u001b[0m, \u001b[38;5;34m20\u001b[0m, \u001b[38;5;34m20\u001b[0m, \u001b[38;5;34m512\u001b[0m)    │         \u001b[38;5;34m2,048\u001b[0m │\n",
       "│ (\u001b[38;5;33mBatchNormalization\u001b[0m)            │                        │               │\n",
       "├─────────────────────────────────┼────────────────────────┼───────────────┤\n",
       "│ leaky_re_lu_5 (\u001b[38;5;33mLeakyReLU\u001b[0m)       │ (\u001b[38;5;45mNone\u001b[0m, \u001b[38;5;34m20\u001b[0m, \u001b[38;5;34m20\u001b[0m, \u001b[38;5;34m512\u001b[0m)    │             \u001b[38;5;34m0\u001b[0m │\n",
       "├─────────────────────────────────┼────────────────────────┼───────────────┤\n",
       "│ dropout (\u001b[38;5;33mDropout\u001b[0m)               │ (\u001b[38;5;45mNone\u001b[0m, \u001b[38;5;34m20\u001b[0m, \u001b[38;5;34m20\u001b[0m, \u001b[38;5;34m512\u001b[0m)    │             \u001b[38;5;34m0\u001b[0m │\n",
       "├─────────────────────────────────┼────────────────────────┼───────────────┤\n",
       "│ max_pooling2d_5 (\u001b[38;5;33mMaxPooling2D\u001b[0m)  │ (\u001b[38;5;45mNone\u001b[0m, \u001b[38;5;34m10\u001b[0m, \u001b[38;5;34m10\u001b[0m, \u001b[38;5;34m512\u001b[0m)    │             \u001b[38;5;34m0\u001b[0m │\n",
       "├─────────────────────────────────┼────────────────────────┼───────────────┤\n",
       "│ conv2d_6 (\u001b[38;5;33mConv2D\u001b[0m)               │ (\u001b[38;5;45mNone\u001b[0m, \u001b[38;5;34m10\u001b[0m, \u001b[38;5;34m10\u001b[0m, \u001b[38;5;34m512\u001b[0m)    │     \u001b[38;5;34m4,194,304\u001b[0m │\n",
       "├─────────────────────────────────┼────────────────────────┼───────────────┤\n",
       "│ batch_normalization_6           │ (\u001b[38;5;45mNone\u001b[0m, \u001b[38;5;34m10\u001b[0m, \u001b[38;5;34m10\u001b[0m, \u001b[38;5;34m512\u001b[0m)    │         \u001b[38;5;34m2,048\u001b[0m │\n",
       "│ (\u001b[38;5;33mBatchNormalization\u001b[0m)            │                        │               │\n",
       "├─────────────────────────────────┼────────────────────────┼───────────────┤\n",
       "│ leaky_re_lu_6 (\u001b[38;5;33mLeakyReLU\u001b[0m)       │ (\u001b[38;5;45mNone\u001b[0m, \u001b[38;5;34m10\u001b[0m, \u001b[38;5;34m10\u001b[0m, \u001b[38;5;34m512\u001b[0m)    │             \u001b[38;5;34m0\u001b[0m │\n",
       "├─────────────────────────────────┼────────────────────────┼───────────────┤\n",
       "│ conv2d_7 (\u001b[38;5;33mConv2D\u001b[0m)               │ (\u001b[38;5;45mNone\u001b[0m, \u001b[38;5;34m10\u001b[0m, \u001b[38;5;34m10\u001b[0m, \u001b[38;5;34m18\u001b[0m)     │         \u001b[38;5;34m9,234\u001b[0m │\n",
       "├─────────────────────────────────┼────────────────────────┼───────────────┤\n",
       "│ reshape (\u001b[38;5;33mReshape\u001b[0m)               │ (\u001b[38;5;45mNone\u001b[0m, \u001b[38;5;34m10\u001b[0m, \u001b[38;5;34m10\u001b[0m, \u001b[38;5;34m3\u001b[0m, \u001b[38;5;34m6\u001b[0m)   │             \u001b[38;5;34m0\u001b[0m │\n",
       "└─────────────────────────────────┴────────────────────────┴───────────────┘\n"
      ]
     },
     "metadata": {},
     "output_type": "display_data"
    },
    {
     "data": {
      "text/html": [
       "<pre style=\"white-space:pre;overflow-x:auto;line-height:normal;font-family:Menlo,'DejaVu Sans Mono',consolas,'Courier New',monospace\"><span style=\"font-weight: bold\"> Total params: </span><span style=\"color: #00af00; text-decoration-color: #00af00\">7,003,858</span> (26.72 MB)\n",
       "</pre>\n"
      ],
      "text/plain": [
       "\u001b[1m Total params: \u001b[0m\u001b[38;5;34m7,003,858\u001b[0m (26.72 MB)\n"
      ]
     },
     "metadata": {},
     "output_type": "display_data"
    },
    {
     "data": {
      "text/html": [
       "<pre style=\"white-space:pre;overflow-x:auto;line-height:normal;font-family:Menlo,'DejaVu Sans Mono',consolas,'Courier New',monospace\"><span style=\"font-weight: bold\"> Trainable params: </span><span style=\"color: #00af00; text-decoration-color: #00af00\">7,000,818</span> (26.71 MB)\n",
       "</pre>\n"
      ],
      "text/plain": [
       "\u001b[1m Trainable params: \u001b[0m\u001b[38;5;34m7,000,818\u001b[0m (26.71 MB)\n"
      ]
     },
     "metadata": {},
     "output_type": "display_data"
    },
    {
     "data": {
      "text/html": [
       "<pre style=\"white-space:pre;overflow-x:auto;line-height:normal;font-family:Menlo,'DejaVu Sans Mono',consolas,'Courier New',monospace\"><span style=\"font-weight: bold\"> Non-trainable params: </span><span style=\"color: #00af00; text-decoration-color: #00af00\">3,040</span> (11.88 KB)\n",
       "</pre>\n"
      ],
      "text/plain": [
       "\u001b[1m Non-trainable params: \u001b[0m\u001b[38;5;34m3,040\u001b[0m (11.88 KB)\n"
      ]
     },
     "metadata": {},
     "output_type": "display_data"
    }
   ],
   "source": [
    "model = build_yolo_model()\n",
    "model.compile(optimizer='adam', loss=improved_yolo_loss)\n",
    "model.summary()"
   ]
  },
  {
   "cell_type": "code",
   "execution_count": null,
   "id": "b914db5a-06dd-497d-bb81-e8eaad8d7fa7",
   "metadata": {},
   "outputs": [
    {
     "name": "stderr",
     "output_type": "stream",
     "text": [
      "\u001b[34m\u001b[1mwandb\u001b[0m: \u001b[33mWARNING\u001b[0m WandbCallback is deprecated and will be removed in a future release. Please use the WandbMetricsLogger, WandbModelCheckpoint, and WandbEvalCallback callbacks instead. See https://docs.wandb.ai/guides/integrations/keras for more information.\n"
     ]
    },
    {
     "name": "stdout",
     "output_type": "stream",
     "text": [
      "Epoch 1/15\n"
     ]
    },
    {
     "name": "stderr",
     "output_type": "stream",
     "text": [
      "WARNING: All log messages before absl::InitializeLog() is called are written to STDERR\n",
      "I0000 00:00:1748976881.723710   74339 service.cc:146] XLA service 0x7effac0086f0 initialized for platform CUDA (this does not guarantee that XLA will be used). Devices:\n",
      "I0000 00:00:1748976881.723764   74339 service.cc:154]   StreamExecutor device (0): NVIDIA A16, Compute Capability 8.6\n",
      "2025-06-03 18:54:42.100532: I tensorflow/compiler/mlir/tensorflow/utils/dump_mlir_util.cc:268] disabling MLIR crash reproducer, set env var `MLIR_CRASH_REPRODUCER_DIRECTORY` to enable.\n",
      "2025-06-03 18:54:42.468102: I external/local_xla/xla/stream_executor/cuda/cuda_dnn.cc:531] Loaded cuDNN version 8907\n",
      "2025-06-03 18:54:56.549893: W external/local_xla/xla/service/gpu/nvptx_compiler.cc:762] The NVIDIA driver's CUDA version is 12.2 which is older than the ptxas CUDA version (12.3.107). Because the driver is older than the ptxas version, XLA is disabling parallel compilation, which may slow down compilation. You should update your NVIDIA driver or use the NVIDIA-provided CUDA forward compatibility packages.\n"
     ]
    },
    {
     "name": "stdout",
     "output_type": "stream",
     "text": [
      "\u001b[1m   2/2715\u001b[0m \u001b[37m━━━━━━━━━━━━━━━━━━━━\u001b[0m \u001b[1m3:21\u001b[0m 74ms/step - loss: 1665.4434   "
     ]
    },
    {
     "name": "stderr",
     "output_type": "stream",
     "text": [
      "I0000 00:00:1748976899.511670   74339 device_compiler.h:188] Compiled cluster using XLA!  This line is logged at most once for the lifetime of the process.\n"
     ]
    },
    {
     "name": "stdout",
     "output_type": "stream",
     "text": [
      "\u001b[1m 917/2715\u001b[0m \u001b[32m━━━━━━\u001b[0m\u001b[37m━━━━━━━━━━━━━━\u001b[0m \u001b[1m2:03\u001b[0m 69ms/step - loss: 57431.3555"
     ]
    }
   ],
   "source": [
    "batch_size = 4  \n",
    "\n",
    "model.fit(\n",
    "    train_ds,\n",
    "    validation_data=val_ds,\n",
    "    epochs=15,\n",
    "    callbacks=[WandbCallback(save_graph=False, save_model=False)]\n",
    ")\n",
    "run_id = run.id\n",
    "\n",
    "model_filename = f\"saved_cnn_models/full_model_general_big_V1.0_{run_id}.keras\"\n",
    "\n",
    "model.save(model_filename)\n",
    "\n",
    "artifact = wandb.Artifact(name=\"cnn-model\", type=\"model\")\n",
    "artifact.add_file(model_filename)\n",
    "run.log_artifact(artifact)\n"
   ]
  },
  {
   "cell_type": "code",
   "execution_count": null,
   "id": "ed5f8a32-3b48-497e-9ce0-00afee61f762",
   "metadata": {},
   "outputs": [],
   "source": [
    "evaluate_loss(model, test_ds)"
   ]
  },
  {
   "cell_type": "code",
   "execution_count": null,
   "id": "afb8bc86-cf50-4287-8731-9f338f599959",
   "metadata": {},
   "outputs": [],
   "source": [
    "def draw_nms_boxes(image, label_grid, pred_boxes):\n",
    "    img = (image * 255).astype(np.uint8).copy()\n",
    "    h, w, _ = img.shape\n",
    "    cell_h, cell_w = h // GRID_SIZE, w // GRID_SIZE\n",
    "\n",
    "    for gy in range(GRID_SIZE):\n",
    "        for gx in range(GRID_SIZE):\n",
    "            for b in range(NUM_BOXES):\n",
    "                if label_grid[gy, gx, b, 4] > 0.5:\n",
    "                    x, y, bw, bh = label_grid[gy, gx, b, :4]\n",
    "                    cx = int((gx + x) * cell_w)\n",
    "                    cy = int((gy + y) * cell_h)\n",
    "                    bw = int(bw * w)\n",
    "                    bh = int(bh * h)\n",
    "                    cv2.rectangle(img, (cx - bw // 2, cy - bh // 2), (cx + bw // 2, cy + bh // 2), (0, 255, 0), 2)\n",
    "\n",
    "    for box in pred_boxes:\n",
    "        ymin, xmin, ymax, xmax = box\n",
    "        x1 = int(xmin * w)\n",
    "        y1 = int(ymin * h)\n",
    "        x2 = int(xmax * w)\n",
    "        y2 = int(ymax * h)\n",
    "        cv2.rectangle(img, (x1, y1), (x2, y2), (255, 0, 0), 2)\n",
    "\n",
    "    return img\n",
    "\n"
   ]
  },
  {
   "cell_type": "code",
   "execution_count": null,
   "id": "3f2532b7-5f00-4b6e-a9e9-e32b16be0e9c",
   "metadata": {},
   "outputs": [],
   "source": [
    "for i, (image_tensor, label_tensor) in enumerate(test_ds.take(10)):\n",
    "    image_batch = image_tensor.numpy()\n",
    "    label_batch = label_tensor.numpy()  \n",
    "\n",
    "    for b in range(image_batch.shape[0]):\n",
    "        img_np = image_batch[b]\n",
    "        label_np = label_batch[b]\n",
    "        \n",
    "        pred = model.predict(img_np[np.newaxis])[0] \n",
    "\n",
    "        nms_boxes, scores = apply_nms(pred, conf_thresh=0.3, iou_thresh=0.4)\n",
    "\n",
    "        vis_img = draw_nms_boxes(img_np, label_np, nms_boxes)  # custom function below\n",
    "\n",
    "        plt.imshow(vis_img)\n",
    "        plt.axis('off')\n",
    "        plt.title(f\"Green = GT, Red = Pred (sample {i}-{b})\")\n",
    "        plt.show()\n"
   ]
  },
  {
   "cell_type": "code",
   "execution_count": null,
   "id": "dcef1682-8383-458a-acab-9863cfbdfcd4",
   "metadata": {
    "editable": true,
    "slideshow": {
     "slide_type": ""
    },
    "tags": []
   },
   "outputs": [],
   "source": [
    "run.finish()"
   ]
  },
  {
   "cell_type": "code",
   "execution_count": null,
   "id": "e25f5557-ec12-48b9-998f-93ad329e7589",
   "metadata": {},
   "outputs": [],
   "source": []
  }
 ],
 "metadata": {
  "kernelspec": {
   "display_name": "Python 3 (ipykernel)",
   "language": "python",
   "name": "python3"
  },
  "language_info": {
   "codemirror_mode": {
    "name": "ipython",
    "version": 3
   },
   "file_extension": ".py",
   "mimetype": "text/x-python",
   "name": "python",
   "nbconvert_exporter": "python",
   "pygments_lexer": "ipython3",
   "version": "3.12.10"
  }
 },
 "nbformat": 4,
 "nbformat_minor": 5
}
