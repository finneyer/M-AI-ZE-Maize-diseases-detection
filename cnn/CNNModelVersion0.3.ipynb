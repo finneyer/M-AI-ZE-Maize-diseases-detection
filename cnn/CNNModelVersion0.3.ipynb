{
 "cells": [
  {
   "cell_type": "code",
   "execution_count": 1,
   "id": "fd69a06e-b641-4a0e-b321-eb8d77825ee2",
   "metadata": {},
   "outputs": [
    {
     "name": "stdout",
     "output_type": "stream",
     "text": [
      "Requirement already satisfied: wandb in /opt/conda/lib/python3.12/site-packages (0.19.11)\n",
      "Requirement already satisfied: pyyaml in /opt/conda/lib/python3.12/site-packages (6.0.2)\n",
      "Requirement already satisfied: opencv-python in /opt/conda/lib/python3.12/site-packages (4.11.0.86)\n",
      "Requirement already satisfied: click!=8.0.0,>=7.1 in /opt/conda/lib/python3.12/site-packages (from wandb) (8.1.8)\n",
      "Requirement already satisfied: docker-pycreds>=0.4.0 in /opt/conda/lib/python3.12/site-packages (from wandb) (0.4.0)\n",
      "Requirement already satisfied: gitpython!=3.1.29,>=1.0.0 in /opt/conda/lib/python3.12/site-packages (from wandb) (3.1.44)\n",
      "Requirement already satisfied: platformdirs in /opt/conda/lib/python3.12/site-packages (from wandb) (4.3.7)\n",
      "Requirement already satisfied: protobuf!=4.21.0,!=5.28.0,<7,>=3.19.0 in /opt/conda/lib/python3.12/site-packages (from wandb) (4.25.6)\n",
      "Requirement already satisfied: psutil>=5.0.0 in /opt/conda/lib/python3.12/site-packages (from wandb) (7.0.0)\n",
      "Requirement already satisfied: pydantic<3 in /opt/conda/lib/python3.12/site-packages (from wandb) (2.11.3)\n",
      "Requirement already satisfied: requests<3,>=2.0.0 in /opt/conda/lib/python3.12/site-packages (from wandb) (2.32.3)\n",
      "Requirement already satisfied: sentry-sdk>=2.0.0 in /opt/conda/lib/python3.12/site-packages (from wandb) (2.29.1)\n",
      "Requirement already satisfied: setproctitle in /opt/conda/lib/python3.12/site-packages (from wandb) (1.3.6)\n",
      "Requirement already satisfied: setuptools in /opt/conda/lib/python3.12/site-packages (from wandb) (78.1.0)\n",
      "Requirement already satisfied: typing-extensions<5,>=4.4 in /opt/conda/lib/python3.12/site-packages (from wandb) (4.13.2)\n",
      "Requirement already satisfied: numpy>=1.21.2 in /opt/conda/lib/python3.12/site-packages (from opencv-python) (1.26.4)\n",
      "Requirement already satisfied: six>=1.4.0 in /opt/conda/lib/python3.12/site-packages (from docker-pycreds>=0.4.0->wandb) (1.17.0)\n",
      "Requirement already satisfied: gitdb<5,>=4.0.1 in /opt/conda/lib/python3.12/site-packages (from gitpython!=3.1.29,>=1.0.0->wandb) (4.0.12)\n",
      "Requirement already satisfied: annotated-types>=0.6.0 in /opt/conda/lib/python3.12/site-packages (from pydantic<3->wandb) (0.7.0)\n",
      "Requirement already satisfied: pydantic-core==2.33.1 in /opt/conda/lib/python3.12/site-packages (from pydantic<3->wandb) (2.33.1)\n",
      "Requirement already satisfied: typing-inspection>=0.4.0 in /opt/conda/lib/python3.12/site-packages (from pydantic<3->wandb) (0.4.0)\n",
      "Requirement already satisfied: charset_normalizer<4,>=2 in /opt/conda/lib/python3.12/site-packages (from requests<3,>=2.0.0->wandb) (3.4.1)\n",
      "Requirement already satisfied: idna<4,>=2.5 in /opt/conda/lib/python3.12/site-packages (from requests<3,>=2.0.0->wandb) (3.10)\n",
      "Requirement already satisfied: urllib3<3,>=1.21.1 in /opt/conda/lib/python3.12/site-packages (from requests<3,>=2.0.0->wandb) (2.4.0)\n",
      "Requirement already satisfied: certifi>=2017.4.17 in /opt/conda/lib/python3.12/site-packages (from requests<3,>=2.0.0->wandb) (2025.1.31)\n",
      "Requirement already satisfied: smmap<6,>=3.0.1 in /opt/conda/lib/python3.12/site-packages (from gitdb<5,>=4.0.1->gitpython!=3.1.29,>=1.0.0->wandb) (5.0.2)\n"
     ]
    }
   ],
   "source": [
    "!pip install wandb pyyaml opencv-python;"
   ]
  },
  {
   "cell_type": "code",
   "execution_count": 2,
   "id": "01c39df0-285e-4169-82d8-6e4660ea8f23",
   "metadata": {},
   "outputs": [
    {
     "name": "stderr",
     "output_type": "stream",
     "text": [
      "2025-05-22 15:23:44.227181: E external/local_xla/xla/stream_executor/cuda/cuda_fft.cc:485] Unable to register cuFFT factory: Attempting to register factory for plugin cuFFT when one has already been registered\n",
      "2025-05-22 15:23:44.244826: E external/local_xla/xla/stream_executor/cuda/cuda_dnn.cc:8454] Unable to register cuDNN factory: Attempting to register factory for plugin cuDNN when one has already been registered\n",
      "2025-05-22 15:23:44.250219: E external/local_xla/xla/stream_executor/cuda/cuda_blas.cc:1452] Unable to register cuBLAS factory: Attempting to register factory for plugin cuBLAS when one has already been registered\n",
      "2025-05-22 15:23:44.264686: I tensorflow/core/platform/cpu_feature_guard.cc:210] This TensorFlow binary is optimized to use available CPU instructions in performance-critical operations.\n",
      "To enable the following instructions: AVX2 FMA, in other operations, rebuild TensorFlow with the appropriate compiler flags.\n",
      "2025-05-22 15:23:45.036643: W tensorflow/compiler/tf2tensorrt/utils/py_utils.cc:38] TF-TRT Warning: Could not find TensorRT\n"
     ]
    }
   ],
   "source": [
    "import os\n",
    "import yaml\n",
    "import glob\n",
    "import numpy as np\n",
    "import cv2\n",
    "import tensorflow as tf\n",
    "from tensorflow.keras import layers, models\n",
    "import wandb\n",
    "from wandb.integration.keras import WandbCallback\n",
    "import matplotlib.pyplot as plt"
   ]
  },
  {
   "cell_type": "code",
   "execution_count": 3,
   "id": "ebabeb56-ce13-44e8-9f56-e888c6c6ec7b",
   "metadata": {},
   "outputs": [
    {
     "name": "stderr",
     "output_type": "stream",
     "text": [
      "\u001b[34m\u001b[1mwandb\u001b[0m: \u001b[32m\u001b[41mERROR\u001b[0m Failed to detect the name of this notebook. You can set it manually with the WANDB_NOTEBOOK_NAME environment variable to enable code saving.\n",
      "\u001b[34m\u001b[1mwandb\u001b[0m: \u001b[33mWARNING\u001b[0m If you're specifying your api key in code, ensure this code is not shared publicly.\n",
      "\u001b[34m\u001b[1mwandb\u001b[0m: \u001b[33mWARNING\u001b[0m Consider setting the WANDB_API_KEY environment variable, or running `wandb login` from the command line.\n",
      "\u001b[34m\u001b[1mwandb\u001b[0m: Appending key for api.wandb.ai to your netrc file: /home/jovyan/.netrc\n",
      "\u001b[34m\u001b[1mwandb\u001b[0m: Currently logged in as: \u001b[33msamutheman\u001b[0m (\u001b[33mrueedi-tobias-hochschule-luzern\u001b[0m) to \u001b[32mhttps://api.wandb.ai\u001b[0m. Use \u001b[1m`wandb login --relogin`\u001b[0m to force relogin\n"
     ]
    },
    {
     "data": {
      "text/plain": [
       "True"
      ]
     },
     "execution_count": 3,
     "metadata": {},
     "output_type": "execute_result"
    }
   ],
   "source": [
    "wandb.login(key=\"017feefe0af6702cda76aab121ec71cf3a362fec\")"
   ]
  },
  {
   "cell_type": "code",
   "execution_count": 4,
   "id": "10187cdf-eb6b-482a-9d70-c1ead04d93fb",
   "metadata": {},
   "outputs": [],
   "source": [
    "dataset_yaml = \"/exchange/dspro2/M-AI-ZE/data/adjusted/1.1/splits/SID01/data.yaml\"\n",
    "images_trainset = \"/exchange/dspro2/M-AI-ZE/data/adjusted/1.1/splits/SID01/images/train\"\n",
    "labels_trainset = \"/exchange/dspro2/M-AI-ZE/data/adjusted/1.1/splits/SID01/labels/train\"\n",
    "images_valset = \"/exchange/dspro2/M-AI-ZE/data/adjusted/1.1/splits/SID01/images/val\"\n",
    "labels_valset = \"/exchange/dspro2/M-AI-ZE/data/adjusted/1.1/splits/SID01/labels/val\"\n",
    "images_testset = False#\"/exchange/dspro2/M-AI-ZE/data/adjusted/1.1/splits/SID01/images/test\"\n",
    "labels_testset = False#\"/exchange/dspro2/M-AI-ZE/data/adjusted/1.1/splits/SID01/labels/test\"\n"
   ]
  },
  {
   "cell_type": "code",
   "execution_count": 5,
   "id": "31db74fa-dd22-473a-a897-99ffe8459254",
   "metadata": {},
   "outputs": [],
   "source": [
    "gpus = tf.config.experimental.list_physical_devices('GPU')\n",
    "if gpus:\n",
    "    for gpu in gpus:\n",
    "        tf.config.experimental.set_memory_growth(gpu, True)"
   ]
  },
  {
   "cell_type": "code",
   "execution_count": 6,
   "id": "24bda09a-d9aa-46f6-9e4d-53cbf927113c",
   "metadata": {},
   "outputs": [],
   "source": [
    "with open(dataset_yaml, \"r\") as f:\n",
    "    config = yaml.safe_load(f)\n"
   ]
  },
  {
   "cell_type": "code",
   "execution_count": 7,
   "id": "da473874-dc16-4558-b71a-9562264f65d2",
   "metadata": {},
   "outputs": [],
   "source": [
    "# --- Parameters (tweak these to your dataset) ---\n",
    "IMG_SIZE    = 516\n",
    "GRID_SIZE   = 16\n",
    "NUM_CLASSES = 1   #\n",
    "NUM_BOXES   = 3    # number of anchors per cell\n",
    "OUTPUT_SHAPE = (GRID_SIZE, GRID_SIZE, NUM_BOXES * (5 + NUM_CLASSES))"
   ]
  },
  {
   "cell_type": "code",
   "execution_count": 8,
   "id": "2f67b861-648a-44db-86a7-03bf6c3de3a0",
   "metadata": {},
   "outputs": [],
   "source": [
    "def build_yolo_model(input_shape=(IMG_SIZE, IMG_SIZE, 3)):\n",
    "    inputs = tf.keras.Input(shape=input_shape)\n",
    "\n",
    "    def conv_bn_leaky(x, filters):\n",
    "        x = layers.Conv2D(filters, 3, padding='same', use_bias=False)(x)\n",
    "        x = layers.BatchNormalization()(x)\n",
    "        return layers.LeakyReLU(alpha=0.1)(x)\n",
    "\n",
    "    x = conv_bn_leaky(inputs, 16)\n",
    "    x = layers.MaxPool2D(2)(x)\n",
    "\n",
    "    x = conv_bn_leaky(x, 32)\n",
    "    x = layers.MaxPool2D(2)(x)\n",
    "\n",
    "    x = conv_bn_leaky(x, 64)\n",
    "    x = layers.MaxPool2D(2)(x)\n",
    "\n",
    "    x = conv_bn_leaky(x, 128)\n",
    "    x = layers.MaxPool2D(2)(x)\n",
    "\n",
    "    x = conv_bn_leaky(x, 256)\n",
    "    x = layers.Dropout(0.3)(x)\n",
    "    x = layers.MaxPool2D(2)(x)\n",
    "\n",
    "    x = conv_bn_leaky(x, 512)\n",
    "    x = layers.Dropout(0.3)(x)\n",
    "\n",
    "    # Final prediction conv\n",
    "    x = layers.Conv2D(\n",
    "        NUM_BOXES * (5 + NUM_CLASSES),\n",
    "        kernel_size=1,\n",
    "        padding='same',\n",
    "        activation='sigmoid'  # or linear + custom loss\n",
    "    )(x)\n",
    "\n",
    "    # Check shape compatibility\n",
    "    output = layers.Reshape((GRID_SIZE, GRID_SIZE, NUM_BOXES, 5 + NUM_CLASSES))(x)\n",
    "\n",
    "    return tf.keras.Model(inputs, output)\n"
   ]
  },
  {
   "cell_type": "code",
   "execution_count": 9,
   "id": "fc64e20e-9c24-45cc-a150-266f89380947",
   "metadata": {},
   "outputs": [],
   "source": [
    "# --- YOLO loss with binary class ---\n",
    "def yolo_loss(y_true, y_pred):\n",
    "    # reshape to (..., S, S, B, 5 + C)\n",
    "    pred = tf.reshape(y_pred, (-1, GRID_SIZE, GRID_SIZE, NUM_BOXES, 5 + NUM_CLASSES))\n",
    "    true = tf.reshape(y_true, (-1, GRID_SIZE, GRID_SIZE, NUM_BOXES, 5 + NUM_CLASSES))\n",
    "    obj_mask = true[..., 4:5]\n",
    "\n",
    "    # localization losses\n",
    "    xy_loss = tf.reduce_sum(obj_mask * tf.square(true[..., 0:2] - pred[..., 0:2]))\n",
    "    wh_loss = tf.reduce_sum(obj_mask * tf.square(\n",
    "        tf.sqrt(true[..., 2:4] + 1e-6) - tf.sqrt(pred[..., 2:4] + 1e-6)\n",
    "    ))\n",
    "\n",
    "    # objectness and class losses\n",
    "    obj_loss = tf.reduce_sum(\n",
    "        tf.keras.losses.binary_crossentropy(true[..., 4:5], pred[..., 4:5])\n",
    "    )\n",
    "    class_bce = tf.keras.losses.binary_crossentropy(true[..., 5:], pred[..., 5:])\n",
    "    class_bce = tf.expand_dims(class_bce, axis=-1)\n",
    "    class_loss = tf.reduce_sum(obj_mask * class_bce)\n",
    "\n",
    "    return xy_loss + wh_loss + obj_loss + class_loss"
   ]
  },
  {
   "cell_type": "code",
   "execution_count": 10,
   "id": "50a66e33-7acf-4cca-8366-13a3df956af1",
   "metadata": {},
   "outputs": [],
   "source": [
    "def area_difference_loss(y_true, y_pred):\n",
    "    # Reshape to (..., S, S, B, 5 + C)\n",
    "    pred = tf.reshape(y_pred, (-1, GRID_SIZE, GRID_SIZE, NUM_BOXES, 5 + NUM_CLASSES))\n",
    "    true = tf.reshape(y_true, (-1, GRID_SIZE, GRID_SIZE, NUM_BOXES, 5 + NUM_CLASSES))\n",
    "\n",
    "    # Calculate area = w * h * objectness\n",
    "    pred_area = pred[..., 2] * pred[..., 3] * pred[..., 4]\n",
    "    true_area = true[..., 2] * true[..., 3] * true[..., 4]\n",
    "\n",
    "    # Sum all areas in the batch\n",
    "    total_pred_area = tf.reduce_sum(pred_area)\n",
    "    total_true_area = tf.reduce_sum(true_area)\n",
    "\n",
    "    # Loss is the absolute difference in total area\n",
    "    return tf.abs(total_pred_area - total_true_area)"
   ]
  },
  {
   "cell_type": "code",
   "execution_count": 27,
   "id": "42835436-940b-4673-97ca-c91784a3b7e1",
   "metadata": {},
   "outputs": [],
   "source": [
    "def learned_weight_loss(y_true, y_pred, model):\n",
    "    yolo = yolo_loss(y_true, y_pred)\n",
    "    area = area_difference_loss(y_true, y_pred)\n",
    "\n",
    "    yolo = yolo / (tf.reduce_mean(yolo) + 1e-6)\n",
    "    area = area / (tf.reduce_mean(area) + 1e-6)\n",
    "\n",
    "    ls_yolo = model.log_sigma_yolo\n",
    "    ls_area = model.log_sigma_area\n",
    "\n",
    "    total = (\n",
    "        tf.exp(-2.0 * ls_yolo) * yolo +\n",
    "        tf.exp(-2.0 * ls_area) * area +\n",
    "        ls_yolo + ls_area\n",
    "    )\n",
    "    tf.summary.scalar(\"loss/yolo_raw\", tf.reduce_mean(yolo))\n",
    "    tf.summary.scalar(\"loss/area_raw\", tf.reduce_mean(area))\n",
    "    tf.summary.scalar(\"loss/yolo_weighted\", tf.reduce_mean(tf.exp(-2.0 * ls_yolo) * yolo))\n",
    "    tf.summary.scalar(\"loss/area_weighted\", tf.reduce_mean(tf.exp(-2.0 * ls_area) * area))\n",
    "    tf.summary.scalar(\"loss/total\", tf.reduce_mean(total))\n",
    "\n",
    "    return tf.reduce_mean(total)"
   ]
  },
  {
   "cell_type": "code",
   "execution_count": 12,
   "id": "39932b63-8b3d-427d-a8a3-3d179f7514a6",
   "metadata": {},
   "outputs": [],
   "source": [
    "def build_yolo_model_with_uncertainty():\n",
    "    # your existing YOLO backbone\n",
    "    model = build_yolo_model()\n",
    "\n",
    "    # add two trainable log-variance weights to the model so the optimiser sees them\n",
    "    model.log_sigma_yolo = model.add_weight(\n",
    "        name=\"log_sigma_yolo\", shape=(), initializer=\"zeros\", trainable=True\n",
    "    )\n",
    "    model.log_sigma_area = model.add_weight(\n",
    "        name=\"log_sigma_area\", shape=(), initializer=\"zeros\", trainable=True\n",
    "    )\n",
    "    return model\n"
   ]
  },
  {
   "cell_type": "code",
   "execution_count": 15,
   "id": "18906784-8fa0-43ab-bd9f-2d166018214d",
   "metadata": {},
   "outputs": [],
   "source": [
    "class SigmaLogger(tf.keras.callbacks.Callback):\n",
    "    def on_epoch_end(self, epoch, logs=None):\n",
    "        wandb.log({\n",
    "            \"log_sigma_yolo\": self.model.log_sigma_yolo.numpy(),\n",
    "            \"log_sigma_area\": self.model.log_sigma_area.numpy(),\n",
    "        })\n"
   ]
  },
  {
   "cell_type": "code",
   "execution_count": 16,
   "id": "90cd2f0a-44cb-48c4-9cdf-025e7e8662a0",
   "metadata": {},
   "outputs": [],
   "source": [
    "def combined_yolo_area_loss(y_true, y_pred, area_weight=0.1):\n",
    "    # Standard YOLO loss\n",
    "    yolo = yolo_loss(y_true, y_pred)\n",
    "    # Area difference loss\n",
    "    area = area_difference_loss(y_true, y_pred)\n",
    "    # Combine with weighting\n",
    "    return yolo + area_weight * area"
   ]
  },
  {
   "cell_type": "code",
   "execution_count": 17,
   "id": "17e046d5-c9d8-40b1-a640-f05379555505",
   "metadata": {},
   "outputs": [],
   "source": [
    "def apply_nms(pred_grid, conf_thresh=0.3, iou_thresh=0.4):\n",
    "    boxes = []\n",
    "    scores = []\n",
    "\n",
    "    for gy in range(GRID_SIZE):\n",
    "        for gx in range(GRID_SIZE):\n",
    "            for b in range(NUM_BOXES):\n",
    "                pred = pred_grid[gy, gx, b]\n",
    "                conf = pred[4]\n",
    "                if conf < conf_thresh:\n",
    "                    continue\n",
    "\n",
    "                x, y, w, h = pred[:4]\n",
    "                cx = (gx + x) / GRID_SIZE\n",
    "                cy = (gy + y) / GRID_SIZE\n",
    "                xmin = cx - w / 2\n",
    "                ymin = cy - h / 2\n",
    "                xmax = cx + w / 2\n",
    "                ymax = cy + h / 2\n",
    "\n",
    "                boxes.append([ymin, xmin, ymax, xmax])\n",
    "                scores.append(conf)\n",
    "\n",
    "    if not boxes:\n",
    "        return [], []\n",
    "\n",
    "    boxes = tf.constant(boxes, dtype=tf.float32)\n",
    "    scores = tf.constant(scores, dtype=tf.float32)\n",
    "\n",
    "    selected_indices = tf.image.non_max_suppression(\n",
    "        boxes,\n",
    "        scores,\n",
    "        max_output_size=10,\n",
    "        iou_threshold=iou_thresh,\n",
    "        score_threshold=conf_thresh\n",
    "    )\n",
    "\n",
    "    selected_boxes = tf.gather(boxes, selected_indices).numpy()\n",
    "    selected_scores = tf.gather(scores, selected_indices).numpy()\n",
    "\n",
    "    return selected_boxes, selected_scores\n",
    "\n"
   ]
  },
  {
   "cell_type": "code",
   "execution_count": 18,
   "id": "4721c82c-e1b2-4cb1-8bec-fb63975702e6",
   "metadata": {},
   "outputs": [],
   "source": [
    "def build_yolo_label_grid(label_path, grid_size, num_boxes, num_classes):\n",
    "    label_grid = np.zeros((grid_size, grid_size, num_boxes, 5 + num_classes), dtype=np.float32)\n",
    "\n",
    "    if not os.path.exists(label_path):\n",
    "        return label_grid\n",
    "\n",
    "    with open(label_path, \"r\") as f:\n",
    "        for line in f:\n",
    "            class_id, x, y, w, h = map(float, line.strip().split())\n",
    "            gx = min(int(x * grid_size), grid_size - 1)\n",
    "            gy = min(int(y * grid_size), grid_size - 1)\n",
    "            cell_x = x * grid_size - gx\n",
    "            cell_y = y * grid_size - gy\n",
    "\n",
    "            anchor_idx = 0\n",
    "\n",
    "            label_grid[gy, gx, anchor_idx, 0:5] = [cell_x, cell_y, w, h, 1.0]\n",
    "            label_grid[gy, gx, anchor_idx, 5 + int(class_id)] = 1.0\n",
    "\n",
    "    return label_grid\n",
    "\n",
    "def prepare_image_label_paths(image_dir, label_dir, grid_size, num_boxes, num_classes):\n",
    "    image_paths = sorted(glob.glob(os.path.join(image_dir, \"*.jpg\")))\n",
    "    label_grids = []\n",
    "\n",
    "    for img_path in image_paths:\n",
    "        filename = os.path.splitext(os.path.basename(img_path))[0]\n",
    "        label_path = os.path.join(label_dir, f\"{filename}.txt\")\n",
    "        label_grid = build_yolo_label_grid(label_path, grid_size, num_boxes, num_classes)\n",
    "        label_grids.append(label_grid)\n",
    "\n",
    "    return image_paths, np.array(label_grids, dtype=np.float32)\n"
   ]
  },
  {
   "cell_type": "code",
   "execution_count": 19,
   "id": "aa77de21-1d0e-4d26-aa24-fe1e046abf64",
   "metadata": {},
   "outputs": [],
   "source": [
    "def parse_image_and_label(image_path, label_tensor, img_size):\n",
    "    img = tf.io.read_file(image_path)\n",
    "    img = tf.image.decode_jpeg(img, channels=3)\n",
    "    img = tf.image.resize(img, [img_size, img_size])\n",
    "    img = img / 255.0\n",
    "\n",
    "    # Explicit shape setting is critical here\n",
    "    img.set_shape([img_size, img_size, 3])\n",
    "    label_tensor.set_shape([GRID_SIZE, GRID_SIZE, NUM_BOXES, 5 + NUM_CLASSES])\n",
    "\n",
    "    return img, label_tensor\n",
    "\n",
    "\n",
    "def make_yolo_dataset(image_paths, label_tensors, img_size, batch_size=4, shuffle=True):\n",
    "    ds = tf.data.Dataset.from_tensor_slices((image_paths, label_tensors))\n",
    "    \n",
    "    if shuffle:\n",
    "        ds = ds.shuffle(buffer_size=len(image_paths))\n",
    "    \n",
    "    def process(path, label):\n",
    "        img = tf.io.read_file(path)\n",
    "        img = tf.image.decode_jpeg(img, channels=3)\n",
    "        img = tf.image.resize(img, [img_size, img_size])\n",
    "        img = img / 255.0\n",
    "\n",
    "        img.set_shape([img_size, img_size, 3])\n",
    "        label.set_shape([GRID_SIZE, GRID_SIZE, NUM_BOXES, 5 + NUM_CLASSES])\n",
    "\n",
    "        return img, label\n",
    "\n",
    "    ds = ds.map(process, num_parallel_calls=tf.data.AUTOTUNE)\n",
    "    ds = ds.batch(batch_size).prefetch(tf.data.AUTOTUNE)\n",
    "    return ds\n"
   ]
  },
  {
   "cell_type": "code",
   "execution_count": 20,
   "id": "560ad81f-f717-4a32-b575-94b40189ab14",
   "metadata": {},
   "outputs": [],
   "source": [
    "train_image_paths, train_labels = prepare_image_label_paths(\n",
    "    images_trainset, labels_trainset, GRID_SIZE, NUM_BOXES, NUM_CLASSES\n",
    ")\n",
    "\n",
    "val_image_paths, val_labels = prepare_image_label_paths(\n",
    "    images_valset, labels_valset, GRID_SIZE, NUM_BOXES, NUM_CLASSES\n",
    ")\n"
   ]
  },
  {
   "cell_type": "code",
   "execution_count": 21,
   "id": "635c22ed-bfc2-4df0-8a4e-8fbec831c50b",
   "metadata": {},
   "outputs": [],
   "source": [
    "sweep_config = {\n",
    "    \"method\": \"random\",\n",
    "    \"metric\": {\"name\": \"val_loss\", \"goal\": \"minimize\"},\n",
    "    \"parameters\": {\n",
    "        \"learning_rate\": {\"values\": [1e-4, 5e-4, 1e-3]},\n",
    "        \"batch_size\":    {\"values\": [4, 8]}\n",
    "    }\n",
    "}\n"
   ]
  },
  {
   "cell_type": "code",
   "execution_count": 22,
   "id": "b7361bd1-efe3-4454-88ec-76e70e29ac74",
   "metadata": {},
   "outputs": [],
   "source": [
    "def sweep_train():\n",
    "    wandb.init(project=\"Own CNN\", name=None, config=config)\n",
    "    cfg = wandb.config\n",
    "\n",
    "    run_count = getattr(wandb.run, \"sweep_iteration\", None)\n",
    "    wandb.run.name = f\"CNNModelUnc_{run_count if run_count is not None else wandb.run.id}\"\n",
    "\n",
    "    # Build model with the extra trainable weights\n",
    "    model = build_yolo_model_with_uncertainty()\n",
    "\n",
    "    # Wrap the loss so it can “see” the model’s log-sigma variables\n",
    "    def loss_fn(y_true, y_pred):\n",
    "        return learned_weight_loss(y_true, y_pred, model)\n",
    "\n",
    "    model.compile(\n",
    "        optimizer=tf.keras.optimizers.Adam(learning_rate=cfg.learning_rate),\n",
    "        loss=loss_fn\n",
    "    )\n",
    "\n",
    "    train_ds = make_yolo_dataset(train_image_paths, train_labels,\n",
    "                                 IMG_SIZE, batch_size=cfg.batch_size)\n",
    "    val_ds   = make_yolo_dataset(val_image_paths,   val_labels,\n",
    "                                 IMG_SIZE, batch_size=cfg.batch_size, shuffle=False)\n",
    "\n",
    "    model.fit(\n",
    "        train_ds,\n",
    "        validation_data=val_ds,\n",
    "        epochs=10,\n",
    "        callbacks=[WandbCallback(save_graph=False, save_model=False),  SigmaLogger()]\n",
    "    )\n"
   ]
  },
  {
   "cell_type": "code",
   "execution_count": 28,
   "id": "b914db5a-06dd-497d-bb81-e8eaad8d7fa7",
   "metadata": {},
   "outputs": [
    {
     "name": "stdout",
     "output_type": "stream",
     "text": [
      "Create sweep with ID: hiijpgq0\n",
      "Sweep URL: https://wandb.ai/rueedi-tobias-hochschule-luzern/Own%20CNN/sweeps/hiijpgq0\n"
     ]
    },
    {
     "name": "stderr",
     "output_type": "stream",
     "text": [
      "\u001b[34m\u001b[1mwandb\u001b[0m: Agent Starting Run: n627s0ns with config:\n",
      "\u001b[34m\u001b[1mwandb\u001b[0m: \tbatch_size: 4\n",
      "\u001b[34m\u001b[1mwandb\u001b[0m: \tlearning_rate: 0.0001\n",
      "\u001b[34m\u001b[1mwandb\u001b[0m: \u001b[32m\u001b[41mERROR\u001b[0m Failed to detect the name of this notebook. You can set it manually with the WANDB_NOTEBOOK_NAME environment variable to enable code saving.\n"
     ]
    },
    {
     "name": "stdout",
     "output_type": "stream",
     "text": [
      "\u001b[1;34mwandb\u001b[0m: \n",
      "\u001b[1;34mwandb\u001b[0m: 🚀 View run \u001b[33mpretty-sweep-1\u001b[0m at: \u001b[34mhttps://wandb.ai/rueedi-tobias-hochschule-luzern/Own%20CNN/runs/4ojs1ziq\u001b[0m\n",
      "\u001b[1;34mwandb\u001b[0m: Find logs at: \u001b[1;35mwandb/run-20250522_152708-4ojs1ziq/logs\u001b[0m\n"
     ]
    },
    {
     "data": {
      "text/html": [
       "Ignoring project 'Own CNN' when running a sweep."
      ],
      "text/plain": [
       "<IPython.core.display.HTML object>"
      ]
     },
     "metadata": {},
     "output_type": "display_data"
    },
    {
     "data": {
      "text/html": [
       "Tracking run with wandb version 0.19.11"
      ],
      "text/plain": [
       "<IPython.core.display.HTML object>"
      ]
     },
     "metadata": {},
     "output_type": "display_data"
    },
    {
     "data": {
      "text/html": [
       "Run data is saved locally in <code>/home/jovyan/DSPRO2/M-AI-ZE-Maize-diseases-detection/cnn/wandb/run-20250522_154122-n627s0ns</code>"
      ],
      "text/plain": [
       "<IPython.core.display.HTML object>"
      ]
     },
     "metadata": {},
     "output_type": "display_data"
    },
    {
     "data": {
      "text/html": [
       "Syncing run <strong><a href='https://wandb.ai/rueedi-tobias-hochschule-luzern/Own%20CNN/runs/n627s0ns' target=\"_blank\">expert-sweep-1</a></strong> to <a href='https://wandb.ai/rueedi-tobias-hochschule-luzern/Own%20CNN' target=\"_blank\">Weights & Biases</a> (<a href='https://wandb.me/developer-guide' target=\"_blank\">docs</a>)<br>Sweep page: <a href='https://wandb.ai/rueedi-tobias-hochschule-luzern/Own%20CNN/sweeps/hiijpgq0' target=\"_blank\">https://wandb.ai/rueedi-tobias-hochschule-luzern/Own%20CNN/sweeps/hiijpgq0</a>"
      ],
      "text/plain": [
       "<IPython.core.display.HTML object>"
      ]
     },
     "metadata": {},
     "output_type": "display_data"
    },
    {
     "data": {
      "text/html": [
       " View project at <a href='https://wandb.ai/rueedi-tobias-hochschule-luzern/Own%20CNN' target=\"_blank\">https://wandb.ai/rueedi-tobias-hochschule-luzern/Own%20CNN</a>"
      ],
      "text/plain": [
       "<IPython.core.display.HTML object>"
      ]
     },
     "metadata": {},
     "output_type": "display_data"
    },
    {
     "data": {
      "text/html": [
       " View sweep at <a href='https://wandb.ai/rueedi-tobias-hochschule-luzern/Own%20CNN/sweeps/hiijpgq0' target=\"_blank\">https://wandb.ai/rueedi-tobias-hochschule-luzern/Own%20CNN/sweeps/hiijpgq0</a>"
      ],
      "text/plain": [
       "<IPython.core.display.HTML object>"
      ]
     },
     "metadata": {},
     "output_type": "display_data"
    },
    {
     "data": {
      "text/html": [
       " View run at <a href='https://wandb.ai/rueedi-tobias-hochschule-luzern/Own%20CNN/runs/n627s0ns' target=\"_blank\">https://wandb.ai/rueedi-tobias-hochschule-luzern/Own%20CNN/runs/n627s0ns</a>"
      ],
      "text/plain": [
       "<IPython.core.display.HTML object>"
      ]
     },
     "metadata": {},
     "output_type": "display_data"
    },
    {
     "name": "stderr",
     "output_type": "stream",
     "text": [
      "/opt/conda/lib/python3.12/site-packages/keras/src/layers/activations/leaky_relu.py:41: UserWarning: Argument `alpha` is deprecated. Use `negative_slope` instead.\n",
      "  warnings.warn(\n"
     ]
    },
    {
     "name": "stdout",
     "output_type": "stream",
     "text": [
      "Epoch 1/10\n",
      "\u001b[1m2715/2715\u001b[0m \u001b[32m━━━━━━━━━━━━━━━━━━━━\u001b[0m\u001b[37m\u001b[0m \u001b[1m124s\u001b[0m 40ms/step - loss: 1.9009 - val_loss: 1.7308\n",
      "Epoch 2/10\n",
      "\u001b[1m2715/2715\u001b[0m \u001b[32m━━━━━━━━━━━━━━━━━━━━\u001b[0m\u001b[37m\u001b[0m \u001b[1m98s\u001b[0m 36ms/step - loss: 1.7143 - val_loss: 1.6937\n",
      "Epoch 3/10\n",
      "\u001b[1m2715/2715\u001b[0m \u001b[32m━━━━━━━━━━━━━━━━━━━━\u001b[0m\u001b[37m\u001b[0m \u001b[1m99s\u001b[0m 36ms/step - loss: 1.6933 - val_loss: 1.6931\n",
      "Epoch 4/10\n",
      "\u001b[1m2715/2715\u001b[0m \u001b[32m━━━━━━━━━━━━━━━━━━━━\u001b[0m\u001b[37m\u001b[0m \u001b[1m99s\u001b[0m 36ms/step - loss: 1.6931 - val_loss: 1.6931\n",
      "Epoch 5/10\n",
      "\u001b[1m2715/2715\u001b[0m \u001b[32m━━━━━━━━━━━━━━━━━━━━\u001b[0m\u001b[37m\u001b[0m \u001b[1m99s\u001b[0m 36ms/step - loss: 1.6931 - val_loss: 1.6931\n",
      "Epoch 6/10\n",
      "\u001b[1m2715/2715\u001b[0m \u001b[32m━━━━━━━━━━━━━━━━━━━━\u001b[0m\u001b[37m\u001b[0m \u001b[1m99s\u001b[0m 36ms/step - loss: 1.6931 - val_loss: 1.6931\n",
      "Epoch 7/10\n",
      "\u001b[1m2715/2715\u001b[0m \u001b[32m━━━━━━━━━━━━━━━━━━━━\u001b[0m\u001b[37m\u001b[0m \u001b[1m99s\u001b[0m 36ms/step - loss: 1.6931 - val_loss: 1.6931\n",
      "Epoch 8/10\n",
      "\u001b[1m2715/2715\u001b[0m \u001b[32m━━━━━━━━━━━━━━━━━━━━\u001b[0m\u001b[37m\u001b[0m \u001b[1m99s\u001b[0m 36ms/step - loss: 1.6931 - val_loss: 1.6931\n",
      "Epoch 9/10\n",
      "\u001b[1m2715/2715\u001b[0m \u001b[32m━━━━━━━━━━━━━━━━━━━━\u001b[0m\u001b[37m\u001b[0m \u001b[1m99s\u001b[0m 36ms/step - loss: 1.6931 - val_loss: 1.6931\n",
      "Epoch 10/10\n",
      "\u001b[1m2715/2715\u001b[0m \u001b[32m━━━━━━━━━━━━━━━━━━━━\u001b[0m\u001b[37m\u001b[0m \u001b[1m108s\u001b[0m 40ms/step - loss: 1.6931 - val_loss: 1.6931\n"
     ]
    },
    {
     "data": {
      "text/html": [],
      "text/plain": [
       "<IPython.core.display.HTML object>"
      ]
     },
     "metadata": {},
     "output_type": "display_data"
    },
    {
     "data": {
      "text/html": [
       "<br>    <style><br>        .wandb-row {<br>            display: flex;<br>            flex-direction: row;<br>            flex-wrap: wrap;<br>            justify-content: flex-start;<br>            width: 100%;<br>        }<br>        .wandb-col {<br>            display: flex;<br>            flex-direction: column;<br>            flex-basis: 100%;<br>            flex: 1;<br>            padding: 10px;<br>        }<br>    </style><br><div class=\"wandb-row\"><div class=\"wandb-col\"><h3>Run history:</h3><br/><table class=\"wandb\"><tr><td>epoch</td><td>▁▂▃▃▄▅▆▆▇█</td></tr><tr><td>log_sigma_area</td><td>▁▇████████</td></tr><tr><td>log_sigma_yolo</td><td>▁▇████████</td></tr><tr><td>loss</td><td>█▂▁▁▁▁▁▁▁▁</td></tr><tr><td>val_loss</td><td>█▁▁▁▁▁▁▁▁▁</td></tr></table><br/></div><div class=\"wandb-col\"><h3>Run summary:</h3><br/><table class=\"wandb\"><tr><td>best_epoch</td><td>2</td></tr><tr><td>best_val_loss</td><td>1.69315</td></tr><tr><td>epoch</td><td>9</td></tr><tr><td>log_sigma_area</td><td>0.34657</td></tr><tr><td>log_sigma_yolo</td><td>0.34657</td></tr><tr><td>loss</td><td>1.69315</td></tr><tr><td>val_loss</td><td>1.69315</td></tr></table><br/></div></div>"
      ],
      "text/plain": [
       "<IPython.core.display.HTML object>"
      ]
     },
     "metadata": {},
     "output_type": "display_data"
    },
    {
     "data": {
      "text/html": [
       " View run <strong style=\"color:#cdcd00\">CNNModelUnc_n627s0ns</strong> at: <a href='https://wandb.ai/rueedi-tobias-hochschule-luzern/Own%20CNN/runs/n627s0ns' target=\"_blank\">https://wandb.ai/rueedi-tobias-hochschule-luzern/Own%20CNN/runs/n627s0ns</a><br> View project at: <a href='https://wandb.ai/rueedi-tobias-hochschule-luzern/Own%20CNN' target=\"_blank\">https://wandb.ai/rueedi-tobias-hochschule-luzern/Own%20CNN</a><br>Synced 5 W&B file(s), 0 media file(s), 0 artifact file(s) and 0 other file(s)"
      ],
      "text/plain": [
       "<IPython.core.display.HTML object>"
      ]
     },
     "metadata": {},
     "output_type": "display_data"
    },
    {
     "data": {
      "text/html": [
       "Find logs at: <code>./wandb/run-20250522_154122-n627s0ns/logs</code>"
      ],
      "text/plain": [
       "<IPython.core.display.HTML object>"
      ]
     },
     "metadata": {},
     "output_type": "display_data"
    },
    {
     "name": "stderr",
     "output_type": "stream",
     "text": [
      "\u001b[34m\u001b[1mwandb\u001b[0m: Agent Starting Run: lev3papr with config:\n",
      "\u001b[34m\u001b[1mwandb\u001b[0m: \tbatch_size: 4\n",
      "\u001b[34m\u001b[1mwandb\u001b[0m: \tlearning_rate: 0.0001\n",
      "\u001b[34m\u001b[1mwandb\u001b[0m: \u001b[32m\u001b[41mERROR\u001b[0m Failed to detect the name of this notebook. You can set it manually with the WANDB_NOTEBOOK_NAME environment variable to enable code saving.\n"
     ]
    },
    {
     "data": {
      "text/html": [
       "Ignoring project 'Own CNN' when running a sweep."
      ],
      "text/plain": [
       "<IPython.core.display.HTML object>"
      ]
     },
     "metadata": {},
     "output_type": "display_data"
    },
    {
     "data": {
      "text/html": [
       "Tracking run with wandb version 0.19.11"
      ],
      "text/plain": [
       "<IPython.core.display.HTML object>"
      ]
     },
     "metadata": {},
     "output_type": "display_data"
    },
    {
     "data": {
      "text/html": [
       "Run data is saved locally in <code>/home/jovyan/DSPRO2/M-AI-ZE-Maize-diseases-detection/cnn/wandb/run-20250522_155832-lev3papr</code>"
      ],
      "text/plain": [
       "<IPython.core.display.HTML object>"
      ]
     },
     "metadata": {},
     "output_type": "display_data"
    },
    {
     "data": {
      "text/html": [
       "Syncing run <strong><a href='https://wandb.ai/rueedi-tobias-hochschule-luzern/Own%20CNN/runs/lev3papr' target=\"_blank\">noble-sweep-2</a></strong> to <a href='https://wandb.ai/rueedi-tobias-hochschule-luzern/Own%20CNN' target=\"_blank\">Weights & Biases</a> (<a href='https://wandb.me/developer-guide' target=\"_blank\">docs</a>)<br>Sweep page: <a href='https://wandb.ai/rueedi-tobias-hochschule-luzern/Own%20CNN/sweeps/hiijpgq0' target=\"_blank\">https://wandb.ai/rueedi-tobias-hochschule-luzern/Own%20CNN/sweeps/hiijpgq0</a>"
      ],
      "text/plain": [
       "<IPython.core.display.HTML object>"
      ]
     },
     "metadata": {},
     "output_type": "display_data"
    },
    {
     "data": {
      "text/html": [
       " View project at <a href='https://wandb.ai/rueedi-tobias-hochschule-luzern/Own%20CNN' target=\"_blank\">https://wandb.ai/rueedi-tobias-hochschule-luzern/Own%20CNN</a>"
      ],
      "text/plain": [
       "<IPython.core.display.HTML object>"
      ]
     },
     "metadata": {},
     "output_type": "display_data"
    },
    {
     "data": {
      "text/html": [
       " View sweep at <a href='https://wandb.ai/rueedi-tobias-hochschule-luzern/Own%20CNN/sweeps/hiijpgq0' target=\"_blank\">https://wandb.ai/rueedi-tobias-hochschule-luzern/Own%20CNN/sweeps/hiijpgq0</a>"
      ],
      "text/plain": [
       "<IPython.core.display.HTML object>"
      ]
     },
     "metadata": {},
     "output_type": "display_data"
    },
    {
     "data": {
      "text/html": [
       " View run at <a href='https://wandb.ai/rueedi-tobias-hochschule-luzern/Own%20CNN/runs/lev3papr' target=\"_blank\">https://wandb.ai/rueedi-tobias-hochschule-luzern/Own%20CNN/runs/lev3papr</a>"
      ],
      "text/plain": [
       "<IPython.core.display.HTML object>"
      ]
     },
     "metadata": {},
     "output_type": "display_data"
    },
    {
     "name": "stderr",
     "output_type": "stream",
     "text": [
      "/opt/conda/lib/python3.12/site-packages/keras/src/layers/activations/leaky_relu.py:41: UserWarning: Argument `alpha` is deprecated. Use `negative_slope` instead.\n",
      "  warnings.warn(\n"
     ]
    },
    {
     "name": "stdout",
     "output_type": "stream",
     "text": [
      "Epoch 1/10\n",
      "\u001b[1m2715/2715\u001b[0m \u001b[32m━━━━━━━━━━━━━━━━━━━━\u001b[0m\u001b[37m\u001b[0m \u001b[1m196s\u001b[0m 70ms/step - loss: 1.9009 - val_loss: 1.7308\n",
      "Epoch 2/10\n",
      "\u001b[1m2715/2715\u001b[0m \u001b[32m━━━━━━━━━━━━━━━━━━━━\u001b[0m\u001b[37m\u001b[0m \u001b[1m188s\u001b[0m 69ms/step - loss: 1.7143 - val_loss: 1.6937\n",
      "Epoch 3/10\n",
      "\u001b[1m2715/2715\u001b[0m \u001b[32m━━━━━━━━━━━━━━━━━━━━\u001b[0m\u001b[37m\u001b[0m \u001b[1m187s\u001b[0m 69ms/step - loss: 1.6933 - val_loss: 1.6931\n",
      "Epoch 4/10\n",
      "\u001b[1m2715/2715\u001b[0m \u001b[32m━━━━━━━━━━━━━━━━━━━━\u001b[0m\u001b[37m\u001b[0m \u001b[1m188s\u001b[0m 69ms/step - loss: 1.6931 - val_loss: 1.6931\n",
      "Epoch 5/10\n",
      "\u001b[1m2715/2715\u001b[0m \u001b[32m━━━━━━━━━━━━━━━━━━━━\u001b[0m\u001b[37m\u001b[0m \u001b[1m183s\u001b[0m 67ms/step - loss: 1.6931 - val_loss: 1.6931\n",
      "Epoch 6/10\n",
      "\u001b[1m2715/2715\u001b[0m \u001b[32m━━━━━━━━━━━━━━━━━━━━\u001b[0m\u001b[37m\u001b[0m \u001b[1m184s\u001b[0m 68ms/step - loss: 1.6931 - val_loss: 1.6931\n",
      "Epoch 7/10\n",
      "\u001b[1m2715/2715\u001b[0m \u001b[32m━━━━━━━━━━━━━━━━━━━━\u001b[0m\u001b[37m\u001b[0m \u001b[1m185s\u001b[0m 68ms/step - loss: 1.6931 - val_loss: 1.6931\n",
      "Epoch 8/10\n",
      "\u001b[1m2715/2715\u001b[0m \u001b[32m━━━━━━━━━━━━━━━━━━━━\u001b[0m\u001b[37m\u001b[0m \u001b[1m187s\u001b[0m 69ms/step - loss: 1.6931 - val_loss: 1.6931\n",
      "Epoch 9/10\n",
      "\u001b[1m2715/2715\u001b[0m \u001b[32m━━━━━━━━━━━━━━━━━━━━\u001b[0m\u001b[37m\u001b[0m \u001b[1m186s\u001b[0m 69ms/step - loss: 1.6931 - val_loss: 1.6931\n",
      "Epoch 10/10\n",
      "\u001b[1m2715/2715\u001b[0m \u001b[32m━━━━━━━━━━━━━━━━━━━━\u001b[0m\u001b[37m\u001b[0m \u001b[1m185s\u001b[0m 68ms/step - loss: 1.6931 - val_loss: 1.6931\n"
     ]
    },
    {
     "data": {
      "text/html": [],
      "text/plain": [
       "<IPython.core.display.HTML object>"
      ]
     },
     "metadata": {},
     "output_type": "display_data"
    },
    {
     "data": {
      "text/html": [
       "<br>    <style><br>        .wandb-row {<br>            display: flex;<br>            flex-direction: row;<br>            flex-wrap: wrap;<br>            justify-content: flex-start;<br>            width: 100%;<br>        }<br>        .wandb-col {<br>            display: flex;<br>            flex-direction: column;<br>            flex-basis: 100%;<br>            flex: 1;<br>            padding: 10px;<br>        }<br>    </style><br><div class=\"wandb-row\"><div class=\"wandb-col\"><h3>Run history:</h3><br/><table class=\"wandb\"><tr><td>epoch</td><td>▁▂▃▃▄▅▆▆▇█</td></tr><tr><td>log_sigma_area</td><td>▁▇████████</td></tr><tr><td>log_sigma_yolo</td><td>▁▇████████</td></tr><tr><td>loss</td><td>█▂▁▁▁▁▁▁▁▁</td></tr><tr><td>val_loss</td><td>█▁▁▁▁▁▁▁▁▁</td></tr></table><br/></div><div class=\"wandb-col\"><h3>Run summary:</h3><br/><table class=\"wandb\"><tr><td>best_epoch</td><td>2</td></tr><tr><td>best_val_loss</td><td>1.69315</td></tr><tr><td>epoch</td><td>9</td></tr><tr><td>log_sigma_area</td><td>0.34657</td></tr><tr><td>log_sigma_yolo</td><td>0.34657</td></tr><tr><td>loss</td><td>1.69315</td></tr><tr><td>val_loss</td><td>1.69315</td></tr></table><br/></div></div>"
      ],
      "text/plain": [
       "<IPython.core.display.HTML object>"
      ]
     },
     "metadata": {},
     "output_type": "display_data"
    },
    {
     "data": {
      "text/html": [
       " View run <strong style=\"color:#cdcd00\">CNNModelUnc_lev3papr</strong> at: <a href='https://wandb.ai/rueedi-tobias-hochschule-luzern/Own%20CNN/runs/lev3papr' target=\"_blank\">https://wandb.ai/rueedi-tobias-hochschule-luzern/Own%20CNN/runs/lev3papr</a><br> View project at: <a href='https://wandb.ai/rueedi-tobias-hochschule-luzern/Own%20CNN' target=\"_blank\">https://wandb.ai/rueedi-tobias-hochschule-luzern/Own%20CNN</a><br>Synced 5 W&B file(s), 0 media file(s), 0 artifact file(s) and 0 other file(s)"
      ],
      "text/plain": [
       "<IPython.core.display.HTML object>"
      ]
     },
     "metadata": {},
     "output_type": "display_data"
    },
    {
     "data": {
      "text/html": [
       "Find logs at: <code>./wandb/run-20250522_155832-lev3papr/logs</code>"
      ],
      "text/plain": [
       "<IPython.core.display.HTML object>"
      ]
     },
     "metadata": {},
     "output_type": "display_data"
    },
    {
     "name": "stderr",
     "output_type": "stream",
     "text": [
      "\u001b[34m\u001b[1mwandb\u001b[0m: Agent Starting Run: m2p2m3ig with config:\n",
      "\u001b[34m\u001b[1mwandb\u001b[0m: \tbatch_size: 4\n",
      "\u001b[34m\u001b[1mwandb\u001b[0m: \tlearning_rate: 0.001\n",
      "\u001b[34m\u001b[1mwandb\u001b[0m: \u001b[32m\u001b[41mERROR\u001b[0m Failed to detect the name of this notebook. You can set it manually with the WANDB_NOTEBOOK_NAME environment variable to enable code saving.\n"
     ]
    },
    {
     "data": {
      "text/html": [
       "Ignoring project 'Own CNN' when running a sweep."
      ],
      "text/plain": [
       "<IPython.core.display.HTML object>"
      ]
     },
     "metadata": {},
     "output_type": "display_data"
    },
    {
     "data": {
      "text/html": [
       "Tracking run with wandb version 0.19.11"
      ],
      "text/plain": [
       "<IPython.core.display.HTML object>"
      ]
     },
     "metadata": {},
     "output_type": "display_data"
    },
    {
     "data": {
      "text/html": [
       "Run data is saved locally in <code>/home/jovyan/DSPRO2/M-AI-ZE-Maize-diseases-detection/cnn/wandb/run-20250522_162947-m2p2m3ig</code>"
      ],
      "text/plain": [
       "<IPython.core.display.HTML object>"
      ]
     },
     "metadata": {},
     "output_type": "display_data"
    },
    {
     "data": {
      "text/html": [
       "Syncing run <strong><a href='https://wandb.ai/rueedi-tobias-hochschule-luzern/Own%20CNN/runs/m2p2m3ig' target=\"_blank\">stellar-sweep-3</a></strong> to <a href='https://wandb.ai/rueedi-tobias-hochschule-luzern/Own%20CNN' target=\"_blank\">Weights & Biases</a> (<a href='https://wandb.me/developer-guide' target=\"_blank\">docs</a>)<br>Sweep page: <a href='https://wandb.ai/rueedi-tobias-hochschule-luzern/Own%20CNN/sweeps/hiijpgq0' target=\"_blank\">https://wandb.ai/rueedi-tobias-hochschule-luzern/Own%20CNN/sweeps/hiijpgq0</a>"
      ],
      "text/plain": [
       "<IPython.core.display.HTML object>"
      ]
     },
     "metadata": {},
     "output_type": "display_data"
    },
    {
     "data": {
      "text/html": [
       " View project at <a href='https://wandb.ai/rueedi-tobias-hochschule-luzern/Own%20CNN' target=\"_blank\">https://wandb.ai/rueedi-tobias-hochschule-luzern/Own%20CNN</a>"
      ],
      "text/plain": [
       "<IPython.core.display.HTML object>"
      ]
     },
     "metadata": {},
     "output_type": "display_data"
    },
    {
     "data": {
      "text/html": [
       " View sweep at <a href='https://wandb.ai/rueedi-tobias-hochschule-luzern/Own%20CNN/sweeps/hiijpgq0' target=\"_blank\">https://wandb.ai/rueedi-tobias-hochschule-luzern/Own%20CNN/sweeps/hiijpgq0</a>"
      ],
      "text/plain": [
       "<IPython.core.display.HTML object>"
      ]
     },
     "metadata": {},
     "output_type": "display_data"
    },
    {
     "data": {
      "text/html": [
       " View run at <a href='https://wandb.ai/rueedi-tobias-hochschule-luzern/Own%20CNN/runs/m2p2m3ig' target=\"_blank\">https://wandb.ai/rueedi-tobias-hochschule-luzern/Own%20CNN/runs/m2p2m3ig</a>"
      ],
      "text/plain": [
       "<IPython.core.display.HTML object>"
      ]
     },
     "metadata": {},
     "output_type": "display_data"
    },
    {
     "name": "stderr",
     "output_type": "stream",
     "text": [
      "/opt/conda/lib/python3.12/site-packages/keras/src/layers/activations/leaky_relu.py:41: UserWarning: Argument `alpha` is deprecated. Use `negative_slope` instead.\n",
      "  warnings.warn(\n"
     ]
    },
    {
     "name": "stdout",
     "output_type": "stream",
     "text": [
      "Epoch 1/10\n",
      "\u001b[1m2194/2715\u001b[0m \u001b[32m━━━━━━━━━━━━━━━━\u001b[0m\u001b[37m━━━━\u001b[0m \u001b[1m19s\u001b[0m 37ms/step - loss: 1.7580"
     ]
    },
    {
     "name": "stderr",
     "output_type": "stream",
     "text": [
      "\u001b[34m\u001b[1mwandb\u001b[0m: Ctrl + C detected. Stopping sweep.\n"
     ]
    },
    {
     "name": "stdout",
     "output_type": "stream",
     "text": [
      "\u001b[1m2270/2715\u001b[0m \u001b[32m━━━━━━━━━━━━━━━━\u001b[0m\u001b[37m━━━━\u001b[0m \u001b[1m16s\u001b[0m 37ms/step - loss: 1.7564"
     ]
    },
    {
     "name": "stderr",
     "output_type": "stream",
     "text": [
      "\u001b[34m\u001b[1mwandb\u001b[0m: \u001b[32m\u001b[41mERROR\u001b[0m Problem finishing run\n",
      "Exception in thread Thread-19 (_run_job):\n",
      "Traceback (most recent call last):\n",
      "  File \"/opt/conda/lib/python3.12/site-packages/wandb/agents/pyagent.py\", line 306, in _run_job\n",
      "    self._function()\n",
      "  File \"/tmp/ipykernel_68286/2595073259.py\", line 25, in sweep_train\n",
      "  File \"/opt/conda/lib/python3.12/site-packages/keras/src/utils/traceback_utils.py\", line 122, in error_handler\n",
      "    raise e.with_traceback(filtered_tb) from None\n",
      "  File \"/opt/conda/lib/python3.12/site-packages/ipykernel/iostream.py\", line 694, in write\n",
      "    self._schedule_flush()\n",
      "  File \"/opt/conda/lib/python3.12/site-packages/ipykernel/iostream.py\", line 590, in _schedule_flush\n",
      "    self.pub_thread.schedule(_schedule_in_thread)\n",
      "  File \"/opt/conda/lib/python3.12/site-packages/ipykernel/iostream.py\", line 267, in schedule\n",
      "    self._event_pipe.send(b\"\")\n",
      "  File \"/opt/conda/lib/python3.12/site-packages/zmq/sugar/socket.py\", line 698, in send\n",
      "    return super().send(data, flags=flags, copy=copy, track=track)\n",
      "           ^^^^^^^^^^^^^^^^^^^^^^^^^^^^^^^^^^^^^^^^^^^^^^^^^^^^^^^\n",
      "  File \"_zmq.py\", line 1081, in zmq.backend.cython._zmq.Socket.send\n",
      "  File \"_zmq.py\", line 1123, in zmq.backend.cython._zmq.Socket.send\n",
      "  File \"_zmq.py\", line 1268, in zmq.backend.cython._zmq._check_closed\n",
      "zmq.error.ZMQError: Socket operation on non-socket\n",
      "\n",
      "During handling of the above exception, another exception occurred:\n",
      "\n",
      "Traceback (most recent call last):\n",
      "  File \"/opt/conda/lib/python3.12/site-packages/wandb/sdk/wandb_run.py\", line 2550, in _atexit_cleanup\n",
      "    self._on_finish()\n",
      "  File \"/opt/conda/lib/python3.12/site-packages/wandb/sdk/wandb_run.py\", line 2801, in _on_finish\n",
      "    with progress.progress_printer(\n",
      "         ^^^^^^^^^^^^^^^^^^^^^^^^^^\n",
      "  File \"/opt/conda/lib/python3.12/contextlib.py\", line 137, in __enter__\n",
      "    return next(self.gen)\n",
      "           ^^^^^^^^^^^^^^\n",
      "  File \"/opt/conda/lib/python3.12/site-packages/wandb/sdk/lib/progress.py\", line 92, in progress_printer\n",
      "    with printer.dynamic_text() as text_area:\n",
      "         ^^^^^^^^^^^^^^^^^^^^^^\n",
      "  File \"/opt/conda/lib/python3.12/contextlib.py\", line 137, in __enter__\n",
      "    return next(self.gen)\n",
      "           ^^^^^^^^^^^^^^\n",
      "  File \"/opt/conda/lib/python3.12/site-packages/wandb/sdk/lib/printer.py\", line 465, in dynamic_text\n",
      "    handle = self._ipython_display.display(\n",
      "             ^^^^^^^^^^^^^^^^^^^^^^^^^^^^^^\n",
      "  File \"/opt/conda/lib/python3.12/site-packages/IPython/core/display_functions.py\", line 285, in display\n",
      "    publish_display_data(data=format_dict, metadata=md_dict, **kwargs)\n",
      "  File \"/opt/conda/lib/python3.12/site-packages/IPython/core/display_functions.py\", line 73, in publish_display_data\n",
      "    display_pub.publish(\n",
      "  File \"/opt/conda/lib/python3.12/site-packages/ipykernel/zmqshell.py\", line 103, in publish\n",
      "    self._flush_streams()\n",
      "  File \"/opt/conda/lib/python3.12/site-packages/ipykernel/zmqshell.py\", line 66, in _flush_streams\n",
      "    sys.stdout.flush()\n",
      "  File \"/opt/conda/lib/python3.12/site-packages/ipykernel/iostream.py\", line 604, in flush\n",
      "    self.pub_thread.schedule(self._flush)\n",
      "  File \"/opt/conda/lib/python3.12/site-packages/ipykernel/iostream.py\", line 267, in schedule\n",
      "    self._event_pipe.send(b\"\")\n",
      "  File \"/opt/conda/lib/python3.12/site-packages/zmq/sugar/socket.py\", line 698, in send\n",
      "    return super().send(data, flags=flags, copy=copy, track=track)\n",
      "           ^^^^^^^^^^^^^^^^^^^^^^^^^^^^^^^^^^^^^^^^^^^^^^^^^^^^^^^\n",
      "  File \"_zmq.py\", line 1081, in zmq.backend.cython._zmq.Socket.send\n",
      "  File \"_zmq.py\", line 1123, in zmq.backend.cython._zmq.Socket.send\n",
      "  File \"_zmq.py\", line 1268, in zmq.backend.cython._zmq._check_closed\n",
      "zmq.error.ZMQError: Socket operation on non-socket\n",
      "\n",
      "During handling of the above exception, another exception occurred:\n",
      "\n",
      "Traceback (most recent call last):\n",
      "  File \"/opt/conda/lib/python3.12/threading.py\", line 1075, in _bootstrap_inner\n",
      "    self.run()\n",
      "  File \"/opt/conda/lib/python3.12/site-packages/ipykernel/ipkernel.py\", line 766, in run_closure\n",
      "    _threading_Thread_run(self)\n",
      "  File \"/opt/conda/lib/python3.12/threading.py\", line 1012, in run\n",
      "    self._target(*self._args, **self._kwargs)\n",
      "  File \"/opt/conda/lib/python3.12/site-packages/wandb/agents/pyagent.py\", line 311, in _run_job\n",
      "    wandb.finish(exit_code=1)\n",
      "  File \"/opt/conda/lib/python3.12/site-packages/wandb/sdk/wandb_run.py\", line 4362, in finish\n",
      "    wandb.run.finish(exit_code=exit_code, quiet=quiet)\n",
      "  File \"/opt/conda/lib/python3.12/site-packages/wandb/sdk/wandb_run.py\", line 406, in wrapper\n",
      "    return func(self, *args, **kwargs)\n",
      "           ^^^^^^^^^^^^^^^^^^^^^^^^^^^\n",
      "  File \"/opt/conda/lib/python3.12/site-packages/wandb/sdk/wandb_run.py\", line 503, in wrapper\n",
      "    return func(self, *args, **kwargs)\n",
      "           ^^^^^^^^^^^^^^^^^^^^^^^^^^^\n",
      "  File \"/opt/conda/lib/python3.12/site-packages/wandb/sdk/wandb_run.py\", line 451, in wrapper\n",
      "    return func(self, *args, **kwargs)\n",
      "           ^^^^^^^^^^^^^^^^^^^^^^^^^^^\n",
      "  File \"/opt/conda/lib/python3.12/site-packages/wandb/sdk/wandb_run.py\", line 2309, in finish\n",
      "    return self._finish(exit_code)\n",
      "           ^^^^^^^^^^^^^^^^^^^^^^^\n",
      "  File \"/opt/conda/lib/python3.12/site-packages/wandb/sdk/wandb_run.py\", line 406, in wrapper\n",
      "    return func(self, *args, **kwargs)\n",
      "           ^^^^^^^^^^^^^^^^^^^^^^^^^^^\n",
      "  File \"/opt/conda/lib/python3.12/site-packages/wandb/sdk/wandb_run.py\", line 2337, in _finish\n",
      "    self._atexit_cleanup(exit_code=exit_code)\n",
      "  File \"/opt/conda/lib/python3.12/site-packages/wandb/sdk/wandb_run.py\", line 2560, in _atexit_cleanup\n",
      "    wandb.termerror(\"Problem finishing run\")\n",
      "  File \"/opt/conda/lib/python3.12/site-packages/wandb/errors/term.py\", line 213, in termerror\n",
      "    _log(\n",
      "  File \"/opt/conda/lib/python3.12/site-packages/wandb/errors/term.py\", line 358, in _log\n",
      "    click.echo(string, file=sys.stderr, nl=newline)\n",
      "  File \"/opt/conda/lib/python3.12/site-packages/click/utils.py\", line 318, in echo\n",
      "    file.write(out)  # type: ignore\n",
      "    ^^^^^^^^^^^^^^^\n",
      "  File \"/opt/conda/lib/python3.12/site-packages/ipykernel/iostream.py\", line 694, in write\n",
      "    self._schedule_flush()\n",
      "  File \"/opt/conda/lib/python3.12/site-packages/ipykernel/iostream.py\", line 590, in _schedule_flush\n",
      "    self.pub_thread.schedule(_schedule_in_thread)\n",
      "  File \"/opt/conda/lib/python3.12/site-packages/ipykernel/iostream.py\", line 267, in schedule\n",
      "    self._event_pipe.send(b\"\")\n",
      "  File \"/opt/conda/lib/python3.12/site-packages/zmq/sugar/socket.py\", line 698, in send\n",
      "    return super().send(data, flags=flags, copy=copy, track=track)\n",
      "           ^^^^^^^^^^^^^^^^^^^^^^^^^^^^^^^^^^^^^^^^^^^^^^^^^^^^^^^\n",
      "  File \"_zmq.py\", line 1081, in zmq.backend.cython._zmq.Socket.send\n",
      "  File \"_zmq.py\", line 1123, in zmq.backend.cython._zmq.Socket.send\n",
      "  File \"_zmq.py\", line 1268, in zmq.backend.cython._zmq._check_closed\n",
      "zmq.error.ZMQError: Socket operation on non-socket\n",
      "Exception in threading.excepthook:\n",
      "Exception ignored in thread started by: <bound method Thread._bootstrap of <Thread(Thread-19 (_run_job), stopped 140227477755584)>>\n",
      "Traceback (most recent call last):\n",
      "  File \"/opt/conda/lib/python3.12/threading.py\", line 1032, in _bootstrap\n",
      "    self._bootstrap_inner()\n",
      "  File \"/opt/conda/lib/python3.12/threading.py\", line 1077, in _bootstrap_inner\n",
      "    self._invoke_excepthook(self)\n",
      "  File \"/opt/conda/lib/python3.12/threading.py\", line 1391, in invoke_excepthook\n",
      "    local_print(\"Exception in threading.excepthook:\",\n",
      "  File \"/opt/conda/lib/python3.12/site-packages/ipykernel/iostream.py\", line 604, in flush\n",
      "    self.pub_thread.schedule(self._flush)\n",
      "  File \"/opt/conda/lib/python3.12/site-packages/ipykernel/iostream.py\", line 267, in schedule\n",
      "    self._event_pipe.send(b\"\")\n",
      "  File \"/opt/conda/lib/python3.12/site-packages/zmq/sugar/socket.py\", line 698, in send\n",
      "    return super().send(data, flags=flags, copy=copy, track=track)\n",
      "           ^^^^^^^^^^^^^^^^^^^^^^^^^^^^^^^^^^^^^^^^^^^^^^^^^^^^^^^\n",
      "  File \"_zmq.py\", line 1081, in zmq.backend.cython._zmq.Socket.send\n",
      "  File \"_zmq.py\", line 1123, in zmq.backend.cython._zmq.Socket.send\n",
      "  File \"_zmq.py\", line 1268, in zmq.backend.cython._zmq._check_closed\n",
      "zmq.error.ZMQError: Socket operation on non-socket\n",
      "Exception ignored in sys.unraisablehook: <built-in function unraisablehook>\n",
      "Traceback (most recent call last):\n",
      "  File \"/opt/conda/lib/python3.12/site-packages/ipykernel/iostream.py\", line 604, in flush\n",
      "    self.pub_thread.schedule(self._flush)\n",
      "  File \"/opt/conda/lib/python3.12/site-packages/ipykernel/iostream.py\", line 267, in schedule\n",
      "    self._event_pipe.send(b\"\")\n",
      "  File \"/opt/conda/lib/python3.12/site-packages/zmq/sugar/socket.py\", line 698, in send\n",
      "    return super().send(data, flags=flags, copy=copy, track=track)\n",
      "           ^^^^^^^^^^^^^^^^^^^^^^^^^^^^^^^^^^^^^^^^^^^^^^^^^^^^^^^\n",
      "  File \"_zmq.py\", line 1081, in zmq.backend.cython._zmq.Socket.send\n",
      "  File \"_zmq.py\", line 1123, in zmq.backend.cython._zmq.Socket.send\n",
      "  File \"_zmq.py\", line 1268, in zmq.backend.cython._zmq._check_closed\n",
      "zmq.error.ZMQError: Socket operation on non-socket\n"
     ]
    }
   ],
   "source": [
    "sweep_id = wandb.sweep(sweep_config, project=\"Own CNN\")\n",
    "wandb.agent(sweep_id, function=sweep_train, count=10)"
   ]
  },
  {
   "cell_type": "code",
   "execution_count": 24,
   "id": "afb8bc86-cf50-4287-8731-9f338f599959",
   "metadata": {},
   "outputs": [],
   "source": [
    "def draw_nms_boxes(image, label_grid, pred_boxes):\n",
    "    img = (image * 255).astype(np.uint8).copy()\n",
    "    h, w, _ = img.shape\n",
    "    cell_h, cell_w = h // GRID_SIZE, w // GRID_SIZE\n",
    "\n",
    "    # Draw ground truth boxes (green)\n",
    "    for gy in range(GRID_SIZE):\n",
    "        for gx in range(GRID_SIZE):\n",
    "            for b in range(NUM_BOXES):\n",
    "                if label_grid[gy, gx, b, 4] > 0.5:\n",
    "                    x, y, bw, bh = label_grid[gy, gx, b, :4]\n",
    "                    cx = int((gx + x) * cell_w)\n",
    "                    cy = int((gy + y) * cell_h)\n",
    "                    bw = int(bw * w)\n",
    "                    bh = int(bh * h)\n",
    "                    cv2.rectangle(img, (cx - bw // 2, cy - bh // 2), (cx + bw // 2, cy + bh // 2), (0, 255, 0), 2)\n",
    "\n",
    "    # Draw NMS-filtered prediction boxes (red)\n",
    "    for box in pred_boxes:\n",
    "        ymin, xmin, ymax, xmax = box\n",
    "        x1 = int(xmin * w)\n",
    "        y1 = int(ymin * h)\n",
    "        x2 = int(xmax * w)\n",
    "        y2 = int(ymax * h)\n",
    "        cv2.rectangle(img, (x1, y1), (x2, y2), (255, 0, 0), 2)\n",
    "\n",
    "    return img\n",
    "\n"
   ]
  },
  {
   "cell_type": "code",
   "execution_count": null,
   "id": "3f2532b7-5f00-4b6e-a9e9-e32b16be0e9c",
   "metadata": {},
   "outputs": [],
   "source": [
    "for i, (image_tensor, label_tensor) in enumerate(val_ds.take(10)):\n",
    "    image_batch = image_tensor.numpy()  # (B, H, W, 3)\n",
    "    label_batch = label_tensor.numpy()  # (B, GRID, GRID, NUM_BOXES, 5 + C)\n",
    "\n",
    "    for b in range(image_batch.shape[0]):\n",
    "        img_np = image_batch[b]\n",
    "        label_np = label_batch[b]\n",
    "        \n",
    "        # Run prediction on a single image\n",
    "        pred = model.predict(img_np[np.newaxis])[0]  # shape: (GRID, GRID, NUM_BOXES, 5 + C)\n",
    "\n",
    "        # --- Apply NMS ---\n",
    "        nms_boxes, scores = apply_nms(pred, conf_thresh=0.3, iou_thresh=0.4)\n",
    "\n",
    "        # --- Draw boxes ---\n",
    "        vis_img = draw_nms_boxes(img_np, label_np, nms_boxes)  # custom function below\n",
    "\n",
    "        plt.imshow(vis_img)\n",
    "        plt.axis('off')\n",
    "        plt.title(f\"Green = GT, Red = Pred (sample {i}-{b})\")\n",
    "        plt.show()\n"
   ]
  },
  {
   "cell_type": "code",
   "execution_count": null,
   "id": "dcef1682-8383-458a-acab-9863cfbdfcd4",
   "metadata": {},
   "outputs": [],
   "source": []
  }
 ],
 "metadata": {
  "kernelspec": {
   "display_name": "Python 3 (ipykernel)",
   "language": "python",
   "name": "python3"
  },
  "language_info": {
   "codemirror_mode": {
    "name": "ipython",
    "version": 3
   },
   "file_extension": ".py",
   "mimetype": "text/x-python",
   "name": "python",
   "nbconvert_exporter": "python",
   "pygments_lexer": "ipython3",
   "version": "3.12.10"
  }
 },
 "nbformat": 4,
 "nbformat_minor": 5
}
