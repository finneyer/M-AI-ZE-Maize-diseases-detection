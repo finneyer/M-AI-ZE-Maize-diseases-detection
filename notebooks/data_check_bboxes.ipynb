{
 "cells": [
  {
   "cell_type": "markdown",
   "id": "deb25070-afd9-4612-9bfc-3943e09a4967",
   "metadata": {},
   "source": [
    "## Notebook to Check the Normalized and YOLO Prepared Bounding Boxes Visually"
   ]
  },
  {
   "cell_type": "code",
   "execution_count": null,
   "id": "6089d2a8-a159-4aec-9090-a5c70c3e5a7d",
   "metadata": {},
   "outputs": [],
   "source": [
    "import os\n",
    "import random\n",
    "import matplotlib.pyplot as plt\n",
    "import cv2"
   ]
  },
  {
   "cell_type": "code",
   "execution_count": null,
   "id": "44f8231f-9f39-41c8-90fc-9a5f8a303378",
   "metadata": {},
   "outputs": [],
   "source": [
    "base_dir = \"/exchange/dspro2/M-AI-ZE/data/adjusted/1.1/splits/SID01\"  \n",
    "image_dirs = [os.path.join(base_dir, \"images\", subdir) for subdir in [\"train\", \"val\", \"test\"]]\n",
    "label_dirs = [os.path.join(base_dir, \"labels\", subdir) for subdir in [\"train\", \"val\", \"test\"]]\n",
    "\n",
    "image_paths = []\n",
    "for dir_path in image_dirs:\n",
    "    for fname in os.listdir(dir_path):\n",
    "        if fname.lower().endswith(('.jpg', '.jpeg', '.png')):\n",
    "            image_paths.append(os.path.join(dir_path, fname))\n",
    "\n",
    "random_images = random.sample(image_paths, 10)\n",
    "\n",
    "def draw_yolo_boxes(image_path):\n",
    "    for image_root, label_root in zip(image_dirs, label_dirs):\n",
    "        if image_path.startswith(image_root):\n",
    "            label_path = image_path.replace(image_root, label_root).rsplit('.', 1)[0] + '.txt'\n",
    "            break\n",
    "    else:\n",
    "        print(f\"No label found for {image_path}\")\n",
    "        return None\n",
    "\n",
    "    img = cv2.imread(image_path)\n",
    "    img = cv2.cvtColor(img, cv2.COLOR_BGR2RGB)\n",
    "    h, w, _ = img.shape\n",
    "\n",
    "    if os.path.exists(label_path):\n",
    "        with open(label_path, 'r') as f:\n",
    "            for line in f.readlines():\n",
    "                parts = line.strip().split()\n",
    "                if len(parts) != 5:\n",
    "                    continue\n",
    "                cls, x_center, y_center, bw, bh = map(float, parts)\n",
    "                x1 = int((x_center - bw / 2) * w)\n",
    "                y1 = int((y_center - bh / 2) * h)\n",
    "                x2 = int((x_center + bw / 2) * w)\n",
    "                y2 = int((y_center + bh / 2) * h)\n",
    "                cv2.rectangle(img, (x1, y1), (x2, y2), (255, 0, 0), 2)\n",
    "    return img\n",
    "\n",
    "plt.figure(figsize=(10, 100))\n",
    "for i, image_path in enumerate(random_images):\n",
    "    img = draw_yolo_boxes(image_path)\n",
    "    if img is not None:\n",
    "        plt.subplot(10, 1, i + 1)\n",
    "        plt.imshow(img)\n",
    "        plt.title(os.path.basename(image_path))\n",
    "        plt.axis('off')\n",
    "\n",
    "plt.tight_layout()\n",
    "plt.show()"
   ]
  },
  {
   "cell_type": "code",
   "execution_count": null,
   "id": "49333fe8-a6a6-4478-b65b-74a68ba84ef0",
   "metadata": {},
   "outputs": [],
   "source": []
  }
 ],
 "metadata": {
  "kernelspec": {
   "display_name": "Python 3 (ipykernel)",
   "language": "python",
   "name": "python3"
  },
  "language_info": {
   "codemirror_mode": {
    "name": "ipython",
    "version": 3
   },
   "file_extension": ".py",
   "mimetype": "text/x-python",
   "name": "python",
   "nbconvert_exporter": "python",
   "pygments_lexer": "ipython3",
   "version": "3.12.10"
  }
 },
 "nbformat": 4,
 "nbformat_minor": 5
}
