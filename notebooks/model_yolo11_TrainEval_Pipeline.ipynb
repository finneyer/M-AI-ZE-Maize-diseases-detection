{
 "cells": [
  {
   "cell_type": "markdown",
   "id": "7d11444d-4a37-4242-a2dd-64a83c721bf8",
   "metadata": {},
   "source": [
    "# YOLOv11 Model Training and Evaluation for Maize Disease Detection\n",
    "\n",
    "This notebook provides a complete pipeline for training and evaluating YOLOv11 object detection models on the **maize lesion dataset**, structured across multiple dataset splits: `SID01`, `SID02`, and `SID03`.\n",
    "\n",
    "Key features of this pipeline include:\n",
    "\n",
    "- **Automated training** across different YOLO variants (`n`, `m`, `l`), batch sizes, and splits.\n",
    "- Support for:\n",
    "  - `SID02` subtype-specific training (`boom`, `drone`, `handheld`)\n",
    "  - `SID03` K-Fold cross-validation.\n",
    "- **Custom evaluation using the RAAD metric** (Relative Affected Area Difference), assessing bounding box area agreement between predictions and ground truth.\n",
    "- **Integration with Weights & Biases (wandb)** for:\n",
    "  - Tracking training runs and hyperparameters.\n",
    "  - Logging test metrics and qualitative predictions.\n",
    "  - Uploading per-image evaluation tables and **collage visualizations** for best/worst cases.\n",
    "\n"
   ]
  },
  {
   "cell_type": "code",
   "execution_count": 1,
   "id": "5fd99517-1d1a-42f8-acd9-8b7f78c2cd12",
   "metadata": {},
   "outputs": [
    {
     "name": "stdout",
     "output_type": "stream",
     "text": [
      "Requirement already satisfied: ultralytics in /opt/conda/lib/python3.12/site-packages (8.3.154)\n",
      "Requirement already satisfied: wandb in /opt/conda/lib/python3.12/site-packages (0.20.1)\n",
      "Requirement already satisfied: numpy>=1.23.0 in /opt/conda/lib/python3.12/site-packages (from ultralytics) (1.26.4)\n",
      "Requirement already satisfied: matplotlib>=3.3.0 in /opt/conda/lib/python3.12/site-packages (from ultralytics) (3.10.1)\n",
      "Requirement already satisfied: opencv-python>=4.6.0 in /opt/conda/lib/python3.12/site-packages (from ultralytics) (4.11.0.86)\n",
      "Requirement already satisfied: pillow>=7.1.2 in /opt/conda/lib/python3.12/site-packages (from ultralytics) (11.1.0)\n",
      "Requirement already satisfied: pyyaml>=5.3.1 in /opt/conda/lib/python3.12/site-packages (from ultralytics) (6.0.2)\n",
      "Requirement already satisfied: requests>=2.23.0 in /opt/conda/lib/python3.12/site-packages (from ultralytics) (2.32.3)\n",
      "Requirement already satisfied: scipy>=1.4.1 in /opt/conda/lib/python3.12/site-packages (from ultralytics) (1.15.2)\n",
      "Requirement already satisfied: torch>=1.8.0 in /opt/conda/lib/python3.12/site-packages (from ultralytics) (2.7.1)\n",
      "Requirement already satisfied: torchvision>=0.9.0 in /opt/conda/lib/python3.12/site-packages (from ultralytics) (0.22.1)\n",
      "Requirement already satisfied: tqdm>=4.64.0 in /opt/conda/lib/python3.12/site-packages (from ultralytics) (4.67.1)\n",
      "Requirement already satisfied: psutil in /opt/conda/lib/python3.12/site-packages (from ultralytics) (7.0.0)\n",
      "Requirement already satisfied: py-cpuinfo in /opt/conda/lib/python3.12/site-packages (from ultralytics) (9.0.0)\n",
      "Requirement already satisfied: pandas>=1.1.4 in /opt/conda/lib/python3.12/site-packages (from ultralytics) (2.2.3)\n",
      "Requirement already satisfied: ultralytics-thop>=2.0.0 in /opt/conda/lib/python3.12/site-packages (from ultralytics) (2.0.14)\n",
      "Requirement already satisfied: click!=8.0.0,>=7.1 in /opt/conda/lib/python3.12/site-packages (from wandb) (8.1.8)\n",
      "Requirement already satisfied: gitpython!=3.1.29,>=1.0.0 in /opt/conda/lib/python3.12/site-packages (from wandb) (3.1.44)\n",
      "Requirement already satisfied: packaging in /opt/conda/lib/python3.12/site-packages (from wandb) (24.2)\n",
      "Requirement already satisfied: platformdirs in /opt/conda/lib/python3.12/site-packages (from wandb) (4.3.7)\n",
      "Requirement already satisfied: protobuf!=4.21.0,!=5.28.0,<7,>=3.19.0 in /opt/conda/lib/python3.12/site-packages (from wandb) (4.25.6)\n",
      "Requirement already satisfied: pydantic<3 in /opt/conda/lib/python3.12/site-packages (from wandb) (2.11.3)\n",
      "Requirement already satisfied: sentry-sdk>=2.0.0 in /opt/conda/lib/python3.12/site-packages (from wandb) (2.30.0)\n",
      "Requirement already satisfied: setproctitle in /opt/conda/lib/python3.12/site-packages (from wandb) (1.3.6)\n",
      "Requirement already satisfied: typing-extensions<5,>=4.8 in /opt/conda/lib/python3.12/site-packages (from wandb) (4.13.2)\n",
      "Requirement already satisfied: gitdb<5,>=4.0.1 in /opt/conda/lib/python3.12/site-packages (from gitpython!=3.1.29,>=1.0.0->wandb) (4.0.12)\n",
      "Requirement already satisfied: contourpy>=1.0.1 in /opt/conda/lib/python3.12/site-packages (from matplotlib>=3.3.0->ultralytics) (1.3.1)\n",
      "Requirement already satisfied: cycler>=0.10 in /opt/conda/lib/python3.12/site-packages (from matplotlib>=3.3.0->ultralytics) (0.12.1)\n",
      "Requirement already satisfied: fonttools>=4.22.0 in /opt/conda/lib/python3.12/site-packages (from matplotlib>=3.3.0->ultralytics) (4.57.0)\n",
      "Requirement already satisfied: kiwisolver>=1.3.1 in /opt/conda/lib/python3.12/site-packages (from matplotlib>=3.3.0->ultralytics) (1.4.8)\n",
      "Requirement already satisfied: pyparsing>=2.3.1 in /opt/conda/lib/python3.12/site-packages (from matplotlib>=3.3.0->ultralytics) (3.2.3)\n",
      "Requirement already satisfied: python-dateutil>=2.7 in /opt/conda/lib/python3.12/site-packages (from matplotlib>=3.3.0->ultralytics) (2.9.0.post0)\n",
      "Requirement already satisfied: pytz>=2020.1 in /opt/conda/lib/python3.12/site-packages (from pandas>=1.1.4->ultralytics) (2025.2)\n",
      "Requirement already satisfied: tzdata>=2022.7 in /opt/conda/lib/python3.12/site-packages (from pandas>=1.1.4->ultralytics) (2025.2)\n",
      "Requirement already satisfied: annotated-types>=0.6.0 in /opt/conda/lib/python3.12/site-packages (from pydantic<3->wandb) (0.7.0)\n",
      "Requirement already satisfied: pydantic-core==2.33.1 in /opt/conda/lib/python3.12/site-packages (from pydantic<3->wandb) (2.33.1)\n",
      "Requirement already satisfied: typing-inspection>=0.4.0 in /opt/conda/lib/python3.12/site-packages (from pydantic<3->wandb) (0.4.0)\n",
      "Requirement already satisfied: charset_normalizer<4,>=2 in /opt/conda/lib/python3.12/site-packages (from requests>=2.23.0->ultralytics) (3.4.1)\n",
      "Requirement already satisfied: idna<4,>=2.5 in /opt/conda/lib/python3.12/site-packages (from requests>=2.23.0->ultralytics) (3.10)\n",
      "Requirement already satisfied: urllib3<3,>=1.21.1 in /opt/conda/lib/python3.12/site-packages (from requests>=2.23.0->ultralytics) (2.4.0)\n",
      "Requirement already satisfied: certifi>=2017.4.17 in /opt/conda/lib/python3.12/site-packages (from requests>=2.23.0->ultralytics) (2025.1.31)\n",
      "Requirement already satisfied: filelock in /opt/conda/lib/python3.12/site-packages (from torch>=1.8.0->ultralytics) (3.18.0)\n",
      "Requirement already satisfied: setuptools in /opt/conda/lib/python3.12/site-packages (from torch>=1.8.0->ultralytics) (78.1.0)\n",
      "Requirement already satisfied: sympy>=1.13.3 in /opt/conda/lib/python3.12/site-packages (from torch>=1.8.0->ultralytics) (1.13.3)\n",
      "Requirement already satisfied: networkx in /opt/conda/lib/python3.12/site-packages (from torch>=1.8.0->ultralytics) (3.4.2)\n",
      "Requirement already satisfied: jinja2 in /opt/conda/lib/python3.12/site-packages (from torch>=1.8.0->ultralytics) (3.1.6)\n",
      "Requirement already satisfied: fsspec in /opt/conda/lib/python3.12/site-packages (from torch>=1.8.0->ultralytics) (2025.3.2)\n",
      "Requirement already satisfied: nvidia-cuda-nvrtc-cu12==12.6.77 in /opt/conda/lib/python3.12/site-packages (from torch>=1.8.0->ultralytics) (12.6.77)\n",
      "Requirement already satisfied: nvidia-cuda-runtime-cu12==12.6.77 in /opt/conda/lib/python3.12/site-packages (from torch>=1.8.0->ultralytics) (12.6.77)\n",
      "Requirement already satisfied: nvidia-cuda-cupti-cu12==12.6.80 in /opt/conda/lib/python3.12/site-packages (from torch>=1.8.0->ultralytics) (12.6.80)\n",
      "Requirement already satisfied: nvidia-cudnn-cu12==9.5.1.17 in /opt/conda/lib/python3.12/site-packages (from torch>=1.8.0->ultralytics) (9.5.1.17)\n",
      "Requirement already satisfied: nvidia-cublas-cu12==12.6.4.1 in /opt/conda/lib/python3.12/site-packages (from torch>=1.8.0->ultralytics) (12.6.4.1)\n",
      "Requirement already satisfied: nvidia-cufft-cu12==11.3.0.4 in /opt/conda/lib/python3.12/site-packages (from torch>=1.8.0->ultralytics) (11.3.0.4)\n",
      "Requirement already satisfied: nvidia-curand-cu12==10.3.7.77 in /opt/conda/lib/python3.12/site-packages (from torch>=1.8.0->ultralytics) (10.3.7.77)\n",
      "Requirement already satisfied: nvidia-cusolver-cu12==11.7.1.2 in /opt/conda/lib/python3.12/site-packages (from torch>=1.8.0->ultralytics) (11.7.1.2)\n",
      "Requirement already satisfied: nvidia-cusparse-cu12==12.5.4.2 in /opt/conda/lib/python3.12/site-packages (from torch>=1.8.0->ultralytics) (12.5.4.2)\n",
      "Requirement already satisfied: nvidia-cusparselt-cu12==0.6.3 in /opt/conda/lib/python3.12/site-packages (from torch>=1.8.0->ultralytics) (0.6.3)\n",
      "Requirement already satisfied: nvidia-nccl-cu12==2.26.2 in /opt/conda/lib/python3.12/site-packages (from torch>=1.8.0->ultralytics) (2.26.2)\n",
      "Requirement already satisfied: nvidia-nvtx-cu12==12.6.77 in /opt/conda/lib/python3.12/site-packages (from torch>=1.8.0->ultralytics) (12.6.77)\n",
      "Requirement already satisfied: nvidia-nvjitlink-cu12==12.6.85 in /opt/conda/lib/python3.12/site-packages (from torch>=1.8.0->ultralytics) (12.6.85)\n",
      "Requirement already satisfied: nvidia-cufile-cu12==1.11.1.6 in /opt/conda/lib/python3.12/site-packages (from torch>=1.8.0->ultralytics) (1.11.1.6)\n",
      "Requirement already satisfied: triton==3.3.1 in /opt/conda/lib/python3.12/site-packages (from torch>=1.8.0->ultralytics) (3.3.1)\n",
      "Requirement already satisfied: smmap<6,>=3.0.1 in /opt/conda/lib/python3.12/site-packages (from gitdb<5,>=4.0.1->gitpython!=3.1.29,>=1.0.0->wandb) (5.0.2)\n",
      "Requirement already satisfied: six>=1.5 in /opt/conda/lib/python3.12/site-packages (from python-dateutil>=2.7->matplotlib>=3.3.0->ultralytics) (1.17.0)\n",
      "Requirement already satisfied: mpmath<1.4,>=1.1.0 in /opt/conda/lib/python3.12/site-packages (from sympy>=1.13.3->torch>=1.8.0->ultralytics) (1.3.0)\n",
      "Requirement already satisfied: MarkupSafe>=2.0 in /opt/conda/lib/python3.12/site-packages (from jinja2->torch>=1.8.0->ultralytics) (3.0.2)\n",
      "Requirement already satisfied: dotenv in /opt/conda/lib/python3.12/site-packages (0.9.9)\n",
      "Requirement already satisfied: python-dotenv in /opt/conda/lib/python3.12/site-packages (from dotenv) (1.1.0)\n",
      "Requirement already satisfied: shapely in /opt/conda/lib/python3.12/site-packages (2.1.1)\n",
      "Requirement already satisfied: numpy>=1.21 in /opt/conda/lib/python3.12/site-packages (from shapely) (1.26.4)\n",
      "Requirement already satisfied: wandb in /opt/conda/lib/python3.12/site-packages (0.20.1)\n",
      "Requirement already satisfied: opencv-python in /opt/conda/lib/python3.12/site-packages (4.11.0.86)\n",
      "Requirement already satisfied: click!=8.0.0,>=7.1 in /opt/conda/lib/python3.12/site-packages (from wandb) (8.1.8)\n",
      "Requirement already satisfied: gitpython!=3.1.29,>=1.0.0 in /opt/conda/lib/python3.12/site-packages (from wandb) (3.1.44)\n",
      "Requirement already satisfied: packaging in /opt/conda/lib/python3.12/site-packages (from wandb) (24.2)\n",
      "Requirement already satisfied: platformdirs in /opt/conda/lib/python3.12/site-packages (from wandb) (4.3.7)\n",
      "Requirement already satisfied: protobuf!=4.21.0,!=5.28.0,<7,>=3.19.0 in /opt/conda/lib/python3.12/site-packages (from wandb) (4.25.6)\n",
      "Requirement already satisfied: psutil>=5.0.0 in /opt/conda/lib/python3.12/site-packages (from wandb) (7.0.0)\n",
      "Requirement already satisfied: pydantic<3 in /opt/conda/lib/python3.12/site-packages (from wandb) (2.11.3)\n",
      "Requirement already satisfied: pyyaml in /opt/conda/lib/python3.12/site-packages (from wandb) (6.0.2)\n",
      "Requirement already satisfied: requests<3,>=2.0.0 in /opt/conda/lib/python3.12/site-packages (from wandb) (2.32.3)\n",
      "Requirement already satisfied: sentry-sdk>=2.0.0 in /opt/conda/lib/python3.12/site-packages (from wandb) (2.30.0)\n",
      "Requirement already satisfied: setproctitle in /opt/conda/lib/python3.12/site-packages (from wandb) (1.3.6)\n",
      "Requirement already satisfied: typing-extensions<5,>=4.8 in /opt/conda/lib/python3.12/site-packages (from wandb) (4.13.2)\n",
      "Requirement already satisfied: numpy>=1.21.2 in /opt/conda/lib/python3.12/site-packages (from opencv-python) (1.26.4)\n",
      "Requirement already satisfied: gitdb<5,>=4.0.1 in /opt/conda/lib/python3.12/site-packages (from gitpython!=3.1.29,>=1.0.0->wandb) (4.0.12)\n",
      "Requirement already satisfied: annotated-types>=0.6.0 in /opt/conda/lib/python3.12/site-packages (from pydantic<3->wandb) (0.7.0)\n",
      "Requirement already satisfied: pydantic-core==2.33.1 in /opt/conda/lib/python3.12/site-packages (from pydantic<3->wandb) (2.33.1)\n",
      "Requirement already satisfied: typing-inspection>=0.4.0 in /opt/conda/lib/python3.12/site-packages (from pydantic<3->wandb) (0.4.0)\n",
      "Requirement already satisfied: charset_normalizer<4,>=2 in /opt/conda/lib/python3.12/site-packages (from requests<3,>=2.0.0->wandb) (3.4.1)\n",
      "Requirement already satisfied: idna<4,>=2.5 in /opt/conda/lib/python3.12/site-packages (from requests<3,>=2.0.0->wandb) (3.10)\n",
      "Requirement already satisfied: urllib3<3,>=1.21.1 in /opt/conda/lib/python3.12/site-packages (from requests<3,>=2.0.0->wandb) (2.4.0)\n",
      "Requirement already satisfied: certifi>=2017.4.17 in /opt/conda/lib/python3.12/site-packages (from requests<3,>=2.0.0->wandb) (2025.1.31)\n",
      "Requirement already satisfied: smmap<6,>=3.0.1 in /opt/conda/lib/python3.12/site-packages (from gitdb<5,>=4.0.1->gitpython!=3.1.29,>=1.0.0->wandb) (5.0.2)\n"
     ]
    }
   ],
   "source": [
    "!pip install -U ultralytics wandb\n",
    "!pip install dotenv\n",
    "!pip install shapely\n",
    "!pip install wandb opencv-python"
   ]
  },
  {
   "cell_type": "code",
   "execution_count": 2,
   "id": "8ab02345-a3f0-424f-9630-40700ac65d4e",
   "metadata": {},
   "outputs": [],
   "source": [
    "import os\n",
    "import numpy as np\n",
    "import matplotlib.pyplot as plt\n",
    "import cv2\n",
    "import wandb\n",
    "from ultralytics import YOLO\n",
    "from tqdm.notebook import tqdm\n",
    "from shapely.geometry import box, MultiPolygon\n",
    "import yaml\n",
    "import torch\n",
    "import pandas as pd\n",
    "import logging\n",
    "from pathlib import Path\n",
    "from dotenv import load_dotenv\n",
    "from typing import Dict, List, Tuple\n",
    "import traceback\n",
    "import random\n",
    "import shutil\n",
    "from pathlib import Path\n",
    "from PIL import Image, ImageOps\n",
    "\n",
    "os.environ[\"PYTORCH_CUDA_ALLOC_CONF\"] = \"expandable_segments:True\""
   ]
  },
  {
   "cell_type": "code",
   "execution_count": 3,
   "id": "11a3cd17-1d51-4292-bc75-36d17d218d04",
   "metadata": {},
   "outputs": [
    {
     "name": "stdout",
     "output_type": "stream",
     "text": [
      "✅ Updated 'wandb=True'\n",
      "JSONDict(\"/home/jovyan/.config/Ultralytics/settings.json\"):\n",
      "{\n",
      "  \"settings_version\": \"0.0.6\",\n",
      "  \"datasets_dir\": \"/home/jovyan/DSPRO2/M-AI-ZE-Maize-diseases-detection/notebooks/datasets\",\n",
      "  \"weights_dir\": \"weights\",\n",
      "  \"runs_dir\": \"runs\",\n",
      "  \"uuid\": \"8a115bbf5049f0fe55cf2ccd8be54ca8bfded6b963fd272724a959bb525556d2\",\n",
      "  \"sync\": true,\n",
      "  \"api_key\": \"\",\n",
      "  \"openai_api_key\": \"\",\n",
      "  \"clearml\": true,\n",
      "  \"comet\": true,\n",
      "  \"dvc\": true,\n",
      "  \"hub\": true,\n",
      "  \"mlflow\": true,\n",
      "  \"neptune\": true,\n",
      "  \"raytune\": true,\n",
      "  \"tensorboard\": false,\n",
      "  \"wandb\": true,\n",
      "  \"vscode_msg\": true,\n",
      "  \"openvino_msg\": true\n",
      "}\n",
      "💡 Learn more about Ultralytics Settings at https://docs.ultralytics.com/quickstart/#ultralytics-settings\n"
     ]
    }
   ],
   "source": [
    "!yolo settings wandb=True"
   ]
  },
  {
   "cell_type": "code",
   "execution_count": 4,
   "id": "1fefa102-b160-42c1-b14a-474ce0149f69",
   "metadata": {},
   "outputs": [
    {
     "name": "stdout",
     "output_type": "stream",
     "text": [
      "WANDB_API_KEY: [69ca...]\n"
     ]
    }
   ],
   "source": [
    "load_dotenv()\n",
    "\n",
    "wandb_api_key = os.getenv(\"WANDB_API_KEY\")\n",
    "print(f\"WANDB_API_KEY: [{wandb_api_key[:4]}...]\")"
   ]
  },
  {
   "cell_type": "code",
   "execution_count": 5,
   "id": "b7945424-eadb-4480-af0c-37eb29d3c99d",
   "metadata": {},
   "outputs": [
    {
     "name": "stderr",
     "output_type": "stream",
     "text": [
      "\u001b[34m\u001b[1mwandb\u001b[0m: \u001b[32m\u001b[41mERROR\u001b[0m Failed to detect the name of this notebook. You can set it manually with the WANDB_NOTEBOOK_NAME environment variable to enable code saving.\n",
      "\u001b[34m\u001b[1mwandb\u001b[0m: \u001b[33mWARNING\u001b[0m If you're specifying your api key in code, ensure this code is not shared publicly.\n",
      "\u001b[34m\u001b[1mwandb\u001b[0m: \u001b[33mWARNING\u001b[0m Consider setting the WANDB_API_KEY environment variable, or running `wandb login` from the command line.\n",
      "\u001b[34m\u001b[1mwandb\u001b[0m: Appending key for api.wandb.ai to your netrc file: /home/jovyan/.netrc\n",
      "\u001b[34m\u001b[1mwandb\u001b[0m: Currently logged in as: \u001b[33mrueedi-tobias\u001b[0m (\u001b[33mrueedi-tobias-hochschule-luzern\u001b[0m) to \u001b[32mhttps://api.wandb.ai\u001b[0m. Use \u001b[1m`wandb login --relogin`\u001b[0m to force relogin\n"
     ]
    },
    {
     "data": {
      "text/plain": [
       "True"
      ]
     },
     "execution_count": 5,
     "metadata": {},
     "output_type": "execute_result"
    }
   ],
   "source": [
    "wandb.login(key=wandb_api_key)"
   ]
  },
  {
   "cell_type": "markdown",
   "id": "0c89f480-b2c4-43fa-90a5-09446cfd786e",
   "metadata": {},
   "source": [
    "## Get Data and set Parameter"
   ]
  },
  {
   "cell_type": "code",
   "execution_count": 6,
   "id": "953504ea-b0d4-483a-927f-1472d9511ced",
   "metadata": {},
   "outputs": [],
   "source": [
    "BATCH_SIZES = [8, 16, 32]\n",
    "DEFAULT_EPOCHS = 40\n",
    "DEFAULT_KFOLDS = 5\n",
    "BASE_PATH = Path(\"/exchange/dspro2/M-AI-ZE/data/adjusted/1.2/splits\")\n",
    "MODEL_WEIGHTS = {\"s\": \"yolo11s.pt\", \"n\": \"yolo11n.pt\", \"m\": \"yolo11m.pt\", \"l\": \"yolo11l.pt\"}\n",
    "SUBTYPES = [\"boom\", \"drone\", \"handheld\"]\n",
    "IMG_SIZE  = 640\n",
    "TRAIN_PROJECT_PREFIX = \"V1_2-maize_disease_detection_train\"\n",
    "EVAL_PROJECT_PREFIX  = \"V1_2-maize_disease_detection_eval\""
   ]
  },
  {
   "cell_type": "markdown",
   "id": "4a35ba30-d194-4078-9cda-185508c53ca3",
   "metadata": {},
   "source": [
    "## Helper functions"
   ]
  },
  {
   "cell_type": "code",
   "execution_count": 7,
   "id": "915ebfe1-f1dd-4c16-8c9f-c0331803b20e",
   "metadata": {},
   "outputs": [],
   "source": [
    "def area_coverage_score(pred_boxes, gt_boxes):\n",
    "    \"\"\"\n",
    "    Returns a score from 0 to 100 based on how well the predicted boxes cover the ground truth boxes.\n",
    "    Full coverage (prediction area == label area) gives 100.\n",
    "    Over-prediction (prediction area > label area) is penalized.\n",
    "    Under-prediction (prediction area < label area) is also penalized.\n",
    "    Args:\n",
    "        pred_boxes: list or np.array of [ymin, xmin, ymax, xmax] (normalized 0-1)\n",
    "        gt_boxes: list or np.array of [ymin, xmin, ymax, xmax] (normalized 0-1)\n",
    "    Returns:\n",
    "        float: score between 0 and 100\n",
    "    \"\"\"\n",
    "    def total_area(boxes):\n",
    "        if len(boxes) == 0:\n",
    "            return 0.0\n",
    "        boxes = np.array(boxes)\n",
    "        heights = np.clip(boxes[:, 2] - boxes[:, 0], 0, 1)\n",
    "        widths = np.clip(boxes[:, 3] - boxes[:, 1], 0, 1)\n",
    "        return np.sum(heights * widths)\n",
    " \n",
    "    area_pred = total_area(pred_boxes)\n",
    "    area_gt = total_area(gt_boxes)\n",
    " \n",
    "    if area_gt == 0:\n",
    "        return 0.0 if area_pred > 0 else 100.0\n",
    " \n",
    "    # Score is 100 if areas match, penalized for over/under\n",
    "    ratio = area_pred / area_gt\n",
    "    if ratio <= 1:\n",
    "        score = ratio * 100\n",
    "    else:\n",
    "        # Over-prediction: penalize more as prediction exceeds label\n",
    "        score = max(0, 100 - (ratio - 1) * 100)\n",
    "    return score\n",
    "\n",
    "def compute_iou(box1, box2):\n",
    "    x1_min, y1_min, x1_max, y1_max = box1\n",
    "    x2_min, y2_min, x2_max, y2_max = box2\n",
    "\n",
    "    inter_x_min = max(x1_min, x2_min)\n",
    "    inter_y_min = max(y1_min, y2_min)\n",
    "    inter_x_max = min(x1_max, x2_max)\n",
    "    inter_y_max = min(y1_max, y2_max)\n",
    "\n",
    "    inter_w = max(0, inter_x_max - inter_x_min)\n",
    "    inter_h = max(0, inter_y_max - inter_y_min)\n",
    "    inter_area = inter_w * inter_h\n",
    "\n",
    "    area1 = (x1_max - x1_min) * (y1_max - y1_min)\n",
    "    area2 = (x2_max - x2_min) * (y2_max - y2_min)\n",
    "    union_area = area1 + area2 - inter_area\n",
    "\n",
    "    return inter_area / union_area if union_area > 0 else 0.0\n",
    "\n",
    "def mean_precision_at_iou(pred_boxes_list, gt_boxes_list, iou_threshold=0.5):\n",
    "    aps = []\n",
    "    for pred_boxes, gt_boxes in zip(pred_boxes_list, gt_boxes_list):\n",
    "        ap = average_precision(pred_boxes, gt_boxes, iou_threshold)\n",
    "        aps.append(ap)\n",
    "    return np.mean(aps)\n",
    "\n",
    "def average_precision(pred_boxes, gt_boxes, iou_threshold=0.5):\n",
    "    if len(pred_boxes) == 0:\n",
    "        return 0.0\n",
    "    matched = set()\n",
    "    tp = 0\n",
    "    for pb in pred_boxes:\n",
    "        for i, gb in enumerate(gt_boxes):\n",
    "            if i in matched:\n",
    "                continue\n",
    "            if compute_iou(pb, gb) >= iou_threshold:\n",
    "                tp += 1\n",
    "                matched.add(i)\n",
    "                break\n",
    "    fp = len(pred_boxes) - tp\n",
    "    fn = len(gt_boxes) - tp\n",
    "    precision = tp / (tp + fp + 1e-8)\n",
    "    recall = tp / (tp + fn + 1e-8)\n",
    "    return precision \n",
    "    \n",
    "\n",
    "def calculate_raad(pred_boxes, true_boxes, img_w=IMG_SIZE, img_h=IMG_SIZE,\n",
    "                   epsilon=1e-6, normalize=True):\n",
    "    if not pred_boxes and not true_boxes:\n",
    "        return 0.0, 0.0, 0.0\n",
    "    if not pred_boxes:\n",
    "        true_area = sum((b[2]-b[0])*(b[3]-b[1]) for b in true_boxes)\n",
    "        return 1.0, 0.0, true_area\n",
    "    if not true_boxes:\n",
    "        pred_area = sum((b[2]-b[0])*(b[3]-b[1]) for b in pred_boxes)\n",
    "        return 1.0, pred_area, 0.0\n",
    "\n",
    "    if normalize:\n",
    "        pred_boxes = [[b[0]*img_w, b[1]*img_h, b[2]*img_w, b[3]*img_h] for b in pred_boxes]\n",
    "        true_boxes = [[b[0]*img_w, b[1]*img_h, b[2]*img_w, b[3]*img_h] for b in true_boxes]\n",
    "\n",
    "    pred_poly = MultiPolygon([box(*b) for b in pred_boxes]).buffer(0)\n",
    "    true_poly = MultiPolygon([box(*b) for b in true_boxes]).buffer(0)\n",
    "\n",
    "    pred_area = pred_poly.area\n",
    "    true_area = true_poly.area\n",
    "    raad = abs(pred_area - true_area) / max(true_area, epsilon)\n",
    "    return raad, pred_area, true_area\n",
    "\n",
    "\n",
    "def load_bbox_csv(csv_path: Path) -> Dict[str, List[Tuple[int,int,int,int]]]:\n",
    "    df = pd.read_csv(csv_path, header=None, skiprows=1)\n",
    "    out = {}\n",
    "    for _, row in df.iterrows():\n",
    "        out.setdefault(row[0], []).append(tuple(map(int, row[1:5])))\n",
    "    return out\n",
    "\n",
    "\n",
    "def suppress_yolo_logging():\n",
    "    \"\"\"Suppress the YOLO logging temporarily.\"\"\"\n",
    "    logger = logging.getLogger(\"ultralytics\")\n",
    "    original_level = logger.level\n",
    "    logger.setLevel(logging.ERROR)\n",
    "    return logger, original_level\n",
    "\n",
    "def restore_yolo_logging(logger, original_level):\n",
    "    \"\"\"Restore the YOLO logging to its original level.\"\"\"\n",
    "    logger.setLevel(original_level)\n",
    "\n",
    "def _make_sid02_subset(root: Path, subtype: str) -> Path:\n",
    "    \"\"\"\n",
    "    Creates subfolder for split SID02, because Yolo cant use subfolder.\n",
    "    Example ../train/boom need to be ../train \n",
    "    Therefore a temporary Folder gets created.\n",
    "    \"\"\"\n",
    "    tmp = root.parent / f\"{root.name}_{subtype}\"\n",
    "    if tmp.exists():\n",
    "        return tmp\n",
    "\n",
    "    for p in (\"images\", \"labels\"):\n",
    "        for split in (\"train\", \"val\"):\n",
    "            (tmp / p / split).mkdir(parents=True, exist_ok=True)\n",
    "    (tmp / \"images\" / \"test\").symlink_to(root / \"images\" / \"test\")\n",
    "    (tmp / \"labels\" / \"test\").symlink_to(root / \"labels\" / \"test\")\n",
    "\n",
    "    for phase in (\"train\", \"val\"):\n",
    "        lbl_src_root = root / \"labels\" / phase / subtype\n",
    "        img_src_root = root / \"images\" / phase\n",
    "        for lbl in lbl_src_root.glob(\"*.txt\"):\n",
    "            shutil.copy(lbl, tmp / \"labels\" / phase / lbl.name)\n",
    "            img_src = img_src_root / f\"{lbl.stem}.jpg\"\n",
    "            if img_src.exists():\n",
    "                (tmp / \"images\" / phase / img_src.name).symlink_to(img_src)\n",
    "\n",
    "    yaml_dict = {\n",
    "        \"train\": str(tmp / \"images\" / \"train\"),\n",
    "        \"val\":   str(tmp / \"images\" / \"val\"),\n",
    "        \"test\":  str(tmp / \"images\" / \"test\"),\n",
    "        \"nc\": 1,\n",
    "        \"names\": [\"lesion\"],\n",
    "    }\n",
    "    (tmp / \"data.yaml\").write_text(yaml.safe_dump(yaml_dict))\n",
    "    return tmp"
   ]
  },
  {
   "cell_type": "markdown",
   "id": "e2838ed3-e8af-4f4d-a8ec-2815249d4fba",
   "metadata": {},
   "source": [
    "## Training "
   ]
  },
  {
   "cell_type": "code",
   "execution_count": 8,
   "id": "045aa155-9561-40b0-9ace-ae7b75484bd6",
   "metadata": {},
   "outputs": [],
   "source": [
    "def train_model(\n",
    "        model_size=\"n\",    \n",
    "        split=\"SID01\",         \n",
    "        subtype=None,           \n",
    "        fold_id=None,            \n",
    "        epochs=10,\n",
    "        batch=16,\n",
    "        lr=0.01,\n",
    "        project = \"maize_disease_detection\",\n",
    "        run_name = \"not_set\"):\n",
    "\n",
    "    split_root = BASE_PATH / split\n",
    "\n",
    "\n",
    "    if split == \"SID02\" and subtype:\n",
    "        split_root = _make_sid02_subset(split_root, subtype)\n",
    "\n",
    "    if split == \"SID03\" and fold_id is not None:\n",
    "        split_root = split_root.parent / f\"{split}_kfold\" / f\"fold{fold_id}\"\n",
    "\n",
    "    dataset_yaml = split_root / \"data.yaml\"\n",
    "    if not dataset_yaml.exists():\n",
    "        raise FileNotFoundError(f\"YAML nicht gefunden: {dataset_yaml}\")\n",
    "\n",
    "    model_file = MODEL_WEIGHTS[model_size]\n",
    "\n",
    "    try:\n",
    "        model = YOLO(model_file)\n",
    "        results = model.train(\n",
    "            data=str(dataset_yaml),\n",
    "            epochs=epochs,\n",
    "            imgsz=IMG_SIZE,\n",
    "            lr0=lr,\n",
    "            batch=batch,\n",
    "            name=run_name,\n",
    "            project=project,\n",
    "            exist_ok=True\n",
    "        )\n",
    "\n",
    "        ckpt_dir = Path(\"runs\") / \"detect\" / run_name / \"weights\"\n",
    "        weights_path = next((ckpt_dir / f).as_posix() for f in (\"best.pt\", \"last.pt\") if (ckpt_dir / f).exists())\n",
    "\n",
    "        if wandb.run is not None:\n",
    "            wandb.finish()\n",
    "\n",
    "        cfg = dict(model=model_file, split=split, subtype=subtype,\n",
    "                   fold_id=fold_id, epochs=epochs, batch=batch,\n",
    "                   lr=lr, weights_path=weights_path)\n",
    "        wb = wandb.init(project=project,\n",
    "                        name=run_name, config=cfg, reinit=True)\n",
    "\n",
    "        mAP50     = results.results_dict.get(\"metrics/mAP50\", 0)\n",
    "        mAP50_95  = results.results_dict.get(\"metrics/mAP50-95\", 0)\n",
    "        wb.log({\"mAP50\": mAP50, \"mAP50-95\": mAP50_95})\n",
    "\n",
    "        val_img_dir = split_root / \"images\" / \"val\"\n",
    "        for i, img_file in enumerate(list(val_img_dir.glob(\"*.jpg\"))[:5]):\n",
    "            pred = model.predict(str(img_file), conf=0.25)[0]\n",
    "            img = cv2.cvtColor(cv2.imread(str(img_file)), cv2.COLOR_BGR2RGB)\n",
    "            for b in pred.boxes:\n",
    "                x1, y1, x2, y2 = map(int, b.xyxy[0])\n",
    "                cv2.rectangle(img, (x1, y1), (x2, y2), (0, 255, 0), 2)\n",
    "            wb.log({f\"val_image_{i}\": wandb.Image(img, caption=img_file.name)})\n",
    "\n",
    "        wb.finish()\n",
    "        return weights_path\n",
    "\n",
    "    except Exception as e:\n",
    "        print(\"Training Error:\", e)\n",
    "        traceback.print_exc()\n",
    "        return MODEL_WEIGHTS[model_size] \n"
   ]
  },
  {
   "cell_type": "markdown",
   "id": "75b1ea1a-45b3-4a04-8552-b2cb4a2944f0",
   "metadata": {},
   "source": [
    "## Evaluate RAAD on Testdata"
   ]
  },
  {
   "cell_type": "code",
   "execution_count": 13,
   "id": "2080b9f0-1991-41f5-9824-35436c7273c9",
   "metadata": {},
   "outputs": [],
   "source": [
    "def evaluate_test_raad(model_path, split=\"SID01\", split_root=None,\n",
    "                       project=\"maize_disease_detection_eval\", run_name=None):\n",
    "    target_size = 640\n",
    "\n",
    "    if split_root is None:\n",
    "        split_root = BASE_PATH / split\n",
    "    else:\n",
    "        split_root = Path(split_root)\n",
    "\n",
    "    test_img_dir = split_root / \"images\" / \"test\"\n",
    "    test_csv_path = split_root / \"labels\" / \"test\" / \"bboxes_test.csv\"\n",
    "\n",
    "    if not test_csv_path.exists():\n",
    "        raise FileNotFoundError(f\"Missing: {test_csv_path}\")\n",
    "    if not test_img_dir.exists():\n",
    "        raise FileNotFoundError(f\"Missing: {test_img_dir}\")\n",
    "\n",
    "    bounding_boxes = load_bbox_csv(test_csv_path)\n",
    "    model_name = run_name\n",
    "    model_variant = run_name.split(\"_\")[0]\n",
    "\n",
    "\n",
    "    run = wandb.init(\n",
    "        project=project,\n",
    "        name=run_name or f\"test_eval_{model_name}_{split_root.name}\",\n",
    "        config={\n",
    "            \"model_path\": str(model_path),\n",
    "            \"model_name\": model_name,\n",
    "            \"model_variant\": model_variant,\n",
    "            \"split\": split_root.name    \n",
    "        }\n",
    "    )\n",
    "\n",
    "    try:\n",
    "        model = YOLO(model_path)\n",
    "\n",
    "        results = {\n",
    "            \"image\": [],\n",
    "            \"raad\": [],\n",
    "            \"pred_area\": [],\n",
    "            \"true_area\": [],\n",
    "            \"prediction_count\": [],\n",
    "            \"truth_count\": [],\n",
    "            \"area_score\": [],\n",
    "            \"model_name\": [],\n",
    "            \"model_variant\": [],\n",
    "            \"split\": []\n",
    "        }\n",
    "\n",
    "        pred_boxes_all = []\n",
    "        true_boxes_all = []\n",
    "\n",
    "        test_imgs = sorted([f for f in os.listdir(test_img_dir) if f.endswith(('.jpg', '.png'))])\n",
    "        for img_file in tqdm(test_imgs, desc=f\"Evaluating {split_root.name}\"):\n",
    "            img_path = test_img_dir / img_file\n",
    "\n",
    "            if img_file not in bounding_boxes:\n",
    "                print(f\"[!] Missing GT: {img_file}\")\n",
    "                continue\n",
    "\n",
    "            img = Image.open(img_path)\n",
    "            img = ImageOps.exif_transpose(img).convert(\"RGB\")\n",
    "            w, h = img.size\n",
    "            img_resized = img.resize((target_size, target_size), Image.BILINEAR)\n",
    "            img_resized_np = np.array(img_resized)\n",
    "\n",
    "            logger, original_level = suppress_yolo_logging()\n",
    "            try:\n",
    "                preds = model.predict(img_resized_np, save=False, imgsz=target_size, conf=0.1)[0]\n",
    "            finally:\n",
    "                restore_yolo_logging(logger, original_level)\n",
    "\n",
    "            pred_boxes = preds.boxes.xyxy.cpu().numpy().tolist()\n",
    "            true_boxes = bounding_boxes[img_file]\n",
    "\n",
    "            scale_x = target_size / w\n",
    "            scale_y = target_size / h\n",
    "            true_boxes_scaled = [\n",
    "                [x1 * scale_x, y1 * scale_y, x2 * scale_x, y2 * scale_y]\n",
    "                for (x1, y1, x2, y2) in true_boxes\n",
    "            ]\n",
    "\n",
    "            raad, pred_area, true_area = calculate_raad(pred_boxes, true_boxes_scaled, target_size, target_size, normalize=False)\n",
    "\n",
    "            norm_pred = [[b[0]/target_size, b[1]/target_size, b[2]/target_size, b[3]/target_size] for b in pred_boxes]\n",
    "            norm_true = [[b[0]/target_size, b[1]/target_size, b[2]/target_size, b[3]/target_size] for b in true_boxes_scaled]\n",
    "            area_score = area_coverage_score(norm_pred, norm_true)\n",
    "\n",
    "            pred_boxes_all.append(pred_boxes)\n",
    "            true_boxes_all.append(true_boxes_scaled)\n",
    "\n",
    "            results[\"image\"].append(img_file)\n",
    "            results[\"raad\"].append(raad)\n",
    "            results[\"pred_area\"].append(pred_area)\n",
    "            results[\"true_area\"].append(true_area)\n",
    "            results[\"prediction_count\"].append(len(pred_boxes))\n",
    "            results[\"truth_count\"].append(len(true_boxes_scaled))\n",
    "            results[\"area_score\"].append(area_score)\n",
    "            results[\"model_name\"].append(model_name)\n",
    "            results[\"model_variant\"].append(model_variant)\n",
    "            results[\"split\"].append(split)\n",
    "\n",
    "        approx_mAP50 = mean_precision_at_iou(pred_boxes_all, true_boxes_all)\n",
    "        df = pd.DataFrame(results)\n",
    "\n",
    "        run.log({\n",
    "            \"avg_raad\": df[\"raad\"].mean(),\n",
    "            \"median_raad\": df[\"raad\"].median(),\n",
    "            \"max_raad\": df[\"raad\"].max(),\n",
    "            \"avg_pred_area\": df[\"pred_area\"].mean(),\n",
    "            \"avg_true_area\": df[\"true_area\"].mean(),\n",
    "            \"avg_pred_count\": df[\"prediction_count\"].mean(),\n",
    "            \"avg_truth_count\": df[\"truth_count\"].mean(),\n",
    "            \"avg_count_ratio\": df[\"prediction_count\"].mean() / max(df[\"truth_count\"].mean(), 1e-6),\n",
    "            \"avg_area_score\": df[\"area_score\"].mean(),\n",
    "            \"mean_precision@0.5\": approx_mAP50,\n",
    "            \"model_name\": model_name,\n",
    "            \"model_variant\": model_variant,\n",
    "            \"split\": split\n",
    "        })\n",
    "\n",
    "        table = wandb.Table(columns=[\n",
    "            \"image\", \"raad\", \"pred_area\", \"true_area\",\n",
    "            \"prediction_count\", \"truth_count\", \"count_ratio\", \"area_score\",\n",
    "            \"model_name\", \"model_variant\", \"split\"\n",
    "        ])\n",
    "        for _, row in df.iterrows():\n",
    "            count_ratio = row[\"prediction_count\"] / max(row[\"truth_count\"], 1e-6)\n",
    "            table.add_data(\n",
    "                row[\"image\"], row[\"raad\"], row[\"pred_area\"], row[\"true_area\"],\n",
    "                row[\"prediction_count\"], row[\"truth_count\"], count_ratio, row[\"area_score\"],\n",
    "                row[\"model_name\"], row[\"model_variant\"], row[\"split\"]\n",
    "            )\n",
    "        run.log({\"per_image_results\": table})\n",
    "        run.finish()\n",
    "\n",
    "        return df, df[\"raad\"].mean()\n",
    "\n",
    "    except Exception as e:\n",
    "        print(f\"[!] Evaluation error: {e}\")\n",
    "        run.finish()\n",
    "        return None, None\n"
   ]
  },
  {
   "cell_type": "code",
   "execution_count": 10,
   "id": "b394b5ee-680b-4b34-8925-9ac4b32733e3",
   "metadata": {},
   "outputs": [],
   "source": [
    "def generate_kfold_yamls(split_dir: Path, k: int = 5):\n",
    "    assert split_dir.name.startswith(\"SID03\"), \"Only for SID03 Split.\"\n",
    "\n",
    "    train_img_dir = split_dir / \"images\" / \"train\"\n",
    "    all_imgs = list(train_img_dir.glob(\"*.jpg\"))\n",
    "    random.shuffle(all_imgs)\n",
    "\n",
    "    fold_size = len(all_imgs) // k\n",
    "    fold_root = split_dir.parent / f\"{split_dir.name}_kfold\"\n",
    "    fold_root.mkdir(exist_ok=True)\n",
    "\n",
    "    for fold in range(k):\n",
    "        fold_dir = fold_root / f\"fold{fold}\"\n",
    "\n",
    "        for phase in [\"train\", \"val\", \"test\"]:\n",
    "            (fold_dir / \"images\" / phase).mkdir(parents=True, exist_ok=True)\n",
    "            (fold_dir / \"labels\" / phase).mkdir(parents=True, exist_ok=True)\n",
    "\n",
    "        val_set = set(all_imgs[fold * fold_size : (fold + 1) * fold_size])\n",
    "\n",
    "        for img_path in all_imgs:\n",
    "            phase = \"val\" if img_path in val_set else \"train\"\n",
    "            shutil.copy(img_path, fold_dir / \"images\" / phase / img_path.name)\n",
    "\n",
    "            label_found = False\n",
    "            for subtype in SUBTYPES:\n",
    "                lbl_src = split_dir / \"labels\" / \"train\" / subtype / f\"{img_path.stem}.txt\"\n",
    "                if lbl_src.exists():\n",
    "                    shutil.copy(lbl_src, fold_dir / \"labels\" / phase / lbl_src.name)\n",
    "                    label_found = True\n",
    "                    break\n",
    "            if not label_found:\n",
    "                print(f\"[!] No Labe data for: {img_path.name}\")\n",
    "\n",
    "        for phase in [\"images\", \"labels\"]:\n",
    "            src = split_dir / phase / \"test\"\n",
    "            dst = fold_dir / phase / \"test\"\n",
    "            if not dst.exists():\n",
    "                dst.symlink_to(src)\n",
    "\n",
    "        yaml_dict = {\n",
    "            \"train\": str((fold_dir / \"images/train\").resolve()),\n",
    "            \"val\": str((fold_dir / \"images/val\").resolve()),\n",
    "            \"test\": str((fold_dir / \"images/test\").resolve()),\n",
    "            \"nc\": 1,\n",
    "            \"names\": [\"lesion\"]\n",
    "        }\n",
    "        with open(fold_dir / \"data.yaml\", \"w\") as f:\n",
    "            yaml.safe_dump(yaml_dict, f)\n",
    "\n",
    "\n",
    "        csv_src = split_dir / \"labels\" / \"test\" / \"bboxes_test.csv\"\n",
    "        csv_dst = fold_dir / \"labels\" / \"test\" / \"bboxes_test.csv\"\n",
    "        if csv_src.exists():\n",
    "            shutil.copy(csv_src, csv_dst)\n",
    "        else:\n",
    "            print(f\"[Didnt found bboxes_test.csv: {csv_src}\")\n",
    "        \n",
    "        print(f\"Fold {fold} created: {fold_dir}\")"
   ]
  },
  {
   "cell_type": "markdown",
   "id": "d354d3b3-4747-419e-bbb5-b2aec46b1d7a",
   "metadata": {},
   "source": [
    "# Start Train and Eval"
   ]
  },
  {
   "cell_type": "code",
   "execution_count": 11,
   "id": "a2788797-08c1-40fd-872f-d8a739c4afcf",
   "metadata": {},
   "outputs": [],
   "source": [
    "def run_training_and_eval(\n",
    "    splits=[\"SID01\", \"SID02\"],            \n",
    "    models=[\"n\", \"m\", \"l\"],                \n",
    "    batches=[16, 32],                     \n",
    "    epochs=40,\n",
    "    lr=0.01,\n",
    "    train_project=\"maize_train\",\n",
    "    eval_project=\"maize_eval\",\n",
    "    sid02_subtypes=[None, \"drone\", \"boom\", \"handheld\"],  \n",
    "    sid03_folds=None,                     \n",
    "    device=\"0\"\n",
    "):\n",
    "    for split in splits:\n",
    "        if split == \"SID01\":\n",
    "            for model in models:\n",
    "                for batch in batches:\n",
    "                    run_name = f\"yolo11{model}_{split}_e{epochs}_b{batch}\"\n",
    "                    weights = train_model(\n",
    "                        model_size=model,\n",
    "                        split=split,\n",
    "                        epochs=epochs,\n",
    "                        batch=batch,\n",
    "                        lr=lr,\n",
    "                        project=train_project,\n",
    "                        run_name = run_name\n",
    "                    )\n",
    "                    evaluate_test_raad(\n",
    "                        model_path=weights,\n",
    "                        split=split,\n",
    "                        split_root=BASE_PATH / split,\n",
    "                        project =  eval_project,\n",
    "                        run_name=run_name\n",
    "                    )\n",
    "\n",
    "        elif split == \"SID02\":\n",
    "            for subtype in sid02_subtypes:\n",
    "                subtype_tag = subtype if subtype else \"all\"\n",
    "                subset_root = _make_sid02_subset(BASE_PATH / \"SID02\", subtype) if subtype else BASE_PATH / \"SID02\"\n",
    "\n",
    "                for model in models:\n",
    "                    for batch in batches:\n",
    "                        run_name = f\"yolo11{model}_{split}_{subtype}_e{epochs}_b{batch}\"\n",
    "                        weights = train_model(\n",
    "                            model_size=model,\n",
    "                            split=\"SID02\",\n",
    "                            subtype=subtype,\n",
    "                            epochs=epochs,\n",
    "                            batch=batch,\n",
    "                            lr=lr,\n",
    "                            project=train_project,\n",
    "                            run_name=run_name\n",
    "                        )\n",
    "                        evaluate_test_raad(\n",
    "                            model_path=weights,\n",
    "                            split=\"SID02\",\n",
    "                            split_root=subset_root,\n",
    "                            project =  eval_project,\n",
    "                            run_name=run_name\n",
    "                        )\n",
    "\n",
    "        elif split == \"SID03\":\n",
    "            sid03_kfold_root = BASE_PATH / \"SID03_kfold\"\n",
    "            if not sid03_kfold_root.exists():\n",
    "                print(\"SID03_kfold not found – generate K-Folds...\")\n",
    "                generate_kfold_yamls(BASE_PATH / \"SID03\", k=5)\n",
    "        \n",
    "            folds = sid03_folds if sid03_folds else [None]\n",
    "\n",
    "            for fold in folds:\n",
    "                for model in models:\n",
    "                    for batch in batches:\n",
    "                        run_name = f\"yolo11{model}_{split}_f{fold}_e{epochs}_b{batch}\"\n",
    "                        weights = train_model(\n",
    "                            model_size=model,\n",
    "                            split=\"SID03\",\n",
    "                            fold_id=fold,\n",
    "                            epochs=epochs,\n",
    "                            batch=batch,\n",
    "                            lr=lr,\n",
    "                            project=train_project,\n",
    "                            run_name=run_name\n",
    "                        )\n",
    "                        fold_path = (BASE_PATH / \"SID03_kfold\" / f\"fold{fold}\") if fold is not None else BASE_PATH / \"SID03\"\n",
    "                        sid03_test_root = BASE_PATH / \"SID03\"\n",
    "                        evaluate_test_raad(\n",
    "                            model_path=weights,\n",
    "                            split=\"SID03\",\n",
    "                            split_root=sid03_test_root,\n",
    "                            project=eval_project,\n",
    "                            run_name=run_name\n",
    "                        )\n"
   ]
  },
  {
   "cell_type": "code",
   "execution_count": 11,
   "id": "eabfa73e-039e-4526-a87c-30b924caf5f5",
   "metadata": {
    "scrolled": true
   },
   "outputs": [
    {
     "name": "stdout",
     "output_type": "stream",
     "text": [
      "Ultralytics 8.3.154 🚀 Python-3.12.10 torch-2.7.1+cu126 CUDA:0 (NVIDIA A16, 14891MiB)\n",
      "\u001b[34m\u001b[1mengine/trainer: \u001b[0magnostic_nms=False, amp=True, augment=False, auto_augment=randaugment, batch=8, bgr=0.0, box=7.5, cache=False, cfg=None, classes=None, close_mosaic=10, cls=0.5, conf=None, copy_paste=0.0, copy_paste_mode=flip, cos_lr=False, cutmix=0.0, data=/exchange/dspro2/M-AI-ZE/data/adjusted/1.2/splits/SID03_kfold/fold3/data.yaml, degrees=0.0, deterministic=True, device=None, dfl=1.5, dnn=False, dropout=0.0, dynamic=False, embed=None, epochs=25, erasing=0.4, exist_ok=True, fliplr=0.5, flipud=0.0, format=torchscript, fraction=1.0, freeze=None, half=False, hsv_h=0.015, hsv_s=0.7, hsv_v=0.4, imgsz=640, int8=False, iou=0.7, keras=False, kobj=1.0, line_width=None, lr0=0.01, lrf=0.01, mask_ratio=4, max_det=300, mixup=0.0, mode=train, model=yolo11s.pt, momentum=0.937, mosaic=1.0, multi_scale=False, name=yolo11s_SID03_f3_e25_b8, nbs=64, nms=False, opset=None, optimize=False, optimizer=auto, overlap_mask=True, patience=100, perspective=0.0, plots=True, pose=12.0, pretrained=True, profile=False, project=V1_2-maize_disease_detection_train, rect=False, resume=False, retina_masks=False, save=True, save_conf=False, save_crop=False, save_dir=V1_2-maize_disease_detection_train/yolo11s_SID03_f3_e25_b8, save_frames=False, save_json=False, save_period=-1, save_txt=False, scale=0.5, seed=0, shear=0.0, show=False, show_boxes=True, show_conf=True, show_labels=True, simplify=True, single_cls=False, source=None, split=val, stream_buffer=False, task=detect, time=None, tracker=botsort.yaml, translate=0.1, val=True, verbose=True, vid_stride=1, visualize=False, warmup_bias_lr=0.1, warmup_epochs=3.0, warmup_momentum=0.8, weight_decay=0.0005, workers=8, workspace=None\n",
      "Overriding model.yaml nc=80 with nc=1\n",
      "\n",
      "                   from  n    params  module                                       arguments                     \n",
      "  0                  -1  1       928  ultralytics.nn.modules.conv.Conv             [3, 32, 3, 2]                 \n",
      "  1                  -1  1     18560  ultralytics.nn.modules.conv.Conv             [32, 64, 3, 2]                \n",
      "  2                  -1  1     26080  ultralytics.nn.modules.block.C3k2            [64, 128, 1, False, 0.25]     \n",
      "  3                  -1  1    147712  ultralytics.nn.modules.conv.Conv             [128, 128, 3, 2]              \n",
      "  4                  -1  1    103360  ultralytics.nn.modules.block.C3k2            [128, 256, 1, False, 0.25]    \n",
      "  5                  -1  1    590336  ultralytics.nn.modules.conv.Conv             [256, 256, 3, 2]              \n",
      "  6                  -1  1    346112  ultralytics.nn.modules.block.C3k2            [256, 256, 1, True]           \n",
      "  7                  -1  1   1180672  ultralytics.nn.modules.conv.Conv             [256, 512, 3, 2]              \n",
      "  8                  -1  1   1380352  ultralytics.nn.modules.block.C3k2            [512, 512, 1, True]           \n",
      "  9                  -1  1    656896  ultralytics.nn.modules.block.SPPF            [512, 512, 5]                 \n",
      " 10                  -1  1    990976  ultralytics.nn.modules.block.C2PSA           [512, 512, 1]                 \n",
      " 11                  -1  1         0  torch.nn.modules.upsampling.Upsample         [None, 2, 'nearest']          \n",
      " 12             [-1, 6]  1         0  ultralytics.nn.modules.conv.Concat           [1]                           \n",
      " 13                  -1  1    443776  ultralytics.nn.modules.block.C3k2            [768, 256, 1, False]          \n",
      " 14                  -1  1         0  torch.nn.modules.upsampling.Upsample         [None, 2, 'nearest']          \n",
      " 15             [-1, 4]  1         0  ultralytics.nn.modules.conv.Concat           [1]                           \n",
      " 16                  -1  1    127680  ultralytics.nn.modules.block.C3k2            [512, 128, 1, False]          \n",
      " 17                  -1  1    147712  ultralytics.nn.modules.conv.Conv             [128, 128, 3, 2]              \n",
      " 18            [-1, 13]  1         0  ultralytics.nn.modules.conv.Concat           [1]                           \n",
      " 19                  -1  1    345472  ultralytics.nn.modules.block.C3k2            [384, 256, 1, False]          \n",
      " 20                  -1  1    590336  ultralytics.nn.modules.conv.Conv             [256, 256, 3, 2]              \n",
      " 21            [-1, 10]  1         0  ultralytics.nn.modules.conv.Concat           [1]                           \n",
      " 22                  -1  1   1511424  ultralytics.nn.modules.block.C3k2            [768, 512, 1, True]           \n",
      " 23        [16, 19, 22]  1    819795  ultralytics.nn.modules.head.Detect           [1, [128, 256, 512]]          \n",
      "YOLO11s summary: 181 layers, 9,428,179 parameters, 9,428,163 gradients, 21.5 GFLOPs\n",
      "\n",
      "Transferred 493/499 items from pretrained weights\n"
     ]
    },
    {
     "data": {
      "text/html": [
       "Tracking run with wandb version 0.20.1"
      ],
      "text/plain": [
       "<IPython.core.display.HTML object>"
      ]
     },
     "metadata": {},
     "output_type": "display_data"
    },
    {
     "data": {
      "text/html": [
       "Run data is saved locally in <code>/home/jovyan/DSPRO2/M-AI-ZE-Maize-diseases-detection/notebooks/wandb/run-20250613_183004-db5wcvvp</code>"
      ],
      "text/plain": [
       "<IPython.core.display.HTML object>"
      ]
     },
     "metadata": {},
     "output_type": "display_data"
    },
    {
     "data": {
      "text/html": [
       "Syncing run <strong><a href='https://wandb.ai/rueedi-tobias-hochschule-luzern/V1_2-maize_disease_detection_train/runs/db5wcvvp' target=\"_blank\">yolo11s_SID03_f3_e25_b8</a></strong> to <a href='https://wandb.ai/rueedi-tobias-hochschule-luzern/V1_2-maize_disease_detection_train' target=\"_blank\">Weights & Biases</a> (<a href='https://wandb.me/developer-guide' target=\"_blank\">docs</a>)<br>"
      ],
      "text/plain": [
       "<IPython.core.display.HTML object>"
      ]
     },
     "metadata": {},
     "output_type": "display_data"
    },
    {
     "data": {
      "text/html": [
       " View project at <a href='https://wandb.ai/rueedi-tobias-hochschule-luzern/V1_2-maize_disease_detection_train' target=\"_blank\">https://wandb.ai/rueedi-tobias-hochschule-luzern/V1_2-maize_disease_detection_train</a>"
      ],
      "text/plain": [
       "<IPython.core.display.HTML object>"
      ]
     },
     "metadata": {},
     "output_type": "display_data"
    },
    {
     "data": {
      "text/html": [
       " View run at <a href='https://wandb.ai/rueedi-tobias-hochschule-luzern/V1_2-maize_disease_detection_train/runs/db5wcvvp' target=\"_blank\">https://wandb.ai/rueedi-tobias-hochschule-luzern/V1_2-maize_disease_detection_train/runs/db5wcvvp</a>"
      ],
      "text/plain": [
       "<IPython.core.display.HTML object>"
      ]
     },
     "metadata": {},
     "output_type": "display_data"
    },
    {
     "name": "stdout",
     "output_type": "stream",
     "text": [
      "Freezing layer 'model.23.dfl.conv.weight'\n",
      "\u001b[34m\u001b[1mAMP: \u001b[0mrunning Automatic Mixed Precision (AMP) checks...\n",
      "\u001b[34m\u001b[1mAMP: \u001b[0mchecks passed ✅\n",
      "\u001b[34m\u001b[1mtrain: \u001b[0mFast image access ✅ (ping: 0.0±0.0 ms, read: 1966.6±931.6 MB/s, size: 51.9 KB)\n"
     ]
    },
    {
     "name": "stderr",
     "output_type": "stream",
     "text": [
      "\u001b[34m\u001b[1mtrain: \u001b[0mScanning /exchange/dspro2/M-AI-ZE/data/adjusted/1.2/splits/SID03_kfold/fold3/labels/train.cache... 8693 images, 0 backgrounds, 0 corrupt: 100%|██████████| 8693/8693 [00:00<?, ?it/s]\n"
     ]
    },
    {
     "name": "stdout",
     "output_type": "stream",
     "text": [
      "\u001b[34m\u001b[1mval: \u001b[0mFast image access ✅ (ping: 0.0±0.0 ms, read: 1871.0±1022.9 MB/s, size: 54.6 KB)\n"
     ]
    },
    {
     "name": "stderr",
     "output_type": "stream",
     "text": [
      "\u001b[34m\u001b[1mval: \u001b[0mScanning /exchange/dspro2/M-AI-ZE/data/adjusted/1.2/splits/SID03_kfold/fold3/labels/val.cache... 2173 images, 0 backgrounds, 0 corrupt: 100%|██████████| 2173/2173 [00:00<?, ?it/s]\n",
      "Exception ignored in: <function _releaseLock at 0x7f6b6cd5aac0>\n",
      "Traceback (most recent call last):\n",
      "  File \"/opt/conda/lib/python3.12/logging/__init__.py\", line 243, in _releaseLock\n",
      "    def _releaseLock():\n",
      "    \n",
      "KeyboardInterrupt: \n",
      "Exception in thread Thread-9 (_pin_memory_loop):\n",
      "Traceback (most recent call last):\n",
      "  File \"/opt/conda/lib/python3.12/threading.py\", line 1075, in _bootstrap_inner\n",
      "    self.run()\n",
      "  File \"/opt/conda/lib/python3.12/site-packages/ipykernel/ipkernel.py\", line 766, in run_closure\n",
      "    _threading_Thread_run(self)\n",
      "  File \"/opt/conda/lib/python3.12/threading.py\", line 1012, in run\n",
      "    self._target(*self._args, **self._kwargs)\n",
      "  File \"/opt/conda/lib/python3.12/site-packages/torch/utils/data/_utils/pin_memory.py\", line 61, in _pin_memory_loop\n",
      "    do_one_step()\n",
      "  File \"/opt/conda/lib/python3.12/site-packages/torch/utils/data/_utils/pin_memory.py\", line 37, in do_one_step\n",
      "    r = in_queue.get(timeout=MP_STATUS_CHECK_INTERVAL)\n",
      "        ^^^^^^^^^^^^^^^^^^^^^^^^^^^^^^^^^^^^^^^^^^^^^^\n",
      "  File \"/opt/conda/lib/python3.12/multiprocessing/queues.py\", line 122, in get\n",
      "    return _ForkingPickler.loads(res)\n",
      "           ^^^^^^^^^^^^^^^^^^^^^^^^^^\n",
      "  File \"/opt/conda/lib/python3.12/site-packages/torch/multiprocessing/reductions.py\", line 541, in rebuild_storage_fd\n",
      "    fd = df.detach()\n",
      "         ^^^^^^^^^^^\n",
      "  File \"/opt/conda/lib/python3.12/multiprocessing/resource_sharer.py\", line 57, in detach\n",
      "    with _resource_sharer.get_connection(self._id) as conn:\n",
      "         ^^^^^^^^^^^^^^^^^^^^^^^^^^^^^^^^^^^^^^^^^\n",
      "  File \"/opt/conda/lib/python3.12/multiprocessing/resource_sharer.py\", line 86, in get_connection\n",
      "    c = Client(address, authkey=process.current_process().authkey)\n",
      "        ^^^^^^^^^^^^^^^^^^^^^^^^^^^^^^^^^^^^^^^^^^^^^^^^^^^^^^^^^^\n",
      "  File \"/opt/conda/lib/python3.12/multiprocessing/connection.py\", line 526, in Client\n",
      "    deliver_challenge(c, authkey)\n",
      "  File \"/opt/conda/lib/python3.12/multiprocessing/connection.py\", line 939, in deliver_challenge\n",
      "    response = connection.recv_bytes(256)        # reject large message\n",
      "               ^^^^^^^^^^^^^^^^^^^^^^^^^^\n",
      "  File \"/opt/conda/lib/python3.12/multiprocessing/connection.py\", line 216, in recv_bytes\n",
      "    buf = self._recv_bytes(maxlength)\n",
      "          ^^^^^^^^^^^^^^^^^^^^^^^^^^^\n",
      "  File \"/opt/conda/lib/python3.12/multiprocessing/connection.py\", line 430, in _recv_bytes\n",
      "    buf = self._recv(4)\n",
      "          ^^^^^^^^^^^^^\n",
      "  File \"/opt/conda/lib/python3.12/multiprocessing/connection.py\", line 395, in _recv\n",
      "    chunk = read(handle, remaining)\n",
      "            ^^^^^^^^^^^^^^^^^^^^^^^\n",
      "ConnectionResetError: [Errno 104] Connection reset by peer\n"
     ]
    },
    {
     "name": "stdout",
     "output_type": "stream",
     "text": [
      "Plotting labels to V1_2-maize_disease_detection_train/yolo11s_SID03_f3_e25_b8/labels.jpg... \n",
      "\u001b[34m\u001b[1moptimizer:\u001b[0m 'optimizer=auto' found, ignoring 'lr0=0.01' and 'momentum=0.937' and determining best 'optimizer', 'lr0' and 'momentum' automatically... \n",
      "\u001b[34m\u001b[1moptimizer:\u001b[0m AdamW(lr=0.002, momentum=0.9) with parameter groups 81 weight(decay=0.0), 88 weight(decay=0.0005), 87 bias(decay=0.0)\n",
      "Image sizes 640 train, 640 val\n",
      "Using 8 dataloader workers\n",
      "Logging results to \u001b[1mV1_2-maize_disease_detection_train/yolo11s_SID03_f3_e25_b8\u001b[0m\n",
      "Starting training for 25 epochs...\n",
      "\n",
      "      Epoch    GPU_mem   box_loss   cls_loss   dfl_loss  Instances       Size\n"
     ]
    },
    {
     "name": "stderr",
     "output_type": "stream",
     "text": [
      "  0%|          | 0/1087 [00:00<?, ?it/s]"
     ]
    },
    {
     "name": "stdout",
     "output_type": "stream",
     "text": [
      "Training Error: Pin memory thread exited unexpectedly\n"
     ]
    },
    {
     "name": "stderr",
     "output_type": "stream",
     "text": [
      "\n",
      "Traceback (most recent call last):\n",
      "  File \"/tmp/ipykernel_747/3208005418.py\", line 29, in train_model\n",
      "    results = model.train(\n",
      "              ^^^^^^^^^^^^\n",
      "  File \"/opt/conda/lib/python3.12/site-packages/ultralytics/engine/model.py\", line 797, in train\n",
      "    self.trainer.train()\n",
      "  File \"/opt/conda/lib/python3.12/site-packages/ultralytics/engine/trainer.py\", line 227, in train\n",
      "    self._do_train(world_size)\n",
      "  File \"/opt/conda/lib/python3.12/site-packages/ultralytics/engine/trainer.py\", line 388, in _do_train\n",
      "    for i, batch in pbar:\n",
      "                    ^^^^\n",
      "  File \"/opt/conda/lib/python3.12/site-packages/tqdm/std.py\", line 1181, in __iter__\n",
      "    for obj in iterable:\n",
      "               ^^^^^^^^\n",
      "  File \"/opt/conda/lib/python3.12/site-packages/ultralytics/data/build.py\", line 67, in __iter__\n",
      "    yield next(self.iterator)\n",
      "          ^^^^^^^^^^^^^^^^^^^\n",
      "  File \"/opt/conda/lib/python3.12/site-packages/torch/utils/data/dataloader.py\", line 733, in __next__\n",
      "    data = self._next_data()\n",
      "           ^^^^^^^^^^^^^^^^^\n",
      "  File \"/opt/conda/lib/python3.12/site-packages/torch/utils/data/dataloader.py\", line 1491, in _next_data\n",
      "    idx, data = self._get_data()\n",
      "                ^^^^^^^^^^^^^^^^\n",
      "  File \"/opt/conda/lib/python3.12/site-packages/torch/utils/data/dataloader.py\", line 1448, in _get_data\n",
      "    raise RuntimeError(\"Pin memory thread exited unexpectedly\")\n",
      "RuntimeError: Pin memory thread exited unexpectedly\n"
     ]
    },
    {
     "data": {
      "text/html": [
       "Finishing previous runs because reinit is set to True."
      ],
      "text/plain": [
       "<IPython.core.display.HTML object>"
      ]
     },
     "metadata": {},
     "output_type": "display_data"
    },
    {
     "data": {
      "text/html": [],
      "text/plain": [
       "<IPython.core.display.HTML object>"
      ]
     },
     "metadata": {},
     "output_type": "display_data"
    },
    {
     "data": {
      "text/html": [
       " View run <strong style=\"color:#cdcd00\">yolo11s_SID03_f3_e25_b8</strong> at: <a href='https://wandb.ai/rueedi-tobias-hochschule-luzern/V1_2-maize_disease_detection_train/runs/db5wcvvp' target=\"_blank\">https://wandb.ai/rueedi-tobias-hochschule-luzern/V1_2-maize_disease_detection_train/runs/db5wcvvp</a><br> View project at: <a href='https://wandb.ai/rueedi-tobias-hochschule-luzern/V1_2-maize_disease_detection_train' target=\"_blank\">https://wandb.ai/rueedi-tobias-hochschule-luzern/V1_2-maize_disease_detection_train</a><br>Synced 5 W&B file(s), 0 media file(s), 0 artifact file(s) and 0 other file(s)"
      ],
      "text/plain": [
       "<IPython.core.display.HTML object>"
      ]
     },
     "metadata": {},
     "output_type": "display_data"
    },
    {
     "data": {
      "text/html": [
       "Find logs at: <code>./wandb/run-20250613_183004-db5wcvvp/logs</code>"
      ],
      "text/plain": [
       "<IPython.core.display.HTML object>"
      ]
     },
     "metadata": {},
     "output_type": "display_data"
    },
    {
     "name": "stderr",
     "output_type": "stream",
     "text": [
      "\u001b[34m\u001b[1mwandb\u001b[0m: \u001b[33mWARNING\u001b[0m Using a boolean value for 'reinit' is deprecated. Use 'return_previous' or 'finish_previous' instead.\n"
     ]
    },
    {
     "data": {
      "text/html": [
       "Tracking run with wandb version 0.20.1"
      ],
      "text/plain": [
       "<IPython.core.display.HTML object>"
      ]
     },
     "metadata": {},
     "output_type": "display_data"
    },
    {
     "data": {
      "text/html": [
       "Run data is saved locally in <code>/home/jovyan/DSPRO2/M-AI-ZE-Maize-diseases-detection/notebooks/wandb/run-20250613_183012-r3tkvyrb</code>"
      ],
      "text/plain": [
       "<IPython.core.display.HTML object>"
      ]
     },
     "metadata": {},
     "output_type": "display_data"
    },
    {
     "data": {
      "text/html": [
       "Syncing run <strong><a href='https://wandb.ai/rueedi-tobias-hochschule-luzern/V1_2-maize_disease_detection_eval/runs/r3tkvyrb' target=\"_blank\">yolo11s_SID03_f3_e25_b8</a></strong> to <a href='https://wandb.ai/rueedi-tobias-hochschule-luzern/V1_2-maize_disease_detection_eval' target=\"_blank\">Weights & Biases</a> (<a href='https://wandb.me/developer-guide' target=\"_blank\">docs</a>)<br>"
      ],
      "text/plain": [
       "<IPython.core.display.HTML object>"
      ]
     },
     "metadata": {},
     "output_type": "display_data"
    },
    {
     "data": {
      "text/html": [
       " View project at <a href='https://wandb.ai/rueedi-tobias-hochschule-luzern/V1_2-maize_disease_detection_eval' target=\"_blank\">https://wandb.ai/rueedi-tobias-hochschule-luzern/V1_2-maize_disease_detection_eval</a>"
      ],
      "text/plain": [
       "<IPython.core.display.HTML object>"
      ]
     },
     "metadata": {},
     "output_type": "display_data"
    },
    {
     "data": {
      "text/html": [
       " View run at <a href='https://wandb.ai/rueedi-tobias-hochschule-luzern/V1_2-maize_disease_detection_eval/runs/r3tkvyrb' target=\"_blank\">https://wandb.ai/rueedi-tobias-hochschule-luzern/V1_2-maize_disease_detection_eval/runs/r3tkvyrb</a>"
      ],
      "text/plain": [
       "<IPython.core.display.HTML object>"
      ]
     },
     "metadata": {},
     "output_type": "display_data"
    },
    {
     "data": {
      "application/vnd.jupyter.widget-view+json": {
       "model_id": "04d3183bbbb6496ca8fbd884d910b10e",
       "version_major": 2,
       "version_minor": 0
      },
      "text/plain": [
       "Evaluating SID03:   0%|          | 0/2717 [00:00<?, ?it/s]"
      ]
     },
     "metadata": {},
     "output_type": "display_data"
    },
    {
     "name": "stdout",
     "output_type": "stream",
     "text": [
      "Evaluation error: CUDA out of memory. Tried to allocate 8.23 GiB. GPU 0 has a total capacity of 14.54 GiB of which 5.15 GiB is free. Process 490049 has 9.38 GiB memory in use. Of the allocated memory 9.22 GiB is allocated by PyTorch, and 62.86 MiB is reserved by PyTorch but unallocated. If reserved but unallocated memory is large try setting PYTORCH_CUDA_ALLOC_CONF=expandable_segments:True to avoid fragmentation.  See documentation for Memory Management  (https://pytorch.org/docs/stable/notes/cuda.html#environment-variables)\n"
     ]
    },
    {
     "data": {
      "text/html": [],
      "text/plain": [
       "<IPython.core.display.HTML object>"
      ]
     },
     "metadata": {},
     "output_type": "display_data"
    },
    {
     "data": {
      "text/html": [
       " View run <strong style=\"color:#cdcd00\">yolo11s_SID03_f3_e25_b8</strong> at: <a href='https://wandb.ai/rueedi-tobias-hochschule-luzern/V1_2-maize_disease_detection_eval/runs/r3tkvyrb' target=\"_blank\">https://wandb.ai/rueedi-tobias-hochschule-luzern/V1_2-maize_disease_detection_eval/runs/r3tkvyrb</a><br> View project at: <a href='https://wandb.ai/rueedi-tobias-hochschule-luzern/V1_2-maize_disease_detection_eval' target=\"_blank\">https://wandb.ai/rueedi-tobias-hochschule-luzern/V1_2-maize_disease_detection_eval</a><br>Synced 5 W&B file(s), 0 media file(s), 0 artifact file(s) and 0 other file(s)"
      ],
      "text/plain": [
       "<IPython.core.display.HTML object>"
      ]
     },
     "metadata": {},
     "output_type": "display_data"
    },
    {
     "data": {
      "text/html": [
       "Find logs at: <code>./wandb/run-20250613_183012-r3tkvyrb/logs</code>"
      ],
      "text/plain": [
       "<IPython.core.display.HTML object>"
      ]
     },
     "metadata": {},
     "output_type": "display_data"
    },
    {
     "name": "stdout",
     "output_type": "stream",
     "text": [
      "Ultralytics 8.3.154 🚀 Python-3.12.10 torch-2.7.1+cu126 CUDA:0 (NVIDIA A16, 14891MiB)\n",
      "\u001b[34m\u001b[1mengine/trainer: \u001b[0magnostic_nms=False, amp=True, augment=False, auto_augment=randaugment, batch=16, bgr=0.0, box=7.5, cache=False, cfg=None, classes=None, close_mosaic=10, cls=0.5, conf=None, copy_paste=0.0, copy_paste_mode=flip, cos_lr=False, cutmix=0.0, data=/exchange/dspro2/M-AI-ZE/data/adjusted/1.2/splits/SID03_kfold/fold3/data.yaml, degrees=0.0, deterministic=True, device=None, dfl=1.5, dnn=False, dropout=0.0, dynamic=False, embed=None, epochs=25, erasing=0.4, exist_ok=True, fliplr=0.5, flipud=0.0, format=torchscript, fraction=1.0, freeze=None, half=False, hsv_h=0.015, hsv_s=0.7, hsv_v=0.4, imgsz=640, int8=False, iou=0.7, keras=False, kobj=1.0, line_width=None, lr0=0.01, lrf=0.01, mask_ratio=4, max_det=300, mixup=0.0, mode=train, model=yolo11s.pt, momentum=0.937, mosaic=1.0, multi_scale=False, name=yolo11s_SID03_f3_e25_b16, nbs=64, nms=False, opset=None, optimize=False, optimizer=auto, overlap_mask=True, patience=100, perspective=0.0, plots=True, pose=12.0, pretrained=True, profile=False, project=V1_2-maize_disease_detection_train, rect=False, resume=False, retina_masks=False, save=True, save_conf=False, save_crop=False, save_dir=V1_2-maize_disease_detection_train/yolo11s_SID03_f3_e25_b16, save_frames=False, save_json=False, save_period=-1, save_txt=False, scale=0.5, seed=0, shear=0.0, show=False, show_boxes=True, show_conf=True, show_labels=True, simplify=True, single_cls=False, source=None, split=val, stream_buffer=False, task=detect, time=None, tracker=botsort.yaml, translate=0.1, val=True, verbose=True, vid_stride=1, visualize=False, warmup_bias_lr=0.1, warmup_epochs=3.0, warmup_momentum=0.8, weight_decay=0.0005, workers=8, workspace=None\n",
      "Overriding model.yaml nc=80 with nc=1\n",
      "\n",
      "                   from  n    params  module                                       arguments                     \n",
      "  0                  -1  1       928  ultralytics.nn.modules.conv.Conv             [3, 32, 3, 2]                 \n",
      "  1                  -1  1     18560  ultralytics.nn.modules.conv.Conv             [32, 64, 3, 2]                \n",
      "  2                  -1  1     26080  ultralytics.nn.modules.block.C3k2            [64, 128, 1, False, 0.25]     \n",
      "  3                  -1  1    147712  ultralytics.nn.modules.conv.Conv             [128, 128, 3, 2]              \n",
      "  4                  -1  1    103360  ultralytics.nn.modules.block.C3k2            [128, 256, 1, False, 0.25]    \n",
      "  5                  -1  1    590336  ultralytics.nn.modules.conv.Conv             [256, 256, 3, 2]              \n",
      "  6                  -1  1    346112  ultralytics.nn.modules.block.C3k2            [256, 256, 1, True]           \n",
      "  7                  -1  1   1180672  ultralytics.nn.modules.conv.Conv             [256, 512, 3, 2]              \n",
      "  8                  -1  1   1380352  ultralytics.nn.modules.block.C3k2            [512, 512, 1, True]           \n",
      "  9                  -1  1    656896  ultralytics.nn.modules.block.SPPF            [512, 512, 5]                 \n",
      " 10                  -1  1    990976  ultralytics.nn.modules.block.C2PSA           [512, 512, 1]                 \n",
      " 11                  -1  1         0  torch.nn.modules.upsampling.Upsample         [None, 2, 'nearest']          \n",
      " 12             [-1, 6]  1         0  ultralytics.nn.modules.conv.Concat           [1]                           \n",
      " 13                  -1  1    443776  ultralytics.nn.modules.block.C3k2            [768, 256, 1, False]          \n",
      " 14                  -1  1         0  torch.nn.modules.upsampling.Upsample         [None, 2, 'nearest']          \n",
      " 15             [-1, 4]  1         0  ultralytics.nn.modules.conv.Concat           [1]                           \n",
      " 16                  -1  1    127680  ultralytics.nn.modules.block.C3k2            [512, 128, 1, False]          \n",
      " 17                  -1  1    147712  ultralytics.nn.modules.conv.Conv             [128, 128, 3, 2]              \n",
      " 18            [-1, 13]  1         0  ultralytics.nn.modules.conv.Concat           [1]                           \n",
      " 19                  -1  1    345472  ultralytics.nn.modules.block.C3k2            [384, 256, 1, False]          \n",
      " 20                  -1  1    590336  ultralytics.nn.modules.conv.Conv             [256, 256, 3, 2]              \n",
      " 21            [-1, 10]  1         0  ultralytics.nn.modules.conv.Concat           [1]                           \n",
      " 22                  -1  1   1511424  ultralytics.nn.modules.block.C3k2            [768, 512, 1, True]           \n",
      " 23        [16, 19, 22]  1    819795  ultralytics.nn.modules.head.Detect           [1, [128, 256, 512]]          \n",
      "YOLO11s summary: 181 layers, 9,428,179 parameters, 9,428,163 gradients, 21.5 GFLOPs\n",
      "\n",
      "Transferred 493/499 items from pretrained weights\n"
     ]
    },
    {
     "data": {
      "text/html": [
       "Tracking run with wandb version 0.20.1"
      ],
      "text/plain": [
       "<IPython.core.display.HTML object>"
      ]
     },
     "metadata": {},
     "output_type": "display_data"
    },
    {
     "data": {
      "text/html": [
       "Run data is saved locally in <code>/home/jovyan/DSPRO2/M-AI-ZE-Maize-diseases-detection/notebooks/wandb/run-20250613_183016-l09859d7</code>"
      ],
      "text/plain": [
       "<IPython.core.display.HTML object>"
      ]
     },
     "metadata": {},
     "output_type": "display_data"
    },
    {
     "data": {
      "text/html": [
       "Syncing run <strong><a href='https://wandb.ai/rueedi-tobias-hochschule-luzern/V1_2-maize_disease_detection_train/runs/l09859d7' target=\"_blank\">yolo11s_SID03_f3_e25_b16</a></strong> to <a href='https://wandb.ai/rueedi-tobias-hochschule-luzern/V1_2-maize_disease_detection_train' target=\"_blank\">Weights & Biases</a> (<a href='https://wandb.me/developer-guide' target=\"_blank\">docs</a>)<br>"
      ],
      "text/plain": [
       "<IPython.core.display.HTML object>"
      ]
     },
     "metadata": {},
     "output_type": "display_data"
    },
    {
     "data": {
      "text/html": [
       " View project at <a href='https://wandb.ai/rueedi-tobias-hochschule-luzern/V1_2-maize_disease_detection_train' target=\"_blank\">https://wandb.ai/rueedi-tobias-hochschule-luzern/V1_2-maize_disease_detection_train</a>"
      ],
      "text/plain": [
       "<IPython.core.display.HTML object>"
      ]
     },
     "metadata": {},
     "output_type": "display_data"
    },
    {
     "data": {
      "text/html": [
       " View run at <a href='https://wandb.ai/rueedi-tobias-hochschule-luzern/V1_2-maize_disease_detection_train/runs/l09859d7' target=\"_blank\">https://wandb.ai/rueedi-tobias-hochschule-luzern/V1_2-maize_disease_detection_train/runs/l09859d7</a>"
      ],
      "text/plain": [
       "<IPython.core.display.HTML object>"
      ]
     },
     "metadata": {},
     "output_type": "display_data"
    },
    {
     "name": "stdout",
     "output_type": "stream",
     "text": [
      "Freezing layer 'model.23.dfl.conv.weight'\n",
      "\u001b[34m\u001b[1mAMP: \u001b[0mrunning Automatic Mixed Precision (AMP) checks...\n",
      "\u001b[34m\u001b[1mAMP: \u001b[0mchecks passed ✅\n",
      "\u001b[34m\u001b[1mtrain: \u001b[0mFast image access ✅ (ping: 0.0±0.0 ms, read: 2321.5±774.4 MB/s, size: 51.9 KB)\n"
     ]
    },
    {
     "name": "stderr",
     "output_type": "stream",
     "text": [
      "\u001b[34m\u001b[1mtrain: \u001b[0mScanning /exchange/dspro2/M-AI-ZE/data/adjusted/1.2/splits/SID03_kfold/fold3/labels/train.cache... 8693 images, 0 backgrounds, 0 corrupt: 100%|██████████| 8693/8693 [00:00<?, ?it/s]\n"
     ]
    },
    {
     "name": "stdout",
     "output_type": "stream",
     "text": [
      "\u001b[34m\u001b[1mval: \u001b[0mFast image access ✅ (ping: 0.0±0.0 ms, read: 785.8±235.7 MB/s, size: 54.6 KB)\n"
     ]
    },
    {
     "name": "stderr",
     "output_type": "stream",
     "text": [
      "\u001b[34m\u001b[1mval: \u001b[0mScanning /exchange/dspro2/M-AI-ZE/data/adjusted/1.2/splits/SID03_kfold/fold3/labels/val.cache... 2173 images, 0 backgrounds, 0 corrupt: 100%|██████████| 2173/2173 [00:00<?, ?it/s]\n"
     ]
    },
    {
     "name": "stdout",
     "output_type": "stream",
     "text": [
      "Plotting labels to V1_2-maize_disease_detection_train/yolo11s_SID03_f3_e25_b16/labels.jpg... \n",
      "WARNING ⚠️ \n",
      "\u001b[34m\u001b[1moptimizer:\u001b[0m 'optimizer=auto' found, ignoring 'lr0=0.01' and 'momentum=0.937' and determining best 'optimizer', 'lr0' and 'momentum' automatically... \n",
      "\u001b[34m\u001b[1moptimizer:\u001b[0m AdamW(lr=0.002, momentum=0.9) with parameter groups 81 weight(decay=0.0), 88 weight(decay=0.0005), 87 bias(decay=0.0)\n",
      "Image sizes 640 train, 640 val\n",
      "Using 8 dataloader workers\n",
      "Logging results to \u001b[1mV1_2-maize_disease_detection_train/yolo11s_SID03_f3_e25_b16\u001b[0m\n",
      "Starting training for 25 epochs...\n",
      "\n",
      "      Epoch    GPU_mem   box_loss   cls_loss   dfl_loss  Instances       Size\n"
     ]
    },
    {
     "name": "stderr",
     "output_type": "stream",
     "text": [
      "Exception in thread Thread-13 (_pin_memory_loop):\n",
      "Traceback (most recent call last):\n",
      "  File \"/opt/conda/lib/python3.12/threading.py\", line 1075, in _bootstrap_inner\n",
      "    self.run()\n",
      "  File \"/opt/conda/lib/python3.12/site-packages/ipykernel/ipkernel.py\", line 766, in run_closure\n",
      "  0%|          | 0/544 [00:00<?, ?it/s]    _threading_Thread_run(self)\n",
      "  File \"/opt/conda/lib/python3.12/threading.py\", line 1012, in run\n",
      "    self._target(*self._args, **self._kwargs)\n",
      "  File \"/opt/conda/lib/python3.12/site-packages/torch/utils/data/_utils/pin_memory.py\", line 61, in _pin_memory_loop\n",
      "    do_one_step()\n",
      "  File \"/opt/conda/lib/python3.12/site-packages/torch/utils/data/_utils/pin_memory.py\", line 37, in do_one_step\n",
      "    r = in_queue.get(timeout=MP_STATUS_CHECK_INTERVAL)\n",
      "        ^^^^^^^^^^^^^^^^^^^^^^^^^^^^^^^^^^^^^^^^^^^^^^\n",
      "  File \"/opt/conda/lib/python3.12/multiprocessing/queues.py\", line 122, in get\n",
      "    return _ForkingPickler.loads(res)\n",
      "           ^^^^^^^^^^^^^^^^^^^^^^^^^^\n",
      "  File \"/opt/conda/lib/python3.12/site-packages/torch/multiprocessing/reductions.py\", line 541, in rebuild_storage_fd\n",
      "    fd = df.detach()\n",
      "         ^^^^^^^^^^^\n",
      "  File \"/opt/conda/lib/python3.12/multiprocessing/resource_sharer.py\", line 57, in detach\n",
      "    with _resource_sharer.get_connection(self._id) as conn:\n",
      "         ^^^^^^^^^^^^^^^^^^^^^^^^^^^^^^^^^^^^^^^^^\n",
      "  File \"/opt/conda/lib/python3.12/multiprocessing/resource_sharer.py\", line 86, in get_connection\n",
      "    c = Client(address, authkey=process.current_process().authkey)\n",
      "        ^^^^^^^^^^^^^^^^^^^^^^^^^^^^^^^^^^^^^^^^^^^^^^^^^^^^^^^^^^\n",
      "  File \"/opt/conda/lib/python3.12/multiprocessing/connection.py\", line 519, in Client\n",
      "    c = SocketClient(address)\n",
      "        ^^^^^^^^^^^^^^^^^^^^^\n",
      "  File \"/opt/conda/lib/python3.12/multiprocessing/connection.py\", line 647, in SocketClient\n",
      "    s.connect(address)\n",
      "FileNotFoundError: [Errno 2] No such file or directory\n",
      "Exception in thread Thread-12 (_pin_memory_loop):\n",
      "Traceback (most recent call last):\n",
      "  File \"/opt/conda/lib/python3.12/threading.py\", line 1075, in _bootstrap_inner\n",
      "    self.run()\n",
      "  File \"/opt/conda/lib/python3.12/site-packages/ipykernel/ipkernel.py\", line 766, in run_closure\n",
      "    _threading_Thread_run(self)\n",
      "  File \"/opt/conda/lib/python3.12/threading.py\", line 1012, in run\n",
      "    self._target(*self._args, **self._kwargs)\n",
      "  File \"/opt/conda/lib/python3.12/site-packages/torch/utils/data/_utils/pin_memory.py\", line 61, in _pin_memory_loop\n",
      "    do_one_step()\n",
      "  File \"/opt/conda/lib/python3.12/site-packages/torch/utils/data/_utils/pin_memory.py\", line 37, in do_one_step\n",
      "    r = in_queue.get(timeout=MP_STATUS_CHECK_INTERVAL)\n",
      "        ^^^^^^^^^^^^^^^^^^^^^^^^^^^^^^^^^^^^^^^^^^^^^^\n",
      "  File \"/opt/conda/lib/python3.12/multiprocessing/queues.py\", line 122, in get\n",
      "    return _ForkingPickler.loads(res)\n",
      "           ^^^^^^^^^^^^^^^^^^^^^^^^^^\n",
      "  File \"/opt/conda/lib/python3.12/site-packages/torch/multiprocessing/reductions.py\", line 541, in rebuild_storage_fd\n",
      "    fd = df.detach()\n",
      "         ^^^^^^^^^^^\n",
      "  File \"/opt/conda/lib/python3.12/multiprocessing/resource_sharer.py\", line 57, in detach\n",
      "    with _resource_sharer.get_connection(self._id) as conn:\n",
      "         ^^^^^^^^^^^^^^^^^^^^^^^^^^^^^^^^^^^^^^^^^\n",
      "  File \"/opt/conda/lib/python3.12/multiprocessing/resource_sharer.py\", line 86, in get_connection\n",
      "    c = Client(address, authkey=process.current_process().authkey)\n",
      "        ^^^^^^^^^^^^^^^^^^^^^^^^^^^^^^^^^^^^^^^^^^^^^^^^^^^^^^^^^^\n",
      "  File \"/opt/conda/lib/python3.12/multiprocessing/connection.py\", line 525, in Client\n",
      "    answer_challenge(c, authkey)\n",
      "  File \"/opt/conda/lib/python3.12/multiprocessing/connection.py\", line 962, in answer_challenge\n",
      "    response = connection.recv_bytes(256)        # reject large message\n",
      "               ^^^^^^^^^^^^^^^^^^^^^^^^^^\n",
      "  File \"/opt/conda/lib/python3.12/multiprocessing/connection.py\", line 216, in recv_bytes\n",
      "    buf = self._recv_bytes(maxlength)\n",
      "          ^^^^^^^^^^^^^^^^^^^^^^^^^^^\n",
      "  File \"/opt/conda/lib/python3.12/multiprocessing/connection.py\", line 430, in _recv_bytes\n",
      "    buf = self._recv(4)\n",
      "          ^^^^^^^^^^^^^\n",
      "  File \"/opt/conda/lib/python3.12/multiprocessing/connection.py\", line 395, in _recv\n",
      "    chunk = read(handle, remaining)\n",
      "            ^^^^^^^^^^^^^^^^^^^^^^^\n",
      "ConnectionResetError: [Errno 104] Connection reset by peer\n",
      "Process Process-43:\n",
      "Process Process-47:\n",
      "Process Process-34:\n",
      "Process Process-44:\n",
      "Process Process-38:\n",
      "Process Process-33:\n",
      "Process Process-45:\n",
      "Traceback (most recent call last):\n",
      "Traceback (most recent call last):\n",
      "Traceback (most recent call last):\n",
      "Traceback (most recent call last):\n",
      "  File \"/opt/conda/lib/python3.12/multiprocessing/process.py\", line 317, in _bootstrap\n",
      "    util._exit_function()\n",
      "Traceback (most recent call last):\n",
      "Traceback (most recent call last):\n",
      "Traceback (most recent call last):\n",
      "  File \"/opt/conda/lib/python3.12/multiprocessing/process.py\", line 317, in _bootstrap\n",
      "    util._exit_function()\n",
      "  File \"/opt/conda/lib/python3.12/multiprocessing/util.py\", line 363, in _exit_function\n",
      "    _run_finalizers()\n",
      "  File \"/opt/conda/lib/python3.12/multiprocessing/process.py\", line 317, in _bootstrap\n",
      "    util._exit_function()\n",
      "  File \"/opt/conda/lib/python3.12/multiprocessing/process.py\", line 317, in _bootstrap\n",
      "    util._exit_function()\n",
      "  File \"/opt/conda/lib/python3.12/multiprocessing/process.py\", line 317, in _bootstrap\n",
      "    util._exit_function()\n",
      "  File \"/opt/conda/lib/python3.12/multiprocessing/util.py\", line 303, in _run_finalizers\n",
      "    finalizer()\n",
      "  File \"/opt/conda/lib/python3.12/multiprocessing/util.py\", line 363, in _exit_function\n",
      "    _run_finalizers()\n",
      "  File \"/opt/conda/lib/python3.12/multiprocessing/process.py\", line 317, in _bootstrap\n",
      "    util._exit_function()\n",
      "  File \"/opt/conda/lib/python3.12/multiprocessing/util.py\", line 363, in _exit_function\n",
      "    _run_finalizers()\n",
      "  File \"/opt/conda/lib/python3.12/multiprocessing/util.py\", line 363, in _exit_function\n",
      "    _run_finalizers()\n",
      "  File \"/opt/conda/lib/python3.12/multiprocessing/process.py\", line 317, in _bootstrap\n",
      "    util._exit_function()\n",
      "  File \"/opt/conda/lib/python3.12/multiprocessing/util.py\", line 227, in __call__\n",
      "    res = self._callback(*self._args, **self._kwargs)\n",
      "          ^^^^^^^^^^^^^^^^^^^^^^^^^^^^^^^^^^^^^^^^^^^\n",
      "  File \"/opt/conda/lib/python3.12/multiprocessing/util.py\", line 363, in _exit_function\n",
      "    _run_finalizers()\n",
      "  File \"/opt/conda/lib/python3.12/multiprocessing/util.py\", line 303, in _run_finalizers\n",
      "    finalizer()\n",
      "  File \"/opt/conda/lib/python3.12/multiprocessing/util.py\", line 303, in _run_finalizers\n",
      "    finalizer()\n",
      "  File \"/opt/conda/lib/python3.12/multiprocessing/util.py\", line 363, in _exit_function\n",
      "    _run_finalizers()\n",
      "  File \"/opt/conda/lib/python3.12/multiprocessing/util.py\", line 303, in _run_finalizers\n",
      "    finalizer()\n",
      "  File \"/opt/conda/lib/python3.12/multiprocessing/queues.py\", line 219, in _finalize_join\n",
      "    thread.join()\n",
      "  File \"/opt/conda/lib/python3.12/multiprocessing/util.py\", line 363, in _exit_function\n",
      "    _run_finalizers()\n",
      "  File \"/opt/conda/lib/python3.12/multiprocessing/util.py\", line 227, in __call__\n",
      "    res = self._callback(*self._args, **self._kwargs)\n",
      "          ^^^^^^^^^^^^^^^^^^^^^^^^^^^^^^^^^^^^^^^^^^^\n",
      "  File \"/opt/conda/lib/python3.12/multiprocessing/util.py\", line 303, in _run_finalizers\n",
      "    finalizer()\n",
      "  File \"/opt/conda/lib/python3.12/multiprocessing/util.py\", line 227, in __call__\n",
      "    res = self._callback(*self._args, **self._kwargs)\n",
      "          ^^^^^^^^^^^^^^^^^^^^^^^^^^^^^^^^^^^^^^^^^^^\n",
      "  File \"/opt/conda/lib/python3.12/threading.py\", line 1149, in join\n",
      "    self._wait_for_tstate_lock()\n",
      "  File \"/opt/conda/lib/python3.12/multiprocessing/util.py\", line 227, in __call__\n",
      "    res = self._callback(*self._args, **self._kwargs)\n",
      "          ^^^^^^^^^^^^^^^^^^^^^^^^^^^^^^^^^^^^^^^^^^^\n",
      "  File \"/opt/conda/lib/python3.12/multiprocessing/queues.py\", line 219, in _finalize_join\n",
      "    thread.join()\n",
      "  File \"/opt/conda/lib/python3.12/multiprocessing/util.py\", line 303, in _run_finalizers\n",
      "    finalizer()\n",
      "  File \"/opt/conda/lib/python3.12/multiprocessing/util.py\", line 227, in __call__\n",
      "    res = self._callback(*self._args, **self._kwargs)\n",
      "          ^^^^^^^^^^^^^^^^^^^^^^^^^^^^^^^^^^^^^^^^^^^\n",
      "  File \"/opt/conda/lib/python3.12/threading.py\", line 1169, in _wait_for_tstate_lock\n",
      "    if lock.acquire(block, timeout):\n",
      "       ^^^^^^^^^^^^^^^^^^^^^^^^^^^^\n",
      "  File \"/opt/conda/lib/python3.12/multiprocessing/queues.py\", line 219, in _finalize_join\n",
      "    thread.join()\n",
      "  File \"/opt/conda/lib/python3.12/threading.py\", line 1149, in join\n",
      "    self._wait_for_tstate_lock()\n",
      "  File \"/opt/conda/lib/python3.12/multiprocessing/util.py\", line 227, in __call__\n",
      "    res = self._callback(*self._args, **self._kwargs)\n",
      "          ^^^^^^^^^^^^^^^^^^^^^^^^^^^^^^^^^^^^^^^^^^^\n",
      "  File \"/opt/conda/lib/python3.12/multiprocessing/queues.py\", line 219, in _finalize_join\n",
      "    thread.join()\n",
      "KeyboardInterrupt\n",
      "  File \"/opt/conda/lib/python3.12/threading.py\", line 1149, in join\n",
      "    self._wait_for_tstate_lock()\n",
      "  File \"/opt/conda/lib/python3.12/multiprocessing/util.py\", line 303, in _run_finalizers\n",
      "    finalizer()\n",
      "  File \"/opt/conda/lib/python3.12/threading.py\", line 1169, in _wait_for_tstate_lock\n",
      "    if lock.acquire(block, timeout):\n",
      "       ^^^^^^^^^^^^^^^^^^^^^^^^^^^^\n",
      "  File \"/opt/conda/lib/python3.12/multiprocessing/queues.py\", line 219, in _finalize_join\n",
      "    thread.join()\n",
      "  File \"/opt/conda/lib/python3.12/multiprocessing/queues.py\", line 219, in _finalize_join\n",
      "    thread.join()\n",
      "  File \"/opt/conda/lib/python3.12/threading.py\", line 1149, in join\n",
      "    self._wait_for_tstate_lock()\n",
      "  File \"/opt/conda/lib/python3.12/threading.py\", line 1169, in _wait_for_tstate_lock\n",
      "    if lock.acquire(block, timeout):\n",
      "       ^^^^^^^^^^^^^^^^^^^^^^^^^^^^\n",
      "KeyboardInterrupt\n",
      "  File \"/opt/conda/lib/python3.12/multiprocessing/util.py\", line 227, in __call__\n",
      "    res = self._callback(*self._args, **self._kwargs)\n",
      "          ^^^^^^^^^^^^^^^^^^^^^^^^^^^^^^^^^^^^^^^^^^^\n",
      "  File \"/opt/conda/lib/python3.12/threading.py\", line 1149, in join\n",
      "    self._wait_for_tstate_lock()\n",
      "  File \"/opt/conda/lib/python3.12/threading.py\", line 1149, in join\n",
      "    self._wait_for_tstate_lock()\n",
      "  File \"/opt/conda/lib/python3.12/threading.py\", line 1169, in _wait_for_tstate_lock\n",
      "    if lock.acquire(block, timeout):\n",
      "       ^^^^^^^^^^^^^^^^^^^^^^^^^^^^\n",
      "KeyboardInterrupt\n",
      "  File \"/opt/conda/lib/python3.12/multiprocessing/queues.py\", line 219, in _finalize_join\n",
      "    thread.join()\n",
      "  File \"/opt/conda/lib/python3.12/threading.py\", line 1169, in _wait_for_tstate_lock\n",
      "    if lock.acquire(block, timeout):\n",
      "       ^^^^^^^^^^^^^^^^^^^^^^^^^^^^\n",
      "  File \"/opt/conda/lib/python3.12/threading.py\", line 1169, in _wait_for_tstate_lock\n",
      "    if lock.acquire(block, timeout):\n",
      "       ^^^^^^^^^^^^^^^^^^^^^^^^^^^^\n",
      "KeyboardInterrupt\n",
      "KeyboardInterrupt\n",
      "  File \"/opt/conda/lib/python3.12/threading.py\", line 1149, in join\n",
      "    self._wait_for_tstate_lock()\n",
      "KeyboardInterrupt\n",
      "  File \"/opt/conda/lib/python3.12/threading.py\", line 1169, in _wait_for_tstate_lock\n",
      "    if lock.acquire(block, timeout):\n",
      "       ^^^^^^^^^^^^^^^^^^^^^^^^^^^^\n",
      "KeyboardInterrupt\n",
      "Exception ignored in: <generator object tqdm.__iter__ at 0x7f6961dd1120>\n",
      "Traceback (most recent call last):\n",
      "  File \"/opt/conda/lib/python3.12/site-packages/tqdm/std.py\", line 1196, in __iter__\n",
      "    self.close()\n",
      "  File \"/opt/conda/lib/python3.12/site-packages/tqdm/std.py\", line 1265, in close\n",
      "    def close(self):\n",
      "\n",
      "  File \"/opt/conda/lib/python3.12/site-packages/torch/utils/data/_utils/signal_handling.py\", line 73, in handler\n",
      "    _error_if_any_worker_fails()\n",
      "RuntimeError: DataLoader worker (pid 1100) exited unexpectedly with exit code 1. Details are lost due to multiprocessing. Rerunning with num_workers=0 may give better error trace.\n",
      "\n",
      "KeyboardInterrupt\n",
      "\n",
      "Exception ignored in: <function WeakKeyDictionary.__init__.<locals>.remove at 0x7f6a9f10af20>\n",
      "Traceback (most recent call last):\n",
      "  File \"/opt/conda/lib/python3.12/weakref.py\", line 369, in remove\n",
      "    def remove(k, selfref=ref(self)):\n",
      "\n",
      "KeyboardInterrupt: \n"
     ]
    },
    {
     "ename": "KeyboardInterrupt",
     "evalue": "",
     "output_type": "error",
     "traceback": [
      "\u001b[31m---------------------------------------------------------------------------\u001b[39m",
      "\u001b[31mKeyboardInterrupt\u001b[39m                         Traceback (most recent call last)",
      "\u001b[36mFile \u001b[39m\u001b[32m/opt/conda/lib/python3.12/site-packages/IPython/core/async_helpers.py:128\u001b[39m, in \u001b[36m_pseudo_sync_runner\u001b[39m\u001b[34m(coro)\u001b[39m\n\u001b[32m    120\u001b[39m \u001b[38;5;250m\u001b[39m\u001b[33;03m\"\"\"\u001b[39;00m\n\u001b[32m    121\u001b[39m \u001b[33;03mA runner that does not really allow async execution, and just advance the coroutine.\u001b[39;00m\n\u001b[32m    122\u001b[39m \n\u001b[32m   (...)\u001b[39m\u001b[32m    125\u001b[39m \u001b[33;03mCredit to Nathaniel Smith\u001b[39;00m\n\u001b[32m    126\u001b[39m \u001b[33;03m\"\"\"\u001b[39;00m\n\u001b[32m    127\u001b[39m \u001b[38;5;28;01mtry\u001b[39;00m:\n\u001b[32m--> \u001b[39m\u001b[32m128\u001b[39m     \u001b[43mcoro\u001b[49m\u001b[43m.\u001b[49m\u001b[43msend\u001b[49m\u001b[43m(\u001b[49m\u001b[38;5;28;43;01mNone\u001b[39;49;00m\u001b[43m)\u001b[49m\n\u001b[32m    129\u001b[39m \u001b[38;5;28;01mexcept\u001b[39;00m \u001b[38;5;167;01mStopIteration\u001b[39;00m \u001b[38;5;28;01mas\u001b[39;00m exc:\n\u001b[32m    130\u001b[39m     \u001b[38;5;28;01mreturn\u001b[39;00m exc.value\n",
      "\u001b[36mFile \u001b[39m\u001b[32m/opt/conda/lib/python3.12/site-packages/IPython/core/interactiveshell.py:3381\u001b[39m, in \u001b[36mInteractiveShell.run_cell_async\u001b[39m\u001b[34m(self, raw_cell, store_history, silent, shell_futures, transformed_cell, preprocessing_exc_tuple, cell_id)\u001b[39m\n\u001b[32m   3377\u001b[39m exec_count = \u001b[38;5;28mself\u001b[39m.execution_count\n\u001b[32m   3378\u001b[39m \u001b[38;5;28;01mif\u001b[39;00m result.error_in_exec:\n\u001b[32m   3379\u001b[39m     \u001b[38;5;66;03m# Store formatted traceback and error details\u001b[39;00m\n\u001b[32m   3380\u001b[39m     \u001b[38;5;28mself\u001b[39m.history_manager.exceptions[exec_count] = (\n\u001b[32m-> \u001b[39m\u001b[32m3381\u001b[39m         \u001b[38;5;28;43mself\u001b[39;49m\u001b[43m.\u001b[49m\u001b[43m_format_exception_for_storage\u001b[49m\u001b[43m(\u001b[49m\u001b[43mresult\u001b[49m\u001b[43m.\u001b[49m\u001b[43merror_in_exec\u001b[49m\u001b[43m)\u001b[49m\n\u001b[32m   3382\u001b[39m     )\n\u001b[32m   3384\u001b[39m \u001b[38;5;66;03m# Each cell is a *single* input, regardless of how many lines it has\u001b[39;00m\n\u001b[32m   3385\u001b[39m \u001b[38;5;28mself\u001b[39m.execution_count += \u001b[32m1\u001b[39m\n",
      "\u001b[36mFile \u001b[39m\u001b[32m/opt/conda/lib/python3.12/site-packages/IPython/core/interactiveshell.py:3435\u001b[39m, in \u001b[36mInteractiveShell._format_exception_for_storage\u001b[39m\u001b[34m(self, exception, filename, running_compiled_code)\u001b[39m\n\u001b[32m   3432\u001b[39m         stb = evalue._render_traceback_()\n\u001b[32m   3433\u001b[39m     \u001b[38;5;28;01melse\u001b[39;00m:\n\u001b[32m   3434\u001b[39m         \u001b[38;5;66;03m# Otherwise, use InteractiveTB to format the traceback.\u001b[39;00m\n\u001b[32m-> \u001b[39m\u001b[32m3435\u001b[39m         stb = \u001b[38;5;28;43mself\u001b[39;49m\u001b[43m.\u001b[49m\u001b[43mInteractiveTB\u001b[49m\u001b[43m.\u001b[49m\u001b[43mstructured_traceback\u001b[49m\u001b[43m(\u001b[49m\n\u001b[32m   3436\u001b[39m \u001b[43m            \u001b[49m\u001b[43metype\u001b[49m\u001b[43m,\u001b[49m\u001b[43m \u001b[49m\u001b[43mevalue\u001b[49m\u001b[43m,\u001b[49m\u001b[43m \u001b[49m\u001b[43mtb\u001b[49m\u001b[43m,\u001b[49m\u001b[43m \u001b[49m\u001b[43mtb_offset\u001b[49m\u001b[43m=\u001b[49m\u001b[32;43m1\u001b[39;49m\n\u001b[32m   3437\u001b[39m \u001b[43m        \u001b[49m\u001b[43m)\u001b[49m\n\u001b[32m   3438\u001b[39m \u001b[38;5;28;01mexcept\u001b[39;00m \u001b[38;5;167;01mException\u001b[39;00m:\n\u001b[32m   3439\u001b[39m     \u001b[38;5;66;03m# In case formatting fails, fallback to Python's built-in formatting.\u001b[39;00m\n\u001b[32m   3440\u001b[39m     stb = traceback.format_exception(etype, evalue, tb)\n",
      "\u001b[36mFile \u001b[39m\u001b[32m/opt/conda/lib/python3.12/site-packages/IPython/core/ultratb.py:1182\u001b[39m, in \u001b[36mAutoFormattedTB.structured_traceback\u001b[39m\u001b[34m(self, etype, evalue, etb, tb_offset, context)\u001b[39m\n\u001b[32m   1180\u001b[39m \u001b[38;5;28;01melse\u001b[39;00m:\n\u001b[32m   1181\u001b[39m     \u001b[38;5;28mself\u001b[39m.tb = etb\n\u001b[32m-> \u001b[39m\u001b[32m1182\u001b[39m \u001b[38;5;28;01mreturn\u001b[39;00m \u001b[43mFormattedTB\u001b[49m\u001b[43m.\u001b[49m\u001b[43mstructured_traceback\u001b[49m\u001b[43m(\u001b[49m\n\u001b[32m   1183\u001b[39m \u001b[43m    \u001b[49m\u001b[38;5;28;43mself\u001b[39;49m\u001b[43m,\u001b[49m\u001b[43m \u001b[49m\u001b[43metype\u001b[49m\u001b[43m,\u001b[49m\u001b[43m \u001b[49m\u001b[43mevalue\u001b[49m\u001b[43m,\u001b[49m\u001b[43m \u001b[49m\u001b[43metb\u001b[49m\u001b[43m,\u001b[49m\u001b[43m \u001b[49m\u001b[43mtb_offset\u001b[49m\u001b[43m,\u001b[49m\u001b[43m \u001b[49m\u001b[43mcontext\u001b[49m\n\u001b[32m   1184\u001b[39m \u001b[43m\u001b[49m\u001b[43m)\u001b[49m\n",
      "\u001b[36mFile \u001b[39m\u001b[32m/opt/conda/lib/python3.12/site-packages/IPython/core/ultratb.py:1053\u001b[39m, in \u001b[36mFormattedTB.structured_traceback\u001b[39m\u001b[34m(self, etype, evalue, etb, tb_offset, context)\u001b[39m\n\u001b[32m   1050\u001b[39m mode = \u001b[38;5;28mself\u001b[39m.mode\n\u001b[32m   1051\u001b[39m \u001b[38;5;28;01mif\u001b[39;00m mode \u001b[38;5;129;01min\u001b[39;00m \u001b[38;5;28mself\u001b[39m.verbose_modes:\n\u001b[32m   1052\u001b[39m     \u001b[38;5;66;03m# Verbose modes need a full traceback\u001b[39;00m\n\u001b[32m-> \u001b[39m\u001b[32m1053\u001b[39m     \u001b[38;5;28;01mreturn\u001b[39;00m \u001b[43mVerboseTB\u001b[49m\u001b[43m.\u001b[49m\u001b[43mstructured_traceback\u001b[49m\u001b[43m(\u001b[49m\n\u001b[32m   1054\u001b[39m \u001b[43m        \u001b[49m\u001b[38;5;28;43mself\u001b[39;49m\u001b[43m,\u001b[49m\u001b[43m \u001b[49m\u001b[43metype\u001b[49m\u001b[43m,\u001b[49m\u001b[43m \u001b[49m\u001b[43mevalue\u001b[49m\u001b[43m,\u001b[49m\u001b[43m \u001b[49m\u001b[43metb\u001b[49m\u001b[43m,\u001b[49m\u001b[43m \u001b[49m\u001b[43mtb_offset\u001b[49m\u001b[43m,\u001b[49m\u001b[43m \u001b[49m\u001b[43mcontext\u001b[49m\n\u001b[32m   1055\u001b[39m \u001b[43m    \u001b[49m\u001b[43m)\u001b[49m\n\u001b[32m   1056\u001b[39m \u001b[38;5;28;01melif\u001b[39;00m mode == \u001b[33m\"\u001b[39m\u001b[33mDocs\u001b[39m\u001b[33m\"\u001b[39m:\n\u001b[32m   1057\u001b[39m     \u001b[38;5;66;03m# return DocTB\u001b[39;00m\n\u001b[32m   1058\u001b[39m     \u001b[38;5;28;01mreturn\u001b[39;00m DocTB(\n\u001b[32m   1059\u001b[39m         theme_name=\u001b[38;5;28mself\u001b[39m._theme_name,\n\u001b[32m   1060\u001b[39m         call_pdb=\u001b[38;5;28mself\u001b[39m.call_pdb,\n\u001b[32m   (...)\u001b[39m\u001b[32m   1068\u001b[39m         etype, evalue, etb, tb_offset, \u001b[32m1\u001b[39m\n\u001b[32m   1069\u001b[39m     )  \u001b[38;5;66;03m# type: ignore[arg-type]\u001b[39;00m\n",
      "\u001b[36mFile \u001b[39m\u001b[32m/opt/conda/lib/python3.12/site-packages/IPython/core/ultratb.py:861\u001b[39m, in \u001b[36mVerboseTB.structured_traceback\u001b[39m\u001b[34m(self, etype, evalue, etb, tb_offset, context)\u001b[39m\n\u001b[32m    852\u001b[39m \u001b[38;5;28;01mdef\u001b[39;00m\u001b[38;5;250m \u001b[39m\u001b[34mstructured_traceback\u001b[39m(\n\u001b[32m    853\u001b[39m     \u001b[38;5;28mself\u001b[39m,\n\u001b[32m    854\u001b[39m     etype: \u001b[38;5;28mtype\u001b[39m,\n\u001b[32m   (...)\u001b[39m\u001b[32m    858\u001b[39m     context: \u001b[38;5;28mint\u001b[39m = \u001b[32m5\u001b[39m,\n\u001b[32m    859\u001b[39m ) -> \u001b[38;5;28mlist\u001b[39m[\u001b[38;5;28mstr\u001b[39m]:\n\u001b[32m    860\u001b[39m \u001b[38;5;250m    \u001b[39m\u001b[33;03m\"\"\"Return a nice text document describing the traceback.\"\"\"\u001b[39;00m\n\u001b[32m--> \u001b[39m\u001b[32m861\u001b[39m     formatted_exceptions: \u001b[38;5;28mlist\u001b[39m[\u001b[38;5;28mlist\u001b[39m[\u001b[38;5;28mstr\u001b[39m]] = \u001b[38;5;28;43mself\u001b[39;49m\u001b[43m.\u001b[49m\u001b[43mformat_exception_as_a_whole\u001b[49m\u001b[43m(\u001b[49m\n\u001b[32m    862\u001b[39m \u001b[43m        \u001b[49m\u001b[43metype\u001b[49m\u001b[43m,\u001b[49m\u001b[43m \u001b[49m\u001b[43mevalue\u001b[49m\u001b[43m,\u001b[49m\u001b[43m \u001b[49m\u001b[43metb\u001b[49m\u001b[43m,\u001b[49m\u001b[43m \u001b[49m\u001b[43mcontext\u001b[49m\u001b[43m,\u001b[49m\u001b[43m \u001b[49m\u001b[43mtb_offset\u001b[49m\n\u001b[32m    863\u001b[39m \u001b[43m    \u001b[49m\u001b[43m)\u001b[49m\n\u001b[32m    865\u001b[39m     termsize = \u001b[38;5;28mmin\u001b[39m(\u001b[32m75\u001b[39m, get_terminal_size()[\u001b[32m0\u001b[39m])\n\u001b[32m    866\u001b[39m     theme = theme_table[\u001b[38;5;28mself\u001b[39m._theme_name]\n",
      "\u001b[36mFile \u001b[39m\u001b[32m/opt/conda/lib/python3.12/site-packages/IPython/core/ultratb.py:746\u001b[39m, in \u001b[36mVerboseTB.format_exception_as_a_whole\u001b[39m\u001b[34m(self, etype, evalue, etb, context, tb_offset)\u001b[39m\n\u001b[32m    744\u001b[39m \u001b[38;5;28;01massert\u001b[39;00m \u001b[38;5;28misinstance\u001b[39m(tb_offset, \u001b[38;5;28mint\u001b[39m)\n\u001b[32m    745\u001b[39m head = \u001b[38;5;28mself\u001b[39m.prepare_header(\u001b[38;5;28mstr\u001b[39m(etype), \u001b[38;5;28mself\u001b[39m.long_header)\n\u001b[32m--> \u001b[39m\u001b[32m746\u001b[39m records = \u001b[38;5;28;43mself\u001b[39;49m\u001b[43m.\u001b[49m\u001b[43mget_records\u001b[49m\u001b[43m(\u001b[49m\u001b[43metb\u001b[49m\u001b[43m,\u001b[49m\u001b[43m \u001b[49m\u001b[43mcontext\u001b[49m\u001b[43m,\u001b[49m\u001b[43m \u001b[49m\u001b[43mtb_offset\u001b[49m\u001b[43m)\u001b[49m \u001b[38;5;28;01mif\u001b[39;00m etb \u001b[38;5;28;01melse\u001b[39;00m []\n\u001b[32m    748\u001b[39m frames = []\n\u001b[32m    749\u001b[39m skipped = \u001b[32m0\u001b[39m\n",
      "\u001b[36mFile \u001b[39m\u001b[32m/opt/conda/lib/python3.12/site-packages/IPython/core/ultratb.py:848\u001b[39m, in \u001b[36mVerboseTB.get_records\u001b[39m\u001b[34m(self, etb, context, tb_offset)\u001b[39m\n\u001b[32m    842\u001b[39m         FIs.append(\n\u001b[32m    843\u001b[39m             FrameInfo(\n\u001b[32m    844\u001b[39m                 \u001b[33m\"\u001b[39m\u001b[33mRaw frame\u001b[39m\u001b[33m\"\u001b[39m, filename, lineno, frame, code, context=context\n\u001b[32m    845\u001b[39m             )\n\u001b[32m    846\u001b[39m         )\n\u001b[32m    847\u001b[39m     \u001b[38;5;28;01mreturn\u001b[39;00m FIs\n\u001b[32m--> \u001b[39m\u001b[32m848\u001b[39m res = \u001b[38;5;28;43mlist\u001b[39;49m\u001b[43m(\u001b[49m\u001b[43mstack_data\u001b[49m\u001b[43m.\u001b[49m\u001b[43mFrameInfo\u001b[49m\u001b[43m.\u001b[49m\u001b[43mstack_data\u001b[49m\u001b[43m(\u001b[49m\u001b[43metb\u001b[49m\u001b[43m,\u001b[49m\u001b[43m \u001b[49m\u001b[43moptions\u001b[49m\u001b[43m=\u001b[49m\u001b[43moptions\u001b[49m\u001b[43m)\u001b[49m\u001b[43m)\u001b[49m[tb_offset:]\n\u001b[32m    849\u001b[39m res2 = [FrameInfo._from_stack_data_FrameInfo(r) \u001b[38;5;28;01mfor\u001b[39;00m r \u001b[38;5;129;01min\u001b[39;00m res]\n\u001b[32m    850\u001b[39m \u001b[38;5;28;01mreturn\u001b[39;00m res2\n",
      "\u001b[36mFile \u001b[39m\u001b[32m/opt/conda/lib/python3.12/site-packages/stack_data/core.py:597\u001b[39m, in \u001b[36mFrameInfo.stack_data\u001b[39m\u001b[34m(cls, frame_or_tb, options, collapse_repeated_frames)\u001b[39m\n\u001b[32m    594\u001b[39m     frame, lineno = frame_and_lineno(x)\n\u001b[32m    595\u001b[39m     \u001b[38;5;28;01mreturn\u001b[39;00m frame.f_code, lineno\n\u001b[32m--> \u001b[39m\u001b[32m597\u001b[39m \u001b[38;5;28;01myield from\u001b[39;00m collapse_repeated(\n\u001b[32m    598\u001b[39m     stack,\n\u001b[32m    599\u001b[39m     mapper=mapper,\n\u001b[32m    600\u001b[39m     collapser=RepeatedFrames,\n\u001b[32m    601\u001b[39m     key=_frame_key,\n\u001b[32m    602\u001b[39m )\n",
      "\u001b[36mFile \u001b[39m\u001b[32m/opt/conda/lib/python3.12/site-packages/stack_data/utils.py:83\u001b[39m, in \u001b[36mcollapse_repeated\u001b[39m\u001b[34m(lst, collapser, mapper, key)\u001b[39m\n\u001b[32m     81\u001b[39m original_group, highlighted_group = \u001b[38;5;28mzip\u001b[39m(*group)\n\u001b[32m     82\u001b[39m \u001b[38;5;28;01mif\u001b[39;00m is_highlighted:\n\u001b[32m---> \u001b[39m\u001b[32m83\u001b[39m     \u001b[38;5;28;01myield from\u001b[39;00m \u001b[38;5;28mmap\u001b[39m(mapper, original_group)\n\u001b[32m     84\u001b[39m \u001b[38;5;28;01melse\u001b[39;00m:\n\u001b[32m     85\u001b[39m     keyed_group, _ = \u001b[38;5;28mzip\u001b[39m(*highlighted_group)\n",
      "\u001b[36mFile \u001b[39m\u001b[32m/opt/conda/lib/python3.12/site-packages/stack_data/core.py:587\u001b[39m, in \u001b[36mFrameInfo.stack_data.<locals>.mapper\u001b[39m\u001b[34m(f)\u001b[39m\n\u001b[32m    586\u001b[39m \u001b[38;5;28;01mdef\u001b[39;00m\u001b[38;5;250m \u001b[39m\u001b[34mmapper\u001b[39m(f):\n\u001b[32m--> \u001b[39m\u001b[32m587\u001b[39m     \u001b[38;5;28;01mreturn\u001b[39;00m \u001b[38;5;28;43mcls\u001b[39;49m\u001b[43m(\u001b[49m\u001b[43mf\u001b[49m\u001b[43m,\u001b[49m\u001b[43m \u001b[49m\u001b[43moptions\u001b[49m\u001b[43m)\u001b[49m\n",
      "\u001b[36mFile \u001b[39m\u001b[32m/opt/conda/lib/python3.12/site-packages/stack_data/core.py:551\u001b[39m, in \u001b[36mFrameInfo.__init__\u001b[39m\u001b[34m(self, frame_or_tb, options)\u001b[39m\n\u001b[32m    546\u001b[39m \u001b[38;5;28;01mdef\u001b[39;00m\u001b[38;5;250m \u001b[39m\u001b[34m__init__\u001b[39m(\n\u001b[32m    547\u001b[39m         \u001b[38;5;28mself\u001b[39m,\n\u001b[32m    548\u001b[39m         frame_or_tb: Union[FrameType, TracebackType],\n\u001b[32m    549\u001b[39m         options: Optional[Options] = \u001b[38;5;28;01mNone\u001b[39;00m,\n\u001b[32m    550\u001b[39m ):\n\u001b[32m--> \u001b[39m\u001b[32m551\u001b[39m     \u001b[38;5;28mself\u001b[39m.executing = \u001b[43mSource\u001b[49m\u001b[43m.\u001b[49m\u001b[43mexecuting\u001b[49m\u001b[43m(\u001b[49m\u001b[43mframe_or_tb\u001b[49m\u001b[43m)\u001b[49m\n\u001b[32m    552\u001b[39m     frame, \u001b[38;5;28mself\u001b[39m.lineno = frame_and_lineno(frame_or_tb)\n\u001b[32m    553\u001b[39m     \u001b[38;5;28mself\u001b[39m.frame = frame\n",
      "\u001b[36mFile \u001b[39m\u001b[32m/opt/conda/lib/python3.12/site-packages/executing/executing.py:264\u001b[39m, in \u001b[36mSource.executing\u001b[39m\u001b[34m(cls, frame_or_tb)\u001b[39m\n\u001b[32m    262\u001b[39m \u001b[38;5;28;01mif\u001b[39;00m \u001b[38;5;129;01mnot\u001b[39;00m args:\n\u001b[32m    263\u001b[39m     node = stmts = decorator = \u001b[38;5;28;01mNone\u001b[39;00m\n\u001b[32m--> \u001b[39m\u001b[32m264\u001b[39m     source = \u001b[38;5;28;43mcls\u001b[39;49m\u001b[43m.\u001b[49m\u001b[43mfor_frame\u001b[49m\u001b[43m(\u001b[49m\u001b[43mframe\u001b[49m\u001b[43m)\u001b[49m\n\u001b[32m    265\u001b[39m     tree = source.tree\n\u001b[32m    266\u001b[39m     \u001b[38;5;28;01mif\u001b[39;00m tree:\n",
      "\u001b[36mFile \u001b[39m\u001b[32m/opt/conda/lib/python3.12/site-packages/executing/executing.py:183\u001b[39m, in \u001b[36mSource.for_frame\u001b[39m\u001b[34m(cls, frame, use_cache)\u001b[39m\n\u001b[32m    177\u001b[39m \u001b[38;5;129m@classmethod\u001b[39m\n\u001b[32m    178\u001b[39m \u001b[38;5;28;01mdef\u001b[39;00m\u001b[38;5;250m \u001b[39m\u001b[34mfor_frame\u001b[39m(\u001b[38;5;28mcls\u001b[39m, frame, use_cache=\u001b[38;5;28;01mTrue\u001b[39;00m):\n\u001b[32m    179\u001b[39m     \u001b[38;5;66;03m# type: (types.FrameType, bool) -> \"Source\"\u001b[39;00m\n\u001b[32m    180\u001b[39m \u001b[38;5;250m    \u001b[39m\u001b[33;03m\"\"\"\u001b[39;00m\n\u001b[32m    181\u001b[39m \u001b[33;03m    Returns the `Source` object corresponding to the file the frame is executing in.\u001b[39;00m\n\u001b[32m    182\u001b[39m \u001b[33;03m    \"\"\"\u001b[39;00m\n\u001b[32m--> \u001b[39m\u001b[32m183\u001b[39m     \u001b[38;5;28;01mreturn\u001b[39;00m \u001b[38;5;28;43mcls\u001b[39;49m\u001b[43m.\u001b[49m\u001b[43mfor_filename\u001b[49m\u001b[43m(\u001b[49m\u001b[43mframe\u001b[49m\u001b[43m.\u001b[49m\u001b[43mf_code\u001b[49m\u001b[43m.\u001b[49m\u001b[43mco_filename\u001b[49m\u001b[43m,\u001b[49m\u001b[43m \u001b[49m\u001b[43mframe\u001b[49m\u001b[43m.\u001b[49m\u001b[43mf_globals\u001b[49m\u001b[43m \u001b[49m\u001b[38;5;129;43;01mor\u001b[39;49;00m\u001b[43m \u001b[49m\u001b[43m{\u001b[49m\u001b[43m}\u001b[49m\u001b[43m,\u001b[49m\u001b[43m \u001b[49m\u001b[43muse_cache\u001b[49m\u001b[43m)\u001b[49m\n",
      "\u001b[36mFile \u001b[39m\u001b[32m/opt/conda/lib/python3.12/site-packages/executing/executing.py:212\u001b[39m, in \u001b[36mSource.for_filename\u001b[39m\u001b[34m(cls, filename, module_globals, use_cache)\u001b[39m\n\u001b[32m    209\u001b[39m     linecache.cache[filename] = entry \u001b[38;5;66;03m# type: ignore[attr-defined]\u001b[39;00m\n\u001b[32m    210\u001b[39m     lines = get_lines()\n\u001b[32m--> \u001b[39m\u001b[32m212\u001b[39m \u001b[38;5;28;01mreturn\u001b[39;00m \u001b[38;5;28;43mcls\u001b[39;49m\u001b[43m.\u001b[49m\u001b[43m_for_filename_and_lines\u001b[49m\u001b[43m(\u001b[49m\u001b[43mfilename\u001b[49m\u001b[43m,\u001b[49m\u001b[43m \u001b[49m\u001b[38;5;28;43mtuple\u001b[39;49m\u001b[43m(\u001b[49m\u001b[43mlines\u001b[49m\u001b[43m)\u001b[49m\u001b[43m)\u001b[49m\n",
      "\u001b[36mFile \u001b[39m\u001b[32m/opt/conda/lib/python3.12/site-packages/executing/executing.py:223\u001b[39m, in \u001b[36mSource._for_filename_and_lines\u001b[39m\u001b[34m(cls, filename, lines)\u001b[39m\n\u001b[32m    220\u001b[39m \u001b[38;5;28;01mexcept\u001b[39;00m \u001b[38;5;167;01mKeyError\u001b[39;00m:\n\u001b[32m    221\u001b[39m     \u001b[38;5;28;01mpass\u001b[39;00m\n\u001b[32m--> \u001b[39m\u001b[32m223\u001b[39m result = source_cache[(filename, lines)] = \u001b[38;5;28;43mcls\u001b[39;49m\u001b[43m(\u001b[49m\u001b[43mfilename\u001b[49m\u001b[43m,\u001b[49m\u001b[43m \u001b[49m\u001b[43mlines\u001b[49m\u001b[43m)\u001b[49m\n\u001b[32m    224\u001b[39m \u001b[38;5;28;01mreturn\u001b[39;00m result\n",
      "\u001b[36mFile \u001b[39m\u001b[32m/opt/conda/lib/python3.12/site-packages/executing/executing.py:167\u001b[39m, in \u001b[36mSource.__init__\u001b[39m\u001b[34m(self, filename, lines)\u001b[39m\n\u001b[32m    165\u001b[39m     \u001b[38;5;28;01mpass\u001b[39;00m\n\u001b[32m    166\u001b[39m \u001b[38;5;28;01melse\u001b[39;00m:\n\u001b[32m--> \u001b[39m\u001b[32m167\u001b[39m \u001b[43m    \u001b[49m\u001b[38;5;28;43;01mfor\u001b[39;49;00m\u001b[43m \u001b[49m\u001b[43mnode\u001b[49m\u001b[43m \u001b[49m\u001b[38;5;129;43;01min\u001b[39;49;00m\u001b[43m \u001b[49m\u001b[43mast\u001b[49m\u001b[43m.\u001b[49m\u001b[43mwalk\u001b[49m\u001b[43m(\u001b[49m\u001b[38;5;28;43mself\u001b[39;49m\u001b[43m.\u001b[49m\u001b[43mtree\u001b[49m\u001b[43m)\u001b[49m\u001b[43m:\u001b[49m\n\u001b[32m    168\u001b[39m \u001b[43m        \u001b[49m\u001b[38;5;28;43;01mfor\u001b[39;49;00m\u001b[43m \u001b[49m\u001b[43mchild\u001b[49m\u001b[43m \u001b[49m\u001b[38;5;129;43;01min\u001b[39;49;00m\u001b[43m \u001b[49m\u001b[43mast\u001b[49m\u001b[43m.\u001b[49m\u001b[43miter_child_nodes\u001b[49m\u001b[43m(\u001b[49m\u001b[43mnode\u001b[49m\u001b[43m)\u001b[49m\u001b[43m:\u001b[49m\n\u001b[32m    169\u001b[39m \u001b[43m            \u001b[49m\u001b[43mcast\u001b[49m\u001b[43m(\u001b[49m\u001b[43mEnhancedAST\u001b[49m\u001b[43m,\u001b[49m\u001b[43m \u001b[49m\u001b[43mchild\u001b[49m\u001b[43m)\u001b[49m\u001b[43m.\u001b[49m\u001b[43mparent\u001b[49m\u001b[43m \u001b[49m\u001b[43m=\u001b[49m\u001b[43m \u001b[49m\u001b[43mcast\u001b[49m\u001b[43m(\u001b[49m\u001b[43mEnhancedAST\u001b[49m\u001b[43m,\u001b[49m\u001b[43m \u001b[49m\u001b[43mnode\u001b[49m\u001b[43m)\u001b[49m\n",
      "\u001b[36mFile \u001b[39m\u001b[32m/opt/conda/lib/python3.12/ast.py:379\u001b[39m, in \u001b[36mwalk\u001b[39m\u001b[34m(node)\u001b[39m\n\u001b[32m    377\u001b[39m \u001b[38;5;28;01mwhile\u001b[39;00m todo:\n\u001b[32m    378\u001b[39m     node = todo.popleft()\n\u001b[32m--> \u001b[39m\u001b[32m379\u001b[39m     \u001b[43mtodo\u001b[49m\u001b[43m.\u001b[49m\u001b[43mextend\u001b[49m\u001b[43m(\u001b[49m\u001b[43miter_child_nodes\u001b[49m\u001b[43m(\u001b[49m\u001b[43mnode\u001b[49m\u001b[43m)\u001b[49m\u001b[43m)\u001b[49m\n\u001b[32m    380\u001b[39m     \u001b[38;5;28;01myield\u001b[39;00m node\n",
      "\u001b[36mFile \u001b[39m\u001b[32m/opt/conda/lib/python3.12/ast.py:269\u001b[39m, in \u001b[36miter_child_nodes\u001b[39m\u001b[34m(node)\u001b[39m\n\u001b[32m    265\u001b[39m         \u001b[38;5;28;01mexcept\u001b[39;00m \u001b[38;5;167;01mAttributeError\u001b[39;00m:\n\u001b[32m    266\u001b[39m             \u001b[38;5;28;01mpass\u001b[39;00m\n\u001b[32m--> \u001b[39m\u001b[32m269\u001b[39m \u001b[38;5;28;01mdef\u001b[39;00m\u001b[38;5;250m \u001b[39m\u001b[34miter_child_nodes\u001b[39m(node):\n\u001b[32m    270\u001b[39m \u001b[38;5;250m    \u001b[39m\u001b[33;03m\"\"\"\u001b[39;00m\n\u001b[32m    271\u001b[39m \u001b[33;03m    Yield all direct child nodes of *node*, that is, all fields that are nodes\u001b[39;00m\n\u001b[32m    272\u001b[39m \u001b[33;03m    and all items of fields that are lists of nodes.\u001b[39;00m\n\u001b[32m    273\u001b[39m \u001b[33;03m    \"\"\"\u001b[39;00m\n\u001b[32m    274\u001b[39m     \u001b[38;5;28;01mfor\u001b[39;00m name, field \u001b[38;5;129;01min\u001b[39;00m iter_fields(node):\n",
      "\u001b[31mKeyboardInterrupt\u001b[39m: "
     ]
    }
   ],
   "source": [
    "run_training_and_eval(\n",
    "    splits=[\"SID03\"],\n",
    "    models=[\"s\",\"n\",\"m\",\"l\"],\n",
    "    batches=[8, 16],\n",
    "    epochs=25,\n",
    "    train_project=TRAIN_PROJECT_PREFIX,\n",
    "    eval_project=EVAL_PROJECT_PREFIX,\n",
    "    sid02_subtypes=[\"boom\", \"drone\",\"handheld\"],\n",
    "    sid03_folds=[3, 4],\n",
    "    device=\"0\"\n",
    ")"
   ]
  },
  {
   "cell_type": "markdown",
   "id": "284d8155-6811-490b-bcfc-41c2eb1f1296",
   "metadata": {},
   "source": [
    "### New Eval after correcting the img load function."
   ]
  },
  {
   "cell_type": "code",
   "execution_count": null,
   "id": "8e98e278-c747-422e-ac8a-d79c4d25a9a8",
   "metadata": {},
   "outputs": [
    {
     "name": "stdout",
     "output_type": "stream",
     "text": [
      "[i] Re-evaluating yolo11s_SID01_e25_b8 ...\n"
     ]
    },
    {
     "data": {
      "text/html": [
       "Finishing previous runs because reinit is set to 'default'."
      ],
      "text/plain": [
       "<IPython.core.display.HTML object>"
      ]
     },
     "metadata": {},
     "output_type": "display_data"
    },
    {
     "data": {
      "text/html": [],
      "text/plain": [
       "<IPython.core.display.HTML object>"
      ]
     },
     "metadata": {},
     "output_type": "display_data"
    },
    {
     "data": {
      "text/html": [
       " View run <strong style=\"color:#cdcd00\">yolo11s_SID01_e25_b16</strong> at: <a href='https://wandb.ai/rueedi-tobias-hochschule-luzern/V1_2-maize_disease_detection_eval_3/runs/emud6obu' target=\"_blank\">https://wandb.ai/rueedi-tobias-hochschule-luzern/V1_2-maize_disease_detection_eval_3/runs/emud6obu</a><br> View project at: <a href='https://wandb.ai/rueedi-tobias-hochschule-luzern/V1_2-maize_disease_detection_eval_3' target=\"_blank\">https://wandb.ai/rueedi-tobias-hochschule-luzern/V1_2-maize_disease_detection_eval_3</a><br>Synced 3 W&B file(s), 0 media file(s), 0 artifact file(s) and 0 other file(s)"
      ],
      "text/plain": [
       "<IPython.core.display.HTML object>"
      ]
     },
     "metadata": {},
     "output_type": "display_data"
    },
    {
     "data": {
      "text/html": [
       "Find logs at: <code>./wandb/run-20250614_081624-emud6obu/logs</code>"
      ],
      "text/plain": [
       "<IPython.core.display.HTML object>"
      ]
     },
     "metadata": {},
     "output_type": "display_data"
    },
    {
     "data": {
      "text/html": [
       "Fatal error while uploading data. Some run data will not be synced, but it will still be written to disk. Use `wandb sync` at the end of the run to try uploading."
      ],
      "text/plain": [
       "<IPython.core.display.HTML object>"
      ]
     },
     "metadata": {},
     "output_type": "display_data"
    },
    {
     "data": {
      "text/html": [
       "Tracking run with wandb version 0.20.1"
      ],
      "text/plain": [
       "<IPython.core.display.HTML object>"
      ]
     },
     "metadata": {},
     "output_type": "display_data"
    },
    {
     "data": {
      "text/html": [
       "Run data is saved locally in <code>/home/jovyan/DSPRO2/M-AI-ZE-Maize-diseases-detection/notebooks/wandb/run-20250614_081710-5vkay0h6</code>"
      ],
      "text/plain": [
       "<IPython.core.display.HTML object>"
      ]
     },
     "metadata": {},
     "output_type": "display_data"
    },
    {
     "data": {
      "text/html": [
       "Syncing run <strong><a href='https://wandb.ai/rueedi-tobias-hochschule-luzern/V1_2-maize_disease_detection_eval_3/runs/5vkay0h6' target=\"_blank\">yolo11s_SID01_e25_b8</a></strong> to <a href='https://wandb.ai/rueedi-tobias-hochschule-luzern/V1_2-maize_disease_detection_eval_3' target=\"_blank\">Weights & Biases</a> (<a href='https://wandb.me/developer-guide' target=\"_blank\">docs</a>)<br>"
      ],
      "text/plain": [
       "<IPython.core.display.HTML object>"
      ]
     },
     "metadata": {},
     "output_type": "display_data"
    },
    {
     "data": {
      "text/html": [
       " View project at <a href='https://wandb.ai/rueedi-tobias-hochschule-luzern/V1_2-maize_disease_detection_eval_3' target=\"_blank\">https://wandb.ai/rueedi-tobias-hochschule-luzern/V1_2-maize_disease_detection_eval_3</a>"
      ],
      "text/plain": [
       "<IPython.core.display.HTML object>"
      ]
     },
     "metadata": {},
     "output_type": "display_data"
    },
    {
     "data": {
      "text/html": [
       " View run at <a href='https://wandb.ai/rueedi-tobias-hochschule-luzern/V1_2-maize_disease_detection_eval_3/runs/5vkay0h6' target=\"_blank\">https://wandb.ai/rueedi-tobias-hochschule-luzern/V1_2-maize_disease_detection_eval_3/runs/5vkay0h6</a>"
      ],
      "text/plain": [
       "<IPython.core.display.HTML object>"
      ]
     },
     "metadata": {},
     "output_type": "display_data"
    },
    {
     "data": {
      "application/vnd.jupyter.widget-view+json": {
       "model_id": "d13d28928df241b3ba462479db58cae4",
       "version_major": 2,
       "version_minor": 0
      },
      "text/plain": [
       "Evaluating SID01:   0%|          | 0/1359 [00:00<?, ?it/s]"
      ]
     },
     "metadata": {},
     "output_type": "display_data"
    },
    {
     "data": {
      "text/html": [],
      "text/plain": [
       "<IPython.core.display.HTML object>"
      ]
     },
     "metadata": {},
     "output_type": "display_data"
    },
    {
     "data": {
      "text/html": [
       "<br>    <style><br>        .wandb-row {<br>            display: flex;<br>            flex-direction: row;<br>            flex-wrap: wrap;<br>            justify-content: flex-start;<br>            width: 100%;<br>        }<br>        .wandb-col {<br>            display: flex;<br>            flex-direction: column;<br>            flex-basis: 100%;<br>            flex: 1;<br>            padding: 10px;<br>        }<br>    </style><br><div class=\"wandb-row\"><div class=\"wandb-col\"><h3>Run history:</h3><br/><table class=\"wandb\"><tr><td>avg_area_score</td><td>▁</td></tr><tr><td>avg_count_ratio</td><td>▁</td></tr><tr><td>avg_pred_area</td><td>▁</td></tr><tr><td>avg_pred_count</td><td>▁</td></tr><tr><td>avg_raad</td><td>▁</td></tr><tr><td>avg_true_area</td><td>▁</td></tr><tr><td>avg_truth_count</td><td>▁</td></tr><tr><td>max_raad</td><td>▁</td></tr><tr><td>mean_precision@0.5</td><td>▁</td></tr><tr><td>median_raad</td><td>▁</td></tr></table><br/></div><div class=\"wandb-col\"><h3>Run summary:</h3><br/><table class=\"wandb\"><tr><td>avg_area_score</td><td>41.15236</td></tr><tr><td>avg_count_ratio</td><td>0.98708</td></tr><tr><td>avg_pred_area</td><td>13156.83313</td></tr><tr><td>avg_pred_count</td><td>7.47535</td></tr><tr><td>avg_raad</td><td>0.95299</td></tr><tr><td>avg_true_area</td><td>18183.19095</td></tr><tr><td>avg_truth_count</td><td>7.57322</td></tr><tr><td>max_raad</td><td>123.42963</td></tr><tr><td>mean_precision@0.5</td><td>0.06942</td></tr><tr><td>median_raad</td><td>0.5011</td></tr><tr><td>model_name</td><td>yolo11s_SID01_e25_b8...</td></tr><tr><td>model_variant</td><td>yolo11s</td></tr><tr><td>split</td><td>SID01</td></tr></table><br/></div></div>"
      ],
      "text/plain": [
       "<IPython.core.display.HTML object>"
      ]
     },
     "metadata": {},
     "output_type": "display_data"
    },
    {
     "data": {
      "text/html": [
       " View run <strong style=\"color:#cdcd00\">yolo11s_SID01_e25_b8</strong> at: <a href='https://wandb.ai/rueedi-tobias-hochschule-luzern/V1_2-maize_disease_detection_eval_3/runs/5vkay0h6' target=\"_blank\">https://wandb.ai/rueedi-tobias-hochschule-luzern/V1_2-maize_disease_detection_eval_3/runs/5vkay0h6</a><br> View project at: <a href='https://wandb.ai/rueedi-tobias-hochschule-luzern/V1_2-maize_disease_detection_eval_3' target=\"_blank\">https://wandb.ai/rueedi-tobias-hochschule-luzern/V1_2-maize_disease_detection_eval_3</a><br>Synced 5 W&B file(s), 1 media file(s), 2 artifact file(s) and 0 other file(s)"
      ],
      "text/plain": [
       "<IPython.core.display.HTML object>"
      ]
     },
     "metadata": {},
     "output_type": "display_data"
    },
    {
     "data": {
      "text/html": [
       "Find logs at: <code>./wandb/run-20250614_081710-5vkay0h6/logs</code>"
      ],
      "text/plain": [
       "<IPython.core.display.HTML object>"
      ]
     },
     "metadata": {},
     "output_type": "display_data"
    },
    {
     "name": "stdout",
     "output_type": "stream",
     "text": [
      "[i] Re-evaluating yolo11s_SID01_e25_b16 ...\n"
     ]
    },
    {
     "data": {
      "text/html": [
       "Tracking run with wandb version 0.20.1"
      ],
      "text/plain": [
       "<IPython.core.display.HTML object>"
      ]
     },
     "metadata": {},
     "output_type": "display_data"
    },
    {
     "data": {
      "text/html": [
       "Run data is saved locally in <code>/home/jovyan/DSPRO2/M-AI-ZE-Maize-diseases-detection/notebooks/wandb/run-20250614_082200-0fysxrul</code>"
      ],
      "text/plain": [
       "<IPython.core.display.HTML object>"
      ]
     },
     "metadata": {},
     "output_type": "display_data"
    },
    {
     "data": {
      "text/html": [
       "Syncing run <strong><a href='https://wandb.ai/rueedi-tobias-hochschule-luzern/V1_2-maize_disease_detection_eval_3/runs/0fysxrul' target=\"_blank\">yolo11s_SID01_e25_b16</a></strong> to <a href='https://wandb.ai/rueedi-tobias-hochschule-luzern/V1_2-maize_disease_detection_eval_3' target=\"_blank\">Weights & Biases</a> (<a href='https://wandb.me/developer-guide' target=\"_blank\">docs</a>)<br>"
      ],
      "text/plain": [
       "<IPython.core.display.HTML object>"
      ]
     },
     "metadata": {},
     "output_type": "display_data"
    },
    {
     "data": {
      "text/html": [
       " View project at <a href='https://wandb.ai/rueedi-tobias-hochschule-luzern/V1_2-maize_disease_detection_eval_3' target=\"_blank\">https://wandb.ai/rueedi-tobias-hochschule-luzern/V1_2-maize_disease_detection_eval_3</a>"
      ],
      "text/plain": [
       "<IPython.core.display.HTML object>"
      ]
     },
     "metadata": {},
     "output_type": "display_data"
    },
    {
     "data": {
      "text/html": [
       " View run at <a href='https://wandb.ai/rueedi-tobias-hochschule-luzern/V1_2-maize_disease_detection_eval_3/runs/0fysxrul' target=\"_blank\">https://wandb.ai/rueedi-tobias-hochschule-luzern/V1_2-maize_disease_detection_eval_3/runs/0fysxrul</a>"
      ],
      "text/plain": [
       "<IPython.core.display.HTML object>"
      ]
     },
     "metadata": {},
     "output_type": "display_data"
    },
    {
     "data": {
      "application/vnd.jupyter.widget-view+json": {
       "model_id": "e8e352ad694e4d7b862e682dfa64e62f",
       "version_major": 2,
       "version_minor": 0
      },
      "text/plain": [
       "Evaluating SID01:   0%|          | 0/1359 [00:00<?, ?it/s]"
      ]
     },
     "metadata": {},
     "output_type": "display_data"
    },
    {
     "data": {
      "text/html": [],
      "text/plain": [
       "<IPython.core.display.HTML object>"
      ]
     },
     "metadata": {},
     "output_type": "display_data"
    },
    {
     "data": {
      "text/html": [
       "<br>    <style><br>        .wandb-row {<br>            display: flex;<br>            flex-direction: row;<br>            flex-wrap: wrap;<br>            justify-content: flex-start;<br>            width: 100%;<br>        }<br>        .wandb-col {<br>            display: flex;<br>            flex-direction: column;<br>            flex-basis: 100%;<br>            flex: 1;<br>            padding: 10px;<br>        }<br>    </style><br><div class=\"wandb-row\"><div class=\"wandb-col\"><h3>Run history:</h3><br/><table class=\"wandb\"><tr><td>avg_area_score</td><td>▁</td></tr><tr><td>avg_count_ratio</td><td>▁</td></tr><tr><td>avg_pred_area</td><td>▁</td></tr><tr><td>avg_pred_count</td><td>▁</td></tr><tr><td>avg_raad</td><td>▁</td></tr><tr><td>avg_true_area</td><td>▁</td></tr><tr><td>avg_truth_count</td><td>▁</td></tr><tr><td>max_raad</td><td>▁</td></tr><tr><td>mean_precision@0.5</td><td>▁</td></tr><tr><td>median_raad</td><td>▁</td></tr></table><br/></div><div class=\"wandb-col\"><h3>Run summary:</h3><br/><table class=\"wandb\"><tr><td>avg_area_score</td><td>41.07896</td></tr><tr><td>avg_count_ratio</td><td>1.03012</td></tr><tr><td>avg_pred_area</td><td>13633.61746</td></tr><tr><td>avg_pred_count</td><td>7.80132</td></tr><tr><td>avg_raad</td><td>1.00135</td></tr><tr><td>avg_true_area</td><td>18187.41672</td></tr><tr><td>avg_truth_count</td><td>7.57322</td></tr><tr><td>max_raad</td><td>89.09292</td></tr><tr><td>mean_precision@0.5</td><td>0.07154</td></tr><tr><td>median_raad</td><td>0.50646</td></tr><tr><td>model_name</td><td>yolo11s_SID01_e25_b1...</td></tr><tr><td>model_variant</td><td>yolo11s</td></tr><tr><td>split</td><td>SID01</td></tr></table><br/></div></div>"
      ],
      "text/plain": [
       "<IPython.core.display.HTML object>"
      ]
     },
     "metadata": {},
     "output_type": "display_data"
    },
    {
     "data": {
      "text/html": [
       " View run <strong style=\"color:#cdcd00\">yolo11s_SID01_e25_b16</strong> at: <a href='https://wandb.ai/rueedi-tobias-hochschule-luzern/V1_2-maize_disease_detection_eval_3/runs/0fysxrul' target=\"_blank\">https://wandb.ai/rueedi-tobias-hochschule-luzern/V1_2-maize_disease_detection_eval_3/runs/0fysxrul</a><br> View project at: <a href='https://wandb.ai/rueedi-tobias-hochschule-luzern/V1_2-maize_disease_detection_eval_3' target=\"_blank\">https://wandb.ai/rueedi-tobias-hochschule-luzern/V1_2-maize_disease_detection_eval_3</a><br>Synced 5 W&B file(s), 1 media file(s), 2 artifact file(s) and 0 other file(s)"
      ],
      "text/plain": [
       "<IPython.core.display.HTML object>"
      ]
     },
     "metadata": {},
     "output_type": "display_data"
    },
    {
     "data": {
      "text/html": [
       "Find logs at: <code>./wandb/run-20250614_082200-0fysxrul/logs</code>"
      ],
      "text/plain": [
       "<IPython.core.display.HTML object>"
      ]
     },
     "metadata": {},
     "output_type": "display_data"
    },
    {
     "name": "stdout",
     "output_type": "stream",
     "text": [
      "[i] Re-evaluating yolo11n_SID01_e25_b8 ...\n"
     ]
    },
    {
     "data": {
      "text/html": [
       "Tracking run with wandb version 0.20.1"
      ],
      "text/plain": [
       "<IPython.core.display.HTML object>"
      ]
     },
     "metadata": {},
     "output_type": "display_data"
    },
    {
     "data": {
      "text/html": [
       "Run data is saved locally in <code>/home/jovyan/DSPRO2/M-AI-ZE-Maize-diseases-detection/notebooks/wandb/run-20250614_082652-yqef0mv2</code>"
      ],
      "text/plain": [
       "<IPython.core.display.HTML object>"
      ]
     },
     "metadata": {},
     "output_type": "display_data"
    },
    {
     "data": {
      "text/html": [
       "Syncing run <strong><a href='https://wandb.ai/rueedi-tobias-hochschule-luzern/V1_2-maize_disease_detection_eval_3/runs/yqef0mv2' target=\"_blank\">yolo11n_SID01_e25_b8</a></strong> to <a href='https://wandb.ai/rueedi-tobias-hochschule-luzern/V1_2-maize_disease_detection_eval_3' target=\"_blank\">Weights & Biases</a> (<a href='https://wandb.me/developer-guide' target=\"_blank\">docs</a>)<br>"
      ],
      "text/plain": [
       "<IPython.core.display.HTML object>"
      ]
     },
     "metadata": {},
     "output_type": "display_data"
    },
    {
     "data": {
      "text/html": [
       " View project at <a href='https://wandb.ai/rueedi-tobias-hochschule-luzern/V1_2-maize_disease_detection_eval_3' target=\"_blank\">https://wandb.ai/rueedi-tobias-hochschule-luzern/V1_2-maize_disease_detection_eval_3</a>"
      ],
      "text/plain": [
       "<IPython.core.display.HTML object>"
      ]
     },
     "metadata": {},
     "output_type": "display_data"
    },
    {
     "data": {
      "text/html": [
       " View run at <a href='https://wandb.ai/rueedi-tobias-hochschule-luzern/V1_2-maize_disease_detection_eval_3/runs/yqef0mv2' target=\"_blank\">https://wandb.ai/rueedi-tobias-hochschule-luzern/V1_2-maize_disease_detection_eval_3/runs/yqef0mv2</a>"
      ],
      "text/plain": [
       "<IPython.core.display.HTML object>"
      ]
     },
     "metadata": {},
     "output_type": "display_data"
    },
    {
     "data": {
      "application/vnd.jupyter.widget-view+json": {
       "model_id": "83116289d7f4452697dd09d6cd9b4f24",
       "version_major": 2,
       "version_minor": 0
      },
      "text/plain": [
       "Evaluating SID01:   0%|          | 0/1359 [00:00<?, ?it/s]"
      ]
     },
     "metadata": {},
     "output_type": "display_data"
    }
   ],
   "source": [
    "detect_root = Path(\"V1_2-maize_disease_detection_train\")\n",
    "eval_project = \"V1_2-maize_disease_detection_eval_3\"\n",
    "\n",
    "for run_dir in detect_root.glob(\"*/\"):\n",
    "    run_name = run_dir.name\n",
    "    weights_path = run_dir / \"weights\" / \"best.pt\"\n",
    "    \n",
    "    if not weights_path.exists():\n",
    "        print(f\"[!] Skipping {run_name} – no weights found.\")\n",
    "        continue\n",
    "\n",
    "    parts = run_name.split(\"_\")\n",
    "    if len(parts) < 4:\n",
    "        print(f\"[!] Skipping invalid run_name: {run_name}\")\n",
    "        continue\n",
    "\n",
    "    model_id = parts[0]\n",
    "    split = parts[1]\n",
    "    subtype = None\n",
    "    fold_id = None\n",
    "\n",
    "    if split == \"SID02\" and len(parts) >= 5:\n",
    "        subtype = parts[2]\n",
    "        split_root = _make_sid02_subset(BASE_PATH / \"SID02\", subtype)\n",
    "    elif split == \"SID03\" and \"f\" in parts[2]:\n",
    "        fold_id = int(parts[2][1:])\n",
    "        split_root = BASE_PATH / \"SID03\"\n",
    "    else:\n",
    "        split_root = BASE_PATH / split\n",
    "\n",
    "    print(f\"[i] Re-evaluating {run_name} ...\")\n",
    "    evaluate_test_raad(\n",
    "        model_path=weights_path,\n",
    "        split=split,\n",
    "        split_root=split_root,\n",
    "        project=eval_project,\n",
    "        run_name=run_name\n",
    "    )"
   ]
  },
  {
   "cell_type": "code",
   "execution_count": null,
   "id": "4908b6fc-54ff-4a6b-be9c-ce3842d1b5fb",
   "metadata": {},
   "outputs": [],
   "source": []
  }
 ],
 "metadata": {
  "kernelspec": {
   "display_name": "Python 3 (ipykernel)",
   "language": "python",
   "name": "python3"
  },
  "language_info": {
   "codemirror_mode": {
    "name": "ipython",
    "version": 3
   },
   "file_extension": ".py",
   "mimetype": "text/x-python",
   "name": "python",
   "nbconvert_exporter": "python",
   "pygments_lexer": "ipython3",
   "version": "3.12.10"
  }
 },
 "nbformat": 4,
 "nbformat_minor": 5
}
