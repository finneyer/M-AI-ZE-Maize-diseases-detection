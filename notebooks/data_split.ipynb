{
 "cells": [
  {
   "cell_type": "markdown",
   "id": "43de02b9-86c1-4dad-86af-7c91c6dfdada",
   "metadata": {},
   "source": [
    "# Notebook to Create Data Splits"
   ]
  },
  {
   "cell_type": "code",
   "execution_count": 1,
   "id": "eb946870-f07b-4f5b-9ef4-bf4a4918a611",
   "metadata": {},
   "outputs": [],
   "source": [
    "import pandas as pd\n",
    "from sklearn.model_selection import train_test_split"
   ]
  },
  {
   "cell_type": "markdown",
   "id": "2feaf5a3-7c60-4926-95c2-3a4282b56358",
   "metadata": {},
   "source": [
    "## Define Constants\n",
    "Fill in the constants and then run the notebook to create data split"
   ]
  },
  {
   "cell_type": "code",
   "execution_count": 2,
   "id": "97277f22-41b3-45fd-94b1-bbbb2b95b21d",
   "metadata": {},
   "outputs": [],
   "source": [
    "RANDOM_STATE = 42\n",
    "DATASET_PATH = '/exchange/dspro2/M-AI-ZE/data/adjusted/1.0/expert_data_1.0.csv'\n",
    "EXPORT_PATH = '/exchange/dspro2/M-AI-ZE/data/adjusted/1.0/splits'\n",
    "SPLIT_ID = 'SID01'\n",
    "TRAIN_SIZE = 0.8\n",
    "VAL_SIZE = 0.1\n",
    "# The test size is defined by 1 - TRAIN_SIZE - VAL_SIZE"
   ]
  },
  {
   "cell_type": "markdown",
   "id": "346b0c5e-44c4-409d-8f2b-09d500523cfd",
   "metadata": {},
   "source": [
    "## Define Methods"
   ]
  },
  {
   "cell_type": "code",
   "execution_count": 3,
   "id": "5d7cce5b-997f-48ac-ab7a-7d70b1826c35",
   "metadata": {},
   "outputs": [],
   "source": [
    "def train_val_test_split(df, train_size, val_size):\n",
    "\n",
    "    val_test_size = round(1 - train_size, 5)\n",
    "    \n",
    "    train_df, temp_df = train_test_split(\n",
    "        df,\n",
    "        test_size = val_test_size,\n",
    "        stratify = df['type'],\n",
    "        random_state = RANDOM_STATE \n",
    "    )\n",
    "\n",
    "    test_size_prop = round((1 / val_test_size) * (val_test_size - val_size), 5)\n",
    "    \n",
    "    eval_df, test_df = train_test_split(\n",
    "        temp_df,\n",
    "        test_size=test_size_prop,\n",
    "        stratify=temp_df['type'],\n",
    "        random_state= RANDOM_STATE\n",
    "    )\n",
    "    return train_df, eval_df, test_df\n",
    "    "
   ]
  },
  {
   "cell_type": "code",
   "execution_count": 4,
   "id": "2d1c1520-6f1b-4446-b9bc-f71da54f27fe",
   "metadata": {},
   "outputs": [],
   "source": [
    "def check_type_ratio(train_df, eval_df = None, test_df = None):\n",
    "    train_rows = train_df.shape[0]\n",
    "    train_boom = train_df[train_df['type'] == 'boom'].shape[0]\n",
    "    train_drone = train_df[train_df['type'] == 'drone'].shape[0]\n",
    "    train_handheld = train_df[train_df['type'] == 'handheld'].shape[0]\n",
    "\n",
    "    print(f'------TRAIN DATA:------')\n",
    "    print(f'Boom portion: {(100 / train_rows) * train_boom}%')\n",
    "    print(f'Drone portion: {(100 / train_rows) * train_drone}%')\n",
    "    print(f'Handheld portion: {(100 / train_rows) * train_handheld}%')\n",
    "\n",
    "    if eval_df is not None:\n",
    "        eval_rows = eval_df.shape[0]\n",
    "        eval_boom = eval_df[eval_df['type'] == 'boom'].shape[0]\n",
    "        eval_drone = eval_df[eval_df['type'] == 'drone'].shape[0]\n",
    "        eval_handheld = eval_df[eval_df['type'] == 'handheld'].shape[0]\n",
    "    \n",
    "        print(f'------EVALUATION DATA:------')\n",
    "        print(f'Boom portion: {(100 / eval_rows) * eval_boom}%')\n",
    "        print(f'Drone portion: {(100 / eval_rows) * eval_drone}%')\n",
    "        print(f'Handheld portion: {(100 / eval_rows) * eval_handheld}%')\n",
    "\n",
    "    if test_df is not None:\n",
    "        test_rows = test_df.shape[0]\n",
    "        test_boom = test_df[test_df['type'] == 'boom'].shape[0]\n",
    "        test_drone = test_df[test_df['type'] == 'drone'].shape[0]\n",
    "        test_handheld = test_df[test_df['type'] == 'handheld'].shape[0]\n",
    "    \n",
    "        print(f'------TEST DATA:------')\n",
    "        print(f'Boom portion: {(100 / test_rows) * test_boom}%')\n",
    "        print(f'Drone portion: {(100 / test_rows) * test_drone}%')\n",
    "        print(f'Handheld portion: {(100 / test_rows) * test_handheld}%')\n",
    "        \n",
    "    "
   ]
  },
  {
   "cell_type": "markdown",
   "id": "0e670d4b-4707-4bad-946e-474ea06e0ef3",
   "metadata": {},
   "source": [
    "## Split and Check Data"
   ]
  },
  {
   "cell_type": "code",
   "execution_count": 5,
   "id": "a276b1bc-80d5-40f7-90e6-a6fba1bc031f",
   "metadata": {},
   "outputs": [],
   "source": [
    "data_set = pd.read_csv(DATASET_PATH)"
   ]
  },
  {
   "cell_type": "markdown",
   "id": "1ce7ef13-c785-4868-963d-9b128afe02c8",
   "metadata": {},
   "source": [
    "#### Check original type ratio"
   ]
  },
  {
   "cell_type": "code",
   "execution_count": 6,
   "id": "6aca6561-5c78-4f7b-9cc2-374604d1717f",
   "metadata": {},
   "outputs": [
    {
     "name": "stdout",
     "output_type": "stream",
     "text": [
      "------TRAIN DATA:------\n",
      "Boom portion: 53.37677370427286%\n",
      "Drone portion: 39.74394795138404%\n",
      "Handheld portion: 6.879278344343105%\n"
     ]
    }
   ],
   "source": [
    "check_type_ratio(data_set)"
   ]
  },
  {
   "cell_type": "code",
   "execution_count": 7,
   "id": "fc63d2e3-1e38-4903-b8f5-749f5304ec6d",
   "metadata": {},
   "outputs": [],
   "source": [
    "train_df, eval_df, test_df = train_val_test_split(data_set, TRAIN_SIZE, VAL_SIZE)"
   ]
  },
  {
   "cell_type": "markdown",
   "id": "4f1361ab-839c-423d-9030-1819042fc023",
   "metadata": {},
   "source": [
    "#### Check splitted type ratios"
   ]
  },
  {
   "cell_type": "code",
   "execution_count": 8,
   "id": "56186680-6d2d-45d5-bc18-fbdfb05dfe6e",
   "metadata": {},
   "outputs": [
    {
     "name": "stdout",
     "output_type": "stream",
     "text": [
      "------TRAIN DATA:------\n",
      "Boom portion: 53.37715632834816%\n",
      "Drone portion: 39.7437976325604%\n",
      "Handheld portion: 6.879046039091442%\n",
      "------EVALUATION DATA:------\n",
      "Boom portion: 53.377906396567205%\n",
      "Drone portion: 39.74653228220736%\n",
      "Handheld portion: 6.875561321225427%\n",
      "------TEST DATA:------\n",
      "Boom portion: 53.372580323288766%\n",
      "Drone portion: 39.74256635402115%\n",
      "Handheld portion: 6.884853322690081%\n"
     ]
    }
   ],
   "source": [
    "check_type_ratio(train_df, eval_df, test_df)"
   ]
  },
  {
   "cell_type": "markdown",
   "id": "650aef32-ccda-4229-8146-2737c8e53c2a",
   "metadata": {},
   "source": [
    "## Safe Split"
   ]
  },
  {
   "cell_type": "code",
   "execution_count": 9,
   "id": "c56d9384-b4b6-4ea9-b192-c38c1eae9ddf",
   "metadata": {},
   "outputs": [],
   "source": [
    "train_df.to_csv(EXPORT_PATH + '/train_data_' + SPLIT_ID + '_RS' + str(RANDOM_STATE) + '.csv', index=False)\n",
    "eval_df.to_csv(EXPORT_PATH + '/eval_data_' + SPLIT_ID + '_RS' + str(RANDOM_STATE) + '.csv', index=False)\n",
    "test_df.to_csv(EXPORT_PATH + '/test_data_' + SPLIT_ID + '_RS' + str(RANDOM_STATE) + '.csv', index=False)"
   ]
  }
 ],
 "metadata": {
  "kernelspec": {
   "display_name": "Python 3 (ipykernel)",
   "language": "python",
   "name": "python3"
  },
  "language_info": {
   "codemirror_mode": {
    "name": "ipython",
    "version": 3
   },
   "file_extension": ".py",
   "mimetype": "text/x-python",
   "name": "python",
   "nbconvert_exporter": "python",
   "pygments_lexer": "ipython3",
   "version": "3.12.9"
  }
 },
 "nbformat": 4,
 "nbformat_minor": 5
}
