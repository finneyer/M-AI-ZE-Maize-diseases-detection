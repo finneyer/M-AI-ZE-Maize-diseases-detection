{
 "cells": [
  {
   "cell_type": "markdown",
   "id": "43de02b9-86c1-4dad-86af-7c91c6dfdada",
   "metadata": {},
   "source": [
    "# Notebook to Create Data Splits"
   ]
  },
  {
   "cell_type": "code",
   "execution_count": 1,
   "id": "132ebc75-52e8-40b2-bbf7-c9ba23a34dca",
   "metadata": {},
   "outputs": [],
   "source": [
    "%load_ext autoreload\n",
    "%autoreload 2"
   ]
  },
  {
   "cell_type": "code",
   "execution_count": 35,
   "id": "eb946870-f07b-4f5b-9ef4-bf4a4918a611",
   "metadata": {},
   "outputs": [],
   "source": [
    "import pandas as pd\n",
    "import data_functions as func\n",
    "from sklearn.model_selection import train_test_split\n",
    "import os"
   ]
  },
  {
   "cell_type": "markdown",
   "id": "2feaf5a3-7c60-4926-95c2-3a4282b56358",
   "metadata": {},
   "source": [
    "## Define Constants\n",
    "Fill in the constants and then run the notebook to create a data split"
   ]
  },
  {
   "cell_type": "code",
   "execution_count": 3,
   "id": "97277f22-41b3-45fd-94b1-bbbb2b95b21d",
   "metadata": {},
   "outputs": [],
   "source": [
    "RANDOM_STATE = 42\n",
    "DATASET_PATH = '/exchange/dspro2/M-AI-ZE/data/adjusted/1.1/expert_data_1.1.csv'\n",
    "ORIGINAL_IMAGE_FOLDER_PATH = '/exchange/dspro2/M-AI-ZE/data/images'\n",
    "EXPORT_PATH = '/exchange/dspro2/M-AI-ZE/data/adjusted/1.1/splits'\n",
    "SPLIT_ID = 'SID01'\n",
    "TRAIN_SIZE = 0.8\n",
    "VAL_SIZE = 0.1\n",
    "# The test size is defined by 1 - TRAIN_SIZE - VAL_SIZE\n",
    "\n",
    "NEW_IMG_SIZE = (640, 640)"
   ]
  },
  {
   "cell_type": "markdown",
   "id": "346b0c5e-44c4-409d-8f2b-09d500523cfd",
   "metadata": {},
   "source": [
    "## Define Methods"
   ]
  },
  {
   "cell_type": "code",
   "execution_count": 4,
   "id": "5d7cce5b-997f-48ac-ab7a-7d70b1826c35",
   "metadata": {},
   "outputs": [],
   "source": [
    "def train_val_test_split(df, train_size, val_size):\n",
    "\n",
    "    val_test_size = round(1 - train_size, 5)\n",
    "    \n",
    "    train_df, temp_df = train_test_split(\n",
    "        df,\n",
    "        test_size = val_test_size,\n",
    "        stratify = df['type'],\n",
    "        random_state = RANDOM_STATE \n",
    "    )\n",
    "\n",
    "    test_size_prop = round((1 / val_test_size) * (val_test_size - val_size), 5)\n",
    "    \n",
    "    eval_df, test_df = train_test_split(\n",
    "        temp_df,\n",
    "        test_size = test_size_prop,\n",
    "        stratify = temp_df['type'],\n",
    "        random_state = RANDOM_STATE\n",
    "    )\n",
    "    return train_df, eval_df, test_df\n",
    "    "
   ]
  },
  {
   "cell_type": "code",
   "execution_count": 5,
   "id": "2d1c1520-6f1b-4446-b9bc-f71da54f27fe",
   "metadata": {},
   "outputs": [],
   "source": [
    "def check_type_ratio(train_df, eval_df = None, test_df = None):\n",
    "    train_rows = train_df.shape[0]\n",
    "    train_boom = train_df[train_df['type'] == 'boom'].shape[0]\n",
    "    train_drone = train_df[train_df['type'] == 'drone'].shape[0]\n",
    "    train_handheld = train_df[train_df['type'] == 'handheld'].shape[0]\n",
    "\n",
    "    print(f'------TRAIN DATA:------')\n",
    "    print(f'Boom portion: {(100 / train_rows) * train_boom}%')\n",
    "    print(f'Drone portion: {(100 / train_rows) * train_drone}%')\n",
    "    print(f'Handheld portion: {(100 / train_rows) * train_handheld}%')\n",
    "\n",
    "    if eval_df is not None:\n",
    "        eval_rows = eval_df.shape[0]\n",
    "        eval_boom = eval_df[eval_df['type'] == 'boom'].shape[0]\n",
    "        eval_drone = eval_df[eval_df['type'] == 'drone'].shape[0]\n",
    "        eval_handheld = eval_df[eval_df['type'] == 'handheld'].shape[0]\n",
    "    \n",
    "        print(f'------EVALUATION DATA:------')\n",
    "        print(f'Boom portion: {(100 / eval_rows) * eval_boom}%')\n",
    "        print(f'Drone portion: {(100 / eval_rows) * eval_drone}%')\n",
    "        print(f'Handheld portion: {(100 / eval_rows) * eval_handheld}%')\n",
    "\n",
    "    if test_df is not None:\n",
    "        test_rows = test_df.shape[0]\n",
    "        test_boom = test_df[test_df['type'] == 'boom'].shape[0]\n",
    "        test_drone = test_df[test_df['type'] == 'drone'].shape[0]\n",
    "        test_handheld = test_df[test_df['type'] == 'handheld'].shape[0]\n",
    "    \n",
    "        print(f'------TEST DATA:------')\n",
    "        print(f'Boom portion: {(100 / test_rows) * test_boom}%')\n",
    "        print(f'Drone portion: {(100 / test_rows) * test_drone}%')\n",
    "        print(f'Handheld portion: {(100 / test_rows) * test_handheld}%')\n",
    "        \n",
    "    "
   ]
  },
  {
   "cell_type": "markdown",
   "id": "0e670d4b-4707-4bad-946e-474ea06e0ef3",
   "metadata": {},
   "source": [
    "## Split and Check Data"
   ]
  },
  {
   "cell_type": "code",
   "execution_count": 6,
   "id": "a276b1bc-80d5-40f7-90e6-a6fba1bc031f",
   "metadata": {},
   "outputs": [],
   "source": [
    "bboxes_df = pd.read_csv(DATASET_PATH)\n",
    "images_df = bboxes_df[['image', 'type']].drop_duplicates()"
   ]
  },
  {
   "cell_type": "markdown",
   "id": "1ce7ef13-c785-4868-963d-9b128afe02c8",
   "metadata": {},
   "source": [
    "#### Check original type ratio"
   ]
  },
  {
   "cell_type": "code",
   "execution_count": 7,
   "id": "6aca6561-5c78-4f7b-9cc2-374604d1717f",
   "metadata": {},
   "outputs": [
    {
     "name": "stdout",
     "output_type": "stream",
     "text": [
      "------TRAIN DATA:------\n",
      "Boom portion: 50.93936491564135%\n",
      "Drone portion: 41.5530833271937%\n",
      "Handheld portion: 7.50755175716496%\n"
     ]
    }
   ],
   "source": [
    "check_type_ratio(images_df)"
   ]
  },
  {
   "cell_type": "code",
   "execution_count": 8,
   "id": "fc63d2e3-1e38-4903-b8f5-749f5304ec6d",
   "metadata": {},
   "outputs": [],
   "source": [
    "images_train_df, images_eval_df, images_test_df = train_val_test_split(images_df, TRAIN_SIZE, VAL_SIZE)"
   ]
  },
  {
   "cell_type": "markdown",
   "id": "4f1361ab-839c-423d-9030-1819042fc023",
   "metadata": {},
   "source": [
    "#### Check splitted type ratios"
   ]
  },
  {
   "cell_type": "code",
   "execution_count": 9,
   "id": "56186680-6d2d-45d5-bc18-fbdfb05dfe6e",
   "metadata": {},
   "outputs": [
    {
     "name": "stdout",
     "output_type": "stream",
     "text": [
      "------TRAIN DATA:------\n",
      "Boom portion: 50.93939952109044%\n",
      "Drone portion: 41.55461410941241%\n",
      "Handheld portion: 7.505986369497145%\n",
      "------EVALUATION DATA:------\n",
      "Boom portion: 50.92114959469418%\n",
      "Drone portion: 41.56226971260133%\n",
      "Handheld portion: 7.516580692704496%\n",
      "------TEST DATA:------\n",
      "Boom portion: 50.95729013254787%\n",
      "Drone portion: 41.531664212076585%\n",
      "Handheld portion: 7.511045655375552%\n"
     ]
    }
   ],
   "source": [
    "check_type_ratio(images_train_df, images_eval_df, images_test_df)"
   ]
  },
  {
   "cell_type": "markdown",
   "id": "5920ad1c-e54d-4d17-b828-df87d6f52a7e",
   "metadata": {},
   "source": [
    "### Move Images to Their Folders"
   ]
  },
  {
   "cell_type": "code",
   "execution_count": 10,
   "id": "b4a0b044-3156-443c-a268-b8bd89972e60",
   "metadata": {},
   "outputs": [],
   "source": [
    "image_path_train = EXPORT_PATH + '/' + SPLIT_ID + '/images/train'\n",
    "image_path_val = EXPORT_PATH + '/' + SPLIT_ID + '/images/val'\n",
    "image_path_test = EXPORT_PATH + '/' + SPLIT_ID + '/images/test'"
   ]
  },
  {
   "cell_type": "code",
   "execution_count": 11,
   "id": "292ad8cf-e91c-41e1-b0e9-404e235ec522",
   "metadata": {},
   "outputs": [],
   "source": [
    "os.makedirs(image_path_train, exist_ok=True)\n",
    "os.makedirs(image_path_val, exist_ok=True)\n",
    "os.makedirs(image_path_test, exist_ok=True)"
   ]
  },
  {
   "cell_type": "code",
   "execution_count": 12,
   "id": "190488a4-aacd-492d-80b0-087075ac5db8",
   "metadata": {},
   "outputs": [],
   "source": [
    "func.copy_imgs_to_folder(images_train_df, image_path_train, ORIGINAL_IMAGE_FOLDER_PATH)\n",
    "func.copy_imgs_to_folder(images_eval_df, image_path_val, ORIGINAL_IMAGE_FOLDER_PATH)\n",
    "func.copy_imgs_to_folder(images_test_df, image_path_test, ORIGINAL_IMAGE_FOLDER_PATH)"
   ]
  },
  {
   "cell_type": "markdown",
   "id": "7a325cd9-40ae-42c2-b514-6bfe3586b90d",
   "metadata": {},
   "source": [
    "## Normalize Train and Validation Splits"
   ]
  },
  {
   "cell_type": "code",
   "execution_count": 13,
   "id": "56d9ebc9-d474-4b81-9b4d-38201b70bee9",
   "metadata": {},
   "outputs": [],
   "source": [
    "bboxes_train = bboxes_df[bboxes_df[\"image\"].isin(set(images_train_df[\"image\"]))]\n",
    "bboxes_val = bboxes_df[bboxes_df[\"image\"].isin(set(images_eval_df[\"image\"]))]\n",
    "bboxes_test = bboxes_df[bboxes_df[\"image\"].isin(set(images_test_df[\"image\"]))]"
   ]
  },
  {
   "cell_type": "markdown",
   "id": "f86c5d6c-d3cc-4919-9608-31a3649aebe2",
   "metadata": {},
   "source": [
    "### Get the Original Sizes of the Images"
   ]
  },
  {
   "cell_type": "code",
   "execution_count": 16,
   "id": "a4a69a97-c3da-49ac-addf-640e34868fd5",
   "metadata": {},
   "outputs": [],
   "source": [
    "img_size_dict_train = func.get_image_size_dict(image_path_train)\n",
    "img_size_dict_val = func.get_image_size_dict(image_path_val)\n",
    "\n",
    "bboxes_train = func.add_image_size_to_df(bboxes_train, img_size_dict_train)\n",
    "bboxes_val = func.add_image_size_to_df(bboxes_val, img_size_dict_val)"
   ]
  },
  {
   "cell_type": "markdown",
   "id": "8a659265-34cd-42ca-9bfb-9bb0feb4c7d0",
   "metadata": {},
   "source": [
    "### Resize the Images"
   ]
  },
  {
   "cell_type": "code",
   "execution_count": 17,
   "id": "7ad30790-1ec3-421e-94ae-8f2c57221e4e",
   "metadata": {},
   "outputs": [],
   "source": [
    "func.resize_images(image_path_train, NEW_IMG_SIZE)\n",
    "func.resize_images(image_path_val, NEW_IMG_SIZE)"
   ]
  },
  {
   "cell_type": "markdown",
   "id": "7ef79b0d-a73d-4d1c-a225-06ed2e7e8040",
   "metadata": {},
   "source": [
    "### Normalize Bounding Boxes from 0 to 1 and add the Center Point and Width and Height"
   ]
  },
  {
   "cell_type": "code",
   "execution_count": 18,
   "id": "2b1e753b-cffc-4620-9346-94de36f84f96",
   "metadata": {},
   "outputs": [],
   "source": [
    "bboxes_train = func.prepare_bboxes(bboxes_train)\n",
    "bboxes_val = func.prepare_bboxes(bboxes_val)"
   ]
  },
  {
   "cell_type": "markdown",
   "id": "650aef32-ccda-4229-8146-2737c8e53c2a",
   "metadata": {},
   "source": [
    "## Safe Labels"
   ]
  },
  {
   "cell_type": "code",
   "execution_count": 36,
   "id": "7805d464-4bfa-407b-8b40-e309440676bb",
   "metadata": {},
   "outputs": [],
   "source": [
    "label_path_train = EXPORT_PATH + '/' + SPLIT_ID + '/labels/train'\n",
    "label_path_val = EXPORT_PATH + '/' + SPLIT_ID + '/labels/val'\n",
    "label_path_test = EXPORT_PATH + '/' + SPLIT_ID + '/labels/test'"
   ]
  },
  {
   "cell_type": "code",
   "execution_count": 37,
   "id": "c56d9384-b4b6-4ea9-b192-c38c1eae9ddf",
   "metadata": {},
   "outputs": [],
   "source": [
    "os.makedirs(label_path_train, exist_ok=True)\n",
    "os.makedirs(label_path_val, exist_ok=True)\n",
    "os.makedirs(label_path_test, exist_ok=True)"
   ]
  },
  {
   "cell_type": "markdown",
   "id": "2020cda2-ff21-4657-9f76-7d0334abf8e3",
   "metadata": {},
   "source": [
    "### Store Unnormalized Test Data as CSV"
   ]
  },
  {
   "cell_type": "code",
   "execution_count": 38,
   "id": "07a67495-343d-486d-b12c-0d4c5b846eac",
   "metadata": {},
   "outputs": [],
   "source": [
    "bboxes_test.to_csv(label_path_test + '/bboxes_test.csv', index=False)"
   ]
  },
  {
   "cell_type": "markdown",
   "id": "bd809b43-8cf3-4305-a24c-916d214bb4d6",
   "metadata": {},
   "source": [
    "### Store Train and Validation Labels as .txt Files"
   ]
  },
  {
   "cell_type": "code",
   "execution_count": 39,
   "id": "67196bf7-4cea-42c8-907d-9d1205f5ad92",
   "metadata": {},
   "outputs": [],
   "source": [
    "func.store_lables_as_txt(bboxes_train, label_path_train)\n",
    "func.store_lables_as_txt(bboxes_val, label_path_val)"
   ]
  }
 ],
 "metadata": {
  "kernelspec": {
   "display_name": "Python 3 (ipykernel)",
   "language": "python",
   "name": "python3"
  },
  "language_info": {
   "codemirror_mode": {
    "name": "ipython",
    "version": 3
   },
   "file_extension": ".py",
   "mimetype": "text/x-python",
   "name": "python",
   "nbconvert_exporter": "python",
   "pygments_lexer": "ipython3",
   "version": "3.12.9"
  }
 },
 "nbformat": 4,
 "nbformat_minor": 5
}
