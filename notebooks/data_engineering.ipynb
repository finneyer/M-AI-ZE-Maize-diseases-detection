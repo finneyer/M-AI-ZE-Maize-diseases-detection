{
 "cells": [
  {
   "cell_type": "markdown",
   "id": "7f720eb8-0ed8-4c4f-a930-daf2047cf01b",
   "metadata": {},
   "source": [
    "# Notebook to clean and adjust data"
   ]
  },
  {
   "cell_type": "code",
   "execution_count": 1,
   "id": "30c253d2-96eb-422a-aede-57aefb86ce99",
   "metadata": {},
   "outputs": [],
   "source": [
    "import pandas as pd\n",
    "import os\n",
    "from PIL import Image\n",
    "import data_functions as func"
   ]
  },
  {
   "cell_type": "markdown",
   "id": "2e4b425e-8b9e-427d-9cea-9f65ee5c319f",
   "metadata": {},
   "source": [
    "## Constants"
   ]
  },
  {
   "cell_type": "code",
   "execution_count": 2,
   "id": "a5831a52-3009-4a0a-8f14-505635f56ddc",
   "metadata": {},
   "outputs": [],
   "source": [
    "EXPERT_BOOM_DATA_PATH = '/exchange/dspro2/M-AI-ZE/data/annotations_expert/annotations_boom.csv'\n",
    "EXPERT_DRONE_DATA_PATH = '/exchange/dspro2/M-AI-ZE/data/annotations_expert/annotations_drone.csv'\n",
    "EXPORT_HANDHELD_DATA_PATH = '/exchange/dspro2/M-AI-ZE/data/annotations_expert/annotations_handheld.csv'\n",
    "\n",
    "BOOM_IMAGE_PATH = '/exchange/dspro2/M-AI-ZE/data/images/images_boom'\n",
    "DRONE_IMAGE_PATH = '/exchange/dspro2/M-AI-ZE/data/images/images_drone'\n",
    "HANDHELD_IMAGE_PATH = '/exchange/dspro2/M-AI-ZE/data/images/images_handheld'\n",
    "\n",
    "BOOM_IMAGE_RESIZE_PATH = '/exchange/dspro2/M-AI-ZE/data/images_resized/images_boom'\n",
    "DRONE_IMAGE_RESIZE_PATH = '/exchange/dspro2/M-AI-ZE/data/images_resized/images_drone'\n",
    "HANDHELD_IMAGE_RESIZE_PATH = '/exchange/dspro2/M-AI-ZE/data/images_resized/images_handheld'\n",
    "\n",
    "EXPORT_PATH = '/exchange/dspro2/M-AI-ZE/data/adjusted/1.1/expert_data_1.1.csv'"
   ]
  },
  {
   "cell_type": "markdown",
   "id": "9ad85ea6-2127-424e-9e5f-d2325fd50f06",
   "metadata": {},
   "source": [
    "## Import data"
   ]
  },
  {
   "cell_type": "code",
   "execution_count": 3,
   "id": "609d6f47-322c-4a7a-b255-64ae916c82a8",
   "metadata": {},
   "outputs": [],
   "source": [
    "expert_boom_data = pd.read_csv(EXPERT_BOOM_DATA_PATH, delimiter=\",\", quotechar='\"')\n",
    "expert_drone_data = pd.read_csv(EXPERT_DRONE_DATA_PATH, delimiter=\",\", quotechar='\"')\n",
    "expert_handheld_data = pd.read_csv(EXPORT_HANDHELD_DATA_PATH, delimiter=\",\", quotechar='\"')"
   ]
  },
  {
   "cell_type": "markdown",
   "id": "13713cc1-a7e5-44b3-b6eb-c48d830e3f7f",
   "metadata": {},
   "source": [
    "## Unify Prefix of the Image Files"
   ]
  },
  {
   "cell_type": "code",
   "execution_count": 9,
   "id": "89992325-b918-41d4-9383-a13d136ac708",
   "metadata": {},
   "outputs": [],
   "source": [
    "func.unify_img_suffix(BOOM_IMAGE_PATH)\n",
    "func.unify_img_suffix(DRONE_IMAGE_PATH)\n",
    "func.unify_img_suffix(HANDHELD_IMAGE_PATH)"
   ]
  },
  {
   "cell_type": "markdown",
   "id": "b24f3db4-ed28-4bba-93ce-b6ebd9502a50",
   "metadata": {},
   "source": [
    "## Clean CSV Data"
   ]
  },
  {
   "cell_type": "code",
   "execution_count": 23,
   "id": "da8a8ae0-6f43-4e0f-bd26-1b5aef28cf58",
   "metadata": {},
   "outputs": [],
   "source": [
    "clean_boom = func.remove_duplicates(expert_boom_data)\n",
    "clean_drone = func.remove_duplicates(expert_drone_data)\n",
    "clean_handheld = func.remove_duplicates(expert_handheld_data)"
   ]
  },
  {
   "cell_type": "code",
   "execution_count": 24,
   "id": "8af72dad-a2ed-401e-8cfe-2bc46bacf26e",
   "metadata": {},
   "outputs": [],
   "source": [
    "clean_boom = func.order_coordinates(clean_boom)\n",
    "clean_drone = func.order_coordinates(clean_drone)\n",
    "clean_handheld = func.order_coordinates(clean_handheld)"
   ]
  },
  {
   "cell_type": "code",
   "execution_count": 25,
   "id": "542fe4d5-91a3-4f4e-bc9d-aee06df47912",
   "metadata": {},
   "outputs": [],
   "source": [
    "clean_boom = func.remove_no_area_boxes(clean_boom)\n",
    "clean_drone = func.remove_no_area_boxes(clean_drone)\n",
    "clean_handheld = func.remove_no_area_boxes(clean_handheld)"
   ]
  },
  {
   "cell_type": "code",
   "execution_count": 26,
   "id": "ed796114-0c79-4cf0-89c7-00eb63924f60",
   "metadata": {},
   "outputs": [],
   "source": [
    "clean_drone = func.unify_img_suffix_df(clean_drone)\n",
    "clean_handheld = func.unify_img_suffix_df(clean_handheld)\n",
    "# Add .jpg suffix for boom images\n",
    "clean_boom['image'] = clean_boom['image'] + '.jpg'"
   ]
  },
  {
   "cell_type": "code",
   "execution_count": 27,
   "id": "cab7f78c-1dc5-4e78-b8c9-b4b5d07843b0",
   "metadata": {},
   "outputs": [],
   "source": [
    "# Only the boom data contains coordinates with negative values\n",
    "clean_boom = func.clip_negative_coord_values(clean_boom)"
   ]
  },
  {
   "cell_type": "code",
   "execution_count": 28,
   "id": "dde4a6ef-67a2-4a08-a320-7ea097bfa359",
   "metadata": {},
   "outputs": [],
   "source": [
    "# Remove entries for not existing images\n",
    "clean_boom = clean_boom[(clean_boom['image'] != 'DSC06208_3.jpg') & (clean_boom['image'] != 'DSC06209_0.jpg')]"
   ]
  },
  {
   "cell_type": "markdown",
   "id": "d2177820-3a9b-4efe-952a-bb56f122f026",
   "metadata": {},
   "source": [
    "## Combine the Data of the Three Images Types and Export"
   ]
  },
  {
   "cell_type": "code",
   "execution_count": 18,
   "id": "d4369bbe-c902-4946-a29d-93b28cbab62d",
   "metadata": {},
   "outputs": [],
   "source": [
    "clean_boom['type'] = 'boom'\n",
    "clean_drone['type'] = 'drone'\n",
    "clean_handheld['type'] = 'handheld'\n",
    "expert_data_combined = pd.concat([clean_boom, clean_drone, clean_handheld], ignore_index=True)"
   ]
  },
  {
   "cell_type": "code",
   "execution_count": 19,
   "id": "958a2350-38c5-4210-ab3c-fccf452cf35a",
   "metadata": {},
   "outputs": [],
   "source": [
    "expert_data_combined.to_csv(EXPORT_PATH, index=False)"
   ]
  }
 ],
 "metadata": {
  "kernelspec": {
   "display_name": "Python 3 (ipykernel)",
   "language": "python",
   "name": "python3"
  },
  "language_info": {
   "codemirror_mode": {
    "name": "ipython",
    "version": 3
   },
   "file_extension": ".py",
   "mimetype": "text/x-python",
   "name": "python",
   "nbconvert_exporter": "python",
   "pygments_lexer": "ipython3",
   "version": "3.12.9"
  }
 },
 "nbformat": 4,
 "nbformat_minor": 5
}
