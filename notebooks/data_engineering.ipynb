{
 "cells": [
  {
   "cell_type": "markdown",
   "id": "7f720eb8-0ed8-4c4f-a930-daf2047cf01b",
   "metadata": {},
   "source": [
    "# Notebook to clean and adjust data"
   ]
  },
  {
   "cell_type": "markdown",
   "id": "106e30d7-ad94-4bba-82e9-0c9577efe850",
   "metadata": {},
   "source": [
    "## Methods"
   ]
  },
  {
   "cell_type": "code",
   "execution_count": 1,
   "id": "21a7acf2-88bc-462f-a684-1fb44f2ecda9",
   "metadata": {},
   "outputs": [],
   "source": [
    "def remove_duplicates(df):\n",
    "    return df.drop_duplicates(inplace=False)"
   ]
  },
  {
   "cell_type": "code",
   "execution_count": null,
   "id": "554cebb3-5078-4989-b956-0af2bcb2740a",
   "metadata": {},
   "outputs": [],
   "source": []
  }
 ],
 "metadata": {
  "kernelspec": {
   "display_name": "Python 3 (ipykernel)",
   "language": "python",
   "name": "python3"
  },
  "language_info": {
   "codemirror_mode": {
    "name": "ipython",
    "version": 3
   },
   "file_extension": ".py",
   "mimetype": "text/x-python",
   "name": "python",
   "nbconvert_exporter": "python",
   "pygments_lexer": "ipython3",
   "version": "3.12.9"
  }
 },
 "nbformat": 4,
 "nbformat_minor": 5
}
