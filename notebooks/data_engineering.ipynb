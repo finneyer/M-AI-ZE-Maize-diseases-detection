{
 "cells": [
  {
   "cell_type": "markdown",
   "id": "7f720eb8-0ed8-4c4f-a930-daf2047cf01b",
   "metadata": {},
   "source": [
    "# Notebook to clean and adjust data\n",
    "Dataset 1.0"
   ]
  },
  {
   "cell_type": "code",
   "execution_count": 1,
   "id": "30c253d2-96eb-422a-aede-57aefb86ce99",
   "metadata": {},
   "outputs": [],
   "source": [
    "import pandas as pd\n",
    "import os"
   ]
  },
  {
   "cell_type": "code",
   "execution_count": 2,
   "id": "609d6f47-322c-4a7a-b255-64ae916c82a8",
   "metadata": {},
   "outputs": [],
   "source": [
    "expert_boom_data = pd.read_csv(\"/exchange/dspro2/M-AI-ZE/data/annotations_expert/annotations_boom.csv\", delimiter=\",\", quotechar='\"')\n",
    "expert_drone_data = pd.read_csv(\"/exchange/dspro2/M-AI-ZE/data/annotations_expert/annotations_drone.csv\", delimiter=\",\", quotechar='\"')\n",
    "expert_handheld_data = pd.read_csv(\"/exchange/dspro2/M-AI-ZE/data/annotations_expert/annotations_handheld.csv\", delimiter=\",\", quotechar='\"')"
   ]
  },
  {
   "cell_type": "markdown",
   "id": "106e30d7-ad94-4bba-82e9-0c9577efe850",
   "metadata": {},
   "source": [
    "## Methods"
   ]
  },
  {
   "cell_type": "code",
   "execution_count": 3,
   "id": "21a7acf2-88bc-462f-a684-1fb44f2ecda9",
   "metadata": {},
   "outputs": [],
   "source": [
    "def remove_duplicates(df):\n",
    "    return df.drop_duplicates(inplace=False)"
   ]
  },
  {
   "cell_type": "code",
   "execution_count": 4,
   "id": "554cebb3-5078-4989-b956-0af2bcb2740a",
   "metadata": {},
   "outputs": [],
   "source": [
    "def order_coordinates(df):\n",
    "    df = df.copy()\n",
    "    df['x1'], df['x2'] = df[['x1', 'x2']].min(axis=1), df[['x1', 'x2']].max(axis=1)\n",
    "    df['y1'], df['y2'] = df[['y1', 'y2']].min(axis=1), df[['y1', 'y2']].max(axis=1)\n",
    "    return df"
   ]
  },
  {
   "cell_type": "code",
   "execution_count": 5,
   "id": "869d69b1-bbde-4eb2-99b7-b10abe4a1025",
   "metadata": {},
   "outputs": [],
   "source": [
    "def remove_no_area_boxes(df):\n",
    "    df = df.copy()\n",
    "    return df[(df['x1'] != df['x2']) & (df['y1'] != df['y2'])]"
   ]
  },
  {
   "cell_type": "code",
   "execution_count": 6,
   "id": "96246883-b5e2-4b13-bf46-a4b5969239eb",
   "metadata": {},
   "outputs": [],
   "source": [
    "def unify_img_suffix(folder_path):\n",
    "    rename_extensions = ['.JPG', '.Jpeg']\n",
    "\n",
    "    for filename in os.listdir(folder_path):\n",
    "        name, ext = os.path.splitext(filename)\n",
    "\n",
    "        if ext in rename_extensions:\n",
    "            old_path = os.path.join(folder_path, filename)\n",
    "            new_path = os.path.join(folder_path, name + '.jpg')\n",
    "            os.rename(old_path, new_path)\n",
    "            print(f'Renamed: {filename} -> {name}.jpg')"
   ]
  },
  {
   "cell_type": "code",
   "execution_count": 7,
   "id": "442ea5c2-e8e8-4f22-a202-bb771f956298",
   "metadata": {},
   "outputs": [],
   "source": [
    "def unify_img_suffix_df(df):\n",
    "    df = df.copy()\n",
    "    df['image'] = df['image'].str.replace(r'\\.(jpe?g)$', '.jpg', case=False, regex=True)\n",
    "    return df"
   ]
  },
  {
   "cell_type": "code",
   "execution_count": 8,
   "id": "8acd5ab0-0ba2-4651-9806-eb3d73188b6f",
   "metadata": {},
   "outputs": [],
   "source": [
    "def clip_negative_coord_values(df):\n",
    "    df = df.copy()\n",
    "    cols = ['x1', 'y1', 'x2', 'y2']\n",
    "    df[cols] = df[cols].clip(lower=0)\n",
    "    return df"
   ]
  },
  {
   "cell_type": "markdown",
   "id": "13713cc1-a7e5-44b3-b6eb-c48d830e3f7f",
   "metadata": {},
   "source": [
    "## Unify Prefix of the Image Files"
   ]
  },
  {
   "cell_type": "code",
   "execution_count": 9,
   "id": "89992325-b918-41d4-9383-a13d136ac708",
   "metadata": {},
   "outputs": [],
   "source": [
    "unify_img_suffix('/exchange/dspro2/M-AI-ZE/data/images/images_boom')\n",
    "unify_img_suffix('/exchange/dspro2/M-AI-ZE/data/images/images_drone')\n",
    "unify_img_suffix('/exchange/dspro2/M-AI-ZE/data/images/images_handheld')"
   ]
  },
  {
   "cell_type": "markdown",
   "id": "b24f3db4-ed28-4bba-93ce-b6ebd9502a50",
   "metadata": {},
   "source": [
    "## Clean CSV Data"
   ]
  },
  {
   "cell_type": "code",
   "execution_count": 10,
   "id": "da8a8ae0-6f43-4e0f-bd26-1b5aef28cf58",
   "metadata": {},
   "outputs": [],
   "source": [
    "clean_boom = remove_duplicates(expert_boom_data)\n",
    "clean_drone = remove_duplicates(expert_drone_data)\n",
    "clean_handheld = remove_duplicates(expert_handheld_data)"
   ]
  },
  {
   "cell_type": "code",
   "execution_count": 11,
   "id": "8af72dad-a2ed-401e-8cfe-2bc46bacf26e",
   "metadata": {},
   "outputs": [],
   "source": [
    "clean_boom = order_coordinates(clean_boom)\n",
    "clean_drone = order_coordinates(clean_drone)\n",
    "clean_handheld = order_coordinates(clean_handheld)"
   ]
  },
  {
   "cell_type": "code",
   "execution_count": 12,
   "id": "542fe4d5-91a3-4f4e-bc9d-aee06df47912",
   "metadata": {},
   "outputs": [],
   "source": [
    "clean_boom = remove_no_area_boxes(clean_boom)\n",
    "clean_drone = remove_no_area_boxes(clean_drone)\n",
    "clean_handheld = remove_no_area_boxes(clean_handheld)"
   ]
  },
  {
   "cell_type": "code",
   "execution_count": 13,
   "id": "ed796114-0c79-4cf0-89c7-00eb63924f60",
   "metadata": {},
   "outputs": [],
   "source": [
    "clean_drone = unify_img_suffix_df(clean_drone)\n",
    "clean_handheld = unify_img_suffix_df(clean_handheld)\n",
    "# Add .jpg suffix for boom images\n",
    "clean_boom['image'] = clean_boom['image'] + '.jpg'"
   ]
  },
  {
   "cell_type": "code",
   "execution_count": 14,
   "id": "cab7f78c-1dc5-4e78-b8c9-b4b5d07843b0",
   "metadata": {},
   "outputs": [],
   "source": [
    "# Only the boom data contains coordinates with negative values\n",
    "clean_boom = clip_negative_coord_values(clean_boom)"
   ]
  },
  {
   "cell_type": "code",
   "execution_count": 15,
   "id": "7259d7e7-6bed-4ae7-96fc-81ecd27954cc",
   "metadata": {},
   "outputs": [
    {
     "data": {
      "text/html": [
       "<div>\n",
       "<style scoped>\n",
       "    .dataframe tbody tr th:only-of-type {\n",
       "        vertical-align: middle;\n",
       "    }\n",
       "\n",
       "    .dataframe tbody tr th {\n",
       "        vertical-align: top;\n",
       "    }\n",
       "\n",
       "    .dataframe thead th {\n",
       "        text-align: right;\n",
       "    }\n",
       "</style>\n",
       "<table border=\"1\" class=\"dataframe\">\n",
       "  <thead>\n",
       "    <tr style=\"text-align: right;\">\n",
       "      <th></th>\n",
       "      <th>image</th>\n",
       "      <th>x1</th>\n",
       "      <th>y1</th>\n",
       "      <th>x2</th>\n",
       "      <th>y2</th>\n",
       "      <th>user</th>\n",
       "      <th>day</th>\n",
       "      <th>month</th>\n",
       "      <th>year</th>\n",
       "      <th>hour</th>\n",
       "      <th>minute</th>\n",
       "    </tr>\n",
       "  </thead>\n",
       "  <tbody>\n",
       "    <tr>\n",
       "      <th>4</th>\n",
       "      <td>DSC00965_0.jpg</td>\n",
       "      <td>2503</td>\n",
       "      <td>161</td>\n",
       "      <td>2515</td>\n",
       "      <td>324</td>\n",
       "      <td>Ethan</td>\n",
       "      <td>5</td>\n",
       "      <td>7</td>\n",
       "      <td>2016</td>\n",
       "      <td>17</td>\n",
       "      <td>59</td>\n",
       "    </tr>\n",
       "    <tr>\n",
       "      <th>5</th>\n",
       "      <td>DSC00965_1.jpg</td>\n",
       "      <td>1954</td>\n",
       "      <td>1779</td>\n",
       "      <td>2000</td>\n",
       "      <td>1925</td>\n",
       "      <td>Tyr</td>\n",
       "      <td>8</td>\n",
       "      <td>12</td>\n",
       "      <td>2016</td>\n",
       "      <td>16</td>\n",
       "      <td>9</td>\n",
       "    </tr>\n",
       "    <tr>\n",
       "      <th>6</th>\n",
       "      <td>DSC00965_1.jpg</td>\n",
       "      <td>450</td>\n",
       "      <td>1757</td>\n",
       "      <td>569</td>\n",
       "      <td>1833</td>\n",
       "      <td>Tyr</td>\n",
       "      <td>8</td>\n",
       "      <td>12</td>\n",
       "      <td>2016</td>\n",
       "      <td>16</td>\n",
       "      <td>9</td>\n",
       "    </tr>\n",
       "    <tr>\n",
       "      <th>7</th>\n",
       "      <td>DSC00965_1.jpg</td>\n",
       "      <td>2151</td>\n",
       "      <td>1394</td>\n",
       "      <td>2410</td>\n",
       "      <td>1402</td>\n",
       "      <td>Tyr</td>\n",
       "      <td>8</td>\n",
       "      <td>12</td>\n",
       "      <td>2016</td>\n",
       "      <td>16</td>\n",
       "      <td>9</td>\n",
       "    </tr>\n",
       "    <tr>\n",
       "      <th>8</th>\n",
       "      <td>DSC00965_1.jpg</td>\n",
       "      <td>2757</td>\n",
       "      <td>1485</td>\n",
       "      <td>2849</td>\n",
       "      <td>1593</td>\n",
       "      <td>Tyr</td>\n",
       "      <td>8</td>\n",
       "      <td>12</td>\n",
       "      <td>2016</td>\n",
       "      <td>16</td>\n",
       "      <td>9</td>\n",
       "    </tr>\n",
       "  </tbody>\n",
       "</table>\n",
       "</div>"
      ],
      "text/plain": [
       "            image    x1    y1    x2    y2   user  day  month  year  hour  \\\n",
       "4  DSC00965_0.jpg  2503   161  2515   324  Ethan    5      7  2016    17   \n",
       "5  DSC00965_1.jpg  1954  1779  2000  1925    Tyr    8     12  2016    16   \n",
       "6  DSC00965_1.jpg   450  1757   569  1833    Tyr    8     12  2016    16   \n",
       "7  DSC00965_1.jpg  2151  1394  2410  1402    Tyr    8     12  2016    16   \n",
       "8  DSC00965_1.jpg  2757  1485  2849  1593    Tyr    8     12  2016    16   \n",
       "\n",
       "   minute  \n",
       "4      59  \n",
       "5       9  \n",
       "6       9  \n",
       "7       9  \n",
       "8       9  "
      ]
     },
     "execution_count": 15,
     "metadata": {},
     "output_type": "execute_result"
    }
   ],
   "source": [
    "clean_boom.head()"
   ]
  },
  {
   "cell_type": "code",
   "execution_count": 16,
   "id": "24af354c-929b-46e0-82a7-36bf0137d71e",
   "metadata": {},
   "outputs": [
    {
     "data": {
      "text/html": [
       "<div>\n",
       "<style scoped>\n",
       "    .dataframe tbody tr th:only-of-type {\n",
       "        vertical-align: middle;\n",
       "    }\n",
       "\n",
       "    .dataframe tbody tr th {\n",
       "        vertical-align: top;\n",
       "    }\n",
       "\n",
       "    .dataframe thead th {\n",
       "        text-align: right;\n",
       "    }\n",
       "</style>\n",
       "<table border=\"1\" class=\"dataframe\">\n",
       "  <thead>\n",
       "    <tr style=\"text-align: right;\">\n",
       "      <th></th>\n",
       "      <th>image</th>\n",
       "      <th>x1</th>\n",
       "      <th>y1</th>\n",
       "      <th>x2</th>\n",
       "      <th>y2</th>\n",
       "      <th>user</th>\n",
       "      <th>day</th>\n",
       "      <th>month</th>\n",
       "      <th>year</th>\n",
       "      <th>hour</th>\n",
       "      <th>minute</th>\n",
       "    </tr>\n",
       "  </thead>\n",
       "  <tbody>\n",
       "    <tr>\n",
       "      <th>0</th>\n",
       "      <td>J_170823_134140.jpg</td>\n",
       "      <td>1518</td>\n",
       "      <td>0</td>\n",
       "      <td>1795</td>\n",
       "      <td>415</td>\n",
       "      <td>Tyr</td>\n",
       "      <td>26</td>\n",
       "      <td>1</td>\n",
       "      <td>2018</td>\n",
       "      <td>10</td>\n",
       "      <td>41</td>\n",
       "    </tr>\n",
       "    <tr>\n",
       "      <th>1</th>\n",
       "      <td>J_170823_134140.jpg</td>\n",
       "      <td>2157</td>\n",
       "      <td>0</td>\n",
       "      <td>2375</td>\n",
       "      <td>549</td>\n",
       "      <td>Tyr</td>\n",
       "      <td>26</td>\n",
       "      <td>1</td>\n",
       "      <td>2018</td>\n",
       "      <td>10</td>\n",
       "      <td>41</td>\n",
       "    </tr>\n",
       "    <tr>\n",
       "      <th>2</th>\n",
       "      <td>J_170823_134140.jpg</td>\n",
       "      <td>1166</td>\n",
       "      <td>0</td>\n",
       "      <td>1449</td>\n",
       "      <td>389</td>\n",
       "      <td>Tyr</td>\n",
       "      <td>26</td>\n",
       "      <td>1</td>\n",
       "      <td>2018</td>\n",
       "      <td>10</td>\n",
       "      <td>41</td>\n",
       "    </tr>\n",
       "    <tr>\n",
       "      <th>3</th>\n",
       "      <td>J_170823_134140.jpg</td>\n",
       "      <td>3217</td>\n",
       "      <td>3755</td>\n",
       "      <td>3622</td>\n",
       "      <td>4000</td>\n",
       "      <td>Tyr</td>\n",
       "      <td>26</td>\n",
       "      <td>1</td>\n",
       "      <td>2018</td>\n",
       "      <td>10</td>\n",
       "      <td>41</td>\n",
       "    </tr>\n",
       "    <tr>\n",
       "      <th>4</th>\n",
       "      <td>J_170823_134140.jpg</td>\n",
       "      <td>3659</td>\n",
       "      <td>2242</td>\n",
       "      <td>3989</td>\n",
       "      <td>2530</td>\n",
       "      <td>Tyr</td>\n",
       "      <td>26</td>\n",
       "      <td>1</td>\n",
       "      <td>2018</td>\n",
       "      <td>10</td>\n",
       "      <td>41</td>\n",
       "    </tr>\n",
       "  </tbody>\n",
       "</table>\n",
       "</div>"
      ],
      "text/plain": [
       "                 image    x1    y1    x2    y2 user  day  month  year  hour  \\\n",
       "0  J_170823_134140.jpg  1518     0  1795   415  Tyr   26      1  2018    10   \n",
       "1  J_170823_134140.jpg  2157     0  2375   549  Tyr   26      1  2018    10   \n",
       "2  J_170823_134140.jpg  1166     0  1449   389  Tyr   26      1  2018    10   \n",
       "3  J_170823_134140.jpg  3217  3755  3622  4000  Tyr   26      1  2018    10   \n",
       "4  J_170823_134140.jpg  3659  2242  3989  2530  Tyr   26      1  2018    10   \n",
       "\n",
       "   minute  \n",
       "0      41  \n",
       "1      41  \n",
       "2      41  \n",
       "3      41  \n",
       "4      41  "
      ]
     },
     "execution_count": 16,
     "metadata": {},
     "output_type": "execute_result"
    }
   ],
   "source": [
    "clean_drone.head()"
   ]
  },
  {
   "cell_type": "code",
   "execution_count": 17,
   "id": "6dd1fc37-b5ae-44ff-9165-017e63e6c203",
   "metadata": {},
   "outputs": [
    {
     "data": {
      "text/html": [
       "<div>\n",
       "<style scoped>\n",
       "    .dataframe tbody tr th:only-of-type {\n",
       "        vertical-align: middle;\n",
       "    }\n",
       "\n",
       "    .dataframe tbody tr th {\n",
       "        vertical-align: top;\n",
       "    }\n",
       "\n",
       "    .dataframe thead th {\n",
       "        text-align: right;\n",
       "    }\n",
       "</style>\n",
       "<table border=\"1\" class=\"dataframe\">\n",
       "  <thead>\n",
       "    <tr style=\"text-align: right;\">\n",
       "      <th></th>\n",
       "      <th>image</th>\n",
       "      <th>x1</th>\n",
       "      <th>y1</th>\n",
       "      <th>x2</th>\n",
       "      <th>y2</th>\n",
       "      <th>user</th>\n",
       "      <th>day</th>\n",
       "      <th>month</th>\n",
       "      <th>year</th>\n",
       "      <th>hour</th>\n",
       "      <th>minute</th>\n",
       "    </tr>\n",
       "  </thead>\n",
       "  <tbody>\n",
       "    <tr>\n",
       "      <th>0</th>\n",
       "      <td>DSC00025.jpg</td>\n",
       "      <td>1864</td>\n",
       "      <td>1648</td>\n",
       "      <td>2864</td>\n",
       "      <td>2064</td>\n",
       "      <td>Tyr</td>\n",
       "      <td>26</td>\n",
       "      <td>5</td>\n",
       "      <td>2016</td>\n",
       "      <td>16</td>\n",
       "      <td>48</td>\n",
       "    </tr>\n",
       "    <tr>\n",
       "      <th>1</th>\n",
       "      <td>DSC00026.jpg</td>\n",
       "      <td>2872</td>\n",
       "      <td>1416</td>\n",
       "      <td>3152</td>\n",
       "      <td>2016</td>\n",
       "      <td>Tyr</td>\n",
       "      <td>26</td>\n",
       "      <td>5</td>\n",
       "      <td>2016</td>\n",
       "      <td>16</td>\n",
       "      <td>48</td>\n",
       "    </tr>\n",
       "    <tr>\n",
       "      <th>3</th>\n",
       "      <td>DSC00028.jpg</td>\n",
       "      <td>3248</td>\n",
       "      <td>1540</td>\n",
       "      <td>3572</td>\n",
       "      <td>2048</td>\n",
       "      <td>Tyr</td>\n",
       "      <td>26</td>\n",
       "      <td>5</td>\n",
       "      <td>2016</td>\n",
       "      <td>16</td>\n",
       "      <td>48</td>\n",
       "    </tr>\n",
       "    <tr>\n",
       "      <th>4</th>\n",
       "      <td>DSC00028.jpg</td>\n",
       "      <td>3444</td>\n",
       "      <td>1916</td>\n",
       "      <td>3852</td>\n",
       "      <td>2116</td>\n",
       "      <td>Tyr</td>\n",
       "      <td>26</td>\n",
       "      <td>5</td>\n",
       "      <td>2016</td>\n",
       "      <td>16</td>\n",
       "      <td>48</td>\n",
       "    </tr>\n",
       "    <tr>\n",
       "      <th>7</th>\n",
       "      <td>DSC00031.jpg</td>\n",
       "      <td>2016</td>\n",
       "      <td>1352</td>\n",
       "      <td>2968</td>\n",
       "      <td>1760</td>\n",
       "      <td>Tyr</td>\n",
       "      <td>26</td>\n",
       "      <td>5</td>\n",
       "      <td>2016</td>\n",
       "      <td>16</td>\n",
       "      <td>48</td>\n",
       "    </tr>\n",
       "  </tbody>\n",
       "</table>\n",
       "</div>"
      ],
      "text/plain": [
       "          image    x1    y1    x2    y2 user  day  month  year  hour  minute\n",
       "0  DSC00025.jpg  1864  1648  2864  2064  Tyr   26      5  2016    16      48\n",
       "1  DSC00026.jpg  2872  1416  3152  2016  Tyr   26      5  2016    16      48\n",
       "3  DSC00028.jpg  3248  1540  3572  2048  Tyr   26      5  2016    16      48\n",
       "4  DSC00028.jpg  3444  1916  3852  2116  Tyr   26      5  2016    16      48\n",
       "7  DSC00031.jpg  2016  1352  2968  1760  Tyr   26      5  2016    16      48"
      ]
     },
     "execution_count": 17,
     "metadata": {},
     "output_type": "execute_result"
    }
   ],
   "source": [
    "clean_handheld.head()"
   ]
  },
  {
   "cell_type": "markdown",
   "id": "d2177820-3a9b-4efe-952a-bb56f122f026",
   "metadata": {},
   "source": [
    "## Combine the Data of the Three Images Types and Export"
   ]
  },
  {
   "cell_type": "code",
   "execution_count": 18,
   "id": "d4369bbe-c902-4946-a29d-93b28cbab62d",
   "metadata": {},
   "outputs": [],
   "source": [
    "clean_boom['type'] = 'boom'\n",
    "clean_drone['type'] = 'drone'\n",
    "clean_handheld['type'] = 'handheld'\n",
    "expert_data_combined = pd.concat([clean_boom, clean_drone, clean_handheld], ignore_index=True)"
   ]
  },
  {
   "cell_type": "code",
   "execution_count": 19,
   "id": "958a2350-38c5-4210-ab3c-fccf452cf35a",
   "metadata": {},
   "outputs": [],
   "source": [
    "expert_data_combined.to_csv('/exchange/dspro2/M-AI-ZE/data/adjusted/1.0/expert_data_1.0.csv', index=False)"
   ]
  }
 ],
 "metadata": {
  "kernelspec": {
   "display_name": "Python 3 (ipykernel)",
   "language": "python",
   "name": "python3"
  },
  "language_info": {
   "codemirror_mode": {
    "name": "ipython",
    "version": 3
   },
   "file_extension": ".py",
   "mimetype": "text/x-python",
   "name": "python",
   "nbconvert_exporter": "python",
   "pygments_lexer": "ipython3",
   "version": "3.12.9"
  }
 },
 "nbformat": 4,
 "nbformat_minor": 5
}
