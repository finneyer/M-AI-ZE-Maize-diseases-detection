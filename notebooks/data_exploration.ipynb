{
 "cells": [
  {
   "cell_type": "code",
   "execution_count": null,
   "id": "dc10a30a-b5d6-4ea9-9689-ed88b4ac5eec",
   "metadata": {},
   "outputs": [],
   "source": [
    "import pandas as pd\n",
    "from PIL import Image, ImageDraw\n",
    "from IPython.display import display\n",
    "import numpy as np\n",
    "import matplotlib.pyplot as plt"
   ]
  },
  {
   "cell_type": "markdown",
   "id": "c33e54b3-588b-43f9-ac3a-4faf1c2a1bef",
   "metadata": {},
   "source": [
    "## Findings\n",
    "\n",
    "### Duplicate rows\n",
    "- Expert Data – Boom: **52 duplicate rows**\n",
    "- Expert Data – Drone: **3 duplicate rows**\n",
    "- Expert Data – Handheld: **0 duplicate rows**\n",
    "\n",
    "### Bouding Boxes\n",
    "- x2 and y2 values do not necessarily have to be greater equal x1 and y1\n",
    "\n",
    "### Bouding Box Sizes \n",
    "There are Boxes with height $=0$ but width $\\neq 0$ and vice versa\n",
    "\n",
    "- Expert Data – Boom:\n",
    "    - **Width $=0$ but height $\\neq 0$: 217**\n",
    "    - **Height $=0$ but width $\\neq 0$: 274**\n",
    "- Expert Data – Drone:\n",
    "    - **Width $=0$ but height $\\neq 0$: 109**\n",
    "    - **Height $=0$ but width $\\neq 0$: 150**\n",
    "- Expert Data – Handheld:\n",
    "    - **Width $=0$ but height $\\neq 0$: 22**\n",
    "    - **Height $=0$ but width $\\neq 0$: 15**\n",
    "\n",
    "### \"Image\" Column Suffix\n",
    "- Expert Data – Boom: **no suffix**\n",
    "- Expert Data – Drone: **.jpg**\n",
    "- Expert Data – Handheld: **.JPG**\n",
    "\n",
    "### Negative Bounding Box Coordinate Values\n",
    "- Only the boom data contains 4 boxes with negative values. 2 can be removed since the width or height of the boxes are 0 and the other 2 negative values can be set to 0"
   ]
  },
  {
   "cell_type": "markdown",
   "id": "48795b93-c9f7-4018-b10b-bccbcc7aa562",
   "metadata": {},
   "source": [
    "## Analyse expert data"
   ]
  },
  {
   "cell_type": "code",
   "execution_count": null,
   "id": "6affea4d-862b-4ae7-8191-a7a5d84add9f",
   "metadata": {},
   "outputs": [],
   "source": [
    "expert_boom_data = pd.read_csv(\"/exchange/dspro2/M-AI-ZE/data/annotations_expert/annotations_boom.csv\", delimiter=\",\", quotechar='\"')\n",
    "expert_drone_data = pd.read_csv(\"/exchange/dspro2/M-AI-ZE/data/annotations_expert/annotations_drone.csv\", delimiter=\",\", quotechar='\"')\n",
    "expert_handheld_data = pd.read_csv(\"/exchange/dspro2/M-AI-ZE/data/annotations_expert/annotations_handheld.csv\", delimiter=\",\", quotechar='\"')"
   ]
  },
  {
   "cell_type": "code",
   "execution_count": null,
   "id": "851e5f0e-0f9d-43f4-a0ea-44a0eff4c148",
   "metadata": {},
   "outputs": [],
   "source": [
    "expert_boom_data.head()"
   ]
  },
  {
   "cell_type": "code",
   "execution_count": null,
   "id": "93b0a1f7-f762-40d8-b454-0e9907ffe3c0",
   "metadata": {},
   "outputs": [],
   "source": [
    "expert_drone_data.head()"
   ]
  },
  {
   "cell_type": "code",
   "execution_count": null,
   "id": "e52dc6d2-34de-4e1c-bc74-a9fb9ef27b0f",
   "metadata": {},
   "outputs": [],
   "source": [
    "expert_handheld_data.head()"
   ]
  },
  {
   "cell_type": "markdown",
   "id": "d925f940-d36c-4dcc-8dcf-9831280aa046",
   "metadata": {},
   "source": [
    "### Check for duplicates"
   ]
  },
  {
   "cell_type": "code",
   "execution_count": null,
   "id": "3bf7496f-8bdd-4d03-8dbd-75bbdcf7a0a0",
   "metadata": {},
   "outputs": [],
   "source": [
    "print(f\"Expert Data – Boom: {expert_boom_data.duplicated().sum()} duplicate rows\")\n",
    "print(f\"Expert Data – Drone: {expert_drone_data.duplicated().sum()} duplicate rows\")\n",
    "print(f\"Expert Data – Handheld: {expert_handheld_data.duplicated().sum()} duplicate rows\")"
   ]
  },
  {
   "cell_type": "code",
   "execution_count": null,
   "id": "d453ec18-f4a1-40b4-8dcf-5c3eb5126aea",
   "metadata": {},
   "outputs": [],
   "source": [
    "expert_boom_data[expert_boom_data.duplicated()].head()"
   ]
  },
  {
   "cell_type": "code",
   "execution_count": null,
   "id": "c65e57ae-a71f-4b68-81cc-876ee83740d6",
   "metadata": {},
   "outputs": [],
   "source": [
    "expert_boom_data[expert_boom_data['image'] == 'DSC00982_0']"
   ]
  },
  {
   "cell_type": "markdown",
   "id": "bf9642ea-994d-4555-909b-2a5f5cf670f6",
   "metadata": {},
   "source": [
    "### Draw Bounding Boxes on Images"
   ]
  },
  {
   "cell_type": "code",
   "execution_count": null,
   "id": "6630b58f-f075-4857-8377-44103ed303ef",
   "metadata": {},
   "outputs": [],
   "source": [
    "def draw_bounding_box(data, img_id, img_type):\n",
    "    img_path = '/exchange/dspro2/M-AI-ZE/data/images/images_' + img_type + '/' + img_id + '.jpg'\n",
    "    img = Image.open(img_path)\n",
    "    draw = ImageDraw.Draw(img)\n",
    "    data_subset = data[data['image'] == img_id]\n",
    "    for _, row in data_subset.iterrows():\n",
    "        x0 = min(row['x1'], row['x2'])\n",
    "        y0 = min(row['y1'], row['y2'])\n",
    "        x1 = max(row['x1'], row['x2'])\n",
    "        y1 = max(row['y1'], row['y2'])\n",
    "        if (row['x1'] - row['x2'] == 0) or (row['y1'] - row['y2'] == 0):\n",
    "            draw.rectangle([x0, y0, x1, y1], outline=\"blue\", width=3)    \n",
    "        else:\n",
    "            draw.rectangle([x0, y0, x1, y1], outline=\"red\", width=3)\n",
    "    display(img)"
   ]
  },
  {
   "cell_type": "code",
   "execution_count": null,
   "id": "af0a38bb-8498-4856-9703-6ab9de23da1d",
   "metadata": {},
   "outputs": [],
   "source": [
    "for _ in range(10):\n",
    "    random_image = expert_boom_data.image[np.random.randint(expert_boom_data.shape[0])]\n",
    "    print(f'Image ID: {random_image}')\n",
    "    draw_bounding_box(expert_boom_data, random_image, 'boom')"
   ]
  },
  {
   "cell_type": "markdown",
   "id": "808459cb-b0ec-4355-9f47-4de37aac111e",
   "metadata": {},
   "source": [
    "### Check Bounding Box Sizes"
   ]
  },
  {
   "cell_type": "code",
   "execution_count": null,
   "id": "9111ffc9-445d-4050-8c3a-6994c7dcf303",
   "metadata": {},
   "outputs": [],
   "source": [
    "def get_bb_sizes(df):\n",
    "    df = df.copy()\n",
    "    df['bb_width'] = abs(df['x2'] - df['x1'])\n",
    "    df['bb_height'] = abs(df['y2'] - df['y1'])\n",
    "    return df\n",
    "\n",
    "def print_bb_stats(df):\n",
    "    df = df.copy()\n",
    "    df = get_bb_sizes(df)\n",
    "    print(f'Amount of boxes: {df.shape[0]}')\n",
    "    print(f'Min width: {df['bb_width'].min()} Max width: {df['bb_width'].max()} Mean width: {df['bb_width'].mean()}')\n",
    "    print(f'Min height: {df['bb_height'].min()} Max height: {df['bb_height'].max()} Mean height: {df['bb_height'].mean()}')\n",
    "    print(f'Amount of boxes with a width of 0 but height != 0: {df[(df['bb_width'] == 0) & (df['bb_height'] != 0)].shape[0]}')\n",
    "    print(f'Amount of boxes with a height of 0 but width != 0: {df[(df['bb_width'] != 0) & (df['bb_height'] == 0)].shape[0]}')\n",
    "\n",
    "def get_inconsistent_bb(df):\n",
    "    df = df.copy()\n",
    "    df = get_bb_sizes(df)\n",
    "    return df[((df['bb_width'] == 0) & (df['bb_height'] != 0)) | ((df['bb_width'] != 0) & (df['bb_height'] == 0))]\n",
    "    "
   ]
  },
  {
   "cell_type": "code",
   "execution_count": null,
   "id": "2fea022f-6d9a-4058-8055-a24f53e9ac2e",
   "metadata": {},
   "outputs": [],
   "source": [
    "print_bb_stats(expert_boom_data)"
   ]
  },
  {
   "cell_type": "code",
   "execution_count": null,
   "id": "c0d8f3ec-4ecf-4695-b053-7e1467e7054e",
   "metadata": {},
   "outputs": [],
   "source": [
    "print_bb_stats(expert_drone_data)"
   ]
  },
  {
   "cell_type": "code",
   "execution_count": null,
   "id": "c96e2245-3f4d-47de-8eab-66ea883f652d",
   "metadata": {},
   "outputs": [],
   "source": [
    "print_bb_stats(expert_handheld_data)"
   ]
  },
  {
   "cell_type": "code",
   "execution_count": null,
   "id": "ee30d832-9d21-4a7e-978d-3138f5609169",
   "metadata": {},
   "outputs": [],
   "source": [
    "get_inconsistent_bb(expert_boom_data).head()"
   ]
  },
  {
   "cell_type": "code",
   "execution_count": null,
   "id": "cb5f7618-68ce-4730-bde3-6c350f583d70",
   "metadata": {},
   "outputs": [],
   "source": [
    "draw_bounding_box(expert_boom_data, 'DSC00970_1', 'boom')"
   ]
  },
  {
   "cell_type": "markdown",
   "id": "bc62dac0-b643-4d81-bc49-3ff81c08da9e",
   "metadata": {},
   "source": [
    "### Check if the data is balanced"
   ]
  },
  {
   "cell_type": "code",
   "execution_count": null,
   "id": "4f4e5683-7fa4-481d-9277-abd427efaf19",
   "metadata": {},
   "outputs": [],
   "source": [
    "expert_boom_data[(expert_boom_data['x1'] == 0) & (expert_boom_data['y1'] == 0) & (expert_boom_data['x2'] == 0) & (expert_boom_data['y2'] == 0)].shape"
   ]
  },
  {
   "cell_type": "code",
   "execution_count": null,
   "id": "be45a7a2-aa9e-490d-ac5a-929f5d8784f9",
   "metadata": {},
   "outputs": [],
   "source": [
    "expert_boom_data[(expert_boom_data['x1'] != 0) & (expert_boom_data['y1'] != 0) & (expert_boom_data['x2'] != 0) & (expert_boom_data['y2'] != 0)].shape"
   ]
  },
  {
   "cell_type": "code",
   "execution_count": null,
   "id": "ae4c2fbc-1a94-41ab-aa2b-4b655871e7a4",
   "metadata": {},
   "outputs": [],
   "source": [
    "def check_class_balance(data):\n",
    "    data_rows = data.shape[0]\n",
    "    no_disease = data[(data['x1'] == 0) & (data['y1'] == 0) & (data['x2'] == 0) & (data['y2'] == 0)].shape[0]\n",
    "    disease = data_rows - no_disease\n",
    "\n",
    "    dis_percent = 100 * disease / data_rows\n",
    "    no_dis_percent = 100 * no_disease / data_rows\n",
    "\n",
    "    if (dis_percent + no_dis_percent) != 100.0:\n",
    "        raise ValueError(\"Percentages do not add up to 100. Please check\")\n",
    "    \n",
    "    return dis_percent, no_dis_percent"
   ]
  },
  {
   "cell_type": "code",
   "execution_count": null,
   "id": "dee9007f-f8c8-4109-a131-36823698a9a9",
   "metadata": {},
   "outputs": [],
   "source": [
    "print(f\"Expert Data – Boom: {round(check_class_balance(expert_boom_data)[0], 2)}% with disease\")\n",
    "print(f\"Expert Data – Drone: {round(check_class_balance(expert_drone_data)[0], 2)}% with disease\")\n",
    "print(f\"Expert Data – Handheld: {round(check_class_balance(expert_handheld_data)[0], 2)}% with disease\")"
   ]
  },
  {
   "cell_type": "markdown",
   "id": "e3152913-d443-480d-adf8-612eb89f4dea",
   "metadata": {},
   "source": [
    "### Amout of Boxes per Image"
   ]
  },
  {
   "cell_type": "code",
   "execution_count": null,
   "id": "cfdc4e11-a563-4ee3-b9f6-732c452614c2",
   "metadata": {},
   "outputs": [],
   "source": [
    "def print_bb_dist(df):\n",
    "    df = get_bb_sizes(df)\n",
    "    df_bboxes = df[(df['bb_width'] != 0) & (df['bb_height'] != 0)]\n",
    "    bbox_counts = df_bboxes.groupby('image').size().sort_values(ascending=False)\n",
    "    \n",
    "    plt.figure(figsize=(20, 5))\n",
    "    bbox_counts.value_counts().sort_index().plot(kind='bar')\n",
    "    plt.xlabel('Number of bounding boxes')\n",
    "    plt.ylabel('Number of images')\n",
    "    plt.title('Distribution of Bounding Box Counts per Image')\n",
    "    plt.xticks(rotation=0)\n",
    "    plt.show()\n",
    "\n",
    "    print(f'Mean amount of bouding boxes per image (images without boxes excluded): {bbox_counts.mean()}')\n",
    "    print(f'Median amount of bouding boxes per image (images without boxes excluded): {bbox_counts.median()}')"
   ]
  },
  {
   "cell_type": "code",
   "execution_count": null,
   "id": "9081dcb3-5a92-48c6-9568-beb50589988e",
   "metadata": {},
   "outputs": [],
   "source": [
    "print_bb_dist(expert_boom_data)\n",
    "print_bb_dist(expert_drone_data)\n",
    "print_bb_dist(expert_handheld_data)"
   ]
  },
  {
   "cell_type": "markdown",
   "id": "8b5add28-e405-48aa-9707-3a8596ce91fc",
   "metadata": {},
   "source": [
    "### Check Negative Coordinate Values"
   ]
  },
  {
   "cell_type": "code",
   "execution_count": null,
   "id": "4e7c089e-36f1-4a17-8c62-40b87633c22b",
   "metadata": {},
   "outputs": [],
   "source": [
    "def get_negative_cords(df):\n",
    "    return df[(df['x1'] < 0) | (df['y1'] < 0) | (df['x2'] < 0) | (df['y2'] < 0)]"
   ]
  },
  {
   "cell_type": "code",
   "execution_count": null,
   "id": "e5caf03e-ae6f-4afd-947e-4b9609ac8927",
   "metadata": {},
   "outputs": [],
   "source": [
    "get_negative_cords(expert_boom_data)"
   ]
  },
  {
   "cell_type": "code",
   "execution_count": null,
   "id": "0f71659a-eae9-4742-a4a3-13e232472d61",
   "metadata": {},
   "outputs": [],
   "source": [
    "get_negative_cords(expert_drone_data)"
   ]
  },
  {
   "cell_type": "code",
   "execution_count": null,
   "id": "30c0f0c3-87f8-4220-b0ec-78a43ea01bdb",
   "metadata": {},
   "outputs": [],
   "source": [
    "get_negative_cords(expert_handheld_data)"
   ]
  },
  {
   "cell_type": "code",
   "execution_count": null,
   "id": "6ac08e5b-603c-4438-b39f-844fca5a4433",
   "metadata": {},
   "outputs": [],
   "source": [
    "draw_bounding_box(get_negative_cords(expert_boom_data), 'DSC02071_3', 'boom')"
   ]
  },
  {
   "cell_type": "code",
   "execution_count": null,
   "id": "1ffc1655-5573-4eec-bb4d-09913e5e4630",
   "metadata": {},
   "outputs": [],
   "source": [
    "draw_bounding_box(get_negative_cords(expert_boom_data), 'DSC05511_1', 'boom')"
   ]
  },
  {
   "cell_type": "code",
   "execution_count": null,
   "id": "2ebabdab-dbf2-4a4c-8d50-70b69799768a",
   "metadata": {},
   "outputs": [],
   "source": [
    "draw_bounding_box(get_negative_cords(expert_boom_data), 'DSC05740_1', 'boom')"
   ]
  },
  {
   "cell_type": "code",
   "execution_count": null,
   "id": "15ec9332-7fbd-4d1d-89bb-741196efc7f6",
   "metadata": {},
   "outputs": [],
   "source": [
    "draw_bounding_box(get_negative_cords(expert_boom_data), 'DSC06154_0', 'boom')"
   ]
  },
  {
   "cell_type": "markdown",
   "id": "4352dcce-8313-49f6-ae6a-35b44591fc94",
   "metadata": {},
   "source": [
    "### Check Time Distribution"
   ]
  }
 ],
 "metadata": {
  "kernelspec": {
   "display_name": "Python 3 (ipykernel)",
   "language": "python",
   "name": "python3"
  },
  "language_info": {
   "codemirror_mode": {
    "name": "ipython",
    "version": 3
   },
   "file_extension": ".py",
   "mimetype": "text/x-python",
   "name": "python",
   "nbconvert_exporter": "python",
   "pygments_lexer": "ipython3",
   "version": "3.12.9"
  }
 },
 "nbformat": 4,
 "nbformat_minor": 5
}
