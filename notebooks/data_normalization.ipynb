{
 "cells": [
  {
   "cell_type": "markdown",
   "id": "dd4f8b51-edca-4728-b0e5-45abaa1d8ba1",
   "metadata": {},
   "source": [
    "# Notebook for the data normalization"
   ]
  },
  {
   "cell_type": "markdown",
   "id": "6660bcab-21dc-4826-9b59-007c65c04315",
   "metadata": {},
   "source": [
    "## Define Methods"
   ]
  },
  {
   "cell_type": "code",
   "execution_count": null,
   "id": "74351749-a276-4c93-9e23-08b7abbd6b9a",
   "metadata": {},
   "outputs": [],
   "source": [
    "def resize_images(input_folder, output_folder, new_size: tuple):\n",
    "    os.makedirs(output_folder, exist_ok=True)\n",
    "\n",
    "    for filename in os.listdir(input_folder):\n",
    "        if filename.lower().endswith('.jpg'):\n",
    "            img_path = os.path.join(input_folder, filename)\n",
    "            img = Image.open(img_path)\n",
    "            img_resized = img.resize(new_size)\n",
    "            img_resized.save(os.path.join(output_folder, filename))"
   ]
  },
  {
   "cell_type": "code",
   "execution_count": null,
   "id": "9c4a4ba2-9b27-43ed-80dc-54c8eddc34d4",
   "metadata": {},
   "outputs": [],
   "source": [
    "def get_image_size_dict(folder_path):\n",
    "    image_size_dict = {}\n",
    "    for filename in os.listdir(folder_path):\n",
    "        if filename.lower().endswith('.jpg'):\n",
    "            img = Image.open(os.path.join(folder_path, filename))\n",
    "            image_size_dict[filename] = img.size\n",
    "\n",
    "    return image_size_dict"
   ]
  },
  {
   "cell_type": "code",
   "execution_count": null,
   "id": "f5f43d1a-ed1c-4ffe-ada8-d73abbbb11c7",
   "metadata": {},
   "outputs": [],
   "source": [
    "def add_image_size_to_df(df, image_size_dict):\n",
    "    df = df.copy()\n",
    "    df['original_width'] = df['image'].map(lambda img: image_size_dict[img][0])\n",
    "    df['original_height'] = df['image'].map(lambda img: image_size_dict[img][1])\n",
    "    return df"
   ]
  },
  {
   "cell_type": "code",
   "execution_count": null,
   "id": "3825206a-62ea-4d54-bc87-17513daedf54",
   "metadata": {},
   "outputs": [],
   "source": [
    "clean_boom = add_image_size_to_df(clean_boom, get_image_size_dict(BOOM_IMAGE_PATH))\n",
    "clean_drone = add_image_size_to_df(clean_drone, get_image_size_dict(DRONE_IMAGE_PATH))\n",
    "clean_handheld = add_image_size_to_df(clean_handheld, get_image_size_dict(HANDHELD_IMAGE_PATH))"
   ]
  },
  {
   "cell_type": "code",
   "execution_count": null,
   "id": "8f24da8d-1f2f-4e05-bfc0-b1127542a981",
   "metadata": {},
   "outputs": [],
   "source": [
    "resize_images(BOOM_IMAGE_PATH, BOOM_IMAGE_RESIZE_PATH, (640, 640))\n",
    "resize_images(DRONE_IMAGE_PATH, DRONE_IMAGE_RESIZE_PATH, (640, 640))\n",
    "resize_images(HANDHELD_IMAGE_PATH, HANDHELD_IMAGE_RESIZE_PATH, (640, 640))"
   ]
  }
 ],
 "metadata": {
  "kernelspec": {
   "display_name": "Python 3 (ipykernel)",
   "language": "python",
   "name": "python3"
  },
  "language_info": {
   "codemirror_mode": {
    "name": "ipython",
    "version": 3
   },
   "file_extension": ".py",
   "mimetype": "text/x-python",
   "name": "python",
   "nbconvert_exporter": "python",
   "pygments_lexer": "ipython3",
   "version": "3.12.9"
  }
 },
 "nbformat": 4,
 "nbformat_minor": 5
}
