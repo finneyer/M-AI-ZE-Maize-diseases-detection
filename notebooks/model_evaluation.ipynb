{
 "cells": [
  {
   "cell_type": "markdown",
   "id": "7d11444d-4a37-4242-a2dd-64a83c721bf8",
   "metadata": {},
   "source": [
    "# Yolo Model evaluation"
   ]
  },
  {
   "cell_type": "markdown",
   "id": "1c9e8f51-7c69-4526-a291-9aaa1633d950",
   "metadata": {},
   "source": [
    "In this Notebook the Model prediction will be analyst"
   ]
  },
  {
   "cell_type": "markdown",
   "id": "dfbe096f-d192-4626-9701-ab701df03705",
   "metadata": {},
   "source": [
    "## Own Metric"
   ]
  },
  {
   "cell_type": "markdown",
   "id": "c5654a74-e42a-4471-8205-58d9669f70b3",
   "metadata": {},
   "source": [
    "RAAD measures the difference between the predicted affected area (sum of bounding box areas) and the actual affected area. It accounts for overlapping bounding boxes to avoid double-counting.\n",
    "\n",
    "RAAD = (∣Predicted Area − True Area∣) / True Area\n",
    "\n",
    "RAAD = 0: Perfect match between predicted and actual affected area.\n",
    "\n",
    "RAAD > 0: Model either overestimates or underestimates the affected area.\n",
    "\n",
    "RAAD > 1: Significant discrepancy between prediction and ground truth.\n",
    "\n",
    "This metric helps evaluate how well the model estimates the severity of the disease in the image."
   ]
  },
  {
   "cell_type": "markdown",
   "id": "561948af-cc57-49d8-99a3-d4e55b1923b2",
   "metadata": {},
   "source": [
    "### Example"
   ]
  },
  {
   "cell_type": "code",
   "execution_count": 1,
   "id": "fdc16d18-4642-4bc3-923b-c121d70a80de",
   "metadata": {},
   "outputs": [
    {
     "name": "stdout",
     "output_type": "stream",
     "text": [
      "RAAD: 0.2222\n"
     ]
    }
   ],
   "source": [
    "from raad import *\n",
    "\n",
    "pred_boxes = [(0.1, 0.1, 0.4, 0.4), (0.3, 0.3, 0.5, 0.5)]\n",
    "true_boxes = [(0.2, 0.2, 0.5, 0.5)]\n",
    "\n",
    "raad = raad_metric(pred_boxes, true_boxes)\n",
    "print(f\"RAAD: {raad:.4f}\")"
   ]
  },
  {
   "cell_type": "markdown",
   "id": "d1bc3dfd-aff0-4bd1-8cb7-1f22344ff6dc",
   "metadata": {},
   "source": [
    "## Setup"
   ]
  },
  {
   "cell_type": "code",
   "execution_count": 2,
   "id": "cfea4a94-0b09-44dd-9bda-c32d0ec38194",
   "metadata": {},
   "outputs": [
    {
     "name": "stdout",
     "output_type": "stream",
     "text": [
      "Requirement already satisfied: ultralytics in /opt/conda/lib/python3.12/site-packages (8.3.130)\n",
      "Requirement already satisfied: wandb in /opt/conda/lib/python3.12/site-packages (0.19.11)\n",
      "Requirement already satisfied: numpy>=1.23.0 in /opt/conda/lib/python3.12/site-packages (from ultralytics) (2.1.3)\n",
      "Requirement already satisfied: matplotlib>=3.3.0 in /opt/conda/lib/python3.12/site-packages (from ultralytics) (3.10.0)\n",
      "Requirement already satisfied: opencv-python>=4.6.0 in /opt/conda/lib/python3.12/site-packages (from ultralytics) (4.11.0.86)\n",
      "Requirement already satisfied: pillow>=7.1.2 in /opt/conda/lib/python3.12/site-packages (from ultralytics) (11.1.0)\n",
      "Requirement already satisfied: pyyaml>=5.3.1 in /opt/conda/lib/python3.12/site-packages (from ultralytics) (6.0.2)\n",
      "Requirement already satisfied: requests>=2.23.0 in /opt/conda/lib/python3.12/site-packages (from ultralytics) (2.32.3)\n",
      "Requirement already satisfied: scipy>=1.4.1 in /opt/conda/lib/python3.12/site-packages (from ultralytics) (1.15.1)\n",
      "Requirement already satisfied: torch>=1.8.0 in /opt/conda/lib/python3.12/site-packages (from ultralytics) (2.6.0+cu124)\n",
      "Requirement already satisfied: torchvision>=0.9.0 in /opt/conda/lib/python3.12/site-packages (from ultralytics) (0.21.0+cu124)\n",
      "Requirement already satisfied: tqdm>=4.64.0 in /opt/conda/lib/python3.12/site-packages (from ultralytics) (4.67.1)\n",
      "Requirement already satisfied: psutil in /opt/conda/lib/python3.12/site-packages (from ultralytics) (6.1.1)\n",
      "Requirement already satisfied: py-cpuinfo in /opt/conda/lib/python3.12/site-packages (from ultralytics) (9.0.0)\n",
      "Requirement already satisfied: pandas>=1.1.4 in /opt/conda/lib/python3.12/site-packages (from ultralytics) (2.2.3)\n",
      "Requirement already satisfied: seaborn>=0.11.0 in /opt/conda/lib/python3.12/site-packages (from ultralytics) (0.13.2)\n",
      "Requirement already satisfied: ultralytics-thop>=2.0.0 in /opt/conda/lib/python3.12/site-packages (from ultralytics) (2.0.14)\n",
      "Requirement already satisfied: click!=8.0.0,>=7.1 in /opt/conda/lib/python3.12/site-packages (from wandb) (8.1.8)\n",
      "Requirement already satisfied: docker-pycreds>=0.4.0 in /opt/conda/lib/python3.12/site-packages (from wandb) (0.4.0)\n",
      "Requirement already satisfied: gitpython!=3.1.29,>=1.0.0 in /opt/conda/lib/python3.12/site-packages (from wandb) (3.1.44)\n",
      "Requirement already satisfied: platformdirs in /opt/conda/lib/python3.12/site-packages (from wandb) (4.3.6)\n",
      "Requirement already satisfied: protobuf!=4.21.0,!=5.28.0,<7,>=3.19.0 in /opt/conda/lib/python3.12/site-packages (from wandb) (5.28.3)\n",
      "Requirement already satisfied: pydantic<3 in /opt/conda/lib/python3.12/site-packages (from wandb) (2.10.6)\n",
      "Requirement already satisfied: sentry-sdk>=2.0.0 in /opt/conda/lib/python3.12/site-packages (from wandb) (2.27.0)\n",
      "Requirement already satisfied: setproctitle in /opt/conda/lib/python3.12/site-packages (from wandb) (1.3.6)\n",
      "Requirement already satisfied: setuptools in /opt/conda/lib/python3.12/site-packages (from wandb) (75.8.0)\n",
      "Requirement already satisfied: typing-extensions<5,>=4.4 in /opt/conda/lib/python3.12/site-packages (from wandb) (4.12.2)\n",
      "Requirement already satisfied: six>=1.4.0 in /opt/conda/lib/python3.12/site-packages (from docker-pycreds>=0.4.0->wandb) (1.17.0)\n",
      "Requirement already satisfied: gitdb<5,>=4.0.1 in /opt/conda/lib/python3.12/site-packages (from gitpython!=3.1.29,>=1.0.0->wandb) (4.0.12)\n",
      "Requirement already satisfied: contourpy>=1.0.1 in /opt/conda/lib/python3.12/site-packages (from matplotlib>=3.3.0->ultralytics) (1.3.1)\n",
      "Requirement already satisfied: cycler>=0.10 in /opt/conda/lib/python3.12/site-packages (from matplotlib>=3.3.0->ultralytics) (0.12.1)\n",
      "Requirement already satisfied: fonttools>=4.22.0 in /opt/conda/lib/python3.12/site-packages (from matplotlib>=3.3.0->ultralytics) (4.56.0)\n",
      "Requirement already satisfied: kiwisolver>=1.3.1 in /opt/conda/lib/python3.12/site-packages (from matplotlib>=3.3.0->ultralytics) (1.4.8)\n",
      "Requirement already satisfied: packaging>=20.0 in /opt/conda/lib/python3.12/site-packages (from matplotlib>=3.3.0->ultralytics) (24.2)\n",
      "Requirement already satisfied: pyparsing>=2.3.1 in /opt/conda/lib/python3.12/site-packages (from matplotlib>=3.3.0->ultralytics) (3.2.1)\n",
      "Requirement already satisfied: python-dateutil>=2.7 in /opt/conda/lib/python3.12/site-packages (from matplotlib>=3.3.0->ultralytics) (2.9.0.post0)\n",
      "Requirement already satisfied: pytz>=2020.1 in /opt/conda/lib/python3.12/site-packages (from pandas>=1.1.4->ultralytics) (2024.1)\n",
      "Requirement already satisfied: tzdata>=2022.7 in /opt/conda/lib/python3.12/site-packages (from pandas>=1.1.4->ultralytics) (2025.1)\n",
      "Requirement already satisfied: annotated-types>=0.6.0 in /opt/conda/lib/python3.12/site-packages (from pydantic<3->wandb) (0.7.0)\n",
      "Requirement already satisfied: pydantic-core==2.27.2 in /opt/conda/lib/python3.12/site-packages (from pydantic<3->wandb) (2.27.2)\n",
      "Requirement already satisfied: charset_normalizer<4,>=2 in /opt/conda/lib/python3.12/site-packages (from requests>=2.23.0->ultralytics) (3.4.1)\n",
      "Requirement already satisfied: idna<4,>=2.5 in /opt/conda/lib/python3.12/site-packages (from requests>=2.23.0->ultralytics) (3.10)\n",
      "Requirement already satisfied: urllib3<3,>=1.21.1 in /opt/conda/lib/python3.12/site-packages (from requests>=2.23.0->ultralytics) (2.3.0)\n",
      "Requirement already satisfied: certifi>=2017.4.17 in /opt/conda/lib/python3.12/site-packages (from requests>=2.23.0->ultralytics) (2024.12.14)\n",
      "Requirement already satisfied: filelock in /opt/conda/lib/python3.12/site-packages (from torch>=1.8.0->ultralytics) (3.13.1)\n",
      "Requirement already satisfied: networkx in /opt/conda/lib/python3.12/site-packages (from torch>=1.8.0->ultralytics) (3.4.2)\n",
      "Requirement already satisfied: jinja2 in /opt/conda/lib/python3.12/site-packages (from torch>=1.8.0->ultralytics) (3.1.5)\n",
      "Requirement already satisfied: fsspec in /opt/conda/lib/python3.12/site-packages (from torch>=1.8.0->ultralytics) (2025.2.0)\n",
      "Requirement already satisfied: nvidia-cuda-nvrtc-cu12==12.4.127 in /opt/conda/lib/python3.12/site-packages (from torch>=1.8.0->ultralytics) (12.4.127)\n",
      "Requirement already satisfied: nvidia-cuda-runtime-cu12==12.4.127 in /opt/conda/lib/python3.12/site-packages (from torch>=1.8.0->ultralytics) (12.4.127)\n",
      "Requirement already satisfied: nvidia-cuda-cupti-cu12==12.4.127 in /opt/conda/lib/python3.12/site-packages (from torch>=1.8.0->ultralytics) (12.4.127)\n",
      "Requirement already satisfied: nvidia-cudnn-cu12==9.1.0.70 in /opt/conda/lib/python3.12/site-packages (from torch>=1.8.0->ultralytics) (9.1.0.70)\n",
      "Requirement already satisfied: nvidia-cublas-cu12==12.4.5.8 in /opt/conda/lib/python3.12/site-packages (from torch>=1.8.0->ultralytics) (12.4.5.8)\n",
      "Requirement already satisfied: nvidia-cufft-cu12==11.2.1.3 in /opt/conda/lib/python3.12/site-packages (from torch>=1.8.0->ultralytics) (11.2.1.3)\n",
      "Requirement already satisfied: nvidia-curand-cu12==10.3.5.147 in /opt/conda/lib/python3.12/site-packages (from torch>=1.8.0->ultralytics) (10.3.5.147)\n",
      "Requirement already satisfied: nvidia-cusolver-cu12==11.6.1.9 in /opt/conda/lib/python3.12/site-packages (from torch>=1.8.0->ultralytics) (11.6.1.9)\n",
      "Requirement already satisfied: nvidia-cusparse-cu12==12.3.1.170 in /opt/conda/lib/python3.12/site-packages (from torch>=1.8.0->ultralytics) (12.3.1.170)\n",
      "Requirement already satisfied: nvidia-cusparselt-cu12==0.6.2 in /opt/conda/lib/python3.12/site-packages (from torch>=1.8.0->ultralytics) (0.6.2)\n",
      "Requirement already satisfied: nvidia-nccl-cu12==2.21.5 in /opt/conda/lib/python3.12/site-packages (from torch>=1.8.0->ultralytics) (2.21.5)\n",
      "Requirement already satisfied: nvidia-nvtx-cu12==12.4.127 in /opt/conda/lib/python3.12/site-packages (from torch>=1.8.0->ultralytics) (12.4.127)\n",
      "Requirement already satisfied: nvidia-nvjitlink-cu12==12.4.127 in /opt/conda/lib/python3.12/site-packages (from torch>=1.8.0->ultralytics) (12.4.127)\n",
      "Requirement already satisfied: triton==3.2.0 in /opt/conda/lib/python3.12/site-packages (from torch>=1.8.0->ultralytics) (3.2.0)\n",
      "Requirement already satisfied: sympy==1.13.1 in /opt/conda/lib/python3.12/site-packages (from torch>=1.8.0->ultralytics) (1.13.1)\n",
      "Requirement already satisfied: mpmath<1.4,>=1.1.0 in /opt/conda/lib/python3.12/site-packages (from sympy==1.13.1->torch>=1.8.0->ultralytics) (1.3.0)\n",
      "Requirement already satisfied: smmap<6,>=3.0.1 in /opt/conda/lib/python3.12/site-packages (from gitdb<5,>=4.0.1->gitpython!=3.1.29,>=1.0.0->wandb) (5.0.0)\n",
      "Requirement already satisfied: MarkupSafe>=2.0 in /opt/conda/lib/python3.12/site-packages (from jinja2->torch>=1.8.0->ultralytics) (3.0.2)\n",
      "Requirement already satisfied: dotenv in /opt/conda/lib/python3.12/site-packages (0.9.9)\n",
      "Requirement already satisfied: python-dotenv in /opt/conda/lib/python3.12/site-packages (from dotenv) (1.1.0)\n"
     ]
    }
   ],
   "source": [
    "!pip install -U ultralytics wandb\n",
    "!pip install dotenv"
   ]
  },
  {
   "cell_type": "code",
   "execution_count": 3,
   "id": "4c740923-6294-49ff-be56-d76a61e585fd",
   "metadata": {},
   "outputs": [
    {
     "name": "stdout",
     "output_type": "stream",
     "text": [
      "JSONDict(\"/home/jovyan/.config/Ultralytics/settings.json\"):\n",
      "{\n",
      "  \"settings_version\": \"0.0.6\",\n",
      "  \"datasets_dir\": \"/home/jovyan/DSPRO2/M-AI-ZE-Maize-diseases-detection/notebooks/datasets\",\n",
      "  \"weights_dir\": \"weights\",\n",
      "  \"runs_dir\": \"runs\",\n",
      "  \"uuid\": \"18e178169b4eaa957c2b01da8ec0b439a0c38ab85c8749c9c8f8f83149ac02ba\",\n",
      "  \"sync\": true,\n",
      "  \"api_key\": \"\",\n",
      "  \"openai_api_key\": \"\",\n",
      "  \"clearml\": true,\n",
      "  \"comet\": true,\n",
      "  \"dvc\": true,\n",
      "  \"hub\": true,\n",
      "  \"mlflow\": true,\n",
      "  \"neptune\": true,\n",
      "  \"raytune\": true,\n",
      "  \"tensorboard\": false,\n",
      "  \"wandb\": true,\n",
      "  \"vscode_msg\": true\n",
      "}\n",
      "💡 Learn more about Ultralytics Settings at https://docs.ultralytics.com/quickstart/#ultralytics-settings\n",
      "WANDB_API_KEY: [69ca...]\n"
     ]
    }
   ],
   "source": [
    "!yolo settings wandb=True\n",
    "# check the .env file \n",
    "from dotenv import load_dotenv\n",
    "import os\n",
    "\n",
    "# Load the .env file\n",
    "load_dotenv()\n",
    "\n",
    "# Get and print the WANDB_API_KEY\n",
    "wandb_api_key = os.getenv(\"WANDB_API_KEY\")\n",
    "print(f\"WANDB_API_KEY: [{wandb_api_key[:4]}...]\")"
   ]
  },
  {
   "cell_type": "code",
   "execution_count": 4,
   "id": "441c3294-3060-40eb-b6db-0340d36b4082",
   "metadata": {},
   "outputs": [
    {
     "name": "stderr",
     "output_type": "stream",
     "text": [
      "\u001b[34m\u001b[1mwandb\u001b[0m: \u001b[32m\u001b[41mERROR\u001b[0m Failed to detect the name of this notebook. You can set it manually with the WANDB_NOTEBOOK_NAME environment variable to enable code saving.\n",
      "\u001b[34m\u001b[1mwandb\u001b[0m: \u001b[33mWARNING\u001b[0m If you're specifying your api key in code, ensure this code is not shared publicly.\n",
      "\u001b[34m\u001b[1mwandb\u001b[0m: \u001b[33mWARNING\u001b[0m Consider setting the WANDB_API_KEY environment variable, or running `wandb login` from the command line.\n",
      "\u001b[34m\u001b[1mwandb\u001b[0m: Appending key for api.wandb.ai to your netrc file: /home/jovyan/.netrc\n",
      "\u001b[34m\u001b[1mwandb\u001b[0m: Currently logged in as: \u001b[33mrueedi-tobias\u001b[0m (\u001b[33mrueedi-tobias-hochschule-luzern\u001b[0m) to \u001b[32mhttps://api.wandb.ai\u001b[0m. Use \u001b[1m`wandb login --relogin`\u001b[0m to force relogin\n"
     ]
    },
    {
     "data": {
      "text/plain": [
       "True"
      ]
     },
     "execution_count": 4,
     "metadata": {},
     "output_type": "execute_result"
    }
   ],
   "source": [
    "import wandb\n",
    "wandb.login(key=wandb_api_key)"
   ]
  },
  {
   "cell_type": "code",
   "execution_count": 5,
   "id": "cdbfe7e9-193c-42d0-a398-d71f5c8eb0ec",
   "metadata": {},
   "outputs": [
    {
     "name": "stdout",
     "output_type": "stream",
     "text": [
      "Evaluating on split: SID01\n",
      "Data path: /exchange/dspro2/M-AI-ZE/data/adjusted/1.1/splits/SID01\n"
     ]
    }
   ],
   "source": [
    "import os\n",
    "import pandas as pd\n",
    "from pathlib import Path\n",
    "from ultralytics import YOLO\n",
    "from tqdm import tqdm\n",
    "import wandb\n",
    "import contextlib\n",
    "import logging\n",
    "from PIL import Image\n",
    "\n",
    "\n",
    "from raad import raad_metric, calculate_area\n",
    "\n",
    "SPLIT = \"SID01\"\n",
    "\n",
    "PROJECT_NAME = \"maize_disease_detection\"\n",
    "EVAL_PROJECT_NAME = \"maize_evaluation\"\n",
    "PROJECT_ROOT = Path(\"/home/jovyan/DSPRO2/M-AI-ZE-Maize-diseases-detection\")\n",
    "DATA_PATH = Path(f\"/exchange/dspro2/M-AI-ZE/data/adjusted/1.1/splits/{SPLIT}\")\n",
    "TEST_IMAGES_PATH = DATA_PATH / \"images/test\"\n",
    "TEST_LABELS_PATH = DATA_PATH / \"labels/test\"\n",
    "METRIC_OUTPUT_PATH = TEST_LABELS_PATH / \"raad_results.csv\"\n",
    "EVAL_OUTPUT_PATH = PROJECT_ROOT / \"evaluation_results.csv\"\n",
    "\n",
    "print(f\"Evaluating on split: {SPLIT}\")\n",
    "print(f\"Data path: {DATA_PATH}\")\n"
   ]
  },
  {
   "cell_type": "markdown",
   "id": "682c4f45-3131-4d73-91bb-c3998ea63f51",
   "metadata": {},
   "source": [
    "## Checks for existing evaluation"
   ]
  },
  {
   "cell_type": "code",
   "execution_count": 6,
   "id": "d89b34ac-1089-4cc8-b61b-359f974ce338",
   "metadata": {},
   "outputs": [],
   "source": [
    "def check_existing_raad():\n",
    "    \"\"\"Check if the RAAD data for test set already exists.\"\"\"\n",
    "    if METRIC_OUTPUT_PATH.exists():\n",
    "        print(f\"RAAD results already exist: {METRIC_OUTPUT_PATH}\")\n",
    "        return True\n",
    "    return False\n",
    "\n",
    "def check_existing_evaluation():\n",
    "    \"\"\"Check if the evaluation results already exist.\"\"\"\n",
    "    if EVAL_OUTPUT_PATH.exists():\n",
    "        print(f\"Evaluation results already exist: {EVAL_OUTPUT_PATH}\")\n",
    "        return pd.read_csv(EVAL_OUTPUT_PATH)\n",
    "    return pd.DataFrame()\n",
    "\n",
    "existing_eval = check_existing_evaluation()\n"
   ]
  },
  {
   "cell_type": "markdown",
   "id": "579680fe-f2cc-45cf-8dfa-14805df701cc",
   "metadata": {},
   "source": [
    "## Ground Truth RAAD for Test"
   ]
  },
  {
   "cell_type": "code",
   "execution_count": 7,
   "id": "55fba903-8242-4afb-a87c-d543958c8007",
   "metadata": {},
   "outputs": [
    {
     "name": "stdout",
     "output_type": "stream",
     "text": [
      "Saved real RAAD data to: /exchange/dspro2/M-AI-ZE/data/adjusted/1.1/splits/SID01/labels/test/raad_results.csv\n"
     ]
    }
   ],
   "source": [
    "def get_ground_truth_from_csv(csv_path):\n",
    "    \"\"\"Read bounding boxes from a CSV file.\"\"\"\n",
    "    df = pd.read_csv(csv_path)\n",
    "    ground_truth = {}\n",
    "\n",
    "    for _, row in df.iterrows():\n",
    "        image_name = row['image']\n",
    "        x1 = int(row['x1'])\n",
    "        y1 = int(row['y1'])\n",
    "        x2 = int(row['x2'])\n",
    "        y2 = int(row['y2'])\n",
    "        \n",
    "        if image_name not in ground_truth:\n",
    "            ground_truth[image_name] = []\n",
    "        ground_truth[image_name].append((x1, y1, x2, y2))\n",
    "\n",
    "    return ground_truth\n",
    "\n",
    "def calculate_real_raad_from_csv(csv_path):\n",
    "    \"\"\"Calculate RAAD from a single CSV file.\"\"\"\n",
    "    if check_existing_raad():\n",
    "        return pd.read_csv(METRIC_OUTPUT_PATH)\n",
    "\n",
    "    ground_truth = get_ground_truth_from_csv(csv_path)\n",
    "    results = []\n",
    "\n",
    "    for image_name, boxes in ground_truth.items():\n",
    "        true_area = sum([calculate_area(box) for box in boxes])\n",
    "        results.append({\"image\": image_name, \"raad\": true_area})\n",
    "\n",
    "    df = pd.DataFrame(results)\n",
    "    df.to_csv(METRIC_OUTPUT_PATH, index=False)\n",
    "    print(f\"Saved real RAAD data to: {METRIC_OUTPUT_PATH}\")\n",
    "    return df\n",
    "\n",
    "csv_path = TEST_LABELS_PATH / \"bboxes_test.csv\"\n",
    "real_raad_df = calculate_real_raad_from_csv(csv_path)\n"
   ]
  },
  {
   "cell_type": "markdown",
   "id": "c2ae4684-6f3d-42fc-b3a7-fec33bf34974",
   "metadata": {},
   "source": [
    "## Load Models"
   ]
  },
  {
   "cell_type": "code",
   "execution_count": 8,
   "id": "7d651f51-45d0-4782-bfa6-42b77e2d2228",
   "metadata": {},
   "outputs": [
    {
     "name": "stdout",
     "output_type": "stream",
     "text": [
      "Found 36 runs in the project 'maize_disease_detection'.\n",
      "\n",
      "Processing run: xws0uddk (good-sweep-1)\n",
      "  Found 1 model artifacts:\n",
      "    - Name: run_xws0uddk_model:v0, Version: v0\n"
     ]
    },
    {
     "name": "stderr",
     "output_type": "stream",
     "text": [
      "\u001b[34m\u001b[1mwandb\u001b[0m:   1 of 1 files downloaded.  \n"
     ]
    },
    {
     "name": "stdout",
     "output_type": "stream",
     "text": [
      "      Downloaded to: wandb_models/xws0uddk\n",
      "\n",
      "Processing run: 5oyzi9u5 (true-sweep-2)\n",
      "  Found 1 model artifacts:\n",
      "    - Name: run_5oyzi9u5_model:v0, Version: v0\n"
     ]
    },
    {
     "name": "stderr",
     "output_type": "stream",
     "text": [
      "\u001b[34m\u001b[1mwandb\u001b[0m:   1 of 1 files downloaded.  \n"
     ]
    },
    {
     "name": "stdout",
     "output_type": "stream",
     "text": [
      "      Downloaded to: wandb_models/5oyzi9u5\n",
      "\n",
      "Processing run: o0u0r69l (royal-sweep-3)\n",
      "  Found 1 model artifacts:\n",
      "    - Name: run_o0u0r69l_model:v0, Version: v0\n"
     ]
    },
    {
     "name": "stderr",
     "output_type": "stream",
     "text": [
      "\u001b[34m\u001b[1mwandb\u001b[0m:   1 of 1 files downloaded.  \n"
     ]
    },
    {
     "name": "stdout",
     "output_type": "stream",
     "text": [
      "      Downloaded to: wandb_models/o0u0r69l\n",
      "\n",
      "Processing run: lxo00bov (sweet-sweep-4)\n",
      "  Found 1 model artifacts:\n",
      "    - Name: run_lxo00bov_model:v0, Version: v0\n"
     ]
    },
    {
     "name": "stderr",
     "output_type": "stream",
     "text": [
      "\u001b[34m\u001b[1mwandb\u001b[0m:   1 of 1 files downloaded.  \n"
     ]
    },
    {
     "name": "stdout",
     "output_type": "stream",
     "text": [
      "      Downloaded to: wandb_models/lxo00bov\n",
      "\n",
      "Processing run: siv7as3x (flowing-sweep-5)\n",
      "  Found 1 model artifacts:\n",
      "    - Name: run_siv7as3x_model:v0, Version: v0\n"
     ]
    },
    {
     "name": "stderr",
     "output_type": "stream",
     "text": [
      "\u001b[34m\u001b[1mwandb\u001b[0m:   1 of 1 files downloaded.  \n"
     ]
    },
    {
     "name": "stdout",
     "output_type": "stream",
     "text": [
      "      Downloaded to: wandb_models/siv7as3x\n",
      "\n",
      "Processing run: u548qllz (devoted-sweep-6)\n",
      "  Found 1 model artifacts:\n",
      "    - Name: run_u548qllz_model:v0, Version: v0\n"
     ]
    },
    {
     "name": "stderr",
     "output_type": "stream",
     "text": [
      "\u001b[34m\u001b[1mwandb\u001b[0m:   1 of 1 files downloaded.  \n"
     ]
    },
    {
     "name": "stdout",
     "output_type": "stream",
     "text": [
      "      Downloaded to: wandb_models/u548qllz\n",
      "\n",
      "Processing run: 1mst8p7z (winter-sweep-1)\n",
      "  Found 1 model artifacts:\n",
      "    - Name: run_1mst8p7z_model:v0, Version: v0\n"
     ]
    },
    {
     "name": "stderr",
     "output_type": "stream",
     "text": [
      "\u001b[34m\u001b[1mwandb\u001b[0m:   1 of 1 files downloaded.  \n"
     ]
    },
    {
     "name": "stdout",
     "output_type": "stream",
     "text": [
      "      Downloaded to: wandb_models/1mst8p7z\n",
      "\n",
      "Processing run: fdvh3vg4 (visionary-sweep-2)\n",
      "  Found 1 model artifacts:\n",
      "    - Name: run_fdvh3vg4_model:v0, Version: v0\n"
     ]
    },
    {
     "name": "stderr",
     "output_type": "stream",
     "text": [
      "\u001b[34m\u001b[1mwandb\u001b[0m: Downloading large artifact run_fdvh3vg4_model:v0, 109.08MB. 1 files... \n",
      "\u001b[34m\u001b[1mwandb\u001b[0m:   1 of 1 files downloaded.  \n",
      "Done. 0:0:0.6 (183.8MB/s)\n"
     ]
    },
    {
     "name": "stdout",
     "output_type": "stream",
     "text": [
      "      Downloaded to: wandb_models/fdvh3vg4\n",
      "\n",
      "Processing run: 444cpacl (decent-sweep-3)\n",
      "  Found 1 model artifacts:\n",
      "    - Name: run_444cpacl_model:v0, Version: v0\n"
     ]
    },
    {
     "name": "stderr",
     "output_type": "stream",
     "text": [
      "\u001b[34m\u001b[1mwandb\u001b[0m:   1 of 1 files downloaded.  \n"
     ]
    },
    {
     "name": "stdout",
     "output_type": "stream",
     "text": [
      "      Downloaded to: wandb_models/444cpacl\n",
      "\n",
      "Processing run: iezewtg4 (fresh-sweep-4)\n",
      "  Found 1 model artifacts:\n",
      "    - Name: run_iezewtg4_model:v0, Version: v0\n"
     ]
    },
    {
     "name": "stderr",
     "output_type": "stream",
     "text": [
      "\u001b[34m\u001b[1mwandb\u001b[0m:   1 of 1 files downloaded.  \n"
     ]
    },
    {
     "name": "stdout",
     "output_type": "stream",
     "text": [
      "      Downloaded to: wandb_models/iezewtg4\n",
      "\n",
      "Processing run: 3daipku4 (hearty-sweep-5)\n",
      "  Found 1 model artifacts:\n",
      "    - Name: run_3daipku4_model:v0, Version: v0\n"
     ]
    },
    {
     "name": "stderr",
     "output_type": "stream",
     "text": [
      "\u001b[34m\u001b[1mwandb\u001b[0m:   1 of 1 files downloaded.  \n"
     ]
    },
    {
     "name": "stdout",
     "output_type": "stream",
     "text": [
      "      Downloaded to: wandb_models/3daipku4\n",
      "\n",
      "Processing run: yjh2xosl (glad-sweep-6)\n",
      "  Found 1 model artifacts:\n",
      "    - Name: run_yjh2xosl_model:v0, Version: v0\n"
     ]
    },
    {
     "name": "stderr",
     "output_type": "stream",
     "text": [
      "\u001b[34m\u001b[1mwandb\u001b[0m:   1 of 1 files downloaded.  \n"
     ]
    },
    {
     "name": "stdout",
     "output_type": "stream",
     "text": [
      "      Downloaded to: wandb_models/yjh2xosl\n",
      "\n",
      "Processing run: csn80x2w (polar-sweep-7)\n",
      "  Found 1 model artifacts:\n",
      "    - Name: run_csn80x2w_model:v0, Version: v0\n"
     ]
    },
    {
     "name": "stderr",
     "output_type": "stream",
     "text": [
      "\u001b[34m\u001b[1mwandb\u001b[0m:   1 of 1 files downloaded.  \n"
     ]
    },
    {
     "name": "stdout",
     "output_type": "stream",
     "text": [
      "      Downloaded to: wandb_models/csn80x2w\n",
      "\n",
      "Processing run: 1wy21jbe (spring-sweep-8)\n",
      "  Found 1 model artifacts:\n",
      "    - Name: run_1wy21jbe_model:v0, Version: v0\n"
     ]
    },
    {
     "name": "stderr",
     "output_type": "stream",
     "text": [
      "\u001b[34m\u001b[1mwandb\u001b[0m:   1 of 1 files downloaded.  \n"
     ]
    },
    {
     "name": "stdout",
     "output_type": "stream",
     "text": [
      "      Downloaded to: wandb_models/1wy21jbe\n",
      "\n",
      "Processing run: 2gcb1p3n (golden-sweep-9)\n",
      "  No 'model' artifacts found in this run.\n",
      "\n",
      "Processing run: db3afxwt (kind-sweep-10)\n",
      "  No 'model' artifacts found in this run.\n",
      "\n",
      "Processing run: lwwvqmm0 (copper-sweep-11)\n",
      "  No 'model' artifacts found in this run.\n",
      "\n",
      "Processing run: lzn4tsnj (pretty-sweep-12)\n",
      "  No 'model' artifacts found in this run.\n",
      "\n",
      "Processing run: mjsoq94c (quiet-sweep-13)\n",
      "  No 'model' artifacts found in this run.\n",
      "\n",
      "Processing run: 9iplr2w3 (eternal-sweep-14)\n",
      "  No 'model' artifacts found in this run.\n",
      "\n",
      "Processing run: pu02qef9 (dry-sweep-15)\n",
      "  No 'model' artifacts found in this run.\n",
      "\n",
      "Processing run: wohwp49u (jolly-sweep-16)\n",
      "  No 'model' artifacts found in this run.\n",
      "\n",
      "Processing run: 4ezlfg0r (worldly-sweep-17)\n",
      "  No 'model' artifacts found in this run.\n",
      "\n",
      "Processing run: 30t12q7d (effortless-sweep-18)\n",
      "  No 'model' artifacts found in this run.\n",
      "\n",
      "Processing run: 6ialaxa3 (hopeful-sweep-19)\n",
      "  No 'model' artifacts found in this run.\n",
      "\n",
      "Processing run: q2iuqs6u (wise-sweep-20)\n",
      "  No 'model' artifacts found in this run.\n",
      "\n",
      "Processing run: vws5b6e5 (dazzling-sweep-21)\n",
      "  No 'model' artifacts found in this run.\n",
      "\n",
      "Processing run: efyka9os (stellar-sweep-22)\n",
      "  No 'model' artifacts found in this run.\n",
      "\n",
      "Processing run: zpszkz22 (curious-sweep-23)\n",
      "  No 'model' artifacts found in this run.\n",
      "\n",
      "Processing run: d6h3aix2 (curious-sweep-24)\n",
      "  No 'model' artifacts found in this run.\n",
      "\n",
      "Processing run: lmt4wgz5 (divine-sweep-25)\n",
      "  No 'model' artifacts found in this run.\n",
      "\n",
      "Processing run: lmx2gl7m (true-sweep-26)\n",
      "  No 'model' artifacts found in this run.\n",
      "\n",
      "Processing run: cm2kski1 (brisk-sweep-27)\n",
      "  No 'model' artifacts found in this run.\n",
      "\n",
      "Processing run: qpwcftoc (honest-sweep-28)\n",
      "  No 'model' artifacts found in this run.\n",
      "\n",
      "Processing run: ue4r93le (upbeat-sweep-29)\n",
      "  No 'model' artifacts found in this run.\n",
      "\n",
      "Processing run: xp04gqcy (whole-sweep-30)\n",
      "  No 'model' artifacts found in this run.\n",
      "\n",
      "Successfully retrieved the following models:\n",
      "Run ID: xws0uddk\n",
      "  - wandb_models/xws0uddk\n",
      "Run ID: 5oyzi9u5\n",
      "  - wandb_models/5oyzi9u5\n",
      "Run ID: o0u0r69l\n",
      "  - wandb_models/o0u0r69l\n",
      "Run ID: lxo00bov\n",
      "  - wandb_models/lxo00bov\n",
      "Run ID: siv7as3x\n",
      "  - wandb_models/siv7as3x\n",
      "Run ID: u548qllz\n",
      "  - wandb_models/u548qllz\n",
      "Run ID: 1mst8p7z\n",
      "  - wandb_models/1mst8p7z\n",
      "Run ID: fdvh3vg4\n",
      "  - wandb_models/fdvh3vg4\n",
      "Run ID: 444cpacl\n",
      "  - wandb_models/444cpacl\n",
      "Run ID: iezewtg4\n",
      "  - wandb_models/iezewtg4\n",
      "Run ID: 3daipku4\n",
      "  - wandb_models/3daipku4\n",
      "Run ID: yjh2xosl\n",
      "  - wandb_models/yjh2xosl\n",
      "Run ID: csn80x2w\n",
      "  - wandb_models/csn80x2w\n",
      "Run ID: 1wy21jbe\n",
      "  - wandb_models/1wy21jbe\n",
      "Run ID: 2gcb1p3n\n",
      "Run ID: db3afxwt\n",
      "Run ID: lwwvqmm0\n",
      "Run ID: lzn4tsnj\n",
      "Run ID: mjsoq94c\n",
      "Run ID: 9iplr2w3\n",
      "Run ID: pu02qef9\n",
      "Run ID: wohwp49u\n",
      "Run ID: 4ezlfg0r\n",
      "Run ID: 30t12q7d\n",
      "Run ID: 6ialaxa3\n",
      "Run ID: q2iuqs6u\n",
      "Run ID: vws5b6e5\n",
      "Run ID: efyka9os\n",
      "Run ID: zpszkz22\n",
      "Run ID: d6h3aix2\n",
      "Run ID: lmt4wgz5\n",
      "Run ID: lmx2gl7m\n",
      "Run ID: cm2kski1\n",
      "Run ID: qpwcftoc\n",
      "Run ID: ue4r93le\n",
      "Run ID: xp04gqcy\n",
      "\n",
      "You can now find these models in the 'wandb_models' directory.\n"
     ]
    }
   ],
   "source": [
    "import wandb\n",
    "import os\n",
    "\n",
    "def retrieve_models_from_wandb(project_name, entity=None, output_dir=\"wandb_models\"):\n",
    "    \"\"\"\n",
    "    Retrieves all model artifacts from a specified Weights & Biases project.\n",
    "\n",
    "    Args:\n",
    "        project_name (str): The name of your WandB project (e.g., \"my-yolo-experiments\").\n",
    "        entity (str, optional): Your WandB entity (username or team name).\n",
    "                                 If None, it defaults to the currently logged-in user.\n",
    "        output_dir (str, optional): The local directory where the models will be saved.\n",
    "                                     Defaults to \"wandb_models\".\n",
    "\n",
    "    Returns:\n",
    "        dict: A dictionary where keys are run IDs and values are lists of downloaded\n",
    "              model artifact file paths. Returns None if there are issues connecting\n",
    "              to WandB or finding artifacts.\n",
    "    \"\"\"\n",
    "    try:\n",
    "        api = wandb.Api()\n",
    "        runs = api.runs(f\"{entity}/{project_name}\" if entity else project_name)\n",
    "        print(f\"Found {len(runs)} runs in the project '{project_name}'.\")\n",
    "\n",
    "        retrieved_models = {}\n",
    "        os.makedirs(output_dir, exist_ok=True)\n",
    "\n",
    "        for run in runs:\n",
    "            run_id = run.id\n",
    "            retrieved_models[run_id] = []\n",
    "            print(f\"\\nProcessing run: {run_id} ({run.name})\")\n",
    "\n",
    "            artifacts = run.logged_artifacts()\n",
    "            model_artifacts = [art for art in artifacts if art.type == \"model\"]\n",
    "\n",
    "            if model_artifacts:\n",
    "                print(f\"  Found {len(model_artifacts)} model artifacts:\")\n",
    "                for artifact in model_artifacts:\n",
    "                    print(f\"    - Name: {artifact.name}, Version: {artifact.version}\")\n",
    "                    try:\n",
    "                        download_path = artifact.download(root=os.path.join(output_dir, run_id))\n",
    "                        retrieved_models[run_id].append(download_path)\n",
    "                        print(f\"      Downloaded to: {download_path}\")\n",
    "                    except Exception as e:\n",
    "                        print(f\"      Error downloading artifact '{artifact.name}': {e}\")\n",
    "            else:\n",
    "                print(\"  No 'model' artifacts found in this run.\")\n",
    "\n",
    "        if not retrieved_models:\n",
    "            print(\"No model artifacts found in the specified project.\")\n",
    "            return None\n",
    "\n",
    "        return retrieved_models\n",
    "\n",
    "    except wandb.exceptions.CommError as e:\n",
    "        print(f\"Error connecting to WandB. Please ensure you are logged in and have internet access: {e}\")\n",
    "        return None\n",
    "    except Exception as e:\n",
    "        print(f\"An unexpected error occurred: {e}\")\n",
    "        return None\n",
    "\n",
    "if __name__ == \"__main__\":\n",
    "    your_project_name = \"maize_disease_detection\"\n",
    "    your_entity_name = \"rueedi-tobias-hochschule-luzern\"\n",
    "\n",
    "    downloaded_models = retrieve_models_from_wandb(your_project_name, entity=your_entity_name)\n",
    "\n",
    "    if downloaded_models:\n",
    "        print(\"\\nSuccessfully retrieved the following models:\")\n",
    "        for run_id, model_paths in downloaded_models.items():\n",
    "            print(f\"Run ID: {run_id}\")\n",
    "            for path in model_paths:\n",
    "                print(f\"  - {path}\")\n",
    "        print(\"\\nYou can now find these models in the 'wandb_models' directory.\")\n",
    "    else:\n",
    "        print(\"\\nNo models were retrieved.\")"
   ]
  },
  {
   "cell_type": "code",
   "execution_count": 9,
   "id": "398e485d-f9bf-42ec-bfa8-fd9ac42db65e",
   "metadata": {},
   "outputs": [
    {
     "name": "stdout",
     "output_type": "stream",
     "text": [
      "Total loaded models: 36\n"
     ]
    }
   ],
   "source": [
    "print(f\"Total loaded models: {len(downloaded_models)}\")\n"
   ]
  },
  {
   "cell_type": "markdown",
   "id": "af6139f4-32eb-4b95-9b0c-bc131fa61958",
   "metadata": {},
   "source": [
    "## Evaluate Models on Test Data"
   ]
  },
  {
   "cell_type": "code",
   "execution_count": 10,
   "id": "bba5ec23-1d1b-4f93-b0e8-1404fe4ca649",
   "metadata": {},
   "outputs": [],
   "source": [
    "def calculate_raad(pred_boxes, true_boxes):\n",
    "    \"\"\"\n",
    "    Calculate the Relative Affected Area Difference (RAAD) between predicted and true bounding boxes.\n",
    "    \n",
    "    Parameters:\n",
    "        pred_boxes (list of tuples): Predicted bounding boxes [(x1, y1, x2, y2), ...]\n",
    "        true_boxes (list of tuples): Ground truth bounding boxes [(x1, y1, x2, y2), ...]\n",
    "    \n",
    "    Returns:\n",
    "        float: RAAD metric value\n",
    "    \"\"\"\n",
    "    if not pred_boxes:\n",
    "        pred_area = 0.0\n",
    "    else:\n",
    "        pred_area = total_area(pred_boxes)\n",
    "\n",
    "    if not true_boxes:\n",
    "        true_area = 0.0\n",
    "    else:\n",
    "        true_area = total_area(true_boxes)\n",
    "\n",
    "    return abs(float(pred_area) - float(true_area)) / max(true_area, 1e-6)\n"
   ]
  },
  {
   "cell_type": "code",
   "execution_count": 11,
   "id": "cce90b6b-2fe9-4486-97b8-595313f3ae67",
   "metadata": {},
   "outputs": [
    {
     "name": "stdout",
     "output_type": "stream",
     "text": [
      "\n",
      "Evaluating model: xws0uddk_best.pt\n",
      "Completed evaluation for model: xws0uddk_best.pt. Total errors: 0\n",
      "\n",
      "Evaluating model: 5oyzi9u5_best.pt\n",
      "Completed evaluation for model: 5oyzi9u5_best.pt. Total errors: 0\n",
      "\n",
      "Evaluating model: o0u0r69l_best.pt\n",
      "Completed evaluation for model: o0u0r69l_best.pt. Total errors: 0\n",
      "\n",
      "Evaluating model: lxo00bov_best.pt\n",
      "Completed evaluation for model: lxo00bov_best.pt. Total errors: 0\n",
      "\n",
      "Evaluating model: siv7as3x_best.pt\n",
      "Completed evaluation for model: siv7as3x_best.pt. Total errors: 0\n",
      "\n",
      "Evaluating model: u548qllz_best.pt\n",
      "Completed evaluation for model: u548qllz_best.pt. Total errors: 0\n",
      "\n",
      "Evaluating model: 1mst8p7z_best.pt\n",
      "Completed evaluation for model: 1mst8p7z_best.pt. Total errors: 0\n",
      "\n",
      "Evaluating model: fdvh3vg4_best.pt\n",
      "Completed evaluation for model: fdvh3vg4_best.pt. Total errors: 0\n",
      "\n",
      "Evaluating model: 444cpacl_best.pt\n",
      "Completed evaluation for model: 444cpacl_best.pt. Total errors: 0\n",
      "\n",
      "Evaluating model: iezewtg4_best.pt\n",
      "Completed evaluation for model: iezewtg4_best.pt. Total errors: 0\n",
      "\n",
      "Evaluating model: 3daipku4_best.pt\n",
      "Completed evaluation for model: 3daipku4_best.pt. Total errors: 0\n",
      "\n",
      "Evaluating model: yjh2xosl_best.pt\n",
      "Completed evaluation for model: yjh2xosl_best.pt. Total errors: 0\n",
      "\n",
      "Evaluating model: csn80x2w_best.pt\n",
      "Completed evaluation for model: csn80x2w_best.pt. Total errors: 0\n",
      "\n",
      "Evaluating model: 1wy21jbe_best.pt\n",
      "Completed evaluation for model: 1wy21jbe_best.pt. Total errors: 0\n"
     ]
    }
   ],
   "source": [
    "def suppress_yolo_logging():\n",
    "    \"\"\"Suppress the YOLO logging temporarily.\"\"\"\n",
    "    logger = logging.getLogger(\"ultralytics\")\n",
    "    logger.setLevel(logging.CRITICAL)\n",
    "    return logger\n",
    "\n",
    "def restore_yolo_logging(logger, original_level):\n",
    "    \"\"\"Restore the YOLO logging to its original level.\"\"\"\n",
    "    logger.setLevel(original_level)\n",
    "\n",
    "def evaluate_models_with_csv(models, ground_truth):\n",
    "    results = []\n",
    "\n",
    "    for run_id, model_paths in models.items():\n",
    "        for model_path in model_paths:\n",
    "            model_file = os.path.join(model_path, \"best.pt\")\n",
    "            if not os.path.isfile(model_file):\n",
    "                print(f\"Model file not found at: {model_file}\")\n",
    "                continue\n",
    "\n",
    "            model_name = f\"{run_id}_{os.path.basename(model_file)}\"\n",
    "            print(f\"\\nEvaluating model: {model_name}\")\n",
    "\n",
    "            try:\n",
    "                model = YOLO(str(model_file))\n",
    "            except Exception as e:\n",
    "                print(f\"Error loading model '{model_name}': {e}\")\n",
    "                continue\n",
    "            \n",
    "            error_count = 0\n",
    "            for img_name, gt_boxes in ground_truth.items():\n",
    "                img_path = f\"/exchange/dspro2/M-AI-ZE/data/adjusted/1.1/splits/SID01/images/test/{img_name}\"\n",
    "\n",
    "                try:\n",
    "                    logger = suppress_yolo_logging()\n",
    "\n",
    "                    pred = model.predict(img_path, save=False)\n",
    "\n",
    "                    restore_yolo_logging(logger, logging.WARNING)\n",
    "\n",
    "                    pred_boxes = [\n",
    "                        (int(box[0]), int(box[1]), int(box[2]), int(box[3])) \n",
    "                        for box in pred[0].boxes.xyxy.cpu().numpy()\n",
    "                    ]\n",
    "\n",
    "                    pred_raad = raad_metric(pred_boxes, gt_boxes)\n",
    "                    gt_raad = sum([calculate_area(box) for box in gt_boxes])\n",
    "                    error = abs(pred_raad - gt_raad)\n",
    "\n",
    "                    results.append({\n",
    "                        \"model\": model_name,\n",
    "                        \"image\": img_name,\n",
    "                        \"ground_truth_raad\": gt_raad,\n",
    "                        \"predicted_raad\": pred_raad,\n",
    "                        \"error\": error\n",
    "                    })\n",
    "                except Exception as e:\n",
    "                    error_count += 1\n",
    "                    print(f\"Error during prediction for image '{img_name}': {e}\")\n",
    "\n",
    "            print(f\"Completed evaluation for model: {model_name}. Total errors: {error_count}\")\n",
    "\n",
    "    result_df = pd.DataFrame(results, columns=[\"model\", \"image\", \"ground_truth_raad\", \"predicted_raad\", \"error\"])\n",
    "    return result_df\n",
    "\n",
    "\n",
    "ground_truth = get_ground_truth_from_csv(csv_path)\n",
    "result_df = evaluate_models_with_csv(downloaded_models, ground_truth)"
   ]
  },
  {
   "cell_type": "markdown",
   "id": "fff21958-d0e2-4dcc-a445-8901d732a166",
   "metadata": {},
   "source": [
    "## Log Results"
   ]
  },
  {
   "cell_type": "code",
   "execution_count": 15,
   "id": "9d2a8f68-8735-4545-8bfd-3e10295f64bc",
   "metadata": {},
   "outputs": [
    {
     "data": {
      "text/html": [
       "Tracking run with wandb version 0.19.11"
      ],
      "text/plain": [
       "<IPython.core.display.HTML object>"
      ]
     },
     "metadata": {},
     "output_type": "display_data"
    },
    {
     "data": {
      "text/html": [
       "Run data is saved locally in <code>/home/jovyan/DSPRO2/M-AI-ZE-Maize-diseases-detection/notebooks/wandb/run-20250510_081950-uag5na4m</code>"
      ],
      "text/plain": [
       "<IPython.core.display.HTML object>"
      ]
     },
     "metadata": {},
     "output_type": "display_data"
    },
    {
     "data": {
      "text/html": [
       "Syncing run <strong><a href='https://wandb.ai/rueedi-tobias-hochschule-luzern/maize_evaluation/runs/uag5na4m' target=\"_blank\">evaluation</a></strong> to <a href='https://wandb.ai/rueedi-tobias-hochschule-luzern/maize_evaluation' target=\"_blank\">Weights & Biases</a> (<a href='https://wandb.me/developer-guide' target=\"_blank\">docs</a>)<br>"
      ],
      "text/plain": [
       "<IPython.core.display.HTML object>"
      ]
     },
     "metadata": {},
     "output_type": "display_data"
    },
    {
     "data": {
      "text/html": [
       " View project at <a href='https://wandb.ai/rueedi-tobias-hochschule-luzern/maize_evaluation' target=\"_blank\">https://wandb.ai/rueedi-tobias-hochschule-luzern/maize_evaluation</a>"
      ],
      "text/plain": [
       "<IPython.core.display.HTML object>"
      ]
     },
     "metadata": {},
     "output_type": "display_data"
    },
    {
     "data": {
      "text/html": [
       " View run at <a href='https://wandb.ai/rueedi-tobias-hochschule-luzern/maize_evaluation/runs/uag5na4m' target=\"_blank\">https://wandb.ai/rueedi-tobias-hochschule-luzern/maize_evaluation/runs/uag5na4m</a>"
      ],
      "text/plain": [
       "<IPython.core.display.HTML object>"
      ]
     },
     "metadata": {},
     "output_type": "display_data"
    },
    {
     "name": "stdout",
     "output_type": "stream",
     "text": [
      "Logged metrics for model: 1mst8p7z_best.pt\n",
      "Logged metrics for model: 1wy21jbe_best.pt\n",
      "Logged metrics for model: 3daipku4_best.pt\n",
      "Logged metrics for model: 444cpacl_best.pt\n",
      "Logged metrics for model: 5oyzi9u5_best.pt\n",
      "Logged metrics for model: csn80x2w_best.pt\n",
      "Logged metrics for model: fdvh3vg4_best.pt\n",
      "Logged metrics for model: iezewtg4_best.pt\n",
      "Logged metrics for model: lxo00bov_best.pt\n",
      "Logged metrics for model: o0u0r69l_best.pt\n",
      "Logged metrics for model: siv7as3x_best.pt\n",
      "Logged metrics for model: u548qllz_best.pt\n",
      "Logged metrics for model: xws0uddk_best.pt\n",
      "Logged metrics for model: yjh2xosl_best.pt\n"
     ]
    },
    {
     "data": {
      "text/html": [],
      "text/plain": [
       "<IPython.core.display.HTML object>"
      ]
     },
     "metadata": {},
     "output_type": "display_data"
    },
    {
     "data": {
      "text/html": [
       "<br>    <style><br>        .wandb-row {<br>            display: flex;<br>            flex-direction: row;<br>            flex-wrap: wrap;<br>            justify-content: flex-start;<br>            width: 100%;<br>        }<br>        .wandb-col {<br>            display: flex;<br>            flex-direction: column;<br>            flex-basis: 100%;<br>            flex: 1;<br>            padding: 10px;<br>        }<br>    </style><br><div class=\"wandb-row\"><div class=\"wandb-col\"><h3>Run history:</h3><br/><table class=\"wandb\"><tr><td>1mst8p7z_best.pt/avg_error</td><td>▁</td></tr><tr><td>1mst8p7z_best.pt/num_images</td><td>▁</td></tr><tr><td>1mst8p7z_best.pt/total_errors</td><td>▁</td></tr><tr><td>1wy21jbe_best.pt/avg_error</td><td>▁</td></tr><tr><td>1wy21jbe_best.pt/num_images</td><td>▁</td></tr><tr><td>1wy21jbe_best.pt/total_errors</td><td>▁</td></tr><tr><td>3daipku4_best.pt/avg_error</td><td>▁</td></tr><tr><td>3daipku4_best.pt/num_images</td><td>▁</td></tr><tr><td>3daipku4_best.pt/total_errors</td><td>▁</td></tr><tr><td>444cpacl_best.pt/avg_error</td><td>▁</td></tr><tr><td>444cpacl_best.pt/num_images</td><td>▁</td></tr><tr><td>444cpacl_best.pt/total_errors</td><td>▁</td></tr><tr><td>5oyzi9u5_best.pt/avg_error</td><td>▁</td></tr><tr><td>5oyzi9u5_best.pt/num_images</td><td>▁</td></tr><tr><td>5oyzi9u5_best.pt/total_errors</td><td>▁</td></tr><tr><td>csn80x2w_best.pt/avg_error</td><td>▁</td></tr><tr><td>csn80x2w_best.pt/num_images</td><td>▁</td></tr><tr><td>csn80x2w_best.pt/total_errors</td><td>▁</td></tr><tr><td>fdvh3vg4_best.pt/avg_error</td><td>▁</td></tr><tr><td>fdvh3vg4_best.pt/num_images</td><td>▁</td></tr><tr><td>fdvh3vg4_best.pt/total_errors</td><td>▁</td></tr><tr><td>iezewtg4_best.pt/avg_error</td><td>▁</td></tr><tr><td>iezewtg4_best.pt/num_images</td><td>▁</td></tr><tr><td>iezewtg4_best.pt/total_errors</td><td>▁</td></tr><tr><td>lxo00bov_best.pt/avg_error</td><td>▁</td></tr><tr><td>lxo00bov_best.pt/num_images</td><td>▁</td></tr><tr><td>lxo00bov_best.pt/total_errors</td><td>▁</td></tr><tr><td>o0u0r69l_best.pt/avg_error</td><td>▁</td></tr><tr><td>o0u0r69l_best.pt/num_images</td><td>▁</td></tr><tr><td>o0u0r69l_best.pt/total_errors</td><td>▁</td></tr><tr><td>siv7as3x_best.pt/avg_error</td><td>▁</td></tr><tr><td>siv7as3x_best.pt/num_images</td><td>▁</td></tr><tr><td>siv7as3x_best.pt/total_errors</td><td>▁</td></tr><tr><td>u548qllz_best.pt/avg_error</td><td>▁</td></tr><tr><td>u548qllz_best.pt/num_images</td><td>▁</td></tr><tr><td>u548qllz_best.pt/total_errors</td><td>▁</td></tr><tr><td>xws0uddk_best.pt/avg_error</td><td>▁</td></tr><tr><td>xws0uddk_best.pt/num_images</td><td>▁</td></tr><tr><td>xws0uddk_best.pt/total_errors</td><td>▁</td></tr><tr><td>yjh2xosl_best.pt/avg_error</td><td>▁</td></tr><tr><td>yjh2xosl_best.pt/num_images</td><td>▁</td></tr><tr><td>yjh2xosl_best.pt/total_errors</td><td>▁</td></tr></table><br/></div><div class=\"wandb-col\"><h3>Run summary:</h3><br/><table class=\"wandb\"><tr><td>1mst8p7z_best.pt/avg_error</td><td>830645.55838</td></tr><tr><td>1mst8p7z_best.pt/num_images</td><td>1358</td></tr><tr><td>1mst8p7z_best.pt/total_errors</td><td>1358</td></tr><tr><td>1wy21jbe_best.pt/avg_error</td><td>830645.25568</td></tr><tr><td>1wy21jbe_best.pt/num_images</td><td>1358</td></tr><tr><td>1wy21jbe_best.pt/total_errors</td><td>1358</td></tr><tr><td>3daipku4_best.pt/avg_error</td><td>830645.50708</td></tr><tr><td>3daipku4_best.pt/num_images</td><td>1358</td></tr><tr><td>3daipku4_best.pt/total_errors</td><td>1358</td></tr><tr><td>444cpacl_best.pt/avg_error</td><td>830645.55838</td></tr><tr><td>444cpacl_best.pt/num_images</td><td>1358</td></tr><tr><td>444cpacl_best.pt/total_errors</td><td>1358</td></tr><tr><td>5oyzi9u5_best.pt/avg_error</td><td>830645.3414</td></tr><tr><td>5oyzi9u5_best.pt/num_images</td><td>1358</td></tr><tr><td>5oyzi9u5_best.pt/total_errors</td><td>1358</td></tr><tr><td>csn80x2w_best.pt/avg_error</td><td>830645.25568</td></tr><tr><td>csn80x2w_best.pt/num_images</td><td>1358</td></tr><tr><td>csn80x2w_best.pt/total_errors</td><td>1358</td></tr><tr><td>fdvh3vg4_best.pt/avg_error</td><td>830645.33177</td></tr><tr><td>fdvh3vg4_best.pt/num_images</td><td>1358</td></tr><tr><td>fdvh3vg4_best.pt/total_errors</td><td>1358</td></tr><tr><td>iezewtg4_best.pt/avg_error</td><td>830645.50708</td></tr><tr><td>iezewtg4_best.pt/num_images</td><td>1358</td></tr><tr><td>iezewtg4_best.pt/total_errors</td><td>1358</td></tr><tr><td>lxo00bov_best.pt/avg_error</td><td>830645.20028</td></tr><tr><td>lxo00bov_best.pt/num_images</td><td>1358</td></tr><tr><td>lxo00bov_best.pt/total_errors</td><td>1358</td></tr><tr><td>o0u0r69l_best.pt/avg_error</td><td>830645.20028</td></tr><tr><td>o0u0r69l_best.pt/num_images</td><td>1358</td></tr><tr><td>o0u0r69l_best.pt/total_errors</td><td>1358</td></tr><tr><td>siv7as3x_best.pt/avg_error</td><td>830645.08135</td></tr><tr><td>siv7as3x_best.pt/num_images</td><td>1358</td></tr><tr><td>siv7as3x_best.pt/total_errors</td><td>1358</td></tr><tr><td>u548qllz_best.pt/avg_error</td><td>830645.08135</td></tr><tr><td>u548qllz_best.pt/num_images</td><td>1358</td></tr><tr><td>u548qllz_best.pt/total_errors</td><td>1358</td></tr><tr><td>xws0uddk_best.pt/avg_error</td><td>830645.3414</td></tr><tr><td>xws0uddk_best.pt/num_images</td><td>1358</td></tr><tr><td>xws0uddk_best.pt/total_errors</td><td>1358</td></tr><tr><td>yjh2xosl_best.pt/avg_error</td><td>830645.34064</td></tr><tr><td>yjh2xosl_best.pt/num_images</td><td>1358</td></tr><tr><td>yjh2xosl_best.pt/total_errors</td><td>1358</td></tr></table><br/></div></div>"
      ],
      "text/plain": [
       "<IPython.core.display.HTML object>"
      ]
     },
     "metadata": {},
     "output_type": "display_data"
    },
    {
     "data": {
      "text/html": [
       " View run <strong style=\"color:#cdcd00\">evaluation</strong> at: <a href='https://wandb.ai/rueedi-tobias-hochschule-luzern/maize_evaluation/runs/uag5na4m' target=\"_blank\">https://wandb.ai/rueedi-tobias-hochschule-luzern/maize_evaluation/runs/uag5na4m</a><br> View project at: <a href='https://wandb.ai/rueedi-tobias-hochschule-luzern/maize_evaluation' target=\"_blank\">https://wandb.ai/rueedi-tobias-hochschule-luzern/maize_evaluation</a><br>Synced 5 W&B file(s), 15 media file(s), 30 artifact file(s) and 0 other file(s)"
      ],
      "text/plain": [
       "<IPython.core.display.HTML object>"
      ]
     },
     "metadata": {},
     "output_type": "display_data"
    },
    {
     "data": {
      "text/html": [
       "Find logs at: <code>./wandb/run-20250510_081950-uag5na4m/logs</code>"
      ],
      "text/plain": [
       "<IPython.core.display.HTML object>"
      ]
     },
     "metadata": {},
     "output_type": "display_data"
    },
    {
     "name": "stdout",
     "output_type": "stream",
     "text": [
      "Results logged to W&B with model-specific metrics.\n"
     ]
    }
   ],
   "source": [
    "def log_to_wandb(result_df):\n",
    "    wandb.init(project=EVAL_PROJECT_NAME, name=\"evaluation\", job_type=\"evaluation\")\n",
    "\n",
    "    model_stats = result_df.groupby(\"model\").agg(\n",
    "        avg_error=(\"error\", \"mean\"),\n",
    "        total_errors=(\"error\", lambda x: (x > 0).sum()),\n",
    "        num_images=(\"image\", \"count\")\n",
    "    )\n",
    "\n",
    "    for model_name, stats in model_stats.iterrows():\n",
    "        wandb.log({\n",
    "            f\"{model_name}/avg_error\": stats[\"avg_error\"],\n",
    "            f\"{model_name}/total_errors\": stats[\"total_errors\"],\n",
    "            f\"{model_name}/num_images\": stats[\"num_images\"]\n",
    "        })\n",
    "\n",
    "        model_data = result_df[result_df[\"model\"] == model_name]\n",
    "        model_table = wandb.Table(dataframe=model_data)\n",
    "        wandb.log({f\"{model_name}/evaluation_results\": model_table})\n",
    "\n",
    "        print(f\"Logged metrics for model: {model_name}\")\n",
    "\n",
    "    ranking_table = wandb.Table(dataframe=model_stats.reset_index().rename(columns={\"avg_error\": \"avg_raad\"}))\n",
    "    wandb.log({\"model_ranking\": ranking_table})\n",
    "\n",
    "    wandb.finish()\n",
    "    print(\"Results logged to W&B with model-specific metrics.\")\n",
    "\n",
    "\n",
    "\n",
    "\n",
    "log_to_wandb(result_df)\n"
   ]
  },
  {
   "cell_type": "markdown",
   "id": "45932c8a-6125-4882-b123-fae95783a895",
   "metadata": {},
   "source": [
    "## Show Models"
   ]
  },
  {
   "cell_type": "code",
   "execution_count": 12,
   "id": "42d44985-3479-447f-8836-95d6ec1adb5c",
   "metadata": {},
   "outputs": [
    {
     "name": "stdout",
     "output_type": "stream",
     "text": [
      "Best to Worst Models (by RAAD):\n",
      "                       avg_raad      std_raad  num_images\n",
      "model                                                    \n",
      "siv7as3x_best.pt  830645.081347  1.417989e+06        1358\n",
      "u548qllz_best.pt  830645.081347  1.417989e+06        1358\n",
      "lxo00bov_best.pt  830645.200276  1.417989e+06        1358\n",
      "o0u0r69l_best.pt  830645.200276  1.417989e+06        1358\n",
      "1wy21jbe_best.pt  830645.255679  1.417989e+06        1358\n",
      "csn80x2w_best.pt  830645.255679  1.417989e+06        1358\n",
      "fdvh3vg4_best.pt  830645.331772  1.417989e+06        1358\n",
      "yjh2xosl_best.pt  830645.340642  1.417989e+06        1358\n",
      "5oyzi9u5_best.pt  830645.341399  1.417989e+06        1358\n",
      "xws0uddk_best.pt  830645.341399  1.417989e+06        1358\n",
      "iezewtg4_best.pt  830645.507084  1.417989e+06        1358\n",
      "3daipku4_best.pt  830645.507084  1.417989e+06        1358\n",
      "1mst8p7z_best.pt  830645.558381  1.417989e+06        1358\n",
      "444cpacl_best.pt  830645.558381  1.417989e+06        1358\n",
      "Model ranking saved to model_ranking.csv\n"
     ]
    }
   ],
   "source": [
    "def display_best_models(result_df):\n",
    "    model_stats = result_df.groupby(\"model\").agg(\n",
    "        avg_raad=(\"error\", \"mean\"),\n",
    "        std_raad=(\"error\", \"std\"),\n",
    "        num_images=(\"image\", \"count\")\n",
    "    ).sort_values(\"avg_raad\")\n",
    "\n",
    "    print(\"Best to Worst Models (by RAAD):\")\n",
    "    print(model_stats)\n",
    "\n",
    "    model_stats.reset_index().to_csv(\"model_ranking.csv\", index=False)\n",
    "    print(\"Model ranking saved to model_ranking.csv\")\n",
    "\n",
    "\n",
    "display_best_models(result_df)\n"
   ]
  },
  {
   "cell_type": "code",
   "execution_count": 13,
   "id": "e59ecdc7-523e-4a91-a9f8-5428e83bf336",
   "metadata": {},
   "outputs": [
    {
     "data": {
      "text/html": [
       "<div>\n",
       "<style scoped>\n",
       "    .dataframe tbody tr th:only-of-type {\n",
       "        vertical-align: middle;\n",
       "    }\n",
       "\n",
       "    .dataframe tbody tr th {\n",
       "        vertical-align: top;\n",
       "    }\n",
       "\n",
       "    .dataframe thead th {\n",
       "        text-align: right;\n",
       "    }\n",
       "</style>\n",
       "<table border=\"1\" class=\"dataframe\">\n",
       "  <thead>\n",
       "    <tr style=\"text-align: right;\">\n",
       "      <th></th>\n",
       "      <th>model</th>\n",
       "      <th>image</th>\n",
       "      <th>ground_truth_raad</th>\n",
       "      <th>predicted_raad</th>\n",
       "      <th>error</th>\n",
       "    </tr>\n",
       "  </thead>\n",
       "  <tbody>\n",
       "    <tr>\n",
       "      <th>0</th>\n",
       "      <td>xws0uddk_best.pt</td>\n",
       "      <td>DSC00976_0.jpg</td>\n",
       "      <td>403535</td>\n",
       "      <td>0.508145</td>\n",
       "      <td>4.035345e+05</td>\n",
       "    </tr>\n",
       "    <tr>\n",
       "      <th>1</th>\n",
       "      <td>xws0uddk_best.pt</td>\n",
       "      <td>DSC00982_2.jpg</td>\n",
       "      <td>291057</td>\n",
       "      <td>0.246494</td>\n",
       "      <td>2.910568e+05</td>\n",
       "    </tr>\n",
       "    <tr>\n",
       "      <th>2</th>\n",
       "      <td>xws0uddk_best.pt</td>\n",
       "      <td>DSC00992_2.jpg</td>\n",
       "      <td>73602</td>\n",
       "      <td>0.270726</td>\n",
       "      <td>7.360173e+04</td>\n",
       "    </tr>\n",
       "    <tr>\n",
       "      <th>3</th>\n",
       "      <td>xws0uddk_best.pt</td>\n",
       "      <td>DSC00998_3.jpg</td>\n",
       "      <td>61170</td>\n",
       "      <td>0.695292</td>\n",
       "      <td>6.116930e+04</td>\n",
       "    </tr>\n",
       "    <tr>\n",
       "      <th>4</th>\n",
       "      <td>xws0uddk_best.pt</td>\n",
       "      <td>DSC00999_1.jpg</td>\n",
       "      <td>24564</td>\n",
       "      <td>0.176844</td>\n",
       "      <td>2.456382e+04</td>\n",
       "    </tr>\n",
       "    <tr>\n",
       "      <th>...</th>\n",
       "      <td>...</td>\n",
       "      <td>...</td>\n",
       "      <td>...</td>\n",
       "      <td>...</td>\n",
       "      <td>...</td>\n",
       "    </tr>\n",
       "    <tr>\n",
       "      <th>19007</th>\n",
       "      <td>1wy21jbe_best.pt</td>\n",
       "      <td>IMG_6619.jpg</td>\n",
       "      <td>119040</td>\n",
       "      <td>1.204687</td>\n",
       "      <td>1.190388e+05</td>\n",
       "    </tr>\n",
       "    <tr>\n",
       "      <th>19008</th>\n",
       "      <td>1wy21jbe_best.pt</td>\n",
       "      <td>IMG_6712.jpg</td>\n",
       "      <td>24320</td>\n",
       "      <td>1.000000</td>\n",
       "      <td>2.431900e+04</td>\n",
       "    </tr>\n",
       "    <tr>\n",
       "      <th>19009</th>\n",
       "      <td>1wy21jbe_best.pt</td>\n",
       "      <td>IMG_6730.jpg</td>\n",
       "      <td>1174368</td>\n",
       "      <td>0.125675</td>\n",
       "      <td>1.174368e+06</td>\n",
       "    </tr>\n",
       "    <tr>\n",
       "      <th>19010</th>\n",
       "      <td>1wy21jbe_best.pt</td>\n",
       "      <td>IMG_6756.jpg</td>\n",
       "      <td>1558880</td>\n",
       "      <td>0.479546</td>\n",
       "      <td>1.558880e+06</td>\n",
       "    </tr>\n",
       "    <tr>\n",
       "      <th>19011</th>\n",
       "      <td>1wy21jbe_best.pt</td>\n",
       "      <td>IMG_6757.jpg</td>\n",
       "      <td>352448</td>\n",
       "      <td>1.052703</td>\n",
       "      <td>3.524469e+05</td>\n",
       "    </tr>\n",
       "  </tbody>\n",
       "</table>\n",
       "<p>19012 rows × 5 columns</p>\n",
       "</div>"
      ],
      "text/plain": [
       "                  model           image  ground_truth_raad  predicted_raad  \\\n",
       "0      xws0uddk_best.pt  DSC00976_0.jpg             403535        0.508145   \n",
       "1      xws0uddk_best.pt  DSC00982_2.jpg             291057        0.246494   \n",
       "2      xws0uddk_best.pt  DSC00992_2.jpg              73602        0.270726   \n",
       "3      xws0uddk_best.pt  DSC00998_3.jpg              61170        0.695292   \n",
       "4      xws0uddk_best.pt  DSC00999_1.jpg              24564        0.176844   \n",
       "...                 ...             ...                ...             ...   \n",
       "19007  1wy21jbe_best.pt    IMG_6619.jpg             119040        1.204687   \n",
       "19008  1wy21jbe_best.pt    IMG_6712.jpg              24320        1.000000   \n",
       "19009  1wy21jbe_best.pt    IMG_6730.jpg            1174368        0.125675   \n",
       "19010  1wy21jbe_best.pt    IMG_6756.jpg            1558880        0.479546   \n",
       "19011  1wy21jbe_best.pt    IMG_6757.jpg             352448        1.052703   \n",
       "\n",
       "              error  \n",
       "0      4.035345e+05  \n",
       "1      2.910568e+05  \n",
       "2      7.360173e+04  \n",
       "3      6.116930e+04  \n",
       "4      2.456382e+04  \n",
       "...             ...  \n",
       "19007  1.190388e+05  \n",
       "19008  2.431900e+04  \n",
       "19009  1.174368e+06  \n",
       "19010  1.558880e+06  \n",
       "19011  3.524469e+05  \n",
       "\n",
       "[19012 rows x 5 columns]"
      ]
     },
     "execution_count": 13,
     "metadata": {},
     "output_type": "execute_result"
    }
   ],
   "source": [
    "result_df"
   ]
  },
  {
   "cell_type": "code",
   "execution_count": 14,
   "id": "1c9391c1-f2a3-48a6-9485-c2bb7b6ff035",
   "metadata": {},
   "outputs": [
    {
     "data": {
      "image/png": "[encoded data removed]",
      "text/plain": [
       "<Figure size 1000x600 with 1 Axes>"
      ]
     },
     "metadata": {},
     "output_type": "display_data"
    }
   ],
   "source": [
    "import matplotlib.pyplot as plt\n",
    "\n",
    "def visualize_best_models(result_df):\n",
    "    model_stats = result_df.groupby(\"model\").agg(\n",
    "        avg_raad=(\"error\", \"mean\"),\n",
    "        std_raad=(\"error\", \"std\"),\n",
    "        num_images=(\"image\", \"count\")\n",
    "    ).sort_values(\"avg_raad\")\n",
    "\n",
    "    plt.figure(figsize=(10, 6))\n",
    "    plt.barh(model_stats.index, model_stats[\"avg_raad\"], xerr=model_stats[\"std_raad\"], alpha=0.7)\n",
    "    plt.xlabel(\"Average RAAD\")\n",
    "    plt.ylabel(\"Model\")\n",
    "    plt.title(\"Model Ranking by Average RAAD (with Standard Deviation)\")\n",
    "    plt.gca().invert_yaxis()\n",
    "    plt.show()\n",
    "\n",
    "visualize_best_models(result_df)\n"
   ]
  },
  {
   "cell_type": "code",
   "execution_count": null,
   "id": "723c06ea-42c0-4487-883c-9ed7536415fe",
   "metadata": {},
   "outputs": [],
   "source": []
  }
 ],
 "metadata": {
  "kernelspec": {
   "display_name": "Python 3 (ipykernel)",
   "language": "python",
   "name": "python3"
  },
  "language_info": {
   "codemirror_mode": {
    "name": "ipython",
    "version": 3
   },
   "file_extension": ".py",
   "mimetype": "text/x-python",
   "name": "python",
   "nbconvert_exporter": "python",
   "pygments_lexer": "ipython3",
   "version": "3.12.8"
  }
 },
 "nbformat": 4,
 "nbformat_minor": 5
}
